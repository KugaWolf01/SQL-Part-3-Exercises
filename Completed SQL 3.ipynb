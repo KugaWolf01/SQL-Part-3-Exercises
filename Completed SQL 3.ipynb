{
    "metadata": {
        "kernelspec": {
            "name": "SQL",
            "display_name": "SQL",
            "language": "sql"
        },
        "language_info": {
            "name": "sql",
            "version": ""
        },
        "extensions": {
            "azuredatastudio": {
                "version": 1,
                "views": []
            }
        }
    },
    "nbformat_minor": 2,
    "nbformat": 4,
    "cells": [
        {
            "cell_type": "markdown",
            "source": [
                "# SQL Part 3 Exercises Joins\n",
                "\n",
                "This notebook works with the BooksDB dataset.  \n",
                "\n",
                "**Questions 1-4** focus on how joins work in a more general sense.  If you are not sure how to best answer the questions, try manipulating the queries by changing the order of joins, the length of the TOP, or how they are ordered.  \n",
                "\n",
                "> <span style=\"background-color: rgba(127, 127, 127, 0.1);\"><i>Note</i>: If some of the queries are not returning quickly, you can try closing and restarting azure data studio after a few minutes.</span>\n",
                "\n",
                "In **questions 5-8**, you will be asked to join tables to find results about titles, tags, and the books users want to read.\n",
                "\n",
                "As you go through the questions, you will see 'Minimum Desired Output'.  This will provide you with the bare minimum columns needed to answer the questions.  When you write the queries, add as many additional columns as you need to best find your answers."
            ],
            "metadata": {
                "azdata_cell_guid": "db9534a9-c8a7-4c09-8180-bcba0690bb02"
            },
            "attachments": {}
        },
        {
            "cell_type": "markdown",
            "source": [
                "## **QUESTION 1:**  Exploring a LEFT JOIN using the **books** and **to\\_read** tables\n",
                "\n",
                "The code block below has been commented out. To answer this question, you will need to uncomment it by removing the **/\\*** (line 1) and **\\*/** (line 16).\n",
                "\n",
                "**Part A:** Look at Query 1, which table is the 'Left' table and which is the 'Right'?\n",
                "\n",
                "> Your Answer: <span style=\"background-color: rgb(255, 255, 254); color: rgb(33, 33, 33); font-family: Consolas, &quot;Courier New&quot;, monospace; font-size: 12px; white-space: pre;\">BooksDB.dbo.to_read </span>  <span style=\"font-size: 12px; white-space: pre;\">is the right table, and the books table is the left one. That is because books is the table that appears before the \"LEFT JOIN\" keyword</span>\n",
                "\n",
                "**Part B:** Using table 2, answer the following questions: \n",
                "\n",
                "- When we added a  '**WHERE tr.user\\_id IS NOT NULL'** clause (line 14), how did the table change?  Why?\n",
                "\n",
                "> Your Answer: this clause removed all the rows that had NULL entries"
            ],
            "metadata": {
                "azdata_cell_guid": "660be568-9a70-40ff-a2fa-a78e31e87b6f"
            },
            "attachments": {}
        },
        {
            "cell_type": "code",
            "source": [
                "\n",
                "-- Query 1: LEFT JOIN \n",
                "SELECT TOP 50 b.title, b.average_rating, b.books_count,tr.user_id, tr.book_id\n",
                "FROM BooksDB.dbo.books AS b\n",
                "LEFT JOIN BooksDB.dbo.to_read AS tr\n",
                "ON b.best_book_id = tr.book_id\n",
                "ORDER BY b.average_rating;\n",
                "\n",
                "-- Query 2: LEFT JOIN USING 'IS NOT NULL'\n",
                "SELECT TOP 50 b.title, b.average_rating, b.books_count,tr.user_id, tr.book_id\n",
                "FROM BooksDB.dbo.books AS b\n",
                "LEFT JOIN BooksDB.dbo.to_read AS tr\n",
                "ON b.best_book_id = tr.book_id\n",
                "WHERE tr.user_id IS NOT NULL\n",
                "ORDER BY b.average_rating;\n",
                ""
            ],
            "metadata": {
                "azdata_cell_guid": "25dcd34c-5e5d-4393-9da0-a4c0effb6455",
                "tags": [],
                "language": "sql"
            },
            "outputs": [
                {
                    "output_type": "display_data",
                    "data": {
                        "text/html": "(50 rows affected)"
                    },
                    "metadata": {}
                },
                {
                    "output_type": "display_data",
                    "data": {
                        "text/html": "(50 rows affected)"
                    },
                    "metadata": {}
                },
                {
                    "output_type": "display_data",
                    "data": {
                        "text/html": "Total execution time: 00:00:07.564"
                    },
                    "metadata": {}
                },
                {
                    "output_type": "execute_result",
                    "metadata": {},
                    "execution_count": 2,
                    "data": {
                        "application/vnd.dataresource+json": {
                            "schema": {
                                "fields": [
                                    {
                                        "name": "title"
                                    },
                                    {
                                        "name": "average_rating"
                                    },
                                    {
                                        "name": "books_count"
                                    },
                                    {
                                        "name": "user_id"
                                    },
                                    {
                                        "name": "book_id"
                                    }
                                ]
                            },
                            "data": [
                                {
                                    "title": "One Night at the Call Center",
                                    "average_rating": "2.47",
                                    "books_count": "25",
                                    "user_id": "NULL",
                                    "book_id": "NULL"
                                },
                                {
                                    "title": "The Almost Moon",
                                    "average_rating": "2.67",
                                    "books_count": "63",
                                    "user_id": "NULL",
                                    "book_id": "NULL"
                                },
                                {
                                    "title": "The Finkler Question",
                                    "average_rating": "2.76",
                                    "books_count": "45",
                                    "user_id": "NULL",
                                    "book_id": "NULL"
                                },
                                {
                                    "title": "Four Blondes",
                                    "average_rating": "2.8",
                                    "books_count": "57",
                                    "user_id": "449",
                                    "book_id": "6613"
                                },
                                {
                                    "title": "Four Blondes",
                                    "average_rating": "2.8",
                                    "books_count": "57",
                                    "user_id": "1378",
                                    "book_id": "6613"
                                },
                                {
                                    "title": "Four Blondes",
                                    "average_rating": "2.8",
                                    "books_count": "57",
                                    "user_id": "6465",
                                    "book_id": "6613"
                                },
                                {
                                    "title": "Four Blondes",
                                    "average_rating": "2.8",
                                    "books_count": "57",
                                    "user_id": "6700",
                                    "book_id": "6613"
                                },
                                {
                                    "title": "Four Blondes",
                                    "average_rating": "2.8",
                                    "books_count": "57",
                                    "user_id": "7830",
                                    "book_id": "6613"
                                },
                                {
                                    "title": "Four Blondes",
                                    "average_rating": "2.8",
                                    "books_count": "57",
                                    "user_id": "10085",
                                    "book_id": "6613"
                                },
                                {
                                    "title": "Four Blondes",
                                    "average_rating": "2.8",
                                    "books_count": "57",
                                    "user_id": "16298",
                                    "book_id": "6613"
                                },
                                {
                                    "title": "Four Blondes",
                                    "average_rating": "2.8",
                                    "books_count": "57",
                                    "user_id": "16845",
                                    "book_id": "6613"
                                },
                                {
                                    "title": "Four Blondes",
                                    "average_rating": "2.8",
                                    "books_count": "57",
                                    "user_id": "17470",
                                    "book_id": "6613"
                                },
                                {
                                    "title": "Four Blondes",
                                    "average_rating": "2.8",
                                    "books_count": "57",
                                    "user_id": "19763",
                                    "book_id": "6613"
                                },
                                {
                                    "title": "Four Blondes",
                                    "average_rating": "2.8",
                                    "books_count": "57",
                                    "user_id": "21938",
                                    "book_id": "6613"
                                },
                                {
                                    "title": "Four Blondes",
                                    "average_rating": "2.8",
                                    "books_count": "57",
                                    "user_id": "22289",
                                    "book_id": "6613"
                                },
                                {
                                    "title": "Four Blondes",
                                    "average_rating": "2.8",
                                    "books_count": "57",
                                    "user_id": "23758",
                                    "book_id": "6613"
                                },
                                {
                                    "title": "Four Blondes",
                                    "average_rating": "2.8",
                                    "books_count": "57",
                                    "user_id": "27874",
                                    "book_id": "6613"
                                },
                                {
                                    "title": "Four Blondes",
                                    "average_rating": "2.8",
                                    "books_count": "57",
                                    "user_id": "28690",
                                    "book_id": "6613"
                                },
                                {
                                    "title": "Four Blondes",
                                    "average_rating": "2.8",
                                    "books_count": "57",
                                    "user_id": "29023",
                                    "book_id": "6613"
                                },
                                {
                                    "title": "Four Blondes",
                                    "average_rating": "2.8",
                                    "books_count": "57",
                                    "user_id": "29315",
                                    "book_id": "6613"
                                },
                                {
                                    "title": "Four Blondes",
                                    "average_rating": "2.8",
                                    "books_count": "57",
                                    "user_id": "30245",
                                    "book_id": "6613"
                                },
                                {
                                    "title": "Four Blondes",
                                    "average_rating": "2.8",
                                    "books_count": "57",
                                    "user_id": "36128",
                                    "book_id": "6613"
                                },
                                {
                                    "title": "Four Blondes",
                                    "average_rating": "2.8",
                                    "books_count": "57",
                                    "user_id": "36554",
                                    "book_id": "6613"
                                },
                                {
                                    "title": "Four Blondes",
                                    "average_rating": "2.8",
                                    "books_count": "57",
                                    "user_id": "38159",
                                    "book_id": "6613"
                                },
                                {
                                    "title": "Four Blondes",
                                    "average_rating": "2.8",
                                    "books_count": "57",
                                    "user_id": "38800",
                                    "book_id": "6613"
                                },
                                {
                                    "title": "Four Blondes",
                                    "average_rating": "2.8",
                                    "books_count": "57",
                                    "user_id": "40361",
                                    "book_id": "6613"
                                },
                                {
                                    "title": "Four Blondes",
                                    "average_rating": "2.8",
                                    "books_count": "57",
                                    "user_id": "40529",
                                    "book_id": "6613"
                                },
                                {
                                    "title": "Four Blondes",
                                    "average_rating": "2.8",
                                    "books_count": "57",
                                    "user_id": "41485",
                                    "book_id": "6613"
                                },
                                {
                                    "title": "Four Blondes",
                                    "average_rating": "2.8",
                                    "books_count": "57",
                                    "user_id": "42706",
                                    "book_id": "6613"
                                },
                                {
                                    "title": "Four Blondes",
                                    "average_rating": "2.8",
                                    "books_count": "57",
                                    "user_id": "45206",
                                    "book_id": "6613"
                                },
                                {
                                    "title": "Four Blondes",
                                    "average_rating": "2.8",
                                    "books_count": "57",
                                    "user_id": "45689",
                                    "book_id": "6613"
                                },
                                {
                                    "title": "Four Blondes",
                                    "average_rating": "2.8",
                                    "books_count": "57",
                                    "user_id": "49499",
                                    "book_id": "6613"
                                },
                                {
                                    "title": "Four Blondes",
                                    "average_rating": "2.8",
                                    "books_count": "57",
                                    "user_id": "51105",
                                    "book_id": "6613"
                                },
                                {
                                    "title": "Four Blondes",
                                    "average_rating": "2.8",
                                    "books_count": "57",
                                    "user_id": "51671",
                                    "book_id": "6613"
                                },
                                {
                                    "title": "Four Blondes",
                                    "average_rating": "2.8",
                                    "books_count": "57",
                                    "user_id": "52109",
                                    "book_id": "6613"
                                },
                                {
                                    "title": "Lost",
                                    "average_rating": "2.8",
                                    "books_count": "18",
                                    "user_id": "NULL",
                                    "book_id": "NULL"
                                },
                                {
                                    "title": "Tell-All",
                                    "average_rating": "2.84",
                                    "books_count": "37",
                                    "user_id": "NULL",
                                    "book_id": "NULL"
                                },
                                {
                                    "title": "Revenge Wears Prada: The Devil Returns (The Devil Wears Prada, #2)",
                                    "average_rating": "2.84",
                                    "books_count": "59",
                                    "user_id": "NULL",
                                    "book_id": "NULL"
                                },
                                {
                                    "title": "Among the Ten Thousand Things",
                                    "average_rating": "2.84",
                                    "books_count": "19",
                                    "user_id": "NULL",
                                    "book_id": "NULL"
                                },
                                {
                                    "title": "The Emperor's Children",
                                    "average_rating": "2.93",
                                    "books_count": "45",
                                    "user_id": "7860",
                                    "book_id": "3648"
                                },
                                {
                                    "title": "The Emperor's Children",
                                    "average_rating": "2.93",
                                    "books_count": "45",
                                    "user_id": "11320",
                                    "book_id": "3648"
                                },
                                {
                                    "title": "The Emperor's Children",
                                    "average_rating": "2.93",
                                    "books_count": "45",
                                    "user_id": "12686",
                                    "book_id": "3648"
                                },
                                {
                                    "title": "The Emperor's Children",
                                    "average_rating": "2.93",
                                    "books_count": "45",
                                    "user_id": "12729",
                                    "book_id": "3648"
                                },
                                {
                                    "title": "The Emperor's Children",
                                    "average_rating": "2.93",
                                    "books_count": "45",
                                    "user_id": "12891",
                                    "book_id": "3648"
                                },
                                {
                                    "title": "The Emperor's Children",
                                    "average_rating": "2.93",
                                    "books_count": "45",
                                    "user_id": "16933",
                                    "book_id": "3648"
                                },
                                {
                                    "title": "The Emperor's Children",
                                    "average_rating": "2.93",
                                    "books_count": "45",
                                    "user_id": "17093",
                                    "book_id": "3648"
                                },
                                {
                                    "title": "The Emperor's Children",
                                    "average_rating": "2.93",
                                    "books_count": "45",
                                    "user_id": "24036",
                                    "book_id": "3648"
                                },
                                {
                                    "title": "The Emperor's Children",
                                    "average_rating": "2.93",
                                    "books_count": "45",
                                    "user_id": "35122",
                                    "book_id": "3648"
                                },
                                {
                                    "title": "The Emperor's Children",
                                    "average_rating": "2.93",
                                    "books_count": "45",
                                    "user_id": "36022",
                                    "book_id": "3648"
                                },
                                {
                                    "title": "The Emperor's Children",
                                    "average_rating": "2.93",
                                    "books_count": "45",
                                    "user_id": "36952",
                                    "book_id": "3648"
                                }
                            ]
                        },
                        "text/html": [
                            "<table>",
                            "<tr><th>title</th><th>average_rating</th><th>books_count</th><th>user_id</th><th>book_id</th></tr>",
                            "<tr><td>One Night at the Call Center</td><td>2.47</td><td>25</td><td>NULL</td><td>NULL</td></tr>",
                            "<tr><td>The Almost Moon</td><td>2.67</td><td>63</td><td>NULL</td><td>NULL</td></tr>",
                            "<tr><td>The Finkler Question</td><td>2.76</td><td>45</td><td>NULL</td><td>NULL</td></tr>",
                            "<tr><td>Four Blondes</td><td>2.8</td><td>57</td><td>449</td><td>6613</td></tr>",
                            "<tr><td>Four Blondes</td><td>2.8</td><td>57</td><td>1378</td><td>6613</td></tr>",
                            "<tr><td>Four Blondes</td><td>2.8</td><td>57</td><td>6465</td><td>6613</td></tr>",
                            "<tr><td>Four Blondes</td><td>2.8</td><td>57</td><td>6700</td><td>6613</td></tr>",
                            "<tr><td>Four Blondes</td><td>2.8</td><td>57</td><td>7830</td><td>6613</td></tr>",
                            "<tr><td>Four Blondes</td><td>2.8</td><td>57</td><td>10085</td><td>6613</td></tr>",
                            "<tr><td>Four Blondes</td><td>2.8</td><td>57</td><td>16298</td><td>6613</td></tr>",
                            "<tr><td>Four Blondes</td><td>2.8</td><td>57</td><td>16845</td><td>6613</td></tr>",
                            "<tr><td>Four Blondes</td><td>2.8</td><td>57</td><td>17470</td><td>6613</td></tr>",
                            "<tr><td>Four Blondes</td><td>2.8</td><td>57</td><td>19763</td><td>6613</td></tr>",
                            "<tr><td>Four Blondes</td><td>2.8</td><td>57</td><td>21938</td><td>6613</td></tr>",
                            "<tr><td>Four Blondes</td><td>2.8</td><td>57</td><td>22289</td><td>6613</td></tr>",
                            "<tr><td>Four Blondes</td><td>2.8</td><td>57</td><td>23758</td><td>6613</td></tr>",
                            "<tr><td>Four Blondes</td><td>2.8</td><td>57</td><td>27874</td><td>6613</td></tr>",
                            "<tr><td>Four Blondes</td><td>2.8</td><td>57</td><td>28690</td><td>6613</td></tr>",
                            "<tr><td>Four Blondes</td><td>2.8</td><td>57</td><td>29023</td><td>6613</td></tr>",
                            "<tr><td>Four Blondes</td><td>2.8</td><td>57</td><td>29315</td><td>6613</td></tr>",
                            "<tr><td>Four Blondes</td><td>2.8</td><td>57</td><td>30245</td><td>6613</td></tr>",
                            "<tr><td>Four Blondes</td><td>2.8</td><td>57</td><td>36128</td><td>6613</td></tr>",
                            "<tr><td>Four Blondes</td><td>2.8</td><td>57</td><td>36554</td><td>6613</td></tr>",
                            "<tr><td>Four Blondes</td><td>2.8</td><td>57</td><td>38159</td><td>6613</td></tr>",
                            "<tr><td>Four Blondes</td><td>2.8</td><td>57</td><td>38800</td><td>6613</td></tr>",
                            "<tr><td>Four Blondes</td><td>2.8</td><td>57</td><td>40361</td><td>6613</td></tr>",
                            "<tr><td>Four Blondes</td><td>2.8</td><td>57</td><td>40529</td><td>6613</td></tr>",
                            "<tr><td>Four Blondes</td><td>2.8</td><td>57</td><td>41485</td><td>6613</td></tr>",
                            "<tr><td>Four Blondes</td><td>2.8</td><td>57</td><td>42706</td><td>6613</td></tr>",
                            "<tr><td>Four Blondes</td><td>2.8</td><td>57</td><td>45206</td><td>6613</td></tr>",
                            "<tr><td>Four Blondes</td><td>2.8</td><td>57</td><td>45689</td><td>6613</td></tr>",
                            "<tr><td>Four Blondes</td><td>2.8</td><td>57</td><td>49499</td><td>6613</td></tr>",
                            "<tr><td>Four Blondes</td><td>2.8</td><td>57</td><td>51105</td><td>6613</td></tr>",
                            "<tr><td>Four Blondes</td><td>2.8</td><td>57</td><td>51671</td><td>6613</td></tr>",
                            "<tr><td>Four Blondes</td><td>2.8</td><td>57</td><td>52109</td><td>6613</td></tr>",
                            "<tr><td>Lost</td><td>2.8</td><td>18</td><td>NULL</td><td>NULL</td></tr>",
                            "<tr><td>Tell-All</td><td>2.84</td><td>37</td><td>NULL</td><td>NULL</td></tr>",
                            "<tr><td>Revenge Wears Prada: The Devil Returns (The Devil Wears Prada, #2)</td><td>2.84</td><td>59</td><td>NULL</td><td>NULL</td></tr>",
                            "<tr><td>Among the Ten Thousand Things</td><td>2.84</td><td>19</td><td>NULL</td><td>NULL</td></tr>",
                            "<tr><td>The Emperor's Children</td><td>2.93</td><td>45</td><td>7860</td><td>3648</td></tr>",
                            "<tr><td>The Emperor's Children</td><td>2.93</td><td>45</td><td>11320</td><td>3648</td></tr>",
                            "<tr><td>The Emperor's Children</td><td>2.93</td><td>45</td><td>12686</td><td>3648</td></tr>",
                            "<tr><td>The Emperor's Children</td><td>2.93</td><td>45</td><td>12729</td><td>3648</td></tr>",
                            "<tr><td>The Emperor's Children</td><td>2.93</td><td>45</td><td>12891</td><td>3648</td></tr>",
                            "<tr><td>The Emperor's Children</td><td>2.93</td><td>45</td><td>16933</td><td>3648</td></tr>",
                            "<tr><td>The Emperor's Children</td><td>2.93</td><td>45</td><td>17093</td><td>3648</td></tr>",
                            "<tr><td>The Emperor's Children</td><td>2.93</td><td>45</td><td>24036</td><td>3648</td></tr>",
                            "<tr><td>The Emperor's Children</td><td>2.93</td><td>45</td><td>35122</td><td>3648</td></tr>",
                            "<tr><td>The Emperor's Children</td><td>2.93</td><td>45</td><td>36022</td><td>3648</td></tr>",
                            "<tr><td>The Emperor's Children</td><td>2.93</td><td>45</td><td>36952</td><td>3648</td></tr>",
                            "</table>"
                        ]
                    }
                },
                {
                    "output_type": "execute_result",
                    "metadata": {},
                    "execution_count": 2,
                    "data": {
                        "application/vnd.dataresource+json": {
                            "schema": {
                                "fields": [
                                    {
                                        "name": "title"
                                    },
                                    {
                                        "name": "average_rating"
                                    },
                                    {
                                        "name": "books_count"
                                    },
                                    {
                                        "name": "user_id"
                                    },
                                    {
                                        "name": "book_id"
                                    }
                                ]
                            },
                            "data": [
                                {
                                    "title": "Four Blondes",
                                    "average_rating": "2.8",
                                    "books_count": "57",
                                    "user_id": "449",
                                    "book_id": "6613"
                                },
                                {
                                    "title": "Four Blondes",
                                    "average_rating": "2.8",
                                    "books_count": "57",
                                    "user_id": "1378",
                                    "book_id": "6613"
                                },
                                {
                                    "title": "Four Blondes",
                                    "average_rating": "2.8",
                                    "books_count": "57",
                                    "user_id": "6465",
                                    "book_id": "6613"
                                },
                                {
                                    "title": "Four Blondes",
                                    "average_rating": "2.8",
                                    "books_count": "57",
                                    "user_id": "6700",
                                    "book_id": "6613"
                                },
                                {
                                    "title": "Four Blondes",
                                    "average_rating": "2.8",
                                    "books_count": "57",
                                    "user_id": "7830",
                                    "book_id": "6613"
                                },
                                {
                                    "title": "Four Blondes",
                                    "average_rating": "2.8",
                                    "books_count": "57",
                                    "user_id": "10085",
                                    "book_id": "6613"
                                },
                                {
                                    "title": "Four Blondes",
                                    "average_rating": "2.8",
                                    "books_count": "57",
                                    "user_id": "16298",
                                    "book_id": "6613"
                                },
                                {
                                    "title": "Four Blondes",
                                    "average_rating": "2.8",
                                    "books_count": "57",
                                    "user_id": "16845",
                                    "book_id": "6613"
                                },
                                {
                                    "title": "Four Blondes",
                                    "average_rating": "2.8",
                                    "books_count": "57",
                                    "user_id": "17470",
                                    "book_id": "6613"
                                },
                                {
                                    "title": "Four Blondes",
                                    "average_rating": "2.8",
                                    "books_count": "57",
                                    "user_id": "19763",
                                    "book_id": "6613"
                                },
                                {
                                    "title": "Four Blondes",
                                    "average_rating": "2.8",
                                    "books_count": "57",
                                    "user_id": "21938",
                                    "book_id": "6613"
                                },
                                {
                                    "title": "Four Blondes",
                                    "average_rating": "2.8",
                                    "books_count": "57",
                                    "user_id": "22289",
                                    "book_id": "6613"
                                },
                                {
                                    "title": "Four Blondes",
                                    "average_rating": "2.8",
                                    "books_count": "57",
                                    "user_id": "23758",
                                    "book_id": "6613"
                                },
                                {
                                    "title": "Four Blondes",
                                    "average_rating": "2.8",
                                    "books_count": "57",
                                    "user_id": "27874",
                                    "book_id": "6613"
                                },
                                {
                                    "title": "Four Blondes",
                                    "average_rating": "2.8",
                                    "books_count": "57",
                                    "user_id": "28690",
                                    "book_id": "6613"
                                },
                                {
                                    "title": "Four Blondes",
                                    "average_rating": "2.8",
                                    "books_count": "57",
                                    "user_id": "29023",
                                    "book_id": "6613"
                                },
                                {
                                    "title": "Four Blondes",
                                    "average_rating": "2.8",
                                    "books_count": "57",
                                    "user_id": "29315",
                                    "book_id": "6613"
                                },
                                {
                                    "title": "Four Blondes",
                                    "average_rating": "2.8",
                                    "books_count": "57",
                                    "user_id": "30245",
                                    "book_id": "6613"
                                },
                                {
                                    "title": "Four Blondes",
                                    "average_rating": "2.8",
                                    "books_count": "57",
                                    "user_id": "36128",
                                    "book_id": "6613"
                                },
                                {
                                    "title": "Four Blondes",
                                    "average_rating": "2.8",
                                    "books_count": "57",
                                    "user_id": "36554",
                                    "book_id": "6613"
                                },
                                {
                                    "title": "Four Blondes",
                                    "average_rating": "2.8",
                                    "books_count": "57",
                                    "user_id": "38159",
                                    "book_id": "6613"
                                },
                                {
                                    "title": "Four Blondes",
                                    "average_rating": "2.8",
                                    "books_count": "57",
                                    "user_id": "38800",
                                    "book_id": "6613"
                                },
                                {
                                    "title": "Four Blondes",
                                    "average_rating": "2.8",
                                    "books_count": "57",
                                    "user_id": "40361",
                                    "book_id": "6613"
                                },
                                {
                                    "title": "Four Blondes",
                                    "average_rating": "2.8",
                                    "books_count": "57",
                                    "user_id": "40529",
                                    "book_id": "6613"
                                },
                                {
                                    "title": "Four Blondes",
                                    "average_rating": "2.8",
                                    "books_count": "57",
                                    "user_id": "41485",
                                    "book_id": "6613"
                                },
                                {
                                    "title": "Four Blondes",
                                    "average_rating": "2.8",
                                    "books_count": "57",
                                    "user_id": "42706",
                                    "book_id": "6613"
                                },
                                {
                                    "title": "Four Blondes",
                                    "average_rating": "2.8",
                                    "books_count": "57",
                                    "user_id": "45206",
                                    "book_id": "6613"
                                },
                                {
                                    "title": "Four Blondes",
                                    "average_rating": "2.8",
                                    "books_count": "57",
                                    "user_id": "45689",
                                    "book_id": "6613"
                                },
                                {
                                    "title": "Four Blondes",
                                    "average_rating": "2.8",
                                    "books_count": "57",
                                    "user_id": "49499",
                                    "book_id": "6613"
                                },
                                {
                                    "title": "Four Blondes",
                                    "average_rating": "2.8",
                                    "books_count": "57",
                                    "user_id": "51105",
                                    "book_id": "6613"
                                },
                                {
                                    "title": "Four Blondes",
                                    "average_rating": "2.8",
                                    "books_count": "57",
                                    "user_id": "51671",
                                    "book_id": "6613"
                                },
                                {
                                    "title": "Four Blondes",
                                    "average_rating": "2.8",
                                    "books_count": "57",
                                    "user_id": "52109",
                                    "book_id": "6613"
                                },
                                {
                                    "title": "The Emperor's Children",
                                    "average_rating": "2.93",
                                    "books_count": "45",
                                    "user_id": "7860",
                                    "book_id": "3648"
                                },
                                {
                                    "title": "The Emperor's Children",
                                    "average_rating": "2.93",
                                    "books_count": "45",
                                    "user_id": "11320",
                                    "book_id": "3648"
                                },
                                {
                                    "title": "The Emperor's Children",
                                    "average_rating": "2.93",
                                    "books_count": "45",
                                    "user_id": "12686",
                                    "book_id": "3648"
                                },
                                {
                                    "title": "The Emperor's Children",
                                    "average_rating": "2.93",
                                    "books_count": "45",
                                    "user_id": "12729",
                                    "book_id": "3648"
                                },
                                {
                                    "title": "The Emperor's Children",
                                    "average_rating": "2.93",
                                    "books_count": "45",
                                    "user_id": "12891",
                                    "book_id": "3648"
                                },
                                {
                                    "title": "The Emperor's Children",
                                    "average_rating": "2.93",
                                    "books_count": "45",
                                    "user_id": "16933",
                                    "book_id": "3648"
                                },
                                {
                                    "title": "The Emperor's Children",
                                    "average_rating": "2.93",
                                    "books_count": "45",
                                    "user_id": "17093",
                                    "book_id": "3648"
                                },
                                {
                                    "title": "The Emperor's Children",
                                    "average_rating": "2.93",
                                    "books_count": "45",
                                    "user_id": "24036",
                                    "book_id": "3648"
                                },
                                {
                                    "title": "The Emperor's Children",
                                    "average_rating": "2.93",
                                    "books_count": "45",
                                    "user_id": "35122",
                                    "book_id": "3648"
                                },
                                {
                                    "title": "The Emperor's Children",
                                    "average_rating": "2.93",
                                    "books_count": "45",
                                    "user_id": "36022",
                                    "book_id": "3648"
                                },
                                {
                                    "title": "The Emperor's Children",
                                    "average_rating": "2.93",
                                    "books_count": "45",
                                    "user_id": "36952",
                                    "book_id": "3648"
                                },
                                {
                                    "title": "The Emperor's Children",
                                    "average_rating": "2.93",
                                    "books_count": "45",
                                    "user_id": "38430",
                                    "book_id": "3648"
                                },
                                {
                                    "title": "The Emperor's Children",
                                    "average_rating": "2.93",
                                    "books_count": "45",
                                    "user_id": "39414",
                                    "book_id": "3648"
                                },
                                {
                                    "title": "The Emperor's Children",
                                    "average_rating": "2.93",
                                    "books_count": "45",
                                    "user_id": "45261",
                                    "book_id": "3648"
                                },
                                {
                                    "title": "The Emperor's Children",
                                    "average_rating": "2.93",
                                    "books_count": "45",
                                    "user_id": "45497",
                                    "book_id": "3648"
                                },
                                {
                                    "title": "The Emperor's Children",
                                    "average_rating": "2.93",
                                    "books_count": "45",
                                    "user_id": "45747",
                                    "book_id": "3648"
                                },
                                {
                                    "title": "The Emperor's Children",
                                    "average_rating": "2.93",
                                    "books_count": "45",
                                    "user_id": "48502",
                                    "book_id": "3648"
                                },
                                {
                                    "title": "The Emperor's Children",
                                    "average_rating": "2.93",
                                    "books_count": "45",
                                    "user_id": "49233",
                                    "book_id": "3648"
                                }
                            ]
                        },
                        "text/html": [
                            "<table>",
                            "<tr><th>title</th><th>average_rating</th><th>books_count</th><th>user_id</th><th>book_id</th></tr>",
                            "<tr><td>Four Blondes</td><td>2.8</td><td>57</td><td>449</td><td>6613</td></tr>",
                            "<tr><td>Four Blondes</td><td>2.8</td><td>57</td><td>1378</td><td>6613</td></tr>",
                            "<tr><td>Four Blondes</td><td>2.8</td><td>57</td><td>6465</td><td>6613</td></tr>",
                            "<tr><td>Four Blondes</td><td>2.8</td><td>57</td><td>6700</td><td>6613</td></tr>",
                            "<tr><td>Four Blondes</td><td>2.8</td><td>57</td><td>7830</td><td>6613</td></tr>",
                            "<tr><td>Four Blondes</td><td>2.8</td><td>57</td><td>10085</td><td>6613</td></tr>",
                            "<tr><td>Four Blondes</td><td>2.8</td><td>57</td><td>16298</td><td>6613</td></tr>",
                            "<tr><td>Four Blondes</td><td>2.8</td><td>57</td><td>16845</td><td>6613</td></tr>",
                            "<tr><td>Four Blondes</td><td>2.8</td><td>57</td><td>17470</td><td>6613</td></tr>",
                            "<tr><td>Four Blondes</td><td>2.8</td><td>57</td><td>19763</td><td>6613</td></tr>",
                            "<tr><td>Four Blondes</td><td>2.8</td><td>57</td><td>21938</td><td>6613</td></tr>",
                            "<tr><td>Four Blondes</td><td>2.8</td><td>57</td><td>22289</td><td>6613</td></tr>",
                            "<tr><td>Four Blondes</td><td>2.8</td><td>57</td><td>23758</td><td>6613</td></tr>",
                            "<tr><td>Four Blondes</td><td>2.8</td><td>57</td><td>27874</td><td>6613</td></tr>",
                            "<tr><td>Four Blondes</td><td>2.8</td><td>57</td><td>28690</td><td>6613</td></tr>",
                            "<tr><td>Four Blondes</td><td>2.8</td><td>57</td><td>29023</td><td>6613</td></tr>",
                            "<tr><td>Four Blondes</td><td>2.8</td><td>57</td><td>29315</td><td>6613</td></tr>",
                            "<tr><td>Four Blondes</td><td>2.8</td><td>57</td><td>30245</td><td>6613</td></tr>",
                            "<tr><td>Four Blondes</td><td>2.8</td><td>57</td><td>36128</td><td>6613</td></tr>",
                            "<tr><td>Four Blondes</td><td>2.8</td><td>57</td><td>36554</td><td>6613</td></tr>",
                            "<tr><td>Four Blondes</td><td>2.8</td><td>57</td><td>38159</td><td>6613</td></tr>",
                            "<tr><td>Four Blondes</td><td>2.8</td><td>57</td><td>38800</td><td>6613</td></tr>",
                            "<tr><td>Four Blondes</td><td>2.8</td><td>57</td><td>40361</td><td>6613</td></tr>",
                            "<tr><td>Four Blondes</td><td>2.8</td><td>57</td><td>40529</td><td>6613</td></tr>",
                            "<tr><td>Four Blondes</td><td>2.8</td><td>57</td><td>41485</td><td>6613</td></tr>",
                            "<tr><td>Four Blondes</td><td>2.8</td><td>57</td><td>42706</td><td>6613</td></tr>",
                            "<tr><td>Four Blondes</td><td>2.8</td><td>57</td><td>45206</td><td>6613</td></tr>",
                            "<tr><td>Four Blondes</td><td>2.8</td><td>57</td><td>45689</td><td>6613</td></tr>",
                            "<tr><td>Four Blondes</td><td>2.8</td><td>57</td><td>49499</td><td>6613</td></tr>",
                            "<tr><td>Four Blondes</td><td>2.8</td><td>57</td><td>51105</td><td>6613</td></tr>",
                            "<tr><td>Four Blondes</td><td>2.8</td><td>57</td><td>51671</td><td>6613</td></tr>",
                            "<tr><td>Four Blondes</td><td>2.8</td><td>57</td><td>52109</td><td>6613</td></tr>",
                            "<tr><td>The Emperor's Children</td><td>2.93</td><td>45</td><td>7860</td><td>3648</td></tr>",
                            "<tr><td>The Emperor's Children</td><td>2.93</td><td>45</td><td>11320</td><td>3648</td></tr>",
                            "<tr><td>The Emperor's Children</td><td>2.93</td><td>45</td><td>12686</td><td>3648</td></tr>",
                            "<tr><td>The Emperor's Children</td><td>2.93</td><td>45</td><td>12729</td><td>3648</td></tr>",
                            "<tr><td>The Emperor's Children</td><td>2.93</td><td>45</td><td>12891</td><td>3648</td></tr>",
                            "<tr><td>The Emperor's Children</td><td>2.93</td><td>45</td><td>16933</td><td>3648</td></tr>",
                            "<tr><td>The Emperor's Children</td><td>2.93</td><td>45</td><td>17093</td><td>3648</td></tr>",
                            "<tr><td>The Emperor's Children</td><td>2.93</td><td>45</td><td>24036</td><td>3648</td></tr>",
                            "<tr><td>The Emperor's Children</td><td>2.93</td><td>45</td><td>35122</td><td>3648</td></tr>",
                            "<tr><td>The Emperor's Children</td><td>2.93</td><td>45</td><td>36022</td><td>3648</td></tr>",
                            "<tr><td>The Emperor's Children</td><td>2.93</td><td>45</td><td>36952</td><td>3648</td></tr>",
                            "<tr><td>The Emperor's Children</td><td>2.93</td><td>45</td><td>38430</td><td>3648</td></tr>",
                            "<tr><td>The Emperor's Children</td><td>2.93</td><td>45</td><td>39414</td><td>3648</td></tr>",
                            "<tr><td>The Emperor's Children</td><td>2.93</td><td>45</td><td>45261</td><td>3648</td></tr>",
                            "<tr><td>The Emperor's Children</td><td>2.93</td><td>45</td><td>45497</td><td>3648</td></tr>",
                            "<tr><td>The Emperor's Children</td><td>2.93</td><td>45</td><td>45747</td><td>3648</td></tr>",
                            "<tr><td>The Emperor's Children</td><td>2.93</td><td>45</td><td>48502</td><td>3648</td></tr>",
                            "<tr><td>The Emperor's Children</td><td>2.93</td><td>45</td><td>49233</td><td>3648</td></tr>",
                            "</table>"
                        ]
                    }
                }
            ],
            "execution_count": 2
        },
        {
            "cell_type": "markdown",
            "source": [
                "## **QUESTION 2:** Exploring **RIGHT** joins with the **books** and **to\\_read** tables\n",
                "\n",
                "You will need to uncomment the Query to answer the question.\n",
                "\n",
                "**Part A:** Looking at the query, which table is the 'Left' and which is the 'Right'?\n",
                "\n",
                "> Your Answer: books is the left table, and to\\_read is the right table. \n",
                "\n",
                "**Part B:** How do the RIGHT-joined tables differ from the LEFT-joined tables in Question 1?  \n",
                "\n",
                "> Your Answer: the different types of joins means it will differently handle the rows in each table that don't have matching rows in the other table. Left Join will include all the rows from the Left table and only the matching ones from the Right, and if there's no match, the columns from the Right will have nulls; Right Join means it will include all the rows from the Right table and and only the matching ones from the Left. If there's no match, the columns from the Left table will have nulls."
            ],
            "metadata": {
                "azdata_cell_guid": "c1e417d9-89d2-4a7d-ab46-b43c8bddc54f"
            },
            "attachments": {}
        },
        {
            "cell_type": "code",
            "source": [
                "\n",
                "-- Query 1: RIGHT JOIN\n",
                "SELECT TOP 300 b.title, b.average_rating, b.books_count, tr.user_id, tr.book_id\n",
                "FROM BooksDB.dbo.books AS b\n",
                "RIGHT JOIN BooksDB.dbo.to_read AS tr\n",
                "ON b.best_book_id = tr.book_id;\n",
                ""
            ],
            "metadata": {
                "azdata_cell_guid": "8cf020b8-2a76-46a6-acff-97eb1acc7fed",
                "tags": [],
                "language": "sql"
            },
            "outputs": [
                {
                    "output_type": "display_data",
                    "data": {
                        "text/html": "(300 rows affected)"
                    },
                    "metadata": {}
                },
                {
                    "output_type": "display_data",
                    "data": {
                        "text/html": "Total execution time: 00:00:00.660"
                    },
                    "metadata": {}
                },
                {
                    "output_type": "execute_result",
                    "metadata": {},
                    "execution_count": 3,
                    "data": {
                        "application/vnd.dataresource+json": {
                            "schema": {
                                "fields": [
                                    {
                                        "name": "title"
                                    },
                                    {
                                        "name": "average_rating"
                                    },
                                    {
                                        "name": "books_count"
                                    },
                                    {
                                        "name": "user_id"
                                    },
                                    {
                                        "name": "book_id"
                                    }
                                ]
                            },
                            "data": [
                                {
                                    "title": "Children of Dune (Dune Chronicles #3)",
                                    "average_rating": "3.9",
                                    "books_count": "116",
                                    "user_id": "1",
                                    "book_id": "112"
                                },
                                {
                                    "title": "NULL",
                                    "average_rating": "NULL",
                                    "books_count": "NULL",
                                    "user_id": "1",
                                    "book_id": "235"
                                },
                                {
                                    "title": "NULL",
                                    "average_rating": "NULL",
                                    "books_count": "NULL",
                                    "user_id": "1",
                                    "book_id": "533"
                                },
                                {
                                    "title": "NULL",
                                    "average_rating": "NULL",
                                    "books_count": "NULL",
                                    "user_id": "1",
                                    "book_id": "1198"
                                },
                                {
                                    "title": "NULL",
                                    "average_rating": "NULL",
                                    "books_count": "NULL",
                                    "user_id": "1",
                                    "book_id": "1874"
                                },
                                {
                                    "title": "NULL",
                                    "average_rating": "NULL",
                                    "books_count": "NULL",
                                    "user_id": "1",
                                    "book_id": "2058"
                                },
                                {
                                    "title": "NULL",
                                    "average_rating": "NULL",
                                    "books_count": "NULL",
                                    "user_id": "1",
                                    "book_id": "3334"
                                },
                                {
                                    "title": "NULL",
                                    "average_rating": "NULL",
                                    "books_count": "NULL",
                                    "user_id": "2",
                                    "book_id": "4"
                                },
                                {
                                    "title": "NULL",
                                    "average_rating": "NULL",
                                    "books_count": "NULL",
                                    "user_id": "2",
                                    "book_id": "11"
                                },
                                {
                                    "title": "The Ultimate Hitchhiker's Guide to the Galaxy",
                                    "average_rating": "4.37",
                                    "books_count": "32",
                                    "user_id": "2",
                                    "book_id": "13"
                                },
                                {
                                    "title": "NULL",
                                    "average_rating": "NULL",
                                    "books_count": "NULL",
                                    "user_id": "2",
                                    "book_id": "16"
                                },
                                {
                                    "title": "NULL",
                                    "average_rating": "NULL",
                                    "books_count": "NULL",
                                    "user_id": "2",
                                    "book_id": "92"
                                },
                                {
                                    "title": "Dune Messiah (Dune Chronicles #2)",
                                    "average_rating": "3.86",
                                    "books_count": "140",
                                    "user_id": "2",
                                    "book_id": "106"
                                },
                                {
                                    "title": "NULL",
                                    "average_rating": "NULL",
                                    "books_count": "NULL",
                                    "user_id": "2",
                                    "book_id": "113"
                                },
                                {
                                    "title": "NULL",
                                    "average_rating": "NULL",
                                    "books_count": "NULL",
                                    "user_id": "2",
                                    "book_id": "233"
                                },
                                {
                                    "title": "NULL",
                                    "average_rating": "NULL",
                                    "books_count": "NULL",
                                    "user_id": "2",
                                    "book_id": "247"
                                },
                                {
                                    "title": "NULL",
                                    "average_rating": "NULL",
                                    "books_count": "NULL",
                                    "user_id": "2",
                                    "book_id": "380"
                                },
                                {
                                    "title": "NULL",
                                    "average_rating": "NULL",
                                    "books_count": "NULL",
                                    "user_id": "2",
                                    "book_id": "408"
                                },
                                {
                                    "title": "NULL",
                                    "average_rating": "NULL",
                                    "books_count": "NULL",
                                    "user_id": "2",
                                    "book_id": "439"
                                },
                                {
                                    "title": "NULL",
                                    "average_rating": "NULL",
                                    "books_count": "NULL",
                                    "user_id": "2",
                                    "book_id": "479"
                                },
                                {
                                    "title": "NULL",
                                    "average_rating": "NULL",
                                    "books_count": "NULL",
                                    "user_id": "2",
                                    "book_id": "516"
                                },
                                {
                                    "title": "NULL",
                                    "average_rating": "NULL",
                                    "books_count": "NULL",
                                    "user_id": "2",
                                    "book_id": "619"
                                },
                                {
                                    "title": "NULL",
                                    "average_rating": "NULL",
                                    "books_count": "NULL",
                                    "user_id": "2",
                                    "book_id": "1069"
                                },
                                {
                                    "title": "The Iliad",
                                    "average_rating": "3.83",
                                    "books_count": "1726",
                                    "user_id": "2",
                                    "book_id": "1371"
                                },
                                {
                                    "title": "NULL",
                                    "average_rating": "NULL",
                                    "books_count": "NULL",
                                    "user_id": "2",
                                    "book_id": "1384"
                                },
                                {
                                    "title": "NULL",
                                    "average_rating": "NULL",
                                    "books_count": "NULL",
                                    "user_id": "2",
                                    "book_id": "1597"
                                },
                                {
                                    "title": "NULL",
                                    "average_rating": "NULL",
                                    "books_count": "NULL",
                                    "user_id": "2",
                                    "book_id": "1926"
                                },
                                {
                                    "title": "NULL",
                                    "average_rating": "NULL",
                                    "books_count": "NULL",
                                    "user_id": "2",
                                    "book_id": "1967"
                                },
                                {
                                    "title": "NULL",
                                    "average_rating": "NULL",
                                    "books_count": "NULL",
                                    "user_id": "2",
                                    "book_id": "1969"
                                },
                                {
                                    "title": "NULL",
                                    "average_rating": "NULL",
                                    "books_count": "NULL",
                                    "user_id": "2",
                                    "book_id": "2220"
                                },
                                {
                                    "title": "NULL",
                                    "average_rating": "NULL",
                                    "books_count": "NULL",
                                    "user_id": "2",
                                    "book_id": "2388"
                                },
                                {
                                    "title": "NULL",
                                    "average_rating": "NULL",
                                    "books_count": "NULL",
                                    "user_id": "2",
                                    "book_id": "3222"
                                },
                                {
                                    "title": "NULL",
                                    "average_rating": "NULL",
                                    "books_count": "NULL",
                                    "user_id": "2",
                                    "book_id": "3227"
                                },
                                {
                                    "title": "NULL",
                                    "average_rating": "NULL",
                                    "books_count": "NULL",
                                    "user_id": "2",
                                    "book_id": "3733"
                                },
                                {
                                    "title": "NULL",
                                    "average_rating": "NULL",
                                    "books_count": "NULL",
                                    "user_id": "2",
                                    "book_id": "5418"
                                },
                                {
                                    "title": "NULL",
                                    "average_rating": "NULL",
                                    "books_count": "NULL",
                                    "user_id": "2",
                                    "book_id": "6937"
                                },
                                {
                                    "title": "NULL",
                                    "average_rating": "NULL",
                                    "books_count": "NULL",
                                    "user_id": "2",
                                    "book_id": "7146"
                                },
                                {
                                    "title": "NULL",
                                    "average_rating": "NULL",
                                    "books_count": "NULL",
                                    "user_id": "2",
                                    "book_id": "7873"
                                },
                                {
                                    "title": "NULL",
                                    "average_rating": "NULL",
                                    "books_count": "NULL",
                                    "user_id": "2",
                                    "book_id": "8417"
                                },
                                {
                                    "title": "Harry Potter Collection (Harry Potter, #1-6)",
                                    "average_rating": "4.73",
                                    "books_count": "6",
                                    "user_id": "3",
                                    "book_id": "10"
                                },
                                {
                                    "title": "NULL",
                                    "average_rating": "NULL",
                                    "books_count": "NULL",
                                    "user_id": "3",
                                    "book_id": "66"
                                },
                                {
                                    "title": "NULL",
                                    "average_rating": "NULL",
                                    "books_count": "NULL",
                                    "user_id": "3",
                                    "book_id": "233"
                                },
                                {
                                    "title": "NULL",
                                    "average_rating": "NULL",
                                    "books_count": "NULL",
                                    "user_id": "3",
                                    "book_id": "726"
                                },
                                {
                                    "title": "NULL",
                                    "average_rating": "NULL",
                                    "books_count": "NULL",
                                    "user_id": "3",
                                    "book_id": "932"
                                },
                                {
                                    "title": "NULL",
                                    "average_rating": "NULL",
                                    "books_count": "NULL",
                                    "user_id": "3",
                                    "book_id": "1146"
                                },
                                {
                                    "title": "NULL",
                                    "average_rating": "NULL",
                                    "books_count": "NULL",
                                    "user_id": "3",
                                    "book_id": "2439"
                                },
                                {
                                    "title": "NULL",
                                    "average_rating": "NULL",
                                    "books_count": "NULL",
                                    "user_id": "3",
                                    "book_id": "3566"
                                },
                                {
                                    "title": "NULL",
                                    "average_rating": "NULL",
                                    "books_count": "NULL",
                                    "user_id": "3",
                                    "book_id": "4582"
                                },
                                {
                                    "title": "NULL",
                                    "average_rating": "NULL",
                                    "books_count": "NULL",
                                    "user_id": "3",
                                    "book_id": "5448"
                                },
                                {
                                    "title": "NULL",
                                    "average_rating": "NULL",
                                    "books_count": "NULL",
                                    "user_id": "3",
                                    "book_id": "5765"
                                },
                                {
                                    "title": "NULL",
                                    "average_rating": "NULL",
                                    "books_count": "NULL",
                                    "user_id": "3",
                                    "book_id": "6274"
                                },
                                {
                                    "title": "NULL",
                                    "average_rating": "NULL",
                                    "books_count": "NULL",
                                    "user_id": "3",
                                    "book_id": "8403"
                                },
                                {
                                    "title": "NULL",
                                    "average_rating": "NULL",
                                    "books_count": "NULL",
                                    "user_id": "5",
                                    "book_id": "31"
                                },
                                {
                                    "title": "The Virtue of Selfishness: A New Concept of Egoism",
                                    "average_rating": "3.47",
                                    "books_count": "53",
                                    "user_id": "5",
                                    "book_id": "665"
                                },
                                {
                                    "title": "NULL",
                                    "average_rating": "NULL",
                                    "books_count": "NULL",
                                    "user_id": "5",
                                    "book_id": "3074"
                                },
                                {
                                    "title": "Sherlock Holmes: The Complete Novels and Stories, Volume I",
                                    "average_rating": "4.45",
                                    "books_count": "13",
                                    "user_id": "5",
                                    "book_id": "3581"
                                },
                                {
                                    "title": "NULL",
                                    "average_rating": "NULL",
                                    "books_count": "NULL",
                                    "user_id": "6",
                                    "book_id": "64"
                                },
                                {
                                    "title": "NULL",
                                    "average_rating": "NULL",
                                    "books_count": "NULL",
                                    "user_id": "6",
                                    "book_id": "459"
                                },
                                {
                                    "title": "NULL",
                                    "average_rating": "NULL",
                                    "books_count": "NULL",
                                    "user_id": "6",
                                    "book_id": "619"
                                },
                                {
                                    "title": "NULL",
                                    "average_rating": "NULL",
                                    "books_count": "NULL",
                                    "user_id": "6",
                                    "book_id": "649"
                                },
                                {
                                    "title": "NULL",
                                    "average_rating": "NULL",
                                    "books_count": "NULL",
                                    "user_id": "6",
                                    "book_id": "687"
                                },
                                {
                                    "title": "NULL",
                                    "average_rating": "NULL",
                                    "books_count": "NULL",
                                    "user_id": "6",
                                    "book_id": "874"
                                },
                                {
                                    "title": "The War of Art: Break Through the Blocks & Win Your Inner Creative Battles",
                                    "average_rating": "4.07",
                                    "books_count": "29",
                                    "user_id": "6",
                                    "book_id": "1319"
                                },
                                {
                                    "title": "NULL",
                                    "average_rating": "NULL",
                                    "books_count": "NULL",
                                    "user_id": "6",
                                    "book_id": "1912"
                                },
                                {
                                    "title": "NULL",
                                    "average_rating": "NULL",
                                    "books_count": "NULL",
                                    "user_id": "6",
                                    "book_id": "5269"
                                },
                                {
                                    "title": "NULL",
                                    "average_rating": "NULL",
                                    "books_count": "NULL",
                                    "user_id": "6",
                                    "book_id": "5537"
                                },
                                {
                                    "title": "NULL",
                                    "average_rating": "NULL",
                                    "books_count": "NULL",
                                    "user_id": "6",
                                    "book_id": "5820"
                                },
                                {
                                    "title": "NULL",
                                    "average_rating": "NULL",
                                    "books_count": "NULL",
                                    "user_id": "6",
                                    "book_id": "6220"
                                },
                                {
                                    "title": "NULL",
                                    "average_rating": "NULL",
                                    "books_count": "NULL",
                                    "user_id": "6",
                                    "book_id": "7480"
                                },
                                {
                                    "title": "Harry Potter Collection (Harry Potter, #1-6)",
                                    "average_rating": "4.73",
                                    "books_count": "6",
                                    "user_id": "7",
                                    "book_id": "10"
                                },
                                {
                                    "title": "NULL",
                                    "average_rating": "NULL",
                                    "books_count": "NULL",
                                    "user_id": "7",
                                    "book_id": "215"
                                },
                                {
                                    "title": "NULL",
                                    "average_rating": "NULL",
                                    "books_count": "NULL",
                                    "user_id": "7",
                                    "book_id": "225"
                                },
                                {
                                    "title": "NULL",
                                    "average_rating": "NULL",
                                    "books_count": "NULL",
                                    "user_id": "7",
                                    "book_id": "233"
                                },
                                {
                                    "title": "NULL",
                                    "average_rating": "NULL",
                                    "books_count": "NULL",
                                    "user_id": "7",
                                    "book_id": "1322"
                                },
                                {
                                    "title": "NULL",
                                    "average_rating": "NULL",
                                    "books_count": "NULL",
                                    "user_id": "7",
                                    "book_id": "3552"
                                },
                                {
                                    "title": "NULL",
                                    "average_rating": "NULL",
                                    "books_count": "NULL",
                                    "user_id": "7",
                                    "book_id": "3720"
                                },
                                {
                                    "title": "NULL",
                                    "average_rating": "NULL",
                                    "books_count": "NULL",
                                    "user_id": "7",
                                    "book_id": "4468"
                                },
                                {
                                    "title": "NULL",
                                    "average_rating": "NULL",
                                    "books_count": "NULL",
                                    "user_id": "8",
                                    "book_id": "19"
                                },
                                {
                                    "title": "NULL",
                                    "average_rating": "NULL",
                                    "books_count": "NULL",
                                    "user_id": "8",
                                    "book_id": "498"
                                },
                                {
                                    "title": "NULL",
                                    "average_rating": "NULL",
                                    "books_count": "NULL",
                                    "user_id": "8",
                                    "book_id": "1357"
                                },
                                {
                                    "title": "NULL",
                                    "average_rating": "NULL",
                                    "books_count": "NULL",
                                    "user_id": "8",
                                    "book_id": "2177"
                                },
                                {
                                    "title": "NULL",
                                    "average_rating": "NULL",
                                    "books_count": "NULL",
                                    "user_id": "8",
                                    "book_id": "3930"
                                },
                                {
                                    "title": "The Pilgrimage",
                                    "average_rating": "3.64",
                                    "books_count": "171",
                                    "user_id": "8",
                                    "book_id": "4004"
                                },
                                {
                                    "title": "NULL",
                                    "average_rating": "NULL",
                                    "books_count": "NULL",
                                    "user_id": "8",
                                    "book_id": "8792"
                                },
                                {
                                    "title": "NULL",
                                    "average_rating": "NULL",
                                    "books_count": "NULL",
                                    "user_id": "8",
                                    "book_id": "9304"
                                },
                                {
                                    "title": "Harry Potter Boxed Set, Books 1-5 (Harry Potter, #1-5)",
                                    "average_rating": "4.77",
                                    "books_count": "11",
                                    "user_id": "9",
                                    "book_id": "8"
                                },
                                {
                                    "title": "Children of Dune (Dune Chronicles #3)",
                                    "average_rating": "3.9",
                                    "books_count": "116",
                                    "user_id": "9",
                                    "book_id": "112"
                                },
                                {
                                    "title": "NULL",
                                    "average_rating": "NULL",
                                    "books_count": "NULL",
                                    "user_id": "9",
                                    "book_id": "139"
                                },
                                {
                                    "title": "NULL",
                                    "average_rating": "NULL",
                                    "books_count": "NULL",
                                    "user_id": "9",
                                    "book_id": "230"
                                },
                                {
                                    "title": "NULL",
                                    "average_rating": "NULL",
                                    "books_count": "NULL",
                                    "user_id": "9",
                                    "book_id": "233"
                                },
                                {
                                    "title": "NULL",
                                    "average_rating": "NULL",
                                    "books_count": "NULL",
                                    "user_id": "9",
                                    "book_id": "473"
                                },
                                {
                                    "title": "NULL",
                                    "average_rating": "NULL",
                                    "books_count": "NULL",
                                    "user_id": "9",
                                    "book_id": "638"
                                },
                                {
                                    "title": "NULL",
                                    "average_rating": "NULL",
                                    "books_count": "NULL",
                                    "user_id": "9",
                                    "book_id": "653"
                                },
                                {
                                    "title": "NULL",
                                    "average_rating": "NULL",
                                    "books_count": "NULL",
                                    "user_id": "9",
                                    "book_id": "672"
                                },
                                {
                                    "title": "NULL",
                                    "average_rating": "NULL",
                                    "books_count": "NULL",
                                    "user_id": "9",
                                    "book_id": "701"
                                },
                                {
                                    "title": "NULL",
                                    "average_rating": "NULL",
                                    "books_count": "NULL",
                                    "user_id": "9",
                                    "book_id": "736"
                                },
                                {
                                    "title": "NULL",
                                    "average_rating": "NULL",
                                    "books_count": "NULL",
                                    "user_id": "9",
                                    "book_id": "883"
                                },
                                {
                                    "title": "NULL",
                                    "average_rating": "NULL",
                                    "books_count": "NULL",
                                    "user_id": "9",
                                    "book_id": "895"
                                },
                                {
                                    "title": "NULL",
                                    "average_rating": "NULL",
                                    "books_count": "NULL",
                                    "user_id": "9",
                                    "book_id": "1467"
                                },
                                {
                                    "title": "NULL",
                                    "average_rating": "NULL",
                                    "books_count": "NULL",
                                    "user_id": "9",
                                    "book_id": "1582"
                                },
                                {
                                    "title": "NULL",
                                    "average_rating": "NULL",
                                    "books_count": "NULL",
                                    "user_id": "9",
                                    "book_id": "1873"
                                },
                                {
                                    "title": "NULL",
                                    "average_rating": "NULL",
                                    "books_count": "NULL",
                                    "user_id": "9",
                                    "book_id": "2516"
                                },
                                {
                                    "title": "NULL",
                                    "average_rating": "NULL",
                                    "books_count": "NULL",
                                    "user_id": "9",
                                    "book_id": "2630"
                                },
                                {
                                    "title": "NULL",
                                    "average_rating": "NULL",
                                    "books_count": "NULL",
                                    "user_id": "9",
                                    "book_id": "3210"
                                },
                                {
                                    "title": "Icy Sparks",
                                    "average_rating": "3.68",
                                    "books_count": "27",
                                    "user_id": "9",
                                    "book_id": "3476"
                                },
                                {
                                    "title": "NULL",
                                    "average_rating": "NULL",
                                    "books_count": "NULL",
                                    "user_id": "9",
                                    "book_id": "3560"
                                },
                                {
                                    "title": "NULL",
                                    "average_rating": "NULL",
                                    "books_count": "NULL",
                                    "user_id": "9",
                                    "book_id": "3650"
                                },
                                {
                                    "title": "NULL",
                                    "average_rating": "NULL",
                                    "books_count": "NULL",
                                    "user_id": "9",
                                    "book_id": "5286"
                                },
                                {
                                    "title": "NULL",
                                    "average_rating": "NULL",
                                    "books_count": "NULL",
                                    "user_id": "9",
                                    "book_id": "6636"
                                },
                                {
                                    "title": "Harry Potter and the Goblet of Fire (Harry Potter, #4)",
                                    "average_rating": "4.53",
                                    "books_count": "332",
                                    "user_id": "10",
                                    "book_id": "6"
                                },
                                {
                                    "title": "NULL",
                                    "average_rating": "NULL",
                                    "books_count": "NULL",
                                    "user_id": "10",
                                    "book_id": "385"
                                },
                                {
                                    "title": "Atlas Shrugged",
                                    "average_rating": "3.68",
                                    "books_count": "147",
                                    "user_id": "10",
                                    "book_id": "662"
                                },
                                {
                                    "title": "NULL",
                                    "average_rating": "NULL",
                                    "books_count": "NULL",
                                    "user_id": "10",
                                    "book_id": "896"
                                },
                                {
                                    "title": "NULL",
                                    "average_rating": "NULL",
                                    "books_count": "NULL",
                                    "user_id": "10",
                                    "book_id": "1076"
                                },
                                {
                                    "title": "NULL",
                                    "average_rating": "NULL",
                                    "books_count": "NULL",
                                    "user_id": "10",
                                    "book_id": "1082"
                                },
                                {
                                    "title": "NULL",
                                    "average_rating": "NULL",
                                    "books_count": "NULL",
                                    "user_id": "10",
                                    "book_id": "1220"
                                },
                                {
                                    "title": "NULL",
                                    "average_rating": "NULL",
                                    "books_count": "NULL",
                                    "user_id": "10",
                                    "book_id": "1281"
                                },
                                {
                                    "title": "NULL",
                                    "average_rating": "NULL",
                                    "books_count": "NULL",
                                    "user_id": "10",
                                    "book_id": "1439"
                                },
                                {
                                    "title": "NULL",
                                    "average_rating": "NULL",
                                    "books_count": "NULL",
                                    "user_id": "10",
                                    "book_id": "1851"
                                },
                                {
                                    "title": "NULL",
                                    "average_rating": "NULL",
                                    "books_count": "NULL",
                                    "user_id": "10",
                                    "book_id": "1920"
                                },
                                {
                                    "title": "NULL",
                                    "average_rating": "NULL",
                                    "books_count": "NULL",
                                    "user_id": "10",
                                    "book_id": "2441"
                                },
                                {
                                    "title": "NULL",
                                    "average_rating": "NULL",
                                    "books_count": "NULL",
                                    "user_id": "10",
                                    "book_id": "2570"
                                },
                                {
                                    "title": "NULL",
                                    "average_rating": "NULL",
                                    "books_count": "NULL",
                                    "user_id": "10",
                                    "book_id": "2616"
                                },
                                {
                                    "title": "NULL",
                                    "average_rating": "NULL",
                                    "books_count": "NULL",
                                    "user_id": "10",
                                    "book_id": "3059"
                                },
                                {
                                    "title": "NULL",
                                    "average_rating": "NULL",
                                    "books_count": "NULL",
                                    "user_id": "10",
                                    "book_id": "3545"
                                },
                                {
                                    "title": "NULL",
                                    "average_rating": "NULL",
                                    "books_count": "NULL",
                                    "user_id": "10",
                                    "book_id": "3961"
                                },
                                {
                                    "title": "NULL",
                                    "average_rating": "NULL",
                                    "books_count": "NULL",
                                    "user_id": "10",
                                    "book_id": "4369"
                                },
                                {
                                    "title": "NULL",
                                    "average_rating": "NULL",
                                    "books_count": "NULL",
                                    "user_id": "10",
                                    "book_id": "4510"
                                },
                                {
                                    "title": "NULL",
                                    "average_rating": "NULL",
                                    "books_count": "NULL",
                                    "user_id": "10",
                                    "book_id": "5104"
                                },
                                {
                                    "title": "NULL",
                                    "average_rating": "NULL",
                                    "books_count": "NULL",
                                    "user_id": "10",
                                    "book_id": "5254"
                                },
                                {
                                    "title": "NULL",
                                    "average_rating": "NULL",
                                    "books_count": "NULL",
                                    "user_id": "10",
                                    "book_id": "5556"
                                },
                                {
                                    "title": "NULL",
                                    "average_rating": "NULL",
                                    "books_count": "NULL",
                                    "user_id": "10",
                                    "book_id": "6114"
                                },
                                {
                                    "title": "NULL",
                                    "average_rating": "NULL",
                                    "books_count": "NULL",
                                    "user_id": "10",
                                    "book_id": "6917"
                                },
                                {
                                    "title": "NULL",
                                    "average_rating": "NULL",
                                    "books_count": "NULL",
                                    "user_id": "10",
                                    "book_id": "7545"
                                },
                                {
                                    "title": "NULL",
                                    "average_rating": "NULL",
                                    "books_count": "NULL",
                                    "user_id": "10",
                                    "book_id": "7842"
                                },
                                {
                                    "title": "NULL",
                                    "average_rating": "NULL",
                                    "books_count": "NULL",
                                    "user_id": "11",
                                    "book_id": "3643"
                                },
                                {
                                    "title": "Harry Potter and the Half-Blood Prince (Harry Potter, #6)",
                                    "average_rating": "4.54",
                                    "books_count": "275",
                                    "user_id": "12",
                                    "book_id": "1"
                                },
                                {
                                    "title": "NULL",
                                    "average_rating": "NULL",
                                    "books_count": "NULL",
                                    "user_id": "12",
                                    "book_id": "124"
                                },
                                {
                                    "title": "NULL",
                                    "average_rating": "NULL",
                                    "books_count": "NULL",
                                    "user_id": "12",
                                    "book_id": "1471"
                                },
                                {
                                    "title": "NULL",
                                    "average_rating": "NULL",
                                    "books_count": "NULL",
                                    "user_id": "12",
                                    "book_id": "2893"
                                },
                                {
                                    "title": "NULL",
                                    "average_rating": "NULL",
                                    "books_count": "NULL",
                                    "user_id": "13",
                                    "book_id": "81"
                                },
                                {
                                    "title": "NULL",
                                    "average_rating": "NULL",
                                    "books_count": "NULL",
                                    "user_id": "13",
                                    "book_id": "277"
                                },
                                {
                                    "title": "NULL",
                                    "average_rating": "NULL",
                                    "books_count": "NULL",
                                    "user_id": "13",
                                    "book_id": "318"
                                },
                                {
                                    "title": "NULL",
                                    "average_rating": "NULL",
                                    "books_count": "NULL",
                                    "user_id": "13",
                                    "book_id": "430"
                                },
                                {
                                    "title": "NULL",
                                    "average_rating": "NULL",
                                    "books_count": "NULL",
                                    "user_id": "13",
                                    "book_id": "437"
                                },
                                {
                                    "title": "NULL",
                                    "average_rating": "NULL",
                                    "books_count": "NULL",
                                    "user_id": "13",
                                    "book_id": "551"
                                },
                                {
                                    "title": "NULL",
                                    "average_rating": "NULL",
                                    "books_count": "NULL",
                                    "user_id": "13",
                                    "book_id": "560"
                                },
                                {
                                    "title": "NULL",
                                    "average_rating": "NULL",
                                    "books_count": "NULL",
                                    "user_id": "13",
                                    "book_id": "610"
                                },
                                {
                                    "title": "NULL",
                                    "average_rating": "NULL",
                                    "books_count": "NULL",
                                    "user_id": "13",
                                    "book_id": "678"
                                },
                                {
                                    "title": "NULL",
                                    "average_rating": "NULL",
                                    "books_count": "NULL",
                                    "user_id": "13",
                                    "book_id": "979"
                                },
                                {
                                    "title": "NULL",
                                    "average_rating": "NULL",
                                    "books_count": "NULL",
                                    "user_id": "13",
                                    "book_id": "1082"
                                },
                                {
                                    "title": "NULL",
                                    "average_rating": "NULL",
                                    "books_count": "NULL",
                                    "user_id": "13",
                                    "book_id": "1464"
                                },
                                {
                                    "title": "NULL",
                                    "average_rating": "NULL",
                                    "books_count": "NULL",
                                    "user_id": "13",
                                    "book_id": "1577"
                                },
                                {
                                    "title": "NULL",
                                    "average_rating": "NULL",
                                    "books_count": "NULL",
                                    "user_id": "13",
                                    "book_id": "2018"
                                },
                                {
                                    "title": "NULL",
                                    "average_rating": "NULL",
                                    "books_count": "NULL",
                                    "user_id": "13",
                                    "book_id": "2418"
                                },
                                {
                                    "title": "NULL",
                                    "average_rating": "NULL",
                                    "books_count": "NULL",
                                    "user_id": "13",
                                    "book_id": "3257"
                                },
                                {
                                    "title": "NULL",
                                    "average_rating": "NULL",
                                    "books_count": "NULL",
                                    "user_id": "13",
                                    "book_id": "4212"
                                },
                                {
                                    "title": "NULL",
                                    "average_rating": "NULL",
                                    "books_count": "NULL",
                                    "user_id": "13",
                                    "book_id": "4635"
                                },
                                {
                                    "title": "NULL",
                                    "average_rating": "NULL",
                                    "books_count": "NULL",
                                    "user_id": "13",
                                    "book_id": "4704"
                                },
                                {
                                    "title": "NULL",
                                    "average_rating": "NULL",
                                    "books_count": "NULL",
                                    "user_id": "13",
                                    "book_id": "4734"
                                },
                                {
                                    "title": "NULL",
                                    "average_rating": "NULL",
                                    "books_count": "NULL",
                                    "user_id": "13",
                                    "book_id": "4841"
                                },
                                {
                                    "title": "NULL",
                                    "average_rating": "NULL",
                                    "books_count": "NULL",
                                    "user_id": "13",
                                    "book_id": "4848"
                                },
                                {
                                    "title": "NULL",
                                    "average_rating": "NULL",
                                    "books_count": "NULL",
                                    "user_id": "13",
                                    "book_id": "4856"
                                },
                                {
                                    "title": "NULL",
                                    "average_rating": "NULL",
                                    "books_count": "NULL",
                                    "user_id": "13",
                                    "book_id": "4928"
                                },
                                {
                                    "title": "NULL",
                                    "average_rating": "NULL",
                                    "books_count": "NULL",
                                    "user_id": "13",
                                    "book_id": "6114"
                                },
                                {
                                    "title": "NULL",
                                    "average_rating": "NULL",
                                    "books_count": "NULL",
                                    "user_id": "13",
                                    "book_id": "6793"
                                },
                                {
                                    "title": "NULL",
                                    "average_rating": "NULL",
                                    "books_count": "NULL",
                                    "user_id": "13",
                                    "book_id": "6962"
                                },
                                {
                                    "title": "NULL",
                                    "average_rating": "NULL",
                                    "books_count": "NULL",
                                    "user_id": "13",
                                    "book_id": "8717"
                                },
                                {
                                    "title": "NULL",
                                    "average_rating": "NULL",
                                    "books_count": "NULL",
                                    "user_id": "14",
                                    "book_id": "493"
                                },
                                {
                                    "title": "NULL",
                                    "average_rating": "NULL",
                                    "books_count": "NULL",
                                    "user_id": "14",
                                    "book_id": "1179"
                                },
                                {
                                    "title": "NULL",
                                    "average_rating": "NULL",
                                    "books_count": "NULL",
                                    "user_id": "14",
                                    "book_id": "2693"
                                },
                                {
                                    "title": "Sherlock Holmes: The Complete Novels and Stories, Volume I",
                                    "average_rating": "4.45",
                                    "books_count": "13",
                                    "user_id": "14",
                                    "book_id": "3581"
                                },
                                {
                                    "title": "NULL",
                                    "average_rating": "NULL",
                                    "books_count": "NULL",
                                    "user_id": "14",
                                    "book_id": "3683"
                                },
                                {
                                    "title": "NULL",
                                    "average_rating": "NULL",
                                    "books_count": "NULL",
                                    "user_id": "14",
                                    "book_id": "3953"
                                },
                                {
                                    "title": "NULL",
                                    "average_rating": "NULL",
                                    "books_count": "NULL",
                                    "user_id": "14",
                                    "book_id": "4220"
                                },
                                {
                                    "title": "NULL",
                                    "average_rating": "NULL",
                                    "books_count": "NULL",
                                    "user_id": "14",
                                    "book_id": "5076"
                                },
                                {
                                    "title": "NULL",
                                    "average_rating": "NULL",
                                    "books_count": "NULL",
                                    "user_id": "14",
                                    "book_id": "5537"
                                },
                                {
                                    "title": "NULL",
                                    "average_rating": "NULL",
                                    "books_count": "NULL",
                                    "user_id": "14",
                                    "book_id": "7777"
                                },
                                {
                                    "title": "NULL",
                                    "average_rating": "NULL",
                                    "books_count": "NULL",
                                    "user_id": "15",
                                    "book_id": "191"
                                },
                                {
                                    "title": "The Lover",
                                    "average_rating": "3.76",
                                    "books_count": "148",
                                    "user_id": "15",
                                    "book_id": "275"
                                },
                                {
                                    "title": "NULL",
                                    "average_rating": "NULL",
                                    "books_count": "NULL",
                                    "user_id": "15",
                                    "book_id": "398"
                                },
                                {
                                    "title": "NULL",
                                    "average_rating": "NULL",
                                    "books_count": "NULL",
                                    "user_id": "15",
                                    "book_id": "666"
                                },
                                {
                                    "title": "NULL",
                                    "average_rating": "NULL",
                                    "books_count": "NULL",
                                    "user_id": "15",
                                    "book_id": "1491"
                                },
                                {
                                    "title": "NULL",
                                    "average_rating": "NULL",
                                    "books_count": "NULL",
                                    "user_id": "15",
                                    "book_id": "5210"
                                },
                                {
                                    "title": "NULL",
                                    "average_rating": "NULL",
                                    "books_count": "NULL",
                                    "user_id": "17",
                                    "book_id": "1344"
                                },
                                {
                                    "title": "The Good Soldier",
                                    "average_rating": "3.72",
                                    "books_count": "362",
                                    "user_id": "20",
                                    "book_id": "7628"
                                },
                                {
                                    "title": "NULL",
                                    "average_rating": "NULL",
                                    "books_count": "NULL",
                                    "user_id": "22",
                                    "book_id": "653"
                                },
                                {
                                    "title": "NULL",
                                    "average_rating": "NULL",
                                    "books_count": "NULL",
                                    "user_id": "22",
                                    "book_id": "1403"
                                },
                                {
                                    "title": "NULL",
                                    "average_rating": "NULL",
                                    "books_count": "NULL",
                                    "user_id": "22",
                                    "book_id": "1405"
                                },
                                {
                                    "title": "NULL",
                                    "average_rating": "NULL",
                                    "books_count": "NULL",
                                    "user_id": "22",
                                    "book_id": "1645"
                                },
                                {
                                    "title": "NULL",
                                    "average_rating": "NULL",
                                    "books_count": "NULL",
                                    "user_id": "22",
                                    "book_id": "2500"
                                },
                                {
                                    "title": "NULL",
                                    "average_rating": "NULL",
                                    "books_count": "NULL",
                                    "user_id": "22",
                                    "book_id": "2691"
                                },
                                {
                                    "title": "NULL",
                                    "average_rating": "NULL",
                                    "books_count": "NULL",
                                    "user_id": "22",
                                    "book_id": "4995"
                                },
                                {
                                    "title": "NULL",
                                    "average_rating": "NULL",
                                    "books_count": "NULL",
                                    "user_id": "23",
                                    "book_id": "273"
                                },
                                {
                                    "title": "NULL",
                                    "average_rating": "NULL",
                                    "books_count": "NULL",
                                    "user_id": "23",
                                    "book_id": "459"
                                },
                                {
                                    "title": "NULL",
                                    "average_rating": "NULL",
                                    "books_count": "NULL",
                                    "user_id": "23",
                                    "book_id": "791"
                                },
                                {
                                    "title": "NULL",
                                    "average_rating": "NULL",
                                    "books_count": "NULL",
                                    "user_id": "23",
                                    "book_id": "886"
                                },
                                {
                                    "title": "NULL",
                                    "average_rating": "NULL",
                                    "books_count": "NULL",
                                    "user_id": "23",
                                    "book_id": "925"
                                },
                                {
                                    "title": "NULL",
                                    "average_rating": "NULL",
                                    "books_count": "NULL",
                                    "user_id": "23",
                                    "book_id": "1198"
                                },
                                {
                                    "title": "NULL",
                                    "average_rating": "NULL",
                                    "books_count": "NULL",
                                    "user_id": "23",
                                    "book_id": "1597"
                                },
                                {
                                    "title": "NULL",
                                    "average_rating": "NULL",
                                    "books_count": "NULL",
                                    "user_id": "23",
                                    "book_id": "1688"
                                },
                                {
                                    "title": "NULL",
                                    "average_rating": "NULL",
                                    "books_count": "NULL",
                                    "user_id": "23",
                                    "book_id": "2251"
                                },
                                {
                                    "title": "NULL",
                                    "average_rating": "NULL",
                                    "books_count": "NULL",
                                    "user_id": "23",
                                    "book_id": "2350"
                                },
                                {
                                    "title": "NULL",
                                    "average_rating": "NULL",
                                    "books_count": "NULL",
                                    "user_id": "23",
                                    "book_id": "2613"
                                },
                                {
                                    "title": "NULL",
                                    "average_rating": "NULL",
                                    "books_count": "NULL",
                                    "user_id": "23",
                                    "book_id": "3312"
                                },
                                {
                                    "title": "NULL",
                                    "average_rating": "NULL",
                                    "books_count": "NULL",
                                    "user_id": "23",
                                    "book_id": "3343"
                                },
                                {
                                    "title": "NULL",
                                    "average_rating": "NULL",
                                    "books_count": "NULL",
                                    "user_id": "24",
                                    "book_id": "61"
                                },
                                {
                                    "title": "NULL",
                                    "average_rating": "NULL",
                                    "books_count": "NULL",
                                    "user_id": "24",
                                    "book_id": "143"
                                },
                                {
                                    "title": "NULL",
                                    "average_rating": "NULL",
                                    "books_count": "NULL",
                                    "user_id": "24",
                                    "book_id": "421"
                                },
                                {
                                    "title": "NULL",
                                    "average_rating": "NULL",
                                    "books_count": "NULL",
                                    "user_id": "24",
                                    "book_id": "467"
                                },
                                {
                                    "title": "NULL",
                                    "average_rating": "NULL",
                                    "books_count": "NULL",
                                    "user_id": "24",
                                    "book_id": "974"
                                },
                                {
                                    "title": "NULL",
                                    "average_rating": "NULL",
                                    "books_count": "NULL",
                                    "user_id": "26",
                                    "book_id": "508"
                                },
                                {
                                    "title": "NULL",
                                    "average_rating": "NULL",
                                    "books_count": "NULL",
                                    "user_id": "26",
                                    "book_id": "1796"
                                },
                                {
                                    "title": "NULL",
                                    "average_rating": "NULL",
                                    "books_count": "NULL",
                                    "user_id": "26",
                                    "book_id": "2257"
                                },
                                {
                                    "title": "NULL",
                                    "average_rating": "NULL",
                                    "books_count": "NULL",
                                    "user_id": "26",
                                    "book_id": "2314"
                                },
                                {
                                    "title": "NULL",
                                    "average_rating": "NULL",
                                    "books_count": "NULL",
                                    "user_id": "26",
                                    "book_id": "2357"
                                },
                                {
                                    "title": "NULL",
                                    "average_rating": "NULL",
                                    "books_count": "NULL",
                                    "user_id": "26",
                                    "book_id": "2738"
                                },
                                {
                                    "title": "NULL",
                                    "average_rating": "NULL",
                                    "books_count": "NULL",
                                    "user_id": "26",
                                    "book_id": "2810"
                                },
                                {
                                    "title": "NULL",
                                    "average_rating": "NULL",
                                    "books_count": "NULL",
                                    "user_id": "26",
                                    "book_id": "3207"
                                },
                                {
                                    "title": "The Thorn Birds",
                                    "average_rating": "4.22",
                                    "books_count": "201",
                                    "user_id": "26",
                                    "book_id": "3412"
                                },
                                {
                                    "title": "The Complete Sherlock Holmes, Vol 2",
                                    "average_rating": "4.46",
                                    "books_count": "117",
                                    "user_id": "26",
                                    "book_id": "3586"
                                },
                                {
                                    "title": "The Dark Tower (The Dark Tower, #7)",
                                    "average_rating": "4.27",
                                    "books_count": "105",
                                    "user_id": "26",
                                    "book_id": "5091"
                                },
                                {
                                    "title": "NULL",
                                    "average_rating": "NULL",
                                    "books_count": "NULL",
                                    "user_id": "26",
                                    "book_id": "5550"
                                },
                                {
                                    "title": "NULL",
                                    "average_rating": "NULL",
                                    "books_count": "NULL",
                                    "user_id": "26",
                                    "book_id": "6877"
                                },
                                {
                                    "title": "NULL",
                                    "average_rating": "NULL",
                                    "books_count": "NULL",
                                    "user_id": "26",
                                    "book_id": "7970"
                                },
                                {
                                    "title": "NULL",
                                    "average_rating": "NULL",
                                    "books_count": "NULL",
                                    "user_id": "28",
                                    "book_id": "265"
                                },
                                {
                                    "title": "NULL",
                                    "average_rating": "NULL",
                                    "books_count": "NULL",
                                    "user_id": "28",
                                    "book_id": "587"
                                },
                                {
                                    "title": "NULL",
                                    "average_rating": "NULL",
                                    "books_count": "NULL",
                                    "user_id": "28",
                                    "book_id": "3543"
                                },
                                {
                                    "title": "NULL",
                                    "average_rating": "NULL",
                                    "books_count": "NULL",
                                    "user_id": "28",
                                    "book_id": "5215"
                                },
                                {
                                    "title": "NULL",
                                    "average_rating": "NULL",
                                    "books_count": "NULL",
                                    "user_id": "28",
                                    "book_id": "7496"
                                },
                                {
                                    "title": "NULL",
                                    "average_rating": "NULL",
                                    "books_count": "NULL",
                                    "user_id": "28",
                                    "book_id": "8654"
                                },
                                {
                                    "title": "NULL",
                                    "average_rating": "NULL",
                                    "books_count": "NULL",
                                    "user_id": "29",
                                    "book_id": "31"
                                },
                                {
                                    "title": "NULL",
                                    "average_rating": "NULL",
                                    "books_count": "NULL",
                                    "user_id": "29",
                                    "book_id": "32"
                                },
                                {
                                    "title": "The Lord of the Rings: Weapons and Warfare",
                                    "average_rating": "4.53",
                                    "books_count": "12",
                                    "user_id": "29",
                                    "book_id": "36"
                                },
                                {
                                    "title": "NULL",
                                    "average_rating": "NULL",
                                    "books_count": "NULL",
                                    "user_id": "29",
                                    "book_id": "45"
                                },
                                {
                                    "title": "NULL",
                                    "average_rating": "NULL",
                                    "books_count": "NULL",
                                    "user_id": "29",
                                    "book_id": "65"
                                },
                                {
                                    "title": "NULL",
                                    "average_rating": "NULL",
                                    "books_count": "NULL",
                                    "user_id": "29",
                                    "book_id": "87"
                                },
                                {
                                    "title": "NULL",
                                    "average_rating": "NULL",
                                    "books_count": "NULL",
                                    "user_id": "29",
                                    "book_id": "115"
                                },
                                {
                                    "title": "NULL",
                                    "average_rating": "NULL",
                                    "books_count": "NULL",
                                    "user_id": "29",
                                    "book_id": "121"
                                },
                                {
                                    "title": "NULL",
                                    "average_rating": "NULL",
                                    "books_count": "NULL",
                                    "user_id": "29",
                                    "book_id": "131"
                                },
                                {
                                    "title": "NULL",
                                    "average_rating": "NULL",
                                    "books_count": "NULL",
                                    "user_id": "29",
                                    "book_id": "178"
                                },
                                {
                                    "title": "NULL",
                                    "average_rating": "NULL",
                                    "books_count": "NULL",
                                    "user_id": "29",
                                    "book_id": "256"
                                },
                                {
                                    "title": "NULL",
                                    "average_rating": "NULL",
                                    "books_count": "NULL",
                                    "user_id": "29",
                                    "book_id": "323"
                                },
                                {
                                    "title": "Slouching Towards Bethlehem",
                                    "average_rating": "4.24",
                                    "books_count": "34",
                                    "user_id": "29",
                                    "book_id": "424"
                                },
                                {
                                    "title": "NULL",
                                    "average_rating": "NULL",
                                    "books_count": "NULL",
                                    "user_id": "29",
                                    "book_id": "467"
                                },
                                {
                                    "title": "NULL",
                                    "average_rating": "NULL",
                                    "books_count": "NULL",
                                    "user_id": "29",
                                    "book_id": "550"
                                },
                                {
                                    "title": "NULL",
                                    "average_rating": "NULL",
                                    "books_count": "NULL",
                                    "user_id": "29",
                                    "book_id": "618"
                                },
                                {
                                    "title": "Atlas Shrugged",
                                    "average_rating": "3.68",
                                    "books_count": "147",
                                    "user_id": "29",
                                    "book_id": "662"
                                },
                                {
                                    "title": "NULL",
                                    "average_rating": "NULL",
                                    "books_count": "NULL",
                                    "user_id": "29",
                                    "book_id": "709"
                                },
                                {
                                    "title": "NULL",
                                    "average_rating": "NULL",
                                    "books_count": "NULL",
                                    "user_id": "29",
                                    "book_id": "730"
                                },
                                {
                                    "title": "NULL",
                                    "average_rating": "NULL",
                                    "books_count": "NULL",
                                    "user_id": "29",
                                    "book_id": "771"
                                },
                                {
                                    "title": "NULL",
                                    "average_rating": "NULL",
                                    "books_count": "NULL",
                                    "user_id": "29",
                                    "book_id": "809"
                                },
                                {
                                    "title": "NULL",
                                    "average_rating": "NULL",
                                    "books_count": "NULL",
                                    "user_id": "29",
                                    "book_id": "934"
                                },
                                {
                                    "title": "NULL",
                                    "average_rating": "NULL",
                                    "books_count": "NULL",
                                    "user_id": "29",
                                    "book_id": "1084"
                                },
                                {
                                    "title": "NULL",
                                    "average_rating": "NULL",
                                    "books_count": "NULL",
                                    "user_id": "29",
                                    "book_id": "1364"
                                },
                                {
                                    "title": "NULL",
                                    "average_rating": "NULL",
                                    "books_count": "NULL",
                                    "user_id": "29",
                                    "book_id": "1642"
                                },
                                {
                                    "title": "NULL",
                                    "average_rating": "NULL",
                                    "books_count": "NULL",
                                    "user_id": "29",
                                    "book_id": "1695"
                                },
                                {
                                    "title": "NULL",
                                    "average_rating": "NULL",
                                    "books_count": "NULL",
                                    "user_id": "29",
                                    "book_id": "2259"
                                },
                                {
                                    "title": "NULL",
                                    "average_rating": "NULL",
                                    "books_count": "NULL",
                                    "user_id": "29",
                                    "book_id": "2284"
                                },
                                {
                                    "title": "NULL",
                                    "average_rating": "NULL",
                                    "books_count": "NULL",
                                    "user_id": "29",
                                    "book_id": "2304"
                                },
                                {
                                    "title": "NULL",
                                    "average_rating": "NULL",
                                    "books_count": "NULL",
                                    "user_id": "29",
                                    "book_id": "2967"
                                },
                                {
                                    "title": "NULL",
                                    "average_rating": "NULL",
                                    "books_count": "NULL",
                                    "user_id": "29",
                                    "book_id": "3508"
                                },
                                {
                                    "title": "NULL",
                                    "average_rating": "NULL",
                                    "books_count": "NULL",
                                    "user_id": "29",
                                    "book_id": "4359"
                                },
                                {
                                    "title": "NULL",
                                    "average_rating": "NULL",
                                    "books_count": "NULL",
                                    "user_id": "29",
                                    "book_id": "4394"
                                },
                                {
                                    "title": "NULL",
                                    "average_rating": "NULL",
                                    "books_count": "NULL",
                                    "user_id": "29",
                                    "book_id": "4475"
                                },
                                {
                                    "title": "NULL",
                                    "average_rating": "NULL",
                                    "books_count": "NULL",
                                    "user_id": "29",
                                    "book_id": "4629"
                                },
                                {
                                    "title": "NULL",
                                    "average_rating": "NULL",
                                    "books_count": "NULL",
                                    "user_id": "29",
                                    "book_id": "5090"
                                },
                                {
                                    "title": "NULL",
                                    "average_rating": "NULL",
                                    "books_count": "NULL",
                                    "user_id": "29",
                                    "book_id": "5596"
                                },
                                {
                                    "title": "NULL",
                                    "average_rating": "NULL",
                                    "books_count": "NULL",
                                    "user_id": "29",
                                    "book_id": "5851"
                                },
                                {
                                    "title": "NULL",
                                    "average_rating": "NULL",
                                    "books_count": "NULL",
                                    "user_id": "29",
                                    "book_id": "6104"
                                },
                                {
                                    "title": "NULL",
                                    "average_rating": "NULL",
                                    "books_count": "NULL",
                                    "user_id": "30",
                                    "book_id": "47"
                                },
                                {
                                    "title": "The Known World",
                                    "average_rating": "3.82",
                                    "books_count": "42",
                                    "user_id": "30",
                                    "book_id": "67"
                                },
                                {
                                    "title": "NULL",
                                    "average_rating": "NULL",
                                    "books_count": "NULL",
                                    "user_id": "30",
                                    "book_id": "82"
                                },
                                {
                                    "title": "NULL",
                                    "average_rating": "NULL",
                                    "books_count": "NULL",
                                    "user_id": "30",
                                    "book_id": "121"
                                },
                                {
                                    "title": "NULL",
                                    "average_rating": "NULL",
                                    "books_count": "NULL",
                                    "user_id": "30",
                                    "book_id": "177"
                                },
                                {
                                    "title": "Tropic of Cancer",
                                    "average_rating": "3.71",
                                    "books_count": "205",
                                    "user_id": "30",
                                    "book_id": "249"
                                },
                                {
                                    "title": "NULL",
                                    "average_rating": "NULL",
                                    "books_count": "NULL",
                                    "user_id": "30",
                                    "book_id": "297"
                                },
                                {
                                    "title": "NULL",
                                    "average_rating": "NULL",
                                    "books_count": "NULL",
                                    "user_id": "30",
                                    "book_id": "407"
                                },
                                {
                                    "title": "NULL",
                                    "average_rating": "NULL",
                                    "books_count": "NULL",
                                    "user_id": "30",
                                    "book_id": "426"
                                },
                                {
                                    "title": "NULL",
                                    "average_rating": "NULL",
                                    "books_count": "NULL",
                                    "user_id": "30",
                                    "book_id": "430"
                                },
                                {
                                    "title": "NULL",
                                    "average_rating": "NULL",
                                    "books_count": "NULL",
                                    "user_id": "30",
                                    "book_id": "442"
                                },
                                {
                                    "title": "NULL",
                                    "average_rating": "NULL",
                                    "books_count": "NULL",
                                    "user_id": "30",
                                    "book_id": "516"
                                },
                                {
                                    "title": "NULL",
                                    "average_rating": "NULL",
                                    "books_count": "NULL",
                                    "user_id": "30",
                                    "book_id": "658"
                                },
                                {
                                    "title": "NULL",
                                    "average_rating": "NULL",
                                    "books_count": "NULL",
                                    "user_id": "30",
                                    "book_id": "895"
                                },
                                {
                                    "title": "NULL",
                                    "average_rating": "NULL",
                                    "books_count": "NULL",
                                    "user_id": "30",
                                    "book_id": "1039"
                                },
                                {
                                    "title": "NULL",
                                    "average_rating": "NULL",
                                    "books_count": "NULL",
                                    "user_id": "30",
                                    "book_id": "1094"
                                },
                                {
                                    "title": "The Odyssey",
                                    "average_rating": "3.73",
                                    "books_count": "1703",
                                    "user_id": "30",
                                    "book_id": "1381"
                                },
                                {
                                    "title": "NULL",
                                    "average_rating": "NULL",
                                    "books_count": "NULL",
                                    "user_id": "30",
                                    "book_id": "2117"
                                },
                                {
                                    "title": "NULL",
                                    "average_rating": "NULL",
                                    "books_count": "NULL",
                                    "user_id": "30",
                                    "book_id": "2426"
                                },
                                {
                                    "title": "NULL",
                                    "average_rating": "NULL",
                                    "books_count": "NULL",
                                    "user_id": "30",
                                    "book_id": "3444"
                                },
                                {
                                    "title": "The Pilgrimage",
                                    "average_rating": "3.64",
                                    "books_count": "171",
                                    "user_id": "30",
                                    "book_id": "4004"
                                },
                                {
                                    "title": "NULL",
                                    "average_rating": "NULL",
                                    "books_count": "NULL",
                                    "user_id": "30",
                                    "book_id": "4202"
                                },
                                {
                                    "title": "NULL",
                                    "average_rating": "NULL",
                                    "books_count": "NULL",
                                    "user_id": "30",
                                    "book_id": "4509"
                                },
                                {
                                    "title": "NULL",
                                    "average_rating": "NULL",
                                    "books_count": "NULL",
                                    "user_id": "30",
                                    "book_id": "5880"
                                },
                                {
                                    "title": "The Hobbit",
                                    "average_rating": "4.25",
                                    "books_count": "969",
                                    "user_id": "30",
                                    "book_id": "5907"
                                },
                                {
                                    "title": "NULL",
                                    "average_rating": "NULL",
                                    "books_count": "NULL",
                                    "user_id": "30",
                                    "book_id": "6828"
                                },
                                {
                                    "title": "NULL",
                                    "average_rating": "NULL",
                                    "books_count": "NULL",
                                    "user_id": "30",
                                    "book_id": "7563"
                                },
                                {
                                    "title": "NULL",
                                    "average_rating": "NULL",
                                    "books_count": "NULL",
                                    "user_id": "30",
                                    "book_id": "8737"
                                },
                                {
                                    "title": "NULL",
                                    "average_rating": "NULL",
                                    "books_count": "NULL",
                                    "user_id": "31",
                                    "book_id": "94"
                                },
                                {
                                    "title": "NULL",
                                    "average_rating": "NULL",
                                    "books_count": "NULL",
                                    "user_id": "31",
                                    "book_id": "584"
                                }
                            ]
                        },
                        "text/html": [
                            "<table>",
                            "<tr><th>title</th><th>average_rating</th><th>books_count</th><th>user_id</th><th>book_id</th></tr>",
                            "<tr><td>Children of Dune (Dune Chronicles #3)</td><td>3.9</td><td>116</td><td>1</td><td>112</td></tr>",
                            "<tr><td>NULL</td><td>NULL</td><td>NULL</td><td>1</td><td>235</td></tr>",
                            "<tr><td>NULL</td><td>NULL</td><td>NULL</td><td>1</td><td>533</td></tr>",
                            "<tr><td>NULL</td><td>NULL</td><td>NULL</td><td>1</td><td>1198</td></tr>",
                            "<tr><td>NULL</td><td>NULL</td><td>NULL</td><td>1</td><td>1874</td></tr>",
                            "<tr><td>NULL</td><td>NULL</td><td>NULL</td><td>1</td><td>2058</td></tr>",
                            "<tr><td>NULL</td><td>NULL</td><td>NULL</td><td>1</td><td>3334</td></tr>",
                            "<tr><td>NULL</td><td>NULL</td><td>NULL</td><td>2</td><td>4</td></tr>",
                            "<tr><td>NULL</td><td>NULL</td><td>NULL</td><td>2</td><td>11</td></tr>",
                            "<tr><td>The Ultimate Hitchhiker's Guide to the Galaxy</td><td>4.37</td><td>32</td><td>2</td><td>13</td></tr>",
                            "<tr><td>NULL</td><td>NULL</td><td>NULL</td><td>2</td><td>16</td></tr>",
                            "<tr><td>NULL</td><td>NULL</td><td>NULL</td><td>2</td><td>92</td></tr>",
                            "<tr><td>Dune Messiah (Dune Chronicles #2)</td><td>3.86</td><td>140</td><td>2</td><td>106</td></tr>",
                            "<tr><td>NULL</td><td>NULL</td><td>NULL</td><td>2</td><td>113</td></tr>",
                            "<tr><td>NULL</td><td>NULL</td><td>NULL</td><td>2</td><td>233</td></tr>",
                            "<tr><td>NULL</td><td>NULL</td><td>NULL</td><td>2</td><td>247</td></tr>",
                            "<tr><td>NULL</td><td>NULL</td><td>NULL</td><td>2</td><td>380</td></tr>",
                            "<tr><td>NULL</td><td>NULL</td><td>NULL</td><td>2</td><td>408</td></tr>",
                            "<tr><td>NULL</td><td>NULL</td><td>NULL</td><td>2</td><td>439</td></tr>",
                            "<tr><td>NULL</td><td>NULL</td><td>NULL</td><td>2</td><td>479</td></tr>",
                            "<tr><td>NULL</td><td>NULL</td><td>NULL</td><td>2</td><td>516</td></tr>",
                            "<tr><td>NULL</td><td>NULL</td><td>NULL</td><td>2</td><td>619</td></tr>",
                            "<tr><td>NULL</td><td>NULL</td><td>NULL</td><td>2</td><td>1069</td></tr>",
                            "<tr><td>The Iliad</td><td>3.83</td><td>1726</td><td>2</td><td>1371</td></tr>",
                            "<tr><td>NULL</td><td>NULL</td><td>NULL</td><td>2</td><td>1384</td></tr>",
                            "<tr><td>NULL</td><td>NULL</td><td>NULL</td><td>2</td><td>1597</td></tr>",
                            "<tr><td>NULL</td><td>NULL</td><td>NULL</td><td>2</td><td>1926</td></tr>",
                            "<tr><td>NULL</td><td>NULL</td><td>NULL</td><td>2</td><td>1967</td></tr>",
                            "<tr><td>NULL</td><td>NULL</td><td>NULL</td><td>2</td><td>1969</td></tr>",
                            "<tr><td>NULL</td><td>NULL</td><td>NULL</td><td>2</td><td>2220</td></tr>",
                            "<tr><td>NULL</td><td>NULL</td><td>NULL</td><td>2</td><td>2388</td></tr>",
                            "<tr><td>NULL</td><td>NULL</td><td>NULL</td><td>2</td><td>3222</td></tr>",
                            "<tr><td>NULL</td><td>NULL</td><td>NULL</td><td>2</td><td>3227</td></tr>",
                            "<tr><td>NULL</td><td>NULL</td><td>NULL</td><td>2</td><td>3733</td></tr>",
                            "<tr><td>NULL</td><td>NULL</td><td>NULL</td><td>2</td><td>5418</td></tr>",
                            "<tr><td>NULL</td><td>NULL</td><td>NULL</td><td>2</td><td>6937</td></tr>",
                            "<tr><td>NULL</td><td>NULL</td><td>NULL</td><td>2</td><td>7146</td></tr>",
                            "<tr><td>NULL</td><td>NULL</td><td>NULL</td><td>2</td><td>7873</td></tr>",
                            "<tr><td>NULL</td><td>NULL</td><td>NULL</td><td>2</td><td>8417</td></tr>",
                            "<tr><td>Harry Potter Collection (Harry Potter, #1-6)</td><td>4.73</td><td>6</td><td>3</td><td>10</td></tr>",
                            "<tr><td>NULL</td><td>NULL</td><td>NULL</td><td>3</td><td>66</td></tr>",
                            "<tr><td>NULL</td><td>NULL</td><td>NULL</td><td>3</td><td>233</td></tr>",
                            "<tr><td>NULL</td><td>NULL</td><td>NULL</td><td>3</td><td>726</td></tr>",
                            "<tr><td>NULL</td><td>NULL</td><td>NULL</td><td>3</td><td>932</td></tr>",
                            "<tr><td>NULL</td><td>NULL</td><td>NULL</td><td>3</td><td>1146</td></tr>",
                            "<tr><td>NULL</td><td>NULL</td><td>NULL</td><td>3</td><td>2439</td></tr>",
                            "<tr><td>NULL</td><td>NULL</td><td>NULL</td><td>3</td><td>3566</td></tr>",
                            "<tr><td>NULL</td><td>NULL</td><td>NULL</td><td>3</td><td>4582</td></tr>",
                            "<tr><td>NULL</td><td>NULL</td><td>NULL</td><td>3</td><td>5448</td></tr>",
                            "<tr><td>NULL</td><td>NULL</td><td>NULL</td><td>3</td><td>5765</td></tr>",
                            "<tr><td>NULL</td><td>NULL</td><td>NULL</td><td>3</td><td>6274</td></tr>",
                            "<tr><td>NULL</td><td>NULL</td><td>NULL</td><td>3</td><td>8403</td></tr>",
                            "<tr><td>NULL</td><td>NULL</td><td>NULL</td><td>5</td><td>31</td></tr>",
                            "<tr><td>The Virtue of Selfishness: A New Concept of Egoism</td><td>3.47</td><td>53</td><td>5</td><td>665</td></tr>",
                            "<tr><td>NULL</td><td>NULL</td><td>NULL</td><td>5</td><td>3074</td></tr>",
                            "<tr><td>Sherlock Holmes: The Complete Novels and Stories, Volume I</td><td>4.45</td><td>13</td><td>5</td><td>3581</td></tr>",
                            "<tr><td>NULL</td><td>NULL</td><td>NULL</td><td>6</td><td>64</td></tr>",
                            "<tr><td>NULL</td><td>NULL</td><td>NULL</td><td>6</td><td>459</td></tr>",
                            "<tr><td>NULL</td><td>NULL</td><td>NULL</td><td>6</td><td>619</td></tr>",
                            "<tr><td>NULL</td><td>NULL</td><td>NULL</td><td>6</td><td>649</td></tr>",
                            "<tr><td>NULL</td><td>NULL</td><td>NULL</td><td>6</td><td>687</td></tr>",
                            "<tr><td>NULL</td><td>NULL</td><td>NULL</td><td>6</td><td>874</td></tr>",
                            "<tr><td>The War of Art: Break Through the Blocks &amp; Win Your Inner Creative Battles</td><td>4.07</td><td>29</td><td>6</td><td>1319</td></tr>",
                            "<tr><td>NULL</td><td>NULL</td><td>NULL</td><td>6</td><td>1912</td></tr>",
                            "<tr><td>NULL</td><td>NULL</td><td>NULL</td><td>6</td><td>5269</td></tr>",
                            "<tr><td>NULL</td><td>NULL</td><td>NULL</td><td>6</td><td>5537</td></tr>",
                            "<tr><td>NULL</td><td>NULL</td><td>NULL</td><td>6</td><td>5820</td></tr>",
                            "<tr><td>NULL</td><td>NULL</td><td>NULL</td><td>6</td><td>6220</td></tr>",
                            "<tr><td>NULL</td><td>NULL</td><td>NULL</td><td>6</td><td>7480</td></tr>",
                            "<tr><td>Harry Potter Collection (Harry Potter, #1-6)</td><td>4.73</td><td>6</td><td>7</td><td>10</td></tr>",
                            "<tr><td>NULL</td><td>NULL</td><td>NULL</td><td>7</td><td>215</td></tr>",
                            "<tr><td>NULL</td><td>NULL</td><td>NULL</td><td>7</td><td>225</td></tr>",
                            "<tr><td>NULL</td><td>NULL</td><td>NULL</td><td>7</td><td>233</td></tr>",
                            "<tr><td>NULL</td><td>NULL</td><td>NULL</td><td>7</td><td>1322</td></tr>",
                            "<tr><td>NULL</td><td>NULL</td><td>NULL</td><td>7</td><td>3552</td></tr>",
                            "<tr><td>NULL</td><td>NULL</td><td>NULL</td><td>7</td><td>3720</td></tr>",
                            "<tr><td>NULL</td><td>NULL</td><td>NULL</td><td>7</td><td>4468</td></tr>",
                            "<tr><td>NULL</td><td>NULL</td><td>NULL</td><td>8</td><td>19</td></tr>",
                            "<tr><td>NULL</td><td>NULL</td><td>NULL</td><td>8</td><td>498</td></tr>",
                            "<tr><td>NULL</td><td>NULL</td><td>NULL</td><td>8</td><td>1357</td></tr>",
                            "<tr><td>NULL</td><td>NULL</td><td>NULL</td><td>8</td><td>2177</td></tr>",
                            "<tr><td>NULL</td><td>NULL</td><td>NULL</td><td>8</td><td>3930</td></tr>",
                            "<tr><td>The Pilgrimage</td><td>3.64</td><td>171</td><td>8</td><td>4004</td></tr>",
                            "<tr><td>NULL</td><td>NULL</td><td>NULL</td><td>8</td><td>8792</td></tr>",
                            "<tr><td>NULL</td><td>NULL</td><td>NULL</td><td>8</td><td>9304</td></tr>",
                            "<tr><td>Harry Potter Boxed Set, Books 1-5 (Harry Potter, #1-5)</td><td>4.77</td><td>11</td><td>9</td><td>8</td></tr>",
                            "<tr><td>Children of Dune (Dune Chronicles #3)</td><td>3.9</td><td>116</td><td>9</td><td>112</td></tr>",
                            "<tr><td>NULL</td><td>NULL</td><td>NULL</td><td>9</td><td>139</td></tr>",
                            "<tr><td>NULL</td><td>NULL</td><td>NULL</td><td>9</td><td>230</td></tr>",
                            "<tr><td>NULL</td><td>NULL</td><td>NULL</td><td>9</td><td>233</td></tr>",
                            "<tr><td>NULL</td><td>NULL</td><td>NULL</td><td>9</td><td>473</td></tr>",
                            "<tr><td>NULL</td><td>NULL</td><td>NULL</td><td>9</td><td>638</td></tr>",
                            "<tr><td>NULL</td><td>NULL</td><td>NULL</td><td>9</td><td>653</td></tr>",
                            "<tr><td>NULL</td><td>NULL</td><td>NULL</td><td>9</td><td>672</td></tr>",
                            "<tr><td>NULL</td><td>NULL</td><td>NULL</td><td>9</td><td>701</td></tr>",
                            "<tr><td>NULL</td><td>NULL</td><td>NULL</td><td>9</td><td>736</td></tr>",
                            "<tr><td>NULL</td><td>NULL</td><td>NULL</td><td>9</td><td>883</td></tr>",
                            "<tr><td>NULL</td><td>NULL</td><td>NULL</td><td>9</td><td>895</td></tr>",
                            "<tr><td>NULL</td><td>NULL</td><td>NULL</td><td>9</td><td>1467</td></tr>",
                            "<tr><td>NULL</td><td>NULL</td><td>NULL</td><td>9</td><td>1582</td></tr>",
                            "<tr><td>NULL</td><td>NULL</td><td>NULL</td><td>9</td><td>1873</td></tr>",
                            "<tr><td>NULL</td><td>NULL</td><td>NULL</td><td>9</td><td>2516</td></tr>",
                            "<tr><td>NULL</td><td>NULL</td><td>NULL</td><td>9</td><td>2630</td></tr>",
                            "<tr><td>NULL</td><td>NULL</td><td>NULL</td><td>9</td><td>3210</td></tr>",
                            "<tr><td>Icy Sparks</td><td>3.68</td><td>27</td><td>9</td><td>3476</td></tr>",
                            "<tr><td>NULL</td><td>NULL</td><td>NULL</td><td>9</td><td>3560</td></tr>",
                            "<tr><td>NULL</td><td>NULL</td><td>NULL</td><td>9</td><td>3650</td></tr>",
                            "<tr><td>NULL</td><td>NULL</td><td>NULL</td><td>9</td><td>5286</td></tr>",
                            "<tr><td>NULL</td><td>NULL</td><td>NULL</td><td>9</td><td>6636</td></tr>",
                            "<tr><td>Harry Potter and the Goblet of Fire (Harry Potter, #4)</td><td>4.53</td><td>332</td><td>10</td><td>6</td></tr>",
                            "<tr><td>NULL</td><td>NULL</td><td>NULL</td><td>10</td><td>385</td></tr>",
                            "<tr><td>Atlas Shrugged</td><td>3.68</td><td>147</td><td>10</td><td>662</td></tr>",
                            "<tr><td>NULL</td><td>NULL</td><td>NULL</td><td>10</td><td>896</td></tr>",
                            "<tr><td>NULL</td><td>NULL</td><td>NULL</td><td>10</td><td>1076</td></tr>",
                            "<tr><td>NULL</td><td>NULL</td><td>NULL</td><td>10</td><td>1082</td></tr>",
                            "<tr><td>NULL</td><td>NULL</td><td>NULL</td><td>10</td><td>1220</td></tr>",
                            "<tr><td>NULL</td><td>NULL</td><td>NULL</td><td>10</td><td>1281</td></tr>",
                            "<tr><td>NULL</td><td>NULL</td><td>NULL</td><td>10</td><td>1439</td></tr>",
                            "<tr><td>NULL</td><td>NULL</td><td>NULL</td><td>10</td><td>1851</td></tr>",
                            "<tr><td>NULL</td><td>NULL</td><td>NULL</td><td>10</td><td>1920</td></tr>",
                            "<tr><td>NULL</td><td>NULL</td><td>NULL</td><td>10</td><td>2441</td></tr>",
                            "<tr><td>NULL</td><td>NULL</td><td>NULL</td><td>10</td><td>2570</td></tr>",
                            "<tr><td>NULL</td><td>NULL</td><td>NULL</td><td>10</td><td>2616</td></tr>",
                            "<tr><td>NULL</td><td>NULL</td><td>NULL</td><td>10</td><td>3059</td></tr>",
                            "<tr><td>NULL</td><td>NULL</td><td>NULL</td><td>10</td><td>3545</td></tr>",
                            "<tr><td>NULL</td><td>NULL</td><td>NULL</td><td>10</td><td>3961</td></tr>",
                            "<tr><td>NULL</td><td>NULL</td><td>NULL</td><td>10</td><td>4369</td></tr>",
                            "<tr><td>NULL</td><td>NULL</td><td>NULL</td><td>10</td><td>4510</td></tr>",
                            "<tr><td>NULL</td><td>NULL</td><td>NULL</td><td>10</td><td>5104</td></tr>",
                            "<tr><td>NULL</td><td>NULL</td><td>NULL</td><td>10</td><td>5254</td></tr>",
                            "<tr><td>NULL</td><td>NULL</td><td>NULL</td><td>10</td><td>5556</td></tr>",
                            "<tr><td>NULL</td><td>NULL</td><td>NULL</td><td>10</td><td>6114</td></tr>",
                            "<tr><td>NULL</td><td>NULL</td><td>NULL</td><td>10</td><td>6917</td></tr>",
                            "<tr><td>NULL</td><td>NULL</td><td>NULL</td><td>10</td><td>7545</td></tr>",
                            "<tr><td>NULL</td><td>NULL</td><td>NULL</td><td>10</td><td>7842</td></tr>",
                            "<tr><td>NULL</td><td>NULL</td><td>NULL</td><td>11</td><td>3643</td></tr>",
                            "<tr><td>Harry Potter and the Half-Blood Prince (Harry Potter, #6)</td><td>4.54</td><td>275</td><td>12</td><td>1</td></tr>",
                            "<tr><td>NULL</td><td>NULL</td><td>NULL</td><td>12</td><td>124</td></tr>",
                            "<tr><td>NULL</td><td>NULL</td><td>NULL</td><td>12</td><td>1471</td></tr>",
                            "<tr><td>NULL</td><td>NULL</td><td>NULL</td><td>12</td><td>2893</td></tr>",
                            "<tr><td>NULL</td><td>NULL</td><td>NULL</td><td>13</td><td>81</td></tr>",
                            "<tr><td>NULL</td><td>NULL</td><td>NULL</td><td>13</td><td>277</td></tr>",
                            "<tr><td>NULL</td><td>NULL</td><td>NULL</td><td>13</td><td>318</td></tr>",
                            "<tr><td>NULL</td><td>NULL</td><td>NULL</td><td>13</td><td>430</td></tr>",
                            "<tr><td>NULL</td><td>NULL</td><td>NULL</td><td>13</td><td>437</td></tr>",
                            "<tr><td>NULL</td><td>NULL</td><td>NULL</td><td>13</td><td>551</td></tr>",
                            "<tr><td>NULL</td><td>NULL</td><td>NULL</td><td>13</td><td>560</td></tr>",
                            "<tr><td>NULL</td><td>NULL</td><td>NULL</td><td>13</td><td>610</td></tr>",
                            "<tr><td>NULL</td><td>NULL</td><td>NULL</td><td>13</td><td>678</td></tr>",
                            "<tr><td>NULL</td><td>NULL</td><td>NULL</td><td>13</td><td>979</td></tr>",
                            "<tr><td>NULL</td><td>NULL</td><td>NULL</td><td>13</td><td>1082</td></tr>",
                            "<tr><td>NULL</td><td>NULL</td><td>NULL</td><td>13</td><td>1464</td></tr>",
                            "<tr><td>NULL</td><td>NULL</td><td>NULL</td><td>13</td><td>1577</td></tr>",
                            "<tr><td>NULL</td><td>NULL</td><td>NULL</td><td>13</td><td>2018</td></tr>",
                            "<tr><td>NULL</td><td>NULL</td><td>NULL</td><td>13</td><td>2418</td></tr>",
                            "<tr><td>NULL</td><td>NULL</td><td>NULL</td><td>13</td><td>3257</td></tr>",
                            "<tr><td>NULL</td><td>NULL</td><td>NULL</td><td>13</td><td>4212</td></tr>",
                            "<tr><td>NULL</td><td>NULL</td><td>NULL</td><td>13</td><td>4635</td></tr>",
                            "<tr><td>NULL</td><td>NULL</td><td>NULL</td><td>13</td><td>4704</td></tr>",
                            "<tr><td>NULL</td><td>NULL</td><td>NULL</td><td>13</td><td>4734</td></tr>",
                            "<tr><td>NULL</td><td>NULL</td><td>NULL</td><td>13</td><td>4841</td></tr>",
                            "<tr><td>NULL</td><td>NULL</td><td>NULL</td><td>13</td><td>4848</td></tr>",
                            "<tr><td>NULL</td><td>NULL</td><td>NULL</td><td>13</td><td>4856</td></tr>",
                            "<tr><td>NULL</td><td>NULL</td><td>NULL</td><td>13</td><td>4928</td></tr>",
                            "<tr><td>NULL</td><td>NULL</td><td>NULL</td><td>13</td><td>6114</td></tr>",
                            "<tr><td>NULL</td><td>NULL</td><td>NULL</td><td>13</td><td>6793</td></tr>",
                            "<tr><td>NULL</td><td>NULL</td><td>NULL</td><td>13</td><td>6962</td></tr>",
                            "<tr><td>NULL</td><td>NULL</td><td>NULL</td><td>13</td><td>8717</td></tr>",
                            "<tr><td>NULL</td><td>NULL</td><td>NULL</td><td>14</td><td>493</td></tr>",
                            "<tr><td>NULL</td><td>NULL</td><td>NULL</td><td>14</td><td>1179</td></tr>",
                            "<tr><td>NULL</td><td>NULL</td><td>NULL</td><td>14</td><td>2693</td></tr>",
                            "<tr><td>Sherlock Holmes: The Complete Novels and Stories, Volume I</td><td>4.45</td><td>13</td><td>14</td><td>3581</td></tr>",
                            "<tr><td>NULL</td><td>NULL</td><td>NULL</td><td>14</td><td>3683</td></tr>",
                            "<tr><td>NULL</td><td>NULL</td><td>NULL</td><td>14</td><td>3953</td></tr>",
                            "<tr><td>NULL</td><td>NULL</td><td>NULL</td><td>14</td><td>4220</td></tr>",
                            "<tr><td>NULL</td><td>NULL</td><td>NULL</td><td>14</td><td>5076</td></tr>",
                            "<tr><td>NULL</td><td>NULL</td><td>NULL</td><td>14</td><td>5537</td></tr>",
                            "<tr><td>NULL</td><td>NULL</td><td>NULL</td><td>14</td><td>7777</td></tr>",
                            "<tr><td>NULL</td><td>NULL</td><td>NULL</td><td>15</td><td>191</td></tr>",
                            "<tr><td>The Lover</td><td>3.76</td><td>148</td><td>15</td><td>275</td></tr>",
                            "<tr><td>NULL</td><td>NULL</td><td>NULL</td><td>15</td><td>398</td></tr>",
                            "<tr><td>NULL</td><td>NULL</td><td>NULL</td><td>15</td><td>666</td></tr>",
                            "<tr><td>NULL</td><td>NULL</td><td>NULL</td><td>15</td><td>1491</td></tr>",
                            "<tr><td>NULL</td><td>NULL</td><td>NULL</td><td>15</td><td>5210</td></tr>",
                            "<tr><td>NULL</td><td>NULL</td><td>NULL</td><td>17</td><td>1344</td></tr>",
                            "<tr><td>The Good Soldier</td><td>3.72</td><td>362</td><td>20</td><td>7628</td></tr>",
                            "<tr><td>NULL</td><td>NULL</td><td>NULL</td><td>22</td><td>653</td></tr>",
                            "<tr><td>NULL</td><td>NULL</td><td>NULL</td><td>22</td><td>1403</td></tr>",
                            "<tr><td>NULL</td><td>NULL</td><td>NULL</td><td>22</td><td>1405</td></tr>",
                            "<tr><td>NULL</td><td>NULL</td><td>NULL</td><td>22</td><td>1645</td></tr>",
                            "<tr><td>NULL</td><td>NULL</td><td>NULL</td><td>22</td><td>2500</td></tr>",
                            "<tr><td>NULL</td><td>NULL</td><td>NULL</td><td>22</td><td>2691</td></tr>",
                            "<tr><td>NULL</td><td>NULL</td><td>NULL</td><td>22</td><td>4995</td></tr>",
                            "<tr><td>NULL</td><td>NULL</td><td>NULL</td><td>23</td><td>273</td></tr>",
                            "<tr><td>NULL</td><td>NULL</td><td>NULL</td><td>23</td><td>459</td></tr>",
                            "<tr><td>NULL</td><td>NULL</td><td>NULL</td><td>23</td><td>791</td></tr>",
                            "<tr><td>NULL</td><td>NULL</td><td>NULL</td><td>23</td><td>886</td></tr>",
                            "<tr><td>NULL</td><td>NULL</td><td>NULL</td><td>23</td><td>925</td></tr>",
                            "<tr><td>NULL</td><td>NULL</td><td>NULL</td><td>23</td><td>1198</td></tr>",
                            "<tr><td>NULL</td><td>NULL</td><td>NULL</td><td>23</td><td>1597</td></tr>",
                            "<tr><td>NULL</td><td>NULL</td><td>NULL</td><td>23</td><td>1688</td></tr>",
                            "<tr><td>NULL</td><td>NULL</td><td>NULL</td><td>23</td><td>2251</td></tr>",
                            "<tr><td>NULL</td><td>NULL</td><td>NULL</td><td>23</td><td>2350</td></tr>",
                            "<tr><td>NULL</td><td>NULL</td><td>NULL</td><td>23</td><td>2613</td></tr>",
                            "<tr><td>NULL</td><td>NULL</td><td>NULL</td><td>23</td><td>3312</td></tr>",
                            "<tr><td>NULL</td><td>NULL</td><td>NULL</td><td>23</td><td>3343</td></tr>",
                            "<tr><td>NULL</td><td>NULL</td><td>NULL</td><td>24</td><td>61</td></tr>",
                            "<tr><td>NULL</td><td>NULL</td><td>NULL</td><td>24</td><td>143</td></tr>",
                            "<tr><td>NULL</td><td>NULL</td><td>NULL</td><td>24</td><td>421</td></tr>",
                            "<tr><td>NULL</td><td>NULL</td><td>NULL</td><td>24</td><td>467</td></tr>",
                            "<tr><td>NULL</td><td>NULL</td><td>NULL</td><td>24</td><td>974</td></tr>",
                            "<tr><td>NULL</td><td>NULL</td><td>NULL</td><td>26</td><td>508</td></tr>",
                            "<tr><td>NULL</td><td>NULL</td><td>NULL</td><td>26</td><td>1796</td></tr>",
                            "<tr><td>NULL</td><td>NULL</td><td>NULL</td><td>26</td><td>2257</td></tr>",
                            "<tr><td>NULL</td><td>NULL</td><td>NULL</td><td>26</td><td>2314</td></tr>",
                            "<tr><td>NULL</td><td>NULL</td><td>NULL</td><td>26</td><td>2357</td></tr>",
                            "<tr><td>NULL</td><td>NULL</td><td>NULL</td><td>26</td><td>2738</td></tr>",
                            "<tr><td>NULL</td><td>NULL</td><td>NULL</td><td>26</td><td>2810</td></tr>",
                            "<tr><td>NULL</td><td>NULL</td><td>NULL</td><td>26</td><td>3207</td></tr>",
                            "<tr><td>The Thorn Birds</td><td>4.22</td><td>201</td><td>26</td><td>3412</td></tr>",
                            "<tr><td>The Complete Sherlock Holmes, Vol 2</td><td>4.46</td><td>117</td><td>26</td><td>3586</td></tr>",
                            "<tr><td>The Dark Tower (The Dark Tower, #7)</td><td>4.27</td><td>105</td><td>26</td><td>5091</td></tr>",
                            "<tr><td>NULL</td><td>NULL</td><td>NULL</td><td>26</td><td>5550</td></tr>",
                            "<tr><td>NULL</td><td>NULL</td><td>NULL</td><td>26</td><td>6877</td></tr>",
                            "<tr><td>NULL</td><td>NULL</td><td>NULL</td><td>26</td><td>7970</td></tr>",
                            "<tr><td>NULL</td><td>NULL</td><td>NULL</td><td>28</td><td>265</td></tr>",
                            "<tr><td>NULL</td><td>NULL</td><td>NULL</td><td>28</td><td>587</td></tr>",
                            "<tr><td>NULL</td><td>NULL</td><td>NULL</td><td>28</td><td>3543</td></tr>",
                            "<tr><td>NULL</td><td>NULL</td><td>NULL</td><td>28</td><td>5215</td></tr>",
                            "<tr><td>NULL</td><td>NULL</td><td>NULL</td><td>28</td><td>7496</td></tr>",
                            "<tr><td>NULL</td><td>NULL</td><td>NULL</td><td>28</td><td>8654</td></tr>",
                            "<tr><td>NULL</td><td>NULL</td><td>NULL</td><td>29</td><td>31</td></tr>",
                            "<tr><td>NULL</td><td>NULL</td><td>NULL</td><td>29</td><td>32</td></tr>",
                            "<tr><td>The Lord of the Rings: Weapons and Warfare</td><td>4.53</td><td>12</td><td>29</td><td>36</td></tr>",
                            "<tr><td>NULL</td><td>NULL</td><td>NULL</td><td>29</td><td>45</td></tr>",
                            "<tr><td>NULL</td><td>NULL</td><td>NULL</td><td>29</td><td>65</td></tr>",
                            "<tr><td>NULL</td><td>NULL</td><td>NULL</td><td>29</td><td>87</td></tr>",
                            "<tr><td>NULL</td><td>NULL</td><td>NULL</td><td>29</td><td>115</td></tr>",
                            "<tr><td>NULL</td><td>NULL</td><td>NULL</td><td>29</td><td>121</td></tr>",
                            "<tr><td>NULL</td><td>NULL</td><td>NULL</td><td>29</td><td>131</td></tr>",
                            "<tr><td>NULL</td><td>NULL</td><td>NULL</td><td>29</td><td>178</td></tr>",
                            "<tr><td>NULL</td><td>NULL</td><td>NULL</td><td>29</td><td>256</td></tr>",
                            "<tr><td>NULL</td><td>NULL</td><td>NULL</td><td>29</td><td>323</td></tr>",
                            "<tr><td>Slouching Towards Bethlehem</td><td>4.24</td><td>34</td><td>29</td><td>424</td></tr>",
                            "<tr><td>NULL</td><td>NULL</td><td>NULL</td><td>29</td><td>467</td></tr>",
                            "<tr><td>NULL</td><td>NULL</td><td>NULL</td><td>29</td><td>550</td></tr>",
                            "<tr><td>NULL</td><td>NULL</td><td>NULL</td><td>29</td><td>618</td></tr>",
                            "<tr><td>Atlas Shrugged</td><td>3.68</td><td>147</td><td>29</td><td>662</td></tr>",
                            "<tr><td>NULL</td><td>NULL</td><td>NULL</td><td>29</td><td>709</td></tr>",
                            "<tr><td>NULL</td><td>NULL</td><td>NULL</td><td>29</td><td>730</td></tr>",
                            "<tr><td>NULL</td><td>NULL</td><td>NULL</td><td>29</td><td>771</td></tr>",
                            "<tr><td>NULL</td><td>NULL</td><td>NULL</td><td>29</td><td>809</td></tr>",
                            "<tr><td>NULL</td><td>NULL</td><td>NULL</td><td>29</td><td>934</td></tr>",
                            "<tr><td>NULL</td><td>NULL</td><td>NULL</td><td>29</td><td>1084</td></tr>",
                            "<tr><td>NULL</td><td>NULL</td><td>NULL</td><td>29</td><td>1364</td></tr>",
                            "<tr><td>NULL</td><td>NULL</td><td>NULL</td><td>29</td><td>1642</td></tr>",
                            "<tr><td>NULL</td><td>NULL</td><td>NULL</td><td>29</td><td>1695</td></tr>",
                            "<tr><td>NULL</td><td>NULL</td><td>NULL</td><td>29</td><td>2259</td></tr>",
                            "<tr><td>NULL</td><td>NULL</td><td>NULL</td><td>29</td><td>2284</td></tr>",
                            "<tr><td>NULL</td><td>NULL</td><td>NULL</td><td>29</td><td>2304</td></tr>",
                            "<tr><td>NULL</td><td>NULL</td><td>NULL</td><td>29</td><td>2967</td></tr>",
                            "<tr><td>NULL</td><td>NULL</td><td>NULL</td><td>29</td><td>3508</td></tr>",
                            "<tr><td>NULL</td><td>NULL</td><td>NULL</td><td>29</td><td>4359</td></tr>",
                            "<tr><td>NULL</td><td>NULL</td><td>NULL</td><td>29</td><td>4394</td></tr>",
                            "<tr><td>NULL</td><td>NULL</td><td>NULL</td><td>29</td><td>4475</td></tr>",
                            "<tr><td>NULL</td><td>NULL</td><td>NULL</td><td>29</td><td>4629</td></tr>",
                            "<tr><td>NULL</td><td>NULL</td><td>NULL</td><td>29</td><td>5090</td></tr>",
                            "<tr><td>NULL</td><td>NULL</td><td>NULL</td><td>29</td><td>5596</td></tr>",
                            "<tr><td>NULL</td><td>NULL</td><td>NULL</td><td>29</td><td>5851</td></tr>",
                            "<tr><td>NULL</td><td>NULL</td><td>NULL</td><td>29</td><td>6104</td></tr>",
                            "<tr><td>NULL</td><td>NULL</td><td>NULL</td><td>30</td><td>47</td></tr>",
                            "<tr><td>The Known World</td><td>3.82</td><td>42</td><td>30</td><td>67</td></tr>",
                            "<tr><td>NULL</td><td>NULL</td><td>NULL</td><td>30</td><td>82</td></tr>",
                            "<tr><td>NULL</td><td>NULL</td><td>NULL</td><td>30</td><td>121</td></tr>",
                            "<tr><td>NULL</td><td>NULL</td><td>NULL</td><td>30</td><td>177</td></tr>",
                            "<tr><td>Tropic of Cancer</td><td>3.71</td><td>205</td><td>30</td><td>249</td></tr>",
                            "<tr><td>NULL</td><td>NULL</td><td>NULL</td><td>30</td><td>297</td></tr>",
                            "<tr><td>NULL</td><td>NULL</td><td>NULL</td><td>30</td><td>407</td></tr>",
                            "<tr><td>NULL</td><td>NULL</td><td>NULL</td><td>30</td><td>426</td></tr>",
                            "<tr><td>NULL</td><td>NULL</td><td>NULL</td><td>30</td><td>430</td></tr>",
                            "<tr><td>NULL</td><td>NULL</td><td>NULL</td><td>30</td><td>442</td></tr>",
                            "<tr><td>NULL</td><td>NULL</td><td>NULL</td><td>30</td><td>516</td></tr>",
                            "<tr><td>NULL</td><td>NULL</td><td>NULL</td><td>30</td><td>658</td></tr>",
                            "<tr><td>NULL</td><td>NULL</td><td>NULL</td><td>30</td><td>895</td></tr>",
                            "<tr><td>NULL</td><td>NULL</td><td>NULL</td><td>30</td><td>1039</td></tr>",
                            "<tr><td>NULL</td><td>NULL</td><td>NULL</td><td>30</td><td>1094</td></tr>",
                            "<tr><td>The Odyssey</td><td>3.73</td><td>1703</td><td>30</td><td>1381</td></tr>",
                            "<tr><td>NULL</td><td>NULL</td><td>NULL</td><td>30</td><td>2117</td></tr>",
                            "<tr><td>NULL</td><td>NULL</td><td>NULL</td><td>30</td><td>2426</td></tr>",
                            "<tr><td>NULL</td><td>NULL</td><td>NULL</td><td>30</td><td>3444</td></tr>",
                            "<tr><td>The Pilgrimage</td><td>3.64</td><td>171</td><td>30</td><td>4004</td></tr>",
                            "<tr><td>NULL</td><td>NULL</td><td>NULL</td><td>30</td><td>4202</td></tr>",
                            "<tr><td>NULL</td><td>NULL</td><td>NULL</td><td>30</td><td>4509</td></tr>",
                            "<tr><td>NULL</td><td>NULL</td><td>NULL</td><td>30</td><td>5880</td></tr>",
                            "<tr><td>The Hobbit</td><td>4.25</td><td>969</td><td>30</td><td>5907</td></tr>",
                            "<tr><td>NULL</td><td>NULL</td><td>NULL</td><td>30</td><td>6828</td></tr>",
                            "<tr><td>NULL</td><td>NULL</td><td>NULL</td><td>30</td><td>7563</td></tr>",
                            "<tr><td>NULL</td><td>NULL</td><td>NULL</td><td>30</td><td>8737</td></tr>",
                            "<tr><td>NULL</td><td>NULL</td><td>NULL</td><td>31</td><td>94</td></tr>",
                            "<tr><td>NULL</td><td>NULL</td><td>NULL</td><td>31</td><td>584</td></tr>",
                            "</table>"
                        ]
                    }
                }
            ],
            "execution_count": 3
        },
        {
            "cell_type": "markdown",
            "source": [
                "## **QUESTION 3:** Exploring FULL JOINS with the **books** and **to\\_read** tables\n",
                "\n",
                "You will need to uncomment the Query to answer the question.\n",
                "\n",
                "**Part A:**  Look at the table and explore how it was populated.  Try manipulating the query to better understand how this table works.  Try adding a WHERE clause, or ORDER BY a column on the **books** table.  Based on your exploration, can you think of when you might want a FULL join rather than a LEFT, RIGHT, or INNER?\n",
                "\n",
                "> Your Answer Full joins produce large data setss, so it isn't always the best choice, but it can be useful for spotting data discrepencies, or identifying differences and/or points in common between datasets."
            ],
            "metadata": {
                "azdata_cell_guid": "8f6b8f22-3e5a-4b87-a2f2-07279f1deb94"
            },
            "attachments": {}
        },
        {
            "cell_type": "code",
            "source": [
                "\n",
                "-- FULL JOIN\n",
                "SELECT TOP 30 b.title, b.average_rating, b.books_count,tr.user_id, tr.book_id\n",
                "FROM BooksDB.dbo.books AS b\n",
                "FULL JOIN BooksDB.dbo.to_read AS tr\n",
                "ON b.book_id = tr.book_id;\n",
                ""
            ],
            "metadata": {
                "azdata_cell_guid": "7c2a3dff-ef55-4222-aef0-7c0ab4f942eb",
                "tags": [],
                "language": "sql"
            },
            "outputs": [
                {
                    "output_type": "display_data",
                    "data": {
                        "text/html": "(30 rows affected)"
                    },
                    "metadata": {}
                },
                {
                    "output_type": "display_data",
                    "data": {
                        "text/html": "Total execution time: 00:00:00.123"
                    },
                    "metadata": {}
                },
                {
                    "output_type": "execute_result",
                    "metadata": {},
                    "execution_count": 4,
                    "data": {
                        "application/vnd.dataresource+json": {
                            "schema": {
                                "fields": [
                                    {
                                        "name": "title"
                                    },
                                    {
                                        "name": "average_rating"
                                    },
                                    {
                                        "name": "books_count"
                                    },
                                    {
                                        "name": "user_id"
                                    },
                                    {
                                        "name": "book_id"
                                    }
                                ]
                            },
                            "data": [
                                {
                                    "title": "Children of Dune (Dune Chronicles #3)",
                                    "average_rating": "3.9",
                                    "books_count": "116",
                                    "user_id": "1",
                                    "book_id": "112"
                                },
                                {
                                    "title": "NULL",
                                    "average_rating": "NULL",
                                    "books_count": "NULL",
                                    "user_id": "1",
                                    "book_id": "235"
                                },
                                {
                                    "title": "NULL",
                                    "average_rating": "NULL",
                                    "books_count": "NULL",
                                    "user_id": "1",
                                    "book_id": "533"
                                },
                                {
                                    "title": "NULL",
                                    "average_rating": "NULL",
                                    "books_count": "NULL",
                                    "user_id": "1",
                                    "book_id": "1198"
                                },
                                {
                                    "title": "NULL",
                                    "average_rating": "NULL",
                                    "books_count": "NULL",
                                    "user_id": "1",
                                    "book_id": "1874"
                                },
                                {
                                    "title": "NULL",
                                    "average_rating": "NULL",
                                    "books_count": "NULL",
                                    "user_id": "1",
                                    "book_id": "2058"
                                },
                                {
                                    "title": "NULL",
                                    "average_rating": "NULL",
                                    "books_count": "NULL",
                                    "user_id": "1",
                                    "book_id": "3334"
                                },
                                {
                                    "title": "NULL",
                                    "average_rating": "NULL",
                                    "books_count": "NULL",
                                    "user_id": "2",
                                    "book_id": "4"
                                },
                                {
                                    "title": "The Hitchhiker's Guide to the Galaxy (Hitchhiker's Guide to the Galaxy, #1)",
                                    "average_rating": "4.2",
                                    "books_count": "257",
                                    "user_id": "2",
                                    "book_id": "11"
                                },
                                {
                                    "title": "The Ultimate Hitchhiker's Guide to the Galaxy",
                                    "average_rating": "4.37",
                                    "books_count": "32",
                                    "user_id": "2",
                                    "book_id": "13"
                                },
                                {
                                    "title": "NULL",
                                    "average_rating": "NULL",
                                    "books_count": "NULL",
                                    "user_id": "2",
                                    "book_id": "16"
                                },
                                {
                                    "title": "NULL",
                                    "average_rating": "NULL",
                                    "books_count": "NULL",
                                    "user_id": "2",
                                    "book_id": "92"
                                },
                                {
                                    "title": "Dune Messiah (Dune Chronicles #2)",
                                    "average_rating": "3.86",
                                    "books_count": "140",
                                    "user_id": "2",
                                    "book_id": "106"
                                },
                                {
                                    "title": "NULL",
                                    "average_rating": "NULL",
                                    "books_count": "NULL",
                                    "user_id": "2",
                                    "book_id": "113"
                                },
                                {
                                    "title": "NULL",
                                    "average_rating": "NULL",
                                    "books_count": "NULL",
                                    "user_id": "2",
                                    "book_id": "233"
                                },
                                {
                                    "title": "NULL",
                                    "average_rating": "NULL",
                                    "books_count": "NULL",
                                    "user_id": "2",
                                    "book_id": "247"
                                },
                                {
                                    "title": "NULL",
                                    "average_rating": "NULL",
                                    "books_count": "NULL",
                                    "user_id": "2",
                                    "book_id": "380"
                                },
                                {
                                    "title": "NULL",
                                    "average_rating": "NULL",
                                    "books_count": "NULL",
                                    "user_id": "2",
                                    "book_id": "408"
                                },
                                {
                                    "title": "NULL",
                                    "average_rating": "NULL",
                                    "books_count": "NULL",
                                    "user_id": "2",
                                    "book_id": "439"
                                },
                                {
                                    "title": "NULL",
                                    "average_rating": "NULL",
                                    "books_count": "NULL",
                                    "user_id": "2",
                                    "book_id": "479"
                                },
                                {
                                    "title": "NULL",
                                    "average_rating": "NULL",
                                    "books_count": "NULL",
                                    "user_id": "2",
                                    "book_id": "516"
                                },
                                {
                                    "title": "NULL",
                                    "average_rating": "NULL",
                                    "books_count": "NULL",
                                    "user_id": "2",
                                    "book_id": "619"
                                },
                                {
                                    "title": "NULL",
                                    "average_rating": "NULL",
                                    "books_count": "NULL",
                                    "user_id": "2",
                                    "book_id": "1069"
                                },
                                {
                                    "title": "The Iliad",
                                    "average_rating": "3.83",
                                    "books_count": "1726",
                                    "user_id": "2",
                                    "book_id": "1371"
                                },
                                {
                                    "title": "NULL",
                                    "average_rating": "NULL",
                                    "books_count": "NULL",
                                    "user_id": "2",
                                    "book_id": "1384"
                                },
                                {
                                    "title": "NULL",
                                    "average_rating": "NULL",
                                    "books_count": "NULL",
                                    "user_id": "2",
                                    "book_id": "1597"
                                },
                                {
                                    "title": "NULL",
                                    "average_rating": "NULL",
                                    "books_count": "NULL",
                                    "user_id": "2",
                                    "book_id": "1926"
                                },
                                {
                                    "title": "NULL",
                                    "average_rating": "NULL",
                                    "books_count": "NULL",
                                    "user_id": "2",
                                    "book_id": "1967"
                                },
                                {
                                    "title": "NULL",
                                    "average_rating": "NULL",
                                    "books_count": "NULL",
                                    "user_id": "2",
                                    "book_id": "1969"
                                },
                                {
                                    "title": "NULL",
                                    "average_rating": "NULL",
                                    "books_count": "NULL",
                                    "user_id": "2",
                                    "book_id": "2220"
                                }
                            ]
                        },
                        "text/html": [
                            "<table>",
                            "<tr><th>title</th><th>average_rating</th><th>books_count</th><th>user_id</th><th>book_id</th></tr>",
                            "<tr><td>Children of Dune (Dune Chronicles #3)</td><td>3.9</td><td>116</td><td>1</td><td>112</td></tr>",
                            "<tr><td>NULL</td><td>NULL</td><td>NULL</td><td>1</td><td>235</td></tr>",
                            "<tr><td>NULL</td><td>NULL</td><td>NULL</td><td>1</td><td>533</td></tr>",
                            "<tr><td>NULL</td><td>NULL</td><td>NULL</td><td>1</td><td>1198</td></tr>",
                            "<tr><td>NULL</td><td>NULL</td><td>NULL</td><td>1</td><td>1874</td></tr>",
                            "<tr><td>NULL</td><td>NULL</td><td>NULL</td><td>1</td><td>2058</td></tr>",
                            "<tr><td>NULL</td><td>NULL</td><td>NULL</td><td>1</td><td>3334</td></tr>",
                            "<tr><td>NULL</td><td>NULL</td><td>NULL</td><td>2</td><td>4</td></tr>",
                            "<tr><td>The Hitchhiker's Guide to the Galaxy (Hitchhiker's Guide to the Galaxy, #1)</td><td>4.2</td><td>257</td><td>2</td><td>11</td></tr>",
                            "<tr><td>The Ultimate Hitchhiker's Guide to the Galaxy</td><td>4.37</td><td>32</td><td>2</td><td>13</td></tr>",
                            "<tr><td>NULL</td><td>NULL</td><td>NULL</td><td>2</td><td>16</td></tr>",
                            "<tr><td>NULL</td><td>NULL</td><td>NULL</td><td>2</td><td>92</td></tr>",
                            "<tr><td>Dune Messiah (Dune Chronicles #2)</td><td>3.86</td><td>140</td><td>2</td><td>106</td></tr>",
                            "<tr><td>NULL</td><td>NULL</td><td>NULL</td><td>2</td><td>113</td></tr>",
                            "<tr><td>NULL</td><td>NULL</td><td>NULL</td><td>2</td><td>233</td></tr>",
                            "<tr><td>NULL</td><td>NULL</td><td>NULL</td><td>2</td><td>247</td></tr>",
                            "<tr><td>NULL</td><td>NULL</td><td>NULL</td><td>2</td><td>380</td></tr>",
                            "<tr><td>NULL</td><td>NULL</td><td>NULL</td><td>2</td><td>408</td></tr>",
                            "<tr><td>NULL</td><td>NULL</td><td>NULL</td><td>2</td><td>439</td></tr>",
                            "<tr><td>NULL</td><td>NULL</td><td>NULL</td><td>2</td><td>479</td></tr>",
                            "<tr><td>NULL</td><td>NULL</td><td>NULL</td><td>2</td><td>516</td></tr>",
                            "<tr><td>NULL</td><td>NULL</td><td>NULL</td><td>2</td><td>619</td></tr>",
                            "<tr><td>NULL</td><td>NULL</td><td>NULL</td><td>2</td><td>1069</td></tr>",
                            "<tr><td>The Iliad</td><td>3.83</td><td>1726</td><td>2</td><td>1371</td></tr>",
                            "<tr><td>NULL</td><td>NULL</td><td>NULL</td><td>2</td><td>1384</td></tr>",
                            "<tr><td>NULL</td><td>NULL</td><td>NULL</td><td>2</td><td>1597</td></tr>",
                            "<tr><td>NULL</td><td>NULL</td><td>NULL</td><td>2</td><td>1926</td></tr>",
                            "<tr><td>NULL</td><td>NULL</td><td>NULL</td><td>2</td><td>1967</td></tr>",
                            "<tr><td>NULL</td><td>NULL</td><td>NULL</td><td>2</td><td>1969</td></tr>",
                            "<tr><td>NULL</td><td>NULL</td><td>NULL</td><td>2</td><td>2220</td></tr>",
                            "</table>"
                        ]
                    }
                }
            ],
            "execution_count": 4
        },
        {
            "cell_type": "markdown",
            "source": [
                "## **QUESTION 4:** Exploring INNER Joins with the **books** and **to\\_read** tables\n",
                "\n",
                "You will need to uncomment the Query to answer the question.\n",
                "\n",
                "**Part A:**  What does an inner join do?\n",
                "\n",
                "> <span style=\"background-color: rgba(127, 127, 127, 0.1); font-family: -apple-system, BlinkMacSystemFont, sans-serif;\">Your Answer: an inner join only returns items where the join condition is met - so it only returns rows with matching values in BOTH tables</span>\n",
                "\n",
                "<span style=\"background-color: rgba(127, 127, 127, 0.1); font-family: -apple-system, BlinkMacSystemFont, sans-serif;\"><b>Part B:</b>&nbsp;Currently this table has an <b>'IS NOT NULL'</b> in the <b>WHERE</b> clause.&nbsp; Is this necessary for this table?&nbsp; Why or Why not?&nbsp;</span>  \n",
                "\n",
                "> Your Answer: nope! inner joins can't return nulls, that's the point\n",
                "\n",
                "**Part C:**  When using SQL, you are usually returning much larger tables so every line of code will add to the compilation and return time.  Rewrite this inner join query so that it contains no redundant code.   \n",
                "\n",
                "> Your Answer:  Update the query in the code box below."
            ],
            "metadata": {
                "azdata_cell_guid": "4dab11ce-7995-4444-92dd-4cb2c0bc02c8"
            },
            "attachments": {}
        },
        {
            "cell_type": "code",
            "source": [
                "\n",
                "-- INNER JOIN\n",
                "SELECT TOP 30 b.title, b.average_rating, b.books_count,tr.user_id, tr.book_id\n",
                "FROM BooksDB.dbo.books AS b\n",
                "INNER JOIN BooksDB.dbo.to_read AS tr\n",
                "ON b.book_id = tr.book_id\n",
                "ORDER BY tr.book_id;\n",
                ""
            ],
            "metadata": {
                "azdata_cell_guid": "66d430ab-18aa-4a29-a32d-0585445e417c",
                "tags": [],
                "language": "sql"
            },
            "outputs": [
                {
                    "output_type": "display_data",
                    "data": {
                        "text/html": "(30 rows affected)"
                    },
                    "metadata": {}
                },
                {
                    "output_type": "display_data",
                    "data": {
                        "text/html": "Total execution time: 00:00:00.156"
                    },
                    "metadata": {}
                },
                {
                    "output_type": "execute_result",
                    "metadata": {},
                    "execution_count": 5,
                    "data": {
                        "application/vnd.dataresource+json": {
                            "schema": {
                                "fields": [
                                    {
                                        "name": "title"
                                    },
                                    {
                                        "name": "average_rating"
                                    },
                                    {
                                        "name": "books_count"
                                    },
                                    {
                                        "name": "user_id"
                                    },
                                    {
                                        "name": "book_id"
                                    }
                                ]
                            },
                            "data": [
                                {
                                    "title": "Harry Potter and the Half-Blood Prince (Harry Potter, #6)",
                                    "average_rating": "4.54",
                                    "books_count": "275",
                                    "user_id": "12",
                                    "book_id": "1"
                                },
                                {
                                    "title": "Harry Potter and the Half-Blood Prince (Harry Potter, #6)",
                                    "average_rating": "4.54",
                                    "books_count": "275",
                                    "user_id": "192",
                                    "book_id": "1"
                                },
                                {
                                    "title": "Harry Potter and the Half-Blood Prince (Harry Potter, #6)",
                                    "average_rating": "4.54",
                                    "books_count": "275",
                                    "user_id": "202",
                                    "book_id": "1"
                                },
                                {
                                    "title": "Harry Potter and the Half-Blood Prince (Harry Potter, #6)",
                                    "average_rating": "4.54",
                                    "books_count": "275",
                                    "user_id": "244",
                                    "book_id": "1"
                                },
                                {
                                    "title": "Harry Potter and the Half-Blood Prince (Harry Potter, #6)",
                                    "average_rating": "4.54",
                                    "books_count": "275",
                                    "user_id": "253",
                                    "book_id": "1"
                                },
                                {
                                    "title": "Harry Potter and the Half-Blood Prince (Harry Potter, #6)",
                                    "average_rating": "4.54",
                                    "books_count": "275",
                                    "user_id": "350",
                                    "book_id": "1"
                                },
                                {
                                    "title": "Harry Potter and the Half-Blood Prince (Harry Potter, #6)",
                                    "average_rating": "4.54",
                                    "books_count": "275",
                                    "user_id": "478",
                                    "book_id": "1"
                                },
                                {
                                    "title": "Harry Potter and the Half-Blood Prince (Harry Potter, #6)",
                                    "average_rating": "4.54",
                                    "books_count": "275",
                                    "user_id": "511",
                                    "book_id": "1"
                                },
                                {
                                    "title": "Harry Potter and the Half-Blood Prince (Harry Potter, #6)",
                                    "average_rating": "4.54",
                                    "books_count": "275",
                                    "user_id": "525",
                                    "book_id": "1"
                                },
                                {
                                    "title": "Harry Potter and the Half-Blood Prince (Harry Potter, #6)",
                                    "average_rating": "4.54",
                                    "books_count": "275",
                                    "user_id": "527",
                                    "book_id": "1"
                                },
                                {
                                    "title": "Harry Potter and the Half-Blood Prince (Harry Potter, #6)",
                                    "average_rating": "4.54",
                                    "books_count": "275",
                                    "user_id": "552",
                                    "book_id": "1"
                                },
                                {
                                    "title": "Harry Potter and the Half-Blood Prince (Harry Potter, #6)",
                                    "average_rating": "4.54",
                                    "books_count": "275",
                                    "user_id": "644",
                                    "book_id": "1"
                                },
                                {
                                    "title": "Harry Potter and the Half-Blood Prince (Harry Potter, #6)",
                                    "average_rating": "4.54",
                                    "books_count": "275",
                                    "user_id": "754",
                                    "book_id": "1"
                                },
                                {
                                    "title": "Harry Potter and the Half-Blood Prince (Harry Potter, #6)",
                                    "average_rating": "4.54",
                                    "books_count": "275",
                                    "user_id": "826",
                                    "book_id": "1"
                                },
                                {
                                    "title": "Harry Potter and the Half-Blood Prince (Harry Potter, #6)",
                                    "average_rating": "4.54",
                                    "books_count": "275",
                                    "user_id": "1043",
                                    "book_id": "1"
                                },
                                {
                                    "title": "Harry Potter and the Half-Blood Prince (Harry Potter, #6)",
                                    "average_rating": "4.54",
                                    "books_count": "275",
                                    "user_id": "1205",
                                    "book_id": "1"
                                },
                                {
                                    "title": "Harry Potter and the Half-Blood Prince (Harry Potter, #6)",
                                    "average_rating": "4.54",
                                    "books_count": "275",
                                    "user_id": "1442",
                                    "book_id": "1"
                                },
                                {
                                    "title": "Harry Potter and the Half-Blood Prince (Harry Potter, #6)",
                                    "average_rating": "4.54",
                                    "books_count": "275",
                                    "user_id": "1470",
                                    "book_id": "1"
                                },
                                {
                                    "title": "Harry Potter and the Half-Blood Prince (Harry Potter, #6)",
                                    "average_rating": "4.54",
                                    "books_count": "275",
                                    "user_id": "1712",
                                    "book_id": "1"
                                },
                                {
                                    "title": "Harry Potter and the Half-Blood Prince (Harry Potter, #6)",
                                    "average_rating": "4.54",
                                    "books_count": "275",
                                    "user_id": "1814",
                                    "book_id": "1"
                                },
                                {
                                    "title": "Harry Potter and the Half-Blood Prince (Harry Potter, #6)",
                                    "average_rating": "4.54",
                                    "books_count": "275",
                                    "user_id": "1919",
                                    "book_id": "1"
                                },
                                {
                                    "title": "Harry Potter and the Half-Blood Prince (Harry Potter, #6)",
                                    "average_rating": "4.54",
                                    "books_count": "275",
                                    "user_id": "2051",
                                    "book_id": "1"
                                },
                                {
                                    "title": "Harry Potter and the Half-Blood Prince (Harry Potter, #6)",
                                    "average_rating": "4.54",
                                    "books_count": "275",
                                    "user_id": "2052",
                                    "book_id": "1"
                                },
                                {
                                    "title": "Harry Potter and the Half-Blood Prince (Harry Potter, #6)",
                                    "average_rating": "4.54",
                                    "books_count": "275",
                                    "user_id": "2158",
                                    "book_id": "1"
                                },
                                {
                                    "title": "Harry Potter and the Half-Blood Prince (Harry Potter, #6)",
                                    "average_rating": "4.54",
                                    "books_count": "275",
                                    "user_id": "2160",
                                    "book_id": "1"
                                },
                                {
                                    "title": "Harry Potter and the Half-Blood Prince (Harry Potter, #6)",
                                    "average_rating": "4.54",
                                    "books_count": "275",
                                    "user_id": "2345",
                                    "book_id": "1"
                                },
                                {
                                    "title": "Harry Potter and the Half-Blood Prince (Harry Potter, #6)",
                                    "average_rating": "4.54",
                                    "books_count": "275",
                                    "user_id": "2476",
                                    "book_id": "1"
                                },
                                {
                                    "title": "Harry Potter and the Half-Blood Prince (Harry Potter, #6)",
                                    "average_rating": "4.54",
                                    "books_count": "275",
                                    "user_id": "2523",
                                    "book_id": "1"
                                },
                                {
                                    "title": "Harry Potter and the Half-Blood Prince (Harry Potter, #6)",
                                    "average_rating": "4.54",
                                    "books_count": "275",
                                    "user_id": "2623",
                                    "book_id": "1"
                                },
                                {
                                    "title": "Harry Potter and the Half-Blood Prince (Harry Potter, #6)",
                                    "average_rating": "4.54",
                                    "books_count": "275",
                                    "user_id": "2673",
                                    "book_id": "1"
                                }
                            ]
                        },
                        "text/html": [
                            "<table>",
                            "<tr><th>title</th><th>average_rating</th><th>books_count</th><th>user_id</th><th>book_id</th></tr>",
                            "<tr><td>Harry Potter and the Half-Blood Prince (Harry Potter, #6)</td><td>4.54</td><td>275</td><td>12</td><td>1</td></tr>",
                            "<tr><td>Harry Potter and the Half-Blood Prince (Harry Potter, #6)</td><td>4.54</td><td>275</td><td>192</td><td>1</td></tr>",
                            "<tr><td>Harry Potter and the Half-Blood Prince (Harry Potter, #6)</td><td>4.54</td><td>275</td><td>202</td><td>1</td></tr>",
                            "<tr><td>Harry Potter and the Half-Blood Prince (Harry Potter, #6)</td><td>4.54</td><td>275</td><td>244</td><td>1</td></tr>",
                            "<tr><td>Harry Potter and the Half-Blood Prince (Harry Potter, #6)</td><td>4.54</td><td>275</td><td>253</td><td>1</td></tr>",
                            "<tr><td>Harry Potter and the Half-Blood Prince (Harry Potter, #6)</td><td>4.54</td><td>275</td><td>350</td><td>1</td></tr>",
                            "<tr><td>Harry Potter and the Half-Blood Prince (Harry Potter, #6)</td><td>4.54</td><td>275</td><td>478</td><td>1</td></tr>",
                            "<tr><td>Harry Potter and the Half-Blood Prince (Harry Potter, #6)</td><td>4.54</td><td>275</td><td>511</td><td>1</td></tr>",
                            "<tr><td>Harry Potter and the Half-Blood Prince (Harry Potter, #6)</td><td>4.54</td><td>275</td><td>525</td><td>1</td></tr>",
                            "<tr><td>Harry Potter and the Half-Blood Prince (Harry Potter, #6)</td><td>4.54</td><td>275</td><td>527</td><td>1</td></tr>",
                            "<tr><td>Harry Potter and the Half-Blood Prince (Harry Potter, #6)</td><td>4.54</td><td>275</td><td>552</td><td>1</td></tr>",
                            "<tr><td>Harry Potter and the Half-Blood Prince (Harry Potter, #6)</td><td>4.54</td><td>275</td><td>644</td><td>1</td></tr>",
                            "<tr><td>Harry Potter and the Half-Blood Prince (Harry Potter, #6)</td><td>4.54</td><td>275</td><td>754</td><td>1</td></tr>",
                            "<tr><td>Harry Potter and the Half-Blood Prince (Harry Potter, #6)</td><td>4.54</td><td>275</td><td>826</td><td>1</td></tr>",
                            "<tr><td>Harry Potter and the Half-Blood Prince (Harry Potter, #6)</td><td>4.54</td><td>275</td><td>1043</td><td>1</td></tr>",
                            "<tr><td>Harry Potter and the Half-Blood Prince (Harry Potter, #6)</td><td>4.54</td><td>275</td><td>1205</td><td>1</td></tr>",
                            "<tr><td>Harry Potter and the Half-Blood Prince (Harry Potter, #6)</td><td>4.54</td><td>275</td><td>1442</td><td>1</td></tr>",
                            "<tr><td>Harry Potter and the Half-Blood Prince (Harry Potter, #6)</td><td>4.54</td><td>275</td><td>1470</td><td>1</td></tr>",
                            "<tr><td>Harry Potter and the Half-Blood Prince (Harry Potter, #6)</td><td>4.54</td><td>275</td><td>1712</td><td>1</td></tr>",
                            "<tr><td>Harry Potter and the Half-Blood Prince (Harry Potter, #6)</td><td>4.54</td><td>275</td><td>1814</td><td>1</td></tr>",
                            "<tr><td>Harry Potter and the Half-Blood Prince (Harry Potter, #6)</td><td>4.54</td><td>275</td><td>1919</td><td>1</td></tr>",
                            "<tr><td>Harry Potter and the Half-Blood Prince (Harry Potter, #6)</td><td>4.54</td><td>275</td><td>2051</td><td>1</td></tr>",
                            "<tr><td>Harry Potter and the Half-Blood Prince (Harry Potter, #6)</td><td>4.54</td><td>275</td><td>2052</td><td>1</td></tr>",
                            "<tr><td>Harry Potter and the Half-Blood Prince (Harry Potter, #6)</td><td>4.54</td><td>275</td><td>2158</td><td>1</td></tr>",
                            "<tr><td>Harry Potter and the Half-Blood Prince (Harry Potter, #6)</td><td>4.54</td><td>275</td><td>2160</td><td>1</td></tr>",
                            "<tr><td>Harry Potter and the Half-Blood Prince (Harry Potter, #6)</td><td>4.54</td><td>275</td><td>2345</td><td>1</td></tr>",
                            "<tr><td>Harry Potter and the Half-Blood Prince (Harry Potter, #6)</td><td>4.54</td><td>275</td><td>2476</td><td>1</td></tr>",
                            "<tr><td>Harry Potter and the Half-Blood Prince (Harry Potter, #6)</td><td>4.54</td><td>275</td><td>2523</td><td>1</td></tr>",
                            "<tr><td>Harry Potter and the Half-Blood Prince (Harry Potter, #6)</td><td>4.54</td><td>275</td><td>2623</td><td>1</td></tr>",
                            "<tr><td>Harry Potter and the Half-Blood Prince (Harry Potter, #6)</td><td>4.54</td><td>275</td><td>2673</td><td>1</td></tr>",
                            "</table>"
                        ]
                    }
                }
            ],
            "execution_count": 5
        },
        {
            "cell_type": "markdown",
            "source": [
                "## **QUESTION 5:**  Using joins to find the most tagged book and the most popular tag\n",
                "\n",
                "We will be writing 3 queries to find both the most tagged book and that book's most popular tag.\n",
                "\n",
                "**Part A:**  What is the most tagged book?\n",
                "\n",
                "> <span style=\"background-color: rgba(127, 127, 127, 0.1); font-family: -apple-system, BlinkMacSystemFont, sans-serif;\">Start by joining the </span> **books** <span style=\"background-color: rgba(127, 127, 127, 0.1); font-family: -apple-system, BlinkMacSystemFont, sans-serif;\">and </span> **book\\_tags**    <span style=\"background-color: rgba(127, 127, 127, 0.1); font-family: -apple-system, BlinkMacSystemFont, sans-serif;\">&nbsp;tables ON the books.best_book_id and book_tags.goodreads_book_id.&nbsp;&nbsp;<br></span>      <span style=\"background-color: rgba(127, 127, 127, 0.1); font-family: -apple-system, BlinkMacSystemFont, sans-serif;\">We want the <i>most popular</i> book, so think about ordering the table in a way that will display both the book title and the number of times a book tag has been used.</span>\n",
                "> \n",
                "> _MInimum Desired output:_  The title of the most tagged book, and the number of times the book has been tagged.\n",
                "> \n",
                "> **Title: Selected Poems; 400**\n",
                "\n",
                "**Part B:** How many different tags have been used for the most tagged book?\n",
                "\n",
                "> <span style=\"font-family: -apple-system, BlinkMacSystemFont, sans-serif; background-color: rgba(127, 127, 127, 0.1);\">Start by joining the&nbsp;</span>    **books** <span style=\"font-family: -apple-system, BlinkMacSystemFont, sans-serif; background-color: rgba(127, 127, 127, 0.1);\">and&nbsp;</span>    **book\\_tags**    <span style=\"font-family: -apple-system, BlinkMacSystemFont, sans-serif; background-color: rgba(127, 127, 127, 0.1);\">&nbsp;tables ON the books.best_book_id and book_tags.goodreads_book_id.&nbsp;&nbsp;<br></span>      We want to find the _most popular_ tag id, so think about ordering in a way that will display the most popular tag id.\n",
                "> \n",
                "> <span style=\"font-family: -apple-system, BlinkMacSystemFont, sans-serif; background-color: rgba(127, 127, 127, 0.1);\"><i>Minimum Desired Output:</i> The tag id for the most popular tag used for the most tagged book.&nbsp;</span>   \n",
                "> \n",
                "> <span style=\"font-family: -apple-system, BlinkMacSystemFont, sans-serif; background-color: rgba(127, 127, 127, 0.1);\"><b>Tag Id: Selected Poems; 5207</b></span>\n",
                "\n",
                "<span style=\"font-family: -apple-system, BlinkMacSystemFont, sans-serif; background-color: rgba(127, 127, 127, 0.1);\"><b>Part C: </b>What is this particular tag?</span>\n",
                "\n",
                "> You may return this answer with a simple query.\n",
                "\n",
                "> <span style=\"font-family: -apple-system, BlinkMacSystemFont, sans-serif; background-color: rgba(127, 127, 127, 0.1);\"><i>Minimum Desired Output:</i>&nbsp;The tag name for the most popular tag used for the most tagged book.&nbsp;</span>   \n",
                "> \n",
                "> <span style=\"font-family: -apple-system, BlinkMacSystemFont, sans-serif; background-color: rgba(127, 127, 127, 0.1);\"><b>Tag Name: books-i-own</b></span>"
            ],
            "metadata": {
                "azdata_cell_guid": "a685e9cc-2ae2-40e8-8cc1-022c8064d66d"
            },
            "attachments": {}
        },
        {
            "cell_type": "code",
            "source": [
                "-- Code Here:\r\n",
                "--most tagged, numer times tagged\r\n",
                "SELECT TOP (1)\r\n",
                "    b.title AS Most_Tagged_Book,\r\n",
                "    COUNT(bt.tag_id) AS Tag_Count\r\n",
                "FROM BooksDB.dbo.books AS b\r\n",
                "INNER JOIN BooksDB.dbo.book_tags AS bt ON b.best_book_id = bt.goodreads_book_id\r\n",
                "GROUP BY b.title\r\n",
                "ORDER BY Tag_Count DESC;\r\n",
                "\r\n",
                "--tag id for more popular tag used on most tagged book\r\n",
                "SELECT TOP (1)\r\n",
                "    b.title AS Most_Tagged_Book,\r\n",
                "    bt.tag_id AS Most_Popular_Tag_ID\r\n",
                "FROM BooksDB.dbo.books AS b\r\n",
                "INNER JOIN BooksDB.dbo.book_tags AS bt ON b.best_book_id = bt.goodreads_book_id\r\n",
                "GROUP BY b.title, bt.tag_id\r\n",
                "ORDER BY COUNT(bt.tag_id) DESC;\r\n",
                "\r\n",
                "--name of tag id\r\n",
                "\r\n",
                "SELECT TOP (1)\r\n",
                "    b.title AS Most_Tagged_Book,\r\n",
                "    t.tag_name AS Most_Popular_Tag_Name\r\n",
                "FROM BooksDB.dbo.books AS b\r\n",
                "INNER JOIN BooksDB.dbo.book_tags AS bt ON b.best_book_id = bt.goodreads_book_id\r\n",
                "INNER JOIN BooksDB.dbo.tags AS t ON bt.tag_id = t.tag_id\r\n",
                "GROUP BY b.title, t.tag_name ---this is where the change is made from previous\r\n",
                "ORDER BY COUNT(bt.tag_id) DESC;\r\n",
                "\r\n",
                ""
            ],
            "metadata": {
                "azdata_cell_guid": "de3ac253-6b47-4740-8c6e-5f9d1b0ce36b",
                "language": "sql",
                "tags": []
            },
            "outputs": [
                {
                    "output_type": "display_data",
                    "data": {
                        "text/html": "(1 row affected)"
                    },
                    "metadata": {}
                },
                {
                    "output_type": "display_data",
                    "data": {
                        "text/html": "(1 row affected)"
                    },
                    "metadata": {}
                },
                {
                    "output_type": "display_data",
                    "data": {
                        "text/html": "(1 row affected)"
                    },
                    "metadata": {}
                },
                {
                    "output_type": "display_data",
                    "data": {
                        "text/html": "Total execution time: 00:00:17.283"
                    },
                    "metadata": {}
                },
                {
                    "output_type": "execute_result",
                    "metadata": {},
                    "execution_count": 11,
                    "data": {
                        "application/vnd.dataresource+json": {
                            "schema": {
                                "fields": [
                                    {
                                        "name": "Most_Tagged_Book"
                                    },
                                    {
                                        "name": "Tag_Count"
                                    }
                                ]
                            },
                            "data": [
                                {
                                    "Most_Tagged_Book": "Selected Poems",
                                    "Tag_Count": "400"
                                }
                            ]
                        },
                        "text/html": [
                            "<table>",
                            "<tr><th>Most_Tagged_Book</th><th>Tag_Count</th></tr>",
                            "<tr><td>Selected Poems</td><td>400</td></tr>",
                            "</table>"
                        ]
                    }
                },
                {
                    "output_type": "execute_result",
                    "metadata": {},
                    "execution_count": 11,
                    "data": {
                        "application/vnd.dataresource+json": {
                            "schema": {
                                "fields": [
                                    {
                                        "name": "Most_Tagged_Book"
                                    },
                                    {
                                        "name": "Most_Popular_Tag_ID"
                                    }
                                ]
                            },
                            "data": [
                                {
                                    "Most_Tagged_Book": "Selected Poems",
                                    "Most_Popular_Tag_ID": "5207"
                                }
                            ]
                        },
                        "text/html": [
                            "<table>",
                            "<tr><th>Most_Tagged_Book</th><th>Most_Popular_Tag_ID</th></tr>",
                            "<tr><td>Selected Poems</td><td>5207</td></tr>",
                            "</table>"
                        ]
                    }
                },
                {
                    "output_type": "execute_result",
                    "metadata": {},
                    "execution_count": 11,
                    "data": {
                        "application/vnd.dataresource+json": {
                            "schema": {
                                "fields": [
                                    {
                                        "name": "Most_Tagged_Book"
                                    },
                                    {
                                        "name": "Most_Popular_Tag_Name"
                                    }
                                ]
                            },
                            "data": [
                                {
                                    "Most_Tagged_Book": "Selected Poems",
                                    "Most_Popular_Tag_Name": "books-i-own"
                                }
                            ]
                        },
                        "text/html": [
                            "<table>",
                            "<tr><th>Most_Tagged_Book</th><th>Most_Popular_Tag_Name</th></tr>",
                            "<tr><td>Selected Poems</td><td>books-i-own</td></tr>",
                            "</table>"
                        ]
                    }
                }
            ],
            "execution_count": 11
        },
        {
            "cell_type": "markdown",
            "source": [
                "## **QUESTION 6:** Find a book based on a tag of your choice using joins.\n",
                "\n",
                "Some suggestions: any hobbies you like? baking, drawing, etc. how about favorite holidays, subjects, animals, etc?\n",
                "\n",
                "**Part A:** Explore the tags table for a tag of your choice.  Suggested ideas, try searching for one of your hobbies, a favorite time of year, favorite animal, etc.  Start by querying the tag table for your chosen tag.  (_Hint:_ in order to make sure you find all combinations of your tags, use the wildcard).  If your query returns more than one result, pick your favorite.\n",
                "\n",
                "> > _Here is an example.  Alyce wanted to search for halloween books.  She used the wildcard, '%halloween%' and 8 different combinations were found.  Alyce selected '**halloween-storytime**', with a tag id of 13877._\n",
                "\n",
                "> _Minimum Desired Output:_ <span style=\"font-family: -apple-system, BlinkMacSystemFont, sans-serif; background-color: rgba(127, 127, 127, 0.1);\">tag name and tag id</span>\n",
                "\n",
                "> **Your Tag and Tag Id:** \n",
                "> \n",
                "> 2858 archaeology\n",
                "\n",
                "**Part B:** Now that you have the **tag id**, find the title that was tagged the most with this tag by joining the books and books\\_tags tables.\n",
                "\n",
                "> > _Alyce joined the book table with the tags table and discovered that <u>The Little Old Lady Who Was Not Afraid of Anything</u> was tagged as '**halloween-storytime**' the most._\n",
                "\n",
                "> _Minimum Desired Output:_ <span style=\"background-color: rgba(127, 127, 127, 0.1); font-family: -apple-system, BlinkMacSystemFont, sans-serif;\">title and tag count</span>\n",
                "\n",
                "> **Your Title and Number of times the tag was used:** \n",
                "> \n",
                "> **1493: Uncovering the New World Columbus Created, 1**"
            ],
            "metadata": {
                "azdata_cell_guid": "df783e7e-3aff-4e63-9edb-f2e729c7d1c8"
            },
            "attachments": {}
        },
        {
            "cell_type": "code",
            "source": [
                "-- Code Here:\r\n",
                "SELECT tag_id, tag_name\r\n",
                "FROM BooksDB.dbo.tags\r\n",
                "WHERE tag_name LIKE '%archaeology%';\r\n",
                "\r\n",
                "SELECT TOP 1\r\n",
                "    b.title AS Most_Tagged_Title,\r\n",
                "    COUNT(*) AS Tag_Count\r\n",
                "FROM BooksDB.dbo.books AS b\r\n",
                "INNER JOIN BooksDB.dbo.book_tags AS bt ON b.best_book_id = bt.goodreads_book_id\r\n",
                "WHERE bt.tag_id = 2858\r\n",
                "GROUP BY b.title\r\n",
                "ORDER BY Tag_Count DESC;\r\n",
                "\r\n",
                "SELECT tag_id, tag_name\r\n",
                "FROM BooksDB.dbo.tags\r\n",
                "WHERE tag_name LIKE '%fantasy%';\r\n",
                "\r\n",
                "SELECT TOP 1\r\n",
                "    b.title AS Most_Tagged_Title,\r\n",
                "    COUNT(*) AS Tag_Count\r\n",
                "FROM BooksDB.dbo.books AS b\r\n",
                "INNER JOIN BooksDB.dbo.book_tags AS bt ON b.best_book_id = bt.goodreads_book_id\r\n",
                "WHERE bt.tag_id = 31701\r\n",
                "GROUP BY b.title\r\n",
                "ORDER BY Tag_Count DESC;\r\n",
                ""
            ],
            "metadata": {
                "azdata_cell_guid": "c4b0b67c-7cfa-4f52-be97-ffe5cc28ed54",
                "tags": [],
                "language": "sql"
            },
            "outputs": [
                {
                    "output_type": "display_data",
                    "data": {
                        "text/html": "(1 row affected)"
                    },
                    "metadata": {}
                },
                {
                    "output_type": "display_data",
                    "data": {
                        "text/html": "(1 row affected)"
                    },
                    "metadata": {}
                },
                {
                    "output_type": "display_data",
                    "data": {
                        "text/html": "(282 rows affected)"
                    },
                    "metadata": {}
                },
                {
                    "output_type": "display_data",
                    "data": {
                        "text/html": "(1 row affected)"
                    },
                    "metadata": {}
                },
                {
                    "output_type": "display_data",
                    "data": {
                        "text/html": "Total execution time: 00:00:00.327"
                    },
                    "metadata": {}
                },
                {
                    "output_type": "execute_result",
                    "metadata": {},
                    "execution_count": 19,
                    "data": {
                        "application/vnd.dataresource+json": {
                            "schema": {
                                "fields": [
                                    {
                                        "name": "tag_id"
                                    },
                                    {
                                        "name": "tag_name"
                                    }
                                ]
                            },
                            "data": [
                                {
                                    "tag_id": "2858",
                                    "tag_name": "archaeology"
                                }
                            ]
                        },
                        "text/html": [
                            "<table>",
                            "<tr><th>tag_id</th><th>tag_name</th></tr>",
                            "<tr><td>2858</td><td>archaeology</td></tr>",
                            "</table>"
                        ]
                    }
                },
                {
                    "output_type": "execute_result",
                    "metadata": {},
                    "execution_count": 19,
                    "data": {
                        "application/vnd.dataresource+json": {
                            "schema": {
                                "fields": [
                                    {
                                        "name": "Most_Tagged_Title"
                                    },
                                    {
                                        "name": "Tag_Count"
                                    }
                                ]
                            },
                            "data": [
                                {
                                    "Most_Tagged_Title": "1493: Uncovering the New World Columbus Created",
                                    "Tag_Count": "1"
                                }
                            ]
                        },
                        "text/html": [
                            "<table>",
                            "<tr><th>Most_Tagged_Title</th><th>Tag_Count</th></tr>",
                            "<tr><td>1493: Uncovering the New World Columbus Created</td><td>1</td></tr>",
                            "</table>"
                        ]
                    }
                },
                {
                    "output_type": "execute_result",
                    "metadata": {},
                    "execution_count": 19,
                    "data": {
                        "application/vnd.dataresource+json": {
                            "schema": {
                                "fields": [
                                    {
                                        "name": "tag_id"
                                    },
                                    {
                                        "name": "tag_name"
                                    }
                                ]
                            },
                            "data": [
                                {
                                    "tag_id": "98",
                                    "tag_name": "02-fantasy"
                                },
                                {
                                    "tag_id": "119",
                                    "tag_name": "05-high-fantasy"
                                },
                                {
                                    "tag_id": "124",
                                    "tag_name": "07-modern-fantasy"
                                },
                                {
                                    "tag_id": "950",
                                    "tag_name": "22-modern-fantasy"
                                },
                                {
                                    "tag_id": "1139",
                                    "tag_name": "50-fantasy"
                                },
                                {
                                    "tag_id": "1315",
                                    "tag_name": "a-fantasy"
                                },
                                {
                                    "tag_id": "1654",
                                    "tag_name": "adult-fantasy"
                                },
                                {
                                    "tag_id": "1700",
                                    "tag_name": "adventure-nonfantasy"
                                },
                                {
                                    "tag_id": "2050",
                                    "tag_name": "alien-fiction-fantasy-sci-fi"
                                },
                                {
                                    "tag_id": "2183",
                                    "tag_name": "alternative-fantasy"
                                },
                                {
                                    "tag_id": "2554",
                                    "tag_name": "animal-fantasy"
                                },
                                {
                                    "tag_id": "2820",
                                    "tag_name": "arab-fantasy"
                                },
                                {
                                    "tag_id": "3227",
                                    "tag_name": "asian-fantasy"
                                },
                                {
                                    "tag_id": "4310",
                                    "tag_name": "best-audio-epic-fantasy"
                                },
                                {
                                    "tag_id": "4333",
                                    "tag_name": "best-fantasy"
                                },
                                {
                                    "tag_id": "4334",
                                    "tag_name": "best-fantasy-books"
                                },
                                {
                                    "tag_id": "4335",
                                    "tag_name": "best-fantasy-series"
                                },
                                {
                                    "tag_id": "5133",
                                    "tag_name": "books-fantasy-7"
                                },
                                {
                                    "tag_id": "5134",
                                    "tag_name": "books-fantasy-8"
                                },
                                {
                                    "tag_id": "6873",
                                    "tag_name": "children-fantasy"
                                },
                                {
                                    "tag_id": "6907",
                                    "tag_name": "children-s-fantasy"
                                },
                                {
                                    "tag_id": "6971",
                                    "tag_name": "childrens-fantasy"
                                },
                                {
                                    "tag_id": "7112",
                                    "tag_name": "christian-fantasy"
                                },
                                {
                                    "tag_id": "7113",
                                    "tag_name": "christian-fantasy-and-drama"
                                },
                                {
                                    "tag_id": "7415",
                                    "tag_name": "classic-fantasy"
                                },
                                {
                                    "tag_id": "7723",
                                    "tag_name": "comedic-fantasy"
                                },
                                {
                                    "tag_id": "7727",
                                    "tag_name": "comedy-fantasy"
                                },
                                {
                                    "tag_id": "7756",
                                    "tag_name": "comic-fantasy"
                                },
                                {
                                    "tag_id": "7799",
                                    "tag_name": "comics-fantasy"
                                },
                                {
                                    "tag_id": "7853",
                                    "tag_name": "coming-of-age-fantasy"
                                },
                                {
                                    "tag_id": "8066",
                                    "tag_name": "contemporary-fantasy"
                                },
                                {
                                    "tag_id": "8750",
                                    "tag_name": "cyber-fantasy"
                                },
                                {
                                    "tag_id": "8767",
                                    "tag_name": "cz-fantasy-to-read"
                                },
                                {
                                    "tag_id": "8938",
                                    "tag_name": "dark-fantasy"
                                },
                                {
                                    "tag_id": "8939",
                                    "tag_name": "dark-fantasy-horror"
                                },
                                {
                                    "tag_id": "9852",
                                    "tag_name": "dragon-fantasy"
                                },
                                {
                                    "tag_id": "10731",
                                    "tag_name": "epic-fantasy"
                                },
                                {
                                    "tag_id": "10732",
                                    "tag_name": "epic-fantasy-series"
                                },
                                {
                                    "tag_id": "10735",
                                    "tag_name": "epic-high-fantasy"
                                },
                                {
                                    "tag_id": "10818",
                                    "tag_name": "erotic-fantasy"
                                },
                                {
                                    "tag_id": "11015",
                                    "tag_name": "excellent-fantasy"
                                },
                                {
                                    "tag_id": "11145",
                                    "tag_name": "fairy-fantasy"
                                },
                                {
                                    "tag_id": "11288",
                                    "tag_name": "fantascienza-fantasy"
                                },
                                {
                                    "tag_id": "11296",
                                    "tag_name": "fantastic-fantasy"
                                },
                                {
                                    "tag_id": "11305",
                                    "tag_name": "fantasy"
                                },
                                {
                                    "tag_id": "11306",
                                    "tag_name": "fantasy---sci-fi"
                                },
                                {
                                    "tag_id": "11307",
                                    "tag_name": "fantasy--sci-fi"
                                },
                                {
                                    "tag_id": "11308",
                                    "tag_name": "fantasy-4"
                                },
                                {
                                    "tag_id": "11309",
                                    "tag_name": "fantasy-adult"
                                },
                                {
                                    "tag_id": "11310",
                                    "tag_name": "fantasy-adventure"
                                },
                                {
                                    "tag_id": "11311",
                                    "tag_name": "fantasy-all-ages"
                                },
                                {
                                    "tag_id": "11312",
                                    "tag_name": "fantasy-alternative-world"
                                },
                                {
                                    "tag_id": "11313",
                                    "tag_name": "fantasy-and-related"
                                },
                                {
                                    "tag_id": "11314",
                                    "tag_name": "fantasy-and-sci-fi"
                                },
                                {
                                    "tag_id": "11315",
                                    "tag_name": "fantasy-and-science-fiction"
                                },
                                {
                                    "tag_id": "11316",
                                    "tag_name": "fantasy-and-scifi"
                                },
                                {
                                    "tag_id": "11317",
                                    "tag_name": "fantasy-and-sf"
                                },
                                {
                                    "tag_id": "11318",
                                    "tag_name": "fantasy-and-the-like"
                                },
                                {
                                    "tag_id": "11319",
                                    "tag_name": "fantasy-art"
                                },
                                {
                                    "tag_id": "11320",
                                    "tag_name": "fantasy-book-club"
                                },
                                {
                                    "tag_id": "11321",
                                    "tag_name": "fantasy-books"
                                },
                                {
                                    "tag_id": "11322",
                                    "tag_name": "fantasy-books-i-ve-enjoyed"
                                },
                                {
                                    "tag_id": "11323",
                                    "tag_name": "fantasy-books-must-read"
                                },
                                {
                                    "tag_id": "11324",
                                    "tag_name": "fantasy-books-read"
                                },
                                {
                                    "tag_id": "11325",
                                    "tag_name": "fantasy-brain"
                                },
                                {
                                    "tag_id": "11326",
                                    "tag_name": "fantasy-classic"
                                },
                                {
                                    "tag_id": "11327",
                                    "tag_name": "fantasy-classics"
                                },
                                {
                                    "tag_id": "11328",
                                    "tag_name": "fantasy-comedy"
                                },
                                {
                                    "tag_id": "11329",
                                    "tag_name": "fantasy-contemporary"
                                },
                                {
                                    "tag_id": "11330",
                                    "tag_name": "fantasy-dark"
                                },
                                {
                                    "tag_id": "11331",
                                    "tag_name": "fantasy-detective"
                                },
                                {
                                    "tag_id": "11332",
                                    "tag_name": "fantasy-discworld"
                                },
                                {
                                    "tag_id": "11333",
                                    "tag_name": "fantasy-dragonlance"
                                },
                                {
                                    "tag_id": "11334",
                                    "tag_name": "fantasy-dragons"
                                },
                                {
                                    "tag_id": "11335",
                                    "tag_name": "fantasy-eddings"
                                },
                                {
                                    "tag_id": "11336",
                                    "tag_name": "fantasy-epic"
                                },
                                {
                                    "tag_id": "11337",
                                    "tag_name": "fantasy-faerie"
                                },
                                {
                                    "tag_id": "11338",
                                    "tag_name": "fantasy-favorites"
                                },
                                {
                                    "tag_id": "11339",
                                    "tag_name": "fantasy-feist"
                                },
                                {
                                    "tag_id": "11340",
                                    "tag_name": "fantasy-fiction"
                                },
                                {
                                    "tag_id": "11341",
                                    "tag_name": "fantasy-for-all-ages"
                                },
                                {
                                    "tag_id": "11342",
                                    "tag_name": "fantasy-for-everybody"
                                },
                                {
                                    "tag_id": "11343",
                                    "tag_name": "fantasy-forgotten-realms"
                                },
                                {
                                    "tag_id": "11344",
                                    "tag_name": "fantasy-fun"
                                },
                                {
                                    "tag_id": "11345",
                                    "tag_name": "fantasy-general"
                                },
                                {
                                    "tag_id": "11346",
                                    "tag_name": "fantasy-gunpowder"
                                },
                                {
                                    "tag_id": "11347",
                                    "tag_name": "fantasy-heroic"
                                },
                                {
                                    "tag_id": "11348",
                                    "tag_name": "fantasy-high"
                                },
                                {
                                    "tag_id": "11349",
                                    "tag_name": "fantasy-historical"
                                },
                                {
                                    "tag_id": "11350",
                                    "tag_name": "fantasy-horror"
                                },
                                {
                                    "tag_id": "11351",
                                    "tag_name": "fantasy-humor"
                                },
                                {
                                    "tag_id": "11352",
                                    "tag_name": "fantasy-humour"
                                },
                                {
                                    "tag_id": "11353",
                                    "tag_name": "fantasy-juvenile"
                                },
                                {
                                    "tag_id": "11354",
                                    "tag_name": "fantasy-kids"
                                },
                                {
                                    "tag_id": "11355",
                                    "tag_name": "fantasy-la-la-la"
                                },
                                {
                                    "tag_id": "11356",
                                    "tag_name": "fantasy-magic"
                                },
                                {
                                    "tag_id": "11357",
                                    "tag_name": "fantasy-manga"
                                },
                                {
                                    "tag_id": "11358",
                                    "tag_name": "fantasy-masterworks"
                                },
                                {
                                    "tag_id": "11359",
                                    "tag_name": "fantasy-modern"
                                },
                                {
                                    "tag_id": "11360",
                                    "tag_name": "fantasy-mythology"
                                },
                                {
                                    "tag_id": "11361",
                                    "tag_name": "fantasy-need-to-read"
                                },
                                {
                                    "tag_id": "11362",
                                    "tag_name": "fantasy-novels"
                                },
                                {
                                    "tag_id": "11363",
                                    "tag_name": "fantasy-of-manners"
                                },
                                {
                                    "tag_id": "11364",
                                    "tag_name": "fantasy-otherworldy"
                                },
                                {
                                    "tag_id": "11365",
                                    "tag_name": "fantasy-owned"
                                },
                                {
                                    "tag_id": "11366",
                                    "tag_name": "fantasy-paranormal"
                                },
                                {
                                    "tag_id": "11367",
                                    "tag_name": "fantasy-read"
                                },
                                {
                                    "tag_id": "11368",
                                    "tag_name": "fantasy-reads"
                                },
                                {
                                    "tag_id": "11369",
                                    "tag_name": "fantasy-romance"
                                },
                                {
                                    "tag_id": "11370",
                                    "tag_name": "fantasy-sci-fi"
                                },
                                {
                                    "tag_id": "11371",
                                    "tag_name": "fantasy-sci-fi-liesure"
                                },
                                {
                                    "tag_id": "11372",
                                    "tag_name": "fantasy-science-fiction"
                                },
                                {
                                    "tag_id": "11373",
                                    "tag_name": "fantasy-science-fiction-dystopian"
                                },
                                {
                                    "tag_id": "11374",
                                    "tag_name": "fantasy-science-fiction-fairy-tale"
                                },
                                {
                                    "tag_id": "11375",
                                    "tag_name": "fantasy-sciencefiction"
                                },
                                {
                                    "tag_id": "11376",
                                    "tag_name": "fantasy-scifi"
                                },
                                {
                                    "tag_id": "11377",
                                    "tag_name": "fantasy-scifi-futuristic-postapocal"
                                },
                                {
                                    "tag_id": "11378",
                                    "tag_name": "fantasy-series"
                                },
                                {
                                    "tag_id": "11379",
                                    "tag_name": "fantasy-sf"
                                },
                                {
                                    "tag_id": "11380",
                                    "tag_name": "fantasy-sifi"
                                },
                                {
                                    "tag_id": "11381",
                                    "tag_name": "fantasy-soft-sci-fi"
                                },
                                {
                                    "tag_id": "11382",
                                    "tag_name": "fantasy-supernatural"
                                },
                                {
                                    "tag_id": "11383",
                                    "tag_name": "fantasy-sword-and-sorcery"
                                },
                                {
                                    "tag_id": "11384",
                                    "tag_name": "fantasy-tbr"
                                },
                                {
                                    "tag_id": "11385",
                                    "tag_name": "fantasy-titles"
                                },
                                {
                                    "tag_id": "11386",
                                    "tag_name": "fantasy-to-read"
                                },
                                {
                                    "tag_id": "11387",
                                    "tag_name": "fantasy-tolkien"
                                },
                                {
                                    "tag_id": "11388",
                                    "tag_name": "fantasy-urban"
                                },
                                {
                                    "tag_id": "11389",
                                    "tag_name": "fantasy-urban-fantasy"
                                },
                                {
                                    "tag_id": "11390",
                                    "tag_name": "fantasy-vampires"
                                },
                                {
                                    "tag_id": "11391",
                                    "tag_name": "fantasy-wensenlijstje"
                                },
                                {
                                    "tag_id": "11392",
                                    "tag_name": "fantasy-ya"
                                },
                                {
                                    "tag_id": "11393",
                                    "tag_name": "fantasy_sci-fi"
                                },
                                {
                                    "tag_id": "11394",
                                    "tag_name": "fantasybooks"
                                },
                                {
                                    "tag_id": "11395",
                                    "tag_name": "fantasyland"
                                },
                                {
                                    "tag_id": "11524",
                                    "tag_name": "favorite-fantasy"
                                },
                                {
                                    "tag_id": "11525",
                                    "tag_name": "favorite-fantasy-books"
                                },
                                {
                                    "tag_id": "11583",
                                    "tag_name": "favourite-fantasy"
                                },
                                {
                                    "tag_id": "11584",
                                    "tag_name": "favourite-fantasy-novels"
                                },
                                {
                                    "tag_id": "11721",
                                    "tag_name": "fic-fantasy"
                                },
                                {
                                    "tag_id": "11741",
                                    "tag_name": "fictio-fantasy"
                                },
                                {
                                    "tag_id": "11773",
                                    "tag_name": "fiction-fantasy"
                                },
                                {
                                    "tag_id": "11774",
                                    "tag_name": "fiction-fantasy-and-science-fiction"
                                },
                                {
                                    "tag_id": "12081",
                                    "tag_name": "five-star-fantasy"
                                },
                                {
                                    "tag_id": "12116",
                                    "tag_name": "flintlock-fantasy"
                                },
                                {
                                    "tag_id": "12667",
                                    "tag_name": "fun-fantasy"
                                },
                                {
                                    "tag_id": "12729",
                                    "tag_name": "g-fantasy"
                                },
                                {
                                    "tag_id": "12730",
                                    "tag_name": "g-fantasy-uf"
                                },
                                {
                                    "tag_id": "12754",
                                    "tag_name": "g_fantasy"
                                },
                                {
                                    "tag_id": "12876",
                                    "tag_name": "gay-fantasy"
                                },
                                {
                                    "tag_id": "12946",
                                    "tag_name": "general-fantasy"
                                },
                                {
                                    "tag_id": "13005",
                                    "tag_name": "genre-fantasy"
                                },
                                {
                                    "tag_id": "13009",
                                    "tag_name": "genre-historical-fantasy"
                                },
                                {
                                    "tag_id": "13037",
                                    "tag_name": "genre-urban-fantasy"
                                },
                                {
                                    "tag_id": "13042",
                                    "tag_name": "genric-fantasy"
                                },
                                {
                                    "tag_id": "13371",
                                    "tag_name": "good-fantasy"
                                },
                                {
                                    "tag_id": "13372",
                                    "tag_name": "good-fantasy-protagonists"
                                },
                                {
                                    "tag_id": "13375",
                                    "tag_name": "good-fun-fantasy-sci-fi"
                                },
                                {
                                    "tag_id": "13537",
                                    "tag_name": "graphic-fantasy-novels"
                                },
                                {
                                    "tag_id": "13709",
                                    "tag_name": "grim-fantasy"
                                },
                                {
                                    "tag_id": "13712",
                                    "tag_name": "grimdark-fantasy"
                                },
                                {
                                    "tag_id": "13726",
                                    "tag_name": "gritty-fantasy"
                                },
                                {
                                    "tag_id": "13800",
                                    "tag_name": "gunpowder-fantasy"
                                },
                                {
                                    "tag_id": "14311",
                                    "tag_name": "heroic-fantasy"
                                },
                                {
                                    "tag_id": "14360",
                                    "tag_name": "high-epic-fantasy"
                                },
                                {
                                    "tag_id": "14361",
                                    "tag_name": "high-fantasy"
                                },
                                {
                                    "tag_id": "14366",
                                    "tag_name": "high-or-epic-fantasy"
                                },
                                {
                                    "tag_id": "14484",
                                    "tag_name": "historical-fantasy"
                                },
                                {
                                    "tag_id": "14833",
                                    "tag_name": "horror-dark-fantasy"
                                },
                                {
                                    "tag_id": "14835",
                                    "tag_name": "horror-fantasy"
                                },
                                {
                                    "tag_id": "15054",
                                    "tag_name": "humor-fantasy"
                                },
                                {
                                    "tag_id": "15062",
                                    "tag_name": "humorous-fantasy"
                                },
                                {
                                    "tag_id": "15122",
                                    "tag_name": "héroïc-fantasy"
                                },
                                {
                                    "tag_id": "15938",
                                    "tag_name": "ive-only-got-time-for-fantasy"
                                },
                                {
                                    "tag_id": "16796",
                                    "tag_name": "juv-fantasy"
                                },
                                {
                                    "tag_id": "16804",
                                    "tag_name": "juvenile-fantasy"
                                },
                                {
                                    "tag_id": "17140",
                                    "tag_name": "kids-fantasy"
                                },
                                {
                                    "tag_id": "17200",
                                    "tag_name": "kimmi-fantasy"
                                },
                                {
                                    "tag_id": "18179",
                                    "tag_name": "light-fantasy"
                                },
                                {
                                    "tag_id": "18376",
                                    "tag_name": "literature-fantasy-fiction"
                                },
                                {
                                    "tag_id": "18389",
                                    "tag_name": "literature-sf-fantasy"
                                },
                                {
                                    "tag_id": "18500",
                                    "tag_name": "locus-fantasy"
                                },
                                {
                                    "tag_id": "18697",
                                    "tag_name": "low-fantasy"
                                },
                                {
                                    "tag_id": "18803",
                                    "tag_name": "m-m-fantasy"
                                },
                                {
                                    "tag_id": "18889",
                                    "tag_name": "magic-fantasy"
                                },
                                {
                                    "tag_id": "18915",
                                    "tag_name": "magical-fantasy"
                                },
                                {
                                    "tag_id": "18924",
                                    "tag_name": "magickal-fantasy-art"
                                },
                                {
                                    "tag_id": "19094",
                                    "tag_name": "manga-fantasy"
                                },
                                {
                                    "tag_id": "19669",
                                    "tag_name": "medieval-fantasy"
                                },
                                {
                                    "tag_id": "19868",
                                    "tag_name": "mg-fantasy"
                                },
                                {
                                    "tag_id": "19978",
                                    "tag_name": "middle-grade-fantasy"
                                },
                                {
                                    "tag_id": "20052",
                                    "tag_name": "military-fantasy"
                                },
                                {
                                    "tag_id": "20168",
                                    "tag_name": "miscellaneous-fantasy"
                                },
                                {
                                    "tag_id": "20242",
                                    "tag_name": "mm-fantasy"
                                },
                                {
                                    "tag_id": "20287",
                                    "tag_name": "modern-fantasy"
                                },
                                {
                                    "tag_id": "20814",
                                    "tag_name": "my-fantasy"
                                },
                                {
                                    "tag_id": "21647",
                                    "tag_name": "no-thanks-sir-fantasy-setting"
                                },
                                {
                                    "tag_id": "22038",
                                    "tag_name": "novels-fantasy"
                                },
                                {
                                    "tag_id": "22067",
                                    "tag_name": "npr-100-scifi-fantasy"
                                },
                                {
                                    "tag_id": "22069",
                                    "tag_name": "npr-best-scifi-fantasy"
                                },
                                {
                                    "tag_id": "22073",
                                    "tag_name": "npr-top-100-fantasy-scifi"
                                },
                                {
                                    "tag_id": "22075",
                                    "tag_name": "npr-top-100-sci-fi-fantasy"
                                },
                                {
                                    "tag_id": "22076",
                                    "tag_name": "npr-top-100-scifi-and-fantasy"
                                },
                                {
                                    "tag_id": "22077",
                                    "tag_name": "npr-top-100-scifi-fantasy"
                                },
                                {
                                    "tag_id": "22486",
                                    "tag_name": "ordinary-fantasy"
                                },
                                {
                                    "tag_id": "22977",
                                    "tag_name": "paranormal-fantasy"
                                },
                                {
                                    "tag_id": "22978",
                                    "tag_name": "paranormal-fantasy-romance"
                                },
                                {
                                    "tag_id": "22984",
                                    "tag_name": "paranormal-romance-urban-fantasy"
                                },
                                {
                                    "tag_id": "22991",
                                    "tag_name": "paranormal-urban-fantasy"
                                },
                                {
                                    "tag_id": "23903",
                                    "tag_name": "polish-fantasy"
                                },
                                {
                                    "tag_id": "23913",
                                    "tag_name": "political-fantasy"
                                },
                                {
                                    "tag_id": "24064",
                                    "tag_name": "post-tolkien-modern-high-fantasy"
                                },
                                {
                                    "tag_id": "24730",
                                    "tag_name": "queer-fantasy"
                                },
                                {
                                    "tag_id": "25104",
                                    "tag_name": "read-fantasy"
                                },
                                {
                                    "tag_id": "25232",
                                    "tag_name": "read-modern-fantasy"
                                },
                                {
                                    "tag_id": "25278",
                                    "tag_name": "read-sci-fi-fantasy"
                                },
                                {
                                    "tag_id": "25608",
                                    "tag_name": "regular-fantasy"
                                },
                                {
                                    "tag_id": "26151",
                                    "tag_name": "romance-fantasy"
                                },
                                {
                                    "tag_id": "26199",
                                    "tag_name": "romantic-fantasy"
                                },
                                {
                                    "tag_id": "26728",
                                    "tag_name": "scfi-and-fantasy"
                                },
                                {
                                    "tag_id": "26770",
                                    "tag_name": "sci-fantasy"
                                },
                                {
                                    "tag_id": "26772",
                                    "tag_name": "sci-fi---fantasy"
                                },
                                {
                                    "tag_id": "26773",
                                    "tag_name": "sci-fi--fantasy"
                                },
                                {
                                    "tag_id": "26774",
                                    "tag_name": "sci-fi-and-fantasy"
                                },
                                {
                                    "tag_id": "26785",
                                    "tag_name": "sci-fi-fantasy"
                                },
                                {
                                    "tag_id": "26786",
                                    "tag_name": "sci-fi-fantasy-good"
                                },
                                {
                                    "tag_id": "26787",
                                    "tag_name": "sci-fi-fantasy-horror"
                                },
                                {
                                    "tag_id": "26788",
                                    "tag_name": "sci-fi-fantasy-paranormal"
                                },
                                {
                                    "tag_id": "26789",
                                    "tag_name": "sci-fi-fantasy-read"
                                },
                                {
                                    "tag_id": "26790",
                                    "tag_name": "sci-fi-fantasy-to-read"
                                },
                                {
                                    "tag_id": "26809",
                                    "tag_name": "sci-fi_fantasy"
                                },
                                {
                                    "tag_id": "26812",
                                    "tag_name": "sci-fifantasy"
                                },
                                {
                                    "tag_id": "26836",
                                    "tag_name": "science-fantasy"
                                },
                                {
                                    "tag_id": "26838",
                                    "tag_name": "science-fiction-and-fantasy"
                                },
                                {
                                    "tag_id": "26842",
                                    "tag_name": "science-fiction-fantasy"
                                },
                                {
                                    "tag_id": "26895",
                                    "tag_name": "scifi-and-fantasy"
                                },
                                {
                                    "tag_id": "26896",
                                    "tag_name": "scifi-and-fantasy-book-club"
                                },
                                {
                                    "tag_id": "26897",
                                    "tag_name": "scifi-fantasy"
                                },
                                {
                                    "tag_id": "26898",
                                    "tag_name": "scifi-fantasy-horror"
                                },
                                {
                                    "tag_id": "26899",
                                    "tag_name": "scifi-fantasy-paranormal"
                                },
                                {
                                    "tag_id": "26905",
                                    "tag_name": "scififantasy"
                                },
                                {
                                    "tag_id": "27399",
                                    "tag_name": "sf-and-fantasy"
                                },
                                {
                                    "tag_id": "27403",
                                    "tag_name": "sf-fantasy"
                                },
                                {
                                    "tag_id": "27534",
                                    "tag_name": "shelfari-fantasy"
                                },
                                {
                                    "tag_id": "28241",
                                    "tag_name": "space-fantasy"
                                },
                                {
                                    "tag_id": "28271",
                                    "tag_name": "spanning-fantasy-sciencefiction"
                                },
                                {
                                    "tag_id": "29013",
                                    "tag_name": "supernatural-fantasy"
                                },
                                {
                                    "tag_id": "29328",
                                    "tag_name": "tbr-fantasy"
                                },
                                {
                                    "tag_id": "29462",
                                    "tag_name": "teen-fantasy"
                                },
                                {
                                    "tag_id": "29648",
                                    "tag_name": "the-best-ones-fantasy"
                                },
                                {
                                    "tag_id": "30667",
                                    "tag_name": "to-read-fantasy"
                                },
                                {
                                    "tag_id": "30668",
                                    "tag_name": "to-read-fantasy-series"
                                },
                                {
                                    "tag_id": "30669",
                                    "tag_name": "to-read-fantasy-ya"
                                },
                                {
                                    "tag_id": "30670",
                                    "tag_name": "to-read-fantasyscifi"
                                },
                                {
                                    "tag_id": "30785",
                                    "tag_name": "to-read-prn_fantasy"
                                },
                                {
                                    "tag_id": "30805",
                                    "tag_name": "to-read-scifi-fantasy"
                                },
                                {
                                    "tag_id": "30846",
                                    "tag_name": "to-read-urban-fantasy"
                                },
                                {
                                    "tag_id": "30984",
                                    "tag_name": "top-fantasy"
                                },
                                {
                                    "tag_id": "30993",
                                    "tag_name": "top-sci-fi-fantasy-to-read"
                                },
                                {
                                    "tag_id": "31058",
                                    "tag_name": "tr-fantasy"
                                },
                                {
                                    "tag_id": "31617",
                                    "tag_name": "urban-fantasy"
                                },
                                {
                                    "tag_id": "31618",
                                    "tag_name": "urban-fantasy-paranormal"
                                },
                                {
                                    "tag_id": "31619",
                                    "tag_name": "urban-fantasy-parnormal"
                                },
                                {
                                    "tag_id": "31629",
                                    "tag_name": "urbanfantasy"
                                },
                                {
                                    "tag_id": "31701",
                                    "tag_name": "vaginal-fantasy"
                                },
                                {
                                    "tag_id": "31702",
                                    "tag_name": "vaginal-fantasy-book-club"
                                },
                                {
                                    "tag_id": "31703",
                                    "tag_name": "vaginal-fantasy-bookclub"
                                },
                                {
                                    "tag_id": "31704",
                                    "tag_name": "vaginal-fantasy-hangout"
                                },
                                {
                                    "tag_id": "31731",
                                    "tag_name": "vampire-fantasy"
                                },
                                {
                                    "tag_id": "31743",
                                    "tag_name": "vampire-werewolf-etc-fantasy"
                                },
                                {
                                    "tag_id": "32317",
                                    "tag_name": "well-intentioned-fantasy"
                                },
                                {
                                    "tag_id": "32793",
                                    "tag_name": "world-fantasy-award"
                                },
                                {
                                    "tag_id": "32794",
                                    "tag_name": "world-fantasy-loss"
                                },
                                {
                                    "tag_id": "32854",
                                    "tag_name": "wow-fantasy"
                                },
                                {
                                    "tag_id": "32976",
                                    "tag_name": "y-fantasy"
                                },
                                {
                                    "tag_id": "32977",
                                    "tag_name": "y-fic-fantasy-gaiman"
                                },
                                {
                                    "tag_id": "33009",
                                    "tag_name": "ya-fantasy"
                                },
                                {
                                    "tag_id": "33016",
                                    "tag_name": "ya-high-fantasy"
                                },
                                {
                                    "tag_id": "33037",
                                    "tag_name": "ya-paranormal-romance-fantasy"
                                },
                                {
                                    "tag_id": "33055",
                                    "tag_name": "ya-urban-fantasy"
                                },
                                {
                                    "tag_id": "33121",
                                    "tag_name": "young-adult-fantasy"
                                },
                                {
                                    "tag_id": "33292",
                                    "tag_name": "zz-to-read-fantasy"
                                }
                            ]
                        },
                        "text/html": [
                            "<table>",
                            "<tr><th>tag_id</th><th>tag_name</th></tr>",
                            "<tr><td>98</td><td>02-fantasy</td></tr>",
                            "<tr><td>119</td><td>05-high-fantasy</td></tr>",
                            "<tr><td>124</td><td>07-modern-fantasy</td></tr>",
                            "<tr><td>950</td><td>22-modern-fantasy</td></tr>",
                            "<tr><td>1139</td><td>50-fantasy</td></tr>",
                            "<tr><td>1315</td><td>a-fantasy</td></tr>",
                            "<tr><td>1654</td><td>adult-fantasy</td></tr>",
                            "<tr><td>1700</td><td>adventure-nonfantasy</td></tr>",
                            "<tr><td>2050</td><td>alien-fiction-fantasy-sci-fi</td></tr>",
                            "<tr><td>2183</td><td>alternative-fantasy</td></tr>",
                            "<tr><td>2554</td><td>animal-fantasy</td></tr>",
                            "<tr><td>2820</td><td>arab-fantasy</td></tr>",
                            "<tr><td>3227</td><td>asian-fantasy</td></tr>",
                            "<tr><td>4310</td><td>best-audio-epic-fantasy</td></tr>",
                            "<tr><td>4333</td><td>best-fantasy</td></tr>",
                            "<tr><td>4334</td><td>best-fantasy-books</td></tr>",
                            "<tr><td>4335</td><td>best-fantasy-series</td></tr>",
                            "<tr><td>5133</td><td>books-fantasy-7</td></tr>",
                            "<tr><td>5134</td><td>books-fantasy-8</td></tr>",
                            "<tr><td>6873</td><td>children-fantasy</td></tr>",
                            "<tr><td>6907</td><td>children-s-fantasy</td></tr>",
                            "<tr><td>6971</td><td>childrens-fantasy</td></tr>",
                            "<tr><td>7112</td><td>christian-fantasy</td></tr>",
                            "<tr><td>7113</td><td>christian-fantasy-and-drama</td></tr>",
                            "<tr><td>7415</td><td>classic-fantasy</td></tr>",
                            "<tr><td>7723</td><td>comedic-fantasy</td></tr>",
                            "<tr><td>7727</td><td>comedy-fantasy</td></tr>",
                            "<tr><td>7756</td><td>comic-fantasy</td></tr>",
                            "<tr><td>7799</td><td>comics-fantasy</td></tr>",
                            "<tr><td>7853</td><td>coming-of-age-fantasy</td></tr>",
                            "<tr><td>8066</td><td>contemporary-fantasy</td></tr>",
                            "<tr><td>8750</td><td>cyber-fantasy</td></tr>",
                            "<tr><td>8767</td><td>cz-fantasy-to-read</td></tr>",
                            "<tr><td>8938</td><td>dark-fantasy</td></tr>",
                            "<tr><td>8939</td><td>dark-fantasy-horror</td></tr>",
                            "<tr><td>9852</td><td>dragon-fantasy</td></tr>",
                            "<tr><td>10731</td><td>epic-fantasy</td></tr>",
                            "<tr><td>10732</td><td>epic-fantasy-series</td></tr>",
                            "<tr><td>10735</td><td>epic-high-fantasy</td></tr>",
                            "<tr><td>10818</td><td>erotic-fantasy</td></tr>",
                            "<tr><td>11015</td><td>excellent-fantasy</td></tr>",
                            "<tr><td>11145</td><td>fairy-fantasy</td></tr>",
                            "<tr><td>11288</td><td>fantascienza-fantasy</td></tr>",
                            "<tr><td>11296</td><td>fantastic-fantasy</td></tr>",
                            "<tr><td>11305</td><td>fantasy</td></tr>",
                            "<tr><td>11306</td><td>fantasy---sci-fi</td></tr>",
                            "<tr><td>11307</td><td>fantasy--sci-fi</td></tr>",
                            "<tr><td>11308</td><td>fantasy-4</td></tr>",
                            "<tr><td>11309</td><td>fantasy-adult</td></tr>",
                            "<tr><td>11310</td><td>fantasy-adventure</td></tr>",
                            "<tr><td>11311</td><td>fantasy-all-ages</td></tr>",
                            "<tr><td>11312</td><td>fantasy-alternative-world</td></tr>",
                            "<tr><td>11313</td><td>fantasy-and-related</td></tr>",
                            "<tr><td>11314</td><td>fantasy-and-sci-fi</td></tr>",
                            "<tr><td>11315</td><td>fantasy-and-science-fiction</td></tr>",
                            "<tr><td>11316</td><td>fantasy-and-scifi</td></tr>",
                            "<tr><td>11317</td><td>fantasy-and-sf</td></tr>",
                            "<tr><td>11318</td><td>fantasy-and-the-like</td></tr>",
                            "<tr><td>11319</td><td>fantasy-art</td></tr>",
                            "<tr><td>11320</td><td>fantasy-book-club</td></tr>",
                            "<tr><td>11321</td><td>fantasy-books</td></tr>",
                            "<tr><td>11322</td><td>fantasy-books-i-ve-enjoyed</td></tr>",
                            "<tr><td>11323</td><td>fantasy-books-must-read</td></tr>",
                            "<tr><td>11324</td><td>fantasy-books-read</td></tr>",
                            "<tr><td>11325</td><td>fantasy-brain</td></tr>",
                            "<tr><td>11326</td><td>fantasy-classic</td></tr>",
                            "<tr><td>11327</td><td>fantasy-classics</td></tr>",
                            "<tr><td>11328</td><td>fantasy-comedy</td></tr>",
                            "<tr><td>11329</td><td>fantasy-contemporary</td></tr>",
                            "<tr><td>11330</td><td>fantasy-dark</td></tr>",
                            "<tr><td>11331</td><td>fantasy-detective</td></tr>",
                            "<tr><td>11332</td><td>fantasy-discworld</td></tr>",
                            "<tr><td>11333</td><td>fantasy-dragonlance</td></tr>",
                            "<tr><td>11334</td><td>fantasy-dragons</td></tr>",
                            "<tr><td>11335</td><td>fantasy-eddings</td></tr>",
                            "<tr><td>11336</td><td>fantasy-epic</td></tr>",
                            "<tr><td>11337</td><td>fantasy-faerie</td></tr>",
                            "<tr><td>11338</td><td>fantasy-favorites</td></tr>",
                            "<tr><td>11339</td><td>fantasy-feist</td></tr>",
                            "<tr><td>11340</td><td>fantasy-fiction</td></tr>",
                            "<tr><td>11341</td><td>fantasy-for-all-ages</td></tr>",
                            "<tr><td>11342</td><td>fantasy-for-everybody</td></tr>",
                            "<tr><td>11343</td><td>fantasy-forgotten-realms</td></tr>",
                            "<tr><td>11344</td><td>fantasy-fun</td></tr>",
                            "<tr><td>11345</td><td>fantasy-general</td></tr>",
                            "<tr><td>11346</td><td>fantasy-gunpowder</td></tr>",
                            "<tr><td>11347</td><td>fantasy-heroic</td></tr>",
                            "<tr><td>11348</td><td>fantasy-high</td></tr>",
                            "<tr><td>11349</td><td>fantasy-historical</td></tr>",
                            "<tr><td>11350</td><td>fantasy-horror</td></tr>",
                            "<tr><td>11351</td><td>fantasy-humor</td></tr>",
                            "<tr><td>11352</td><td>fantasy-humour</td></tr>",
                            "<tr><td>11353</td><td>fantasy-juvenile</td></tr>",
                            "<tr><td>11354</td><td>fantasy-kids</td></tr>",
                            "<tr><td>11355</td><td>fantasy-la-la-la</td></tr>",
                            "<tr><td>11356</td><td>fantasy-magic</td></tr>",
                            "<tr><td>11357</td><td>fantasy-manga</td></tr>",
                            "<tr><td>11358</td><td>fantasy-masterworks</td></tr>",
                            "<tr><td>11359</td><td>fantasy-modern</td></tr>",
                            "<tr><td>11360</td><td>fantasy-mythology</td></tr>",
                            "<tr><td>11361</td><td>fantasy-need-to-read</td></tr>",
                            "<tr><td>11362</td><td>fantasy-novels</td></tr>",
                            "<tr><td>11363</td><td>fantasy-of-manners</td></tr>",
                            "<tr><td>11364</td><td>fantasy-otherworldy</td></tr>",
                            "<tr><td>11365</td><td>fantasy-owned</td></tr>",
                            "<tr><td>11366</td><td>fantasy-paranormal</td></tr>",
                            "<tr><td>11367</td><td>fantasy-read</td></tr>",
                            "<tr><td>11368</td><td>fantasy-reads</td></tr>",
                            "<tr><td>11369</td><td>fantasy-romance</td></tr>",
                            "<tr><td>11370</td><td>fantasy-sci-fi</td></tr>",
                            "<tr><td>11371</td><td>fantasy-sci-fi-liesure</td></tr>",
                            "<tr><td>11372</td><td>fantasy-science-fiction</td></tr>",
                            "<tr><td>11373</td><td>fantasy-science-fiction-dystopian</td></tr>",
                            "<tr><td>11374</td><td>fantasy-science-fiction-fairy-tale</td></tr>",
                            "<tr><td>11375</td><td>fantasy-sciencefiction</td></tr>",
                            "<tr><td>11376</td><td>fantasy-scifi</td></tr>",
                            "<tr><td>11377</td><td>fantasy-scifi-futuristic-postapocal</td></tr>",
                            "<tr><td>11378</td><td>fantasy-series</td></tr>",
                            "<tr><td>11379</td><td>fantasy-sf</td></tr>",
                            "<tr><td>11380</td><td>fantasy-sifi</td></tr>",
                            "<tr><td>11381</td><td>fantasy-soft-sci-fi</td></tr>",
                            "<tr><td>11382</td><td>fantasy-supernatural</td></tr>",
                            "<tr><td>11383</td><td>fantasy-sword-and-sorcery</td></tr>",
                            "<tr><td>11384</td><td>fantasy-tbr</td></tr>",
                            "<tr><td>11385</td><td>fantasy-titles</td></tr>",
                            "<tr><td>11386</td><td>fantasy-to-read</td></tr>",
                            "<tr><td>11387</td><td>fantasy-tolkien</td></tr>",
                            "<tr><td>11388</td><td>fantasy-urban</td></tr>",
                            "<tr><td>11389</td><td>fantasy-urban-fantasy</td></tr>",
                            "<tr><td>11390</td><td>fantasy-vampires</td></tr>",
                            "<tr><td>11391</td><td>fantasy-wensenlijstje</td></tr>",
                            "<tr><td>11392</td><td>fantasy-ya</td></tr>",
                            "<tr><td>11393</td><td>fantasy_sci-fi</td></tr>",
                            "<tr><td>11394</td><td>fantasybooks</td></tr>",
                            "<tr><td>11395</td><td>fantasyland</td></tr>",
                            "<tr><td>11524</td><td>favorite-fantasy</td></tr>",
                            "<tr><td>11525</td><td>favorite-fantasy-books</td></tr>",
                            "<tr><td>11583</td><td>favourite-fantasy</td></tr>",
                            "<tr><td>11584</td><td>favourite-fantasy-novels</td></tr>",
                            "<tr><td>11721</td><td>fic-fantasy</td></tr>",
                            "<tr><td>11741</td><td>fictio-fantasy</td></tr>",
                            "<tr><td>11773</td><td>fiction-fantasy</td></tr>",
                            "<tr><td>11774</td><td>fiction-fantasy-and-science-fiction</td></tr>",
                            "<tr><td>12081</td><td>five-star-fantasy</td></tr>",
                            "<tr><td>12116</td><td>flintlock-fantasy</td></tr>",
                            "<tr><td>12667</td><td>fun-fantasy</td></tr>",
                            "<tr><td>12729</td><td>g-fantasy</td></tr>",
                            "<tr><td>12730</td><td>g-fantasy-uf</td></tr>",
                            "<tr><td>12754</td><td>g_fantasy</td></tr>",
                            "<tr><td>12876</td><td>gay-fantasy</td></tr>",
                            "<tr><td>12946</td><td>general-fantasy</td></tr>",
                            "<tr><td>13005</td><td>genre-fantasy</td></tr>",
                            "<tr><td>13009</td><td>genre-historical-fantasy</td></tr>",
                            "<tr><td>13037</td><td>genre-urban-fantasy</td></tr>",
                            "<tr><td>13042</td><td>genric-fantasy</td></tr>",
                            "<tr><td>13371</td><td>good-fantasy</td></tr>",
                            "<tr><td>13372</td><td>good-fantasy-protagonists</td></tr>",
                            "<tr><td>13375</td><td>good-fun-fantasy-sci-fi</td></tr>",
                            "<tr><td>13537</td><td>graphic-fantasy-novels</td></tr>",
                            "<tr><td>13709</td><td>grim-fantasy</td></tr>",
                            "<tr><td>13712</td><td>grimdark-fantasy</td></tr>",
                            "<tr><td>13726</td><td>gritty-fantasy</td></tr>",
                            "<tr><td>13800</td><td>gunpowder-fantasy</td></tr>",
                            "<tr><td>14311</td><td>heroic-fantasy</td></tr>",
                            "<tr><td>14360</td><td>high-epic-fantasy</td></tr>",
                            "<tr><td>14361</td><td>high-fantasy</td></tr>",
                            "<tr><td>14366</td><td>high-or-epic-fantasy</td></tr>",
                            "<tr><td>14484</td><td>historical-fantasy</td></tr>",
                            "<tr><td>14833</td><td>horror-dark-fantasy</td></tr>",
                            "<tr><td>14835</td><td>horror-fantasy</td></tr>",
                            "<tr><td>15054</td><td>humor-fantasy</td></tr>",
                            "<tr><td>15062</td><td>humorous-fantasy</td></tr>",
                            "<tr><td>15122</td><td>héroïc-fantasy</td></tr>",
                            "<tr><td>15938</td><td>ive-only-got-time-for-fantasy</td></tr>",
                            "<tr><td>16796</td><td>juv-fantasy</td></tr>",
                            "<tr><td>16804</td><td>juvenile-fantasy</td></tr>",
                            "<tr><td>17140</td><td>kids-fantasy</td></tr>",
                            "<tr><td>17200</td><td>kimmi-fantasy</td></tr>",
                            "<tr><td>18179</td><td>light-fantasy</td></tr>",
                            "<tr><td>18376</td><td>literature-fantasy-fiction</td></tr>",
                            "<tr><td>18389</td><td>literature-sf-fantasy</td></tr>",
                            "<tr><td>18500</td><td>locus-fantasy</td></tr>",
                            "<tr><td>18697</td><td>low-fantasy</td></tr>",
                            "<tr><td>18803</td><td>m-m-fantasy</td></tr>",
                            "<tr><td>18889</td><td>magic-fantasy</td></tr>",
                            "<tr><td>18915</td><td>magical-fantasy</td></tr>",
                            "<tr><td>18924</td><td>magickal-fantasy-art</td></tr>",
                            "<tr><td>19094</td><td>manga-fantasy</td></tr>",
                            "<tr><td>19669</td><td>medieval-fantasy</td></tr>",
                            "<tr><td>19868</td><td>mg-fantasy</td></tr>",
                            "<tr><td>19978</td><td>middle-grade-fantasy</td></tr>",
                            "<tr><td>20052</td><td>military-fantasy</td></tr>",
                            "<tr><td>20168</td><td>miscellaneous-fantasy</td></tr>",
                            "<tr><td>20242</td><td>mm-fantasy</td></tr>",
                            "<tr><td>20287</td><td>modern-fantasy</td></tr>",
                            "<tr><td>20814</td><td>my-fantasy</td></tr>",
                            "<tr><td>21647</td><td>no-thanks-sir-fantasy-setting</td></tr>",
                            "<tr><td>22038</td><td>novels-fantasy</td></tr>",
                            "<tr><td>22067</td><td>npr-100-scifi-fantasy</td></tr>",
                            "<tr><td>22069</td><td>npr-best-scifi-fantasy</td></tr>",
                            "<tr><td>22073</td><td>npr-top-100-fantasy-scifi</td></tr>",
                            "<tr><td>22075</td><td>npr-top-100-sci-fi-fantasy</td></tr>",
                            "<tr><td>22076</td><td>npr-top-100-scifi-and-fantasy</td></tr>",
                            "<tr><td>22077</td><td>npr-top-100-scifi-fantasy</td></tr>",
                            "<tr><td>22486</td><td>ordinary-fantasy</td></tr>",
                            "<tr><td>22977</td><td>paranormal-fantasy</td></tr>",
                            "<tr><td>22978</td><td>paranormal-fantasy-romance</td></tr>",
                            "<tr><td>22984</td><td>paranormal-romance-urban-fantasy</td></tr>",
                            "<tr><td>22991</td><td>paranormal-urban-fantasy</td></tr>",
                            "<tr><td>23903</td><td>polish-fantasy</td></tr>",
                            "<tr><td>23913</td><td>political-fantasy</td></tr>",
                            "<tr><td>24064</td><td>post-tolkien-modern-high-fantasy</td></tr>",
                            "<tr><td>24730</td><td>queer-fantasy</td></tr>",
                            "<tr><td>25104</td><td>read-fantasy</td></tr>",
                            "<tr><td>25232</td><td>read-modern-fantasy</td></tr>",
                            "<tr><td>25278</td><td>read-sci-fi-fantasy</td></tr>",
                            "<tr><td>25608</td><td>regular-fantasy</td></tr>",
                            "<tr><td>26151</td><td>romance-fantasy</td></tr>",
                            "<tr><td>26199</td><td>romantic-fantasy</td></tr>",
                            "<tr><td>26728</td><td>scfi-and-fantasy</td></tr>",
                            "<tr><td>26770</td><td>sci-fantasy</td></tr>",
                            "<tr><td>26772</td><td>sci-fi---fantasy</td></tr>",
                            "<tr><td>26773</td><td>sci-fi--fantasy</td></tr>",
                            "<tr><td>26774</td><td>sci-fi-and-fantasy</td></tr>",
                            "<tr><td>26785</td><td>sci-fi-fantasy</td></tr>",
                            "<tr><td>26786</td><td>sci-fi-fantasy-good</td></tr>",
                            "<tr><td>26787</td><td>sci-fi-fantasy-horror</td></tr>",
                            "<tr><td>26788</td><td>sci-fi-fantasy-paranormal</td></tr>",
                            "<tr><td>26789</td><td>sci-fi-fantasy-read</td></tr>",
                            "<tr><td>26790</td><td>sci-fi-fantasy-to-read</td></tr>",
                            "<tr><td>26809</td><td>sci-fi_fantasy</td></tr>",
                            "<tr><td>26812</td><td>sci-fifantasy</td></tr>",
                            "<tr><td>26836</td><td>science-fantasy</td></tr>",
                            "<tr><td>26838</td><td>science-fiction-and-fantasy</td></tr>",
                            "<tr><td>26842</td><td>science-fiction-fantasy</td></tr>",
                            "<tr><td>26895</td><td>scifi-and-fantasy</td></tr>",
                            "<tr><td>26896</td><td>scifi-and-fantasy-book-club</td></tr>",
                            "<tr><td>26897</td><td>scifi-fantasy</td></tr>",
                            "<tr><td>26898</td><td>scifi-fantasy-horror</td></tr>",
                            "<tr><td>26899</td><td>scifi-fantasy-paranormal</td></tr>",
                            "<tr><td>26905</td><td>scififantasy</td></tr>",
                            "<tr><td>27399</td><td>sf-and-fantasy</td></tr>",
                            "<tr><td>27403</td><td>sf-fantasy</td></tr>",
                            "<tr><td>27534</td><td>shelfari-fantasy</td></tr>",
                            "<tr><td>28241</td><td>space-fantasy</td></tr>",
                            "<tr><td>28271</td><td>spanning-fantasy-sciencefiction</td></tr>",
                            "<tr><td>29013</td><td>supernatural-fantasy</td></tr>",
                            "<tr><td>29328</td><td>tbr-fantasy</td></tr>",
                            "<tr><td>29462</td><td>teen-fantasy</td></tr>",
                            "<tr><td>29648</td><td>the-best-ones-fantasy</td></tr>",
                            "<tr><td>30667</td><td>to-read-fantasy</td></tr>",
                            "<tr><td>30668</td><td>to-read-fantasy-series</td></tr>",
                            "<tr><td>30669</td><td>to-read-fantasy-ya</td></tr>",
                            "<tr><td>30670</td><td>to-read-fantasyscifi</td></tr>",
                            "<tr><td>30785</td><td>to-read-prn_fantasy</td></tr>",
                            "<tr><td>30805</td><td>to-read-scifi-fantasy</td></tr>",
                            "<tr><td>30846</td><td>to-read-urban-fantasy</td></tr>",
                            "<tr><td>30984</td><td>top-fantasy</td></tr>",
                            "<tr><td>30993</td><td>top-sci-fi-fantasy-to-read</td></tr>",
                            "<tr><td>31058</td><td>tr-fantasy</td></tr>",
                            "<tr><td>31617</td><td>urban-fantasy</td></tr>",
                            "<tr><td>31618</td><td>urban-fantasy-paranormal</td></tr>",
                            "<tr><td>31619</td><td>urban-fantasy-parnormal</td></tr>",
                            "<tr><td>31629</td><td>urbanfantasy</td></tr>",
                            "<tr><td>31701</td><td>vaginal-fantasy</td></tr>",
                            "<tr><td>31702</td><td>vaginal-fantasy-book-club</td></tr>",
                            "<tr><td>31703</td><td>vaginal-fantasy-bookclub</td></tr>",
                            "<tr><td>31704</td><td>vaginal-fantasy-hangout</td></tr>",
                            "<tr><td>31731</td><td>vampire-fantasy</td></tr>",
                            "<tr><td>31743</td><td>vampire-werewolf-etc-fantasy</td></tr>",
                            "<tr><td>32317</td><td>well-intentioned-fantasy</td></tr>",
                            "<tr><td>32793</td><td>world-fantasy-award</td></tr>",
                            "<tr><td>32794</td><td>world-fantasy-loss</td></tr>",
                            "<tr><td>32854</td><td>wow-fantasy</td></tr>",
                            "<tr><td>32976</td><td>y-fantasy</td></tr>",
                            "<tr><td>32977</td><td>y-fic-fantasy-gaiman</td></tr>",
                            "<tr><td>33009</td><td>ya-fantasy</td></tr>",
                            "<tr><td>33016</td><td>ya-high-fantasy</td></tr>",
                            "<tr><td>33037</td><td>ya-paranormal-romance-fantasy</td></tr>",
                            "<tr><td>33055</td><td>ya-urban-fantasy</td></tr>",
                            "<tr><td>33121</td><td>young-adult-fantasy</td></tr>",
                            "<tr><td>33292</td><td>zz-to-read-fantasy</td></tr>",
                            "</table>"
                        ]
                    }
                },
                {
                    "output_type": "execute_result",
                    "metadata": {},
                    "execution_count": 19,
                    "data": {
                        "application/vnd.dataresource+json": {
                            "schema": {
                                "fields": [
                                    {
                                        "name": "Most_Tagged_Title"
                                    },
                                    {
                                        "name": "Tag_Count"
                                    }
                                ]
                            },
                            "data": [
                                {
                                    "Most_Tagged_Title": "Born of Night (The League, #1)",
                                    "Tag_Count": "1"
                                }
                            ]
                        },
                        "text/html": [
                            "<table>",
                            "<tr><th>Most_Tagged_Title</th><th>Tag_Count</th></tr>",
                            "<tr><td>Born of Night (The League, #1)</td><td>1</td></tr>",
                            "</table>"
                        ]
                    }
                }
            ],
            "execution_count": 19
        },
        {
            "cell_type": "markdown",
            "source": [
                "## **QUESTION 7:** What are the top 10 most popular book titles on the 'to read' list?\n",
                "\n",
                "**Part A:**  Explore how the **to\\_read** and **books** tables are organized, and then join them.  What will you use as a key?\n",
                "\n",
                "> Your Answer: book id is the key\n",
                "\n",
                "**Part B:** Organize your newly joined table in a way that groups popularity based on the title based on users.\n",
                "\n",
                "> _Hint:_ Suggest using an alias for the aggregation you will need to run on the **user\\_id**\n",
                "\n",
                "> _Minimum Desired Output:_ title and aliased column"
            ],
            "metadata": {
                "azdata_cell_guid": "4e5349b7-24f6-481a-9d88-bb4f86abc624"
            },
            "attachments": {}
        },
        {
            "cell_type": "code",
            "source": [
                "-- Code Here:\r\n",
                "SELECT TOP 10\r\n",
                "    b.title AS Book_Title,\r\n",
                "    COUNT(*) AS Read_Count\r\n",
                "FROM BooksDB.dbo.books AS b\r\n",
                "INNER JOIN BooksDB.dbo.to_read AS tr ON b.book_id = tr.book_id\r\n",
                "GROUP BY b.title\r\n",
                "ORDER BY Read_Count DESC;\r\n",
                "\r\n",
                "SELECT\r\n",
                "    b.title AS Book_Title,\r\n",
                "    COUNT(tr.user_id) AS Popularity_Count\r\n",
                "FROM BooksDB.dbo.books AS b\r\n",
                "INNER JOIN BooksDB.dbo.to_read AS tr ON b.book_id = tr.book_id\r\n",
                "GROUP BY b.title\r\n",
                "ORDER BY Popularity_Count DESC;\r\n",
                ""
            ],
            "metadata": {
                "azdata_cell_guid": "8af25df1-ce61-4152-8198-0b53c17642d0",
                "language": "sql"
            },
            "outputs": [
                {
                    "output_type": "display_data",
                    "data": {
                        "text/html": "(10 rows affected)"
                    },
                    "metadata": {}
                },
                {
                    "output_type": "display_data",
                    "data": {
                        "text/html": "(811 rows affected)"
                    },
                    "metadata": {}
                },
                {
                    "output_type": "display_data",
                    "data": {
                        "text/html": "Total execution time: 00:00:00.535"
                    },
                    "metadata": {}
                },
                {
                    "output_type": "execute_result",
                    "metadata": {},
                    "execution_count": 21,
                    "data": {
                        "application/vnd.dataresource+json": {
                            "schema": {
                                "fields": [
                                    {
                                        "name": "Book_Title"
                                    },
                                    {
                                        "name": "Read_Count"
                                    }
                                ]
                            },
                            "data": [
                                {
                                    "Book_Title": "The Ultimate Hitchhiker's Guide to the Galaxy",
                                    "Read_Count": "1812"
                                },
                                {
                                    "Book_Title": "The Hitchhiker's Guide to the Galaxy (Hitchhiker's Guide to the Galaxy, #1)",
                                    "Read_Count": "1767"
                                },
                                {
                                    "Book_Title": "The Lord of the Rings: The Art of The Fellowship of the Ring",
                                    "Read_Count": "1499"
                                },
                                {
                                    "Book_Title": "Harry Potter Boxed Set, Books 1-5 (Harry Potter, #1-5)",
                                    "Read_Count": "1498"
                                },
                                {
                                    "Book_Title": "Harry Potter and the Goblet of Fire (Harry Potter, #4)",
                                    "Read_Count": "1484"
                                },
                                {
                                    "Book_Title": "The Known World",
                                    "Read_Count": "1352"
                                },
                                {
                                    "Book_Title": "Harry Potter and the Prisoner of Azkaban (Harry Potter, #3)",
                                    "Read_Count": "1293"
                                },
                                {
                                    "Book_Title": "The Lord of the Rings: Weapons and Warfare",
                                    "Read_Count": "1211"
                                },
                                {
                                    "Book_Title": "Notes from a Small Island",
                                    "Read_Count": "1148"
                                },
                                {
                                    "Book_Title": "Harry Potter Collection (Harry Potter, #1-6)",
                                    "Read_Count": "1110"
                                }
                            ]
                        },
                        "text/html": [
                            "<table>",
                            "<tr><th>Book_Title</th><th>Read_Count</th></tr>",
                            "<tr><td>The Ultimate Hitchhiker's Guide to the Galaxy</td><td>1812</td></tr>",
                            "<tr><td>The Hitchhiker's Guide to the Galaxy (Hitchhiker's Guide to the Galaxy, #1)</td><td>1767</td></tr>",
                            "<tr><td>The Lord of the Rings: The Art of The Fellowship of the Ring</td><td>1499</td></tr>",
                            "<tr><td>Harry Potter Boxed Set, Books 1-5 (Harry Potter, #1-5)</td><td>1498</td></tr>",
                            "<tr><td>Harry Potter and the Goblet of Fire (Harry Potter, #4)</td><td>1484</td></tr>",
                            "<tr><td>The Known World</td><td>1352</td></tr>",
                            "<tr><td>Harry Potter and the Prisoner of Azkaban (Harry Potter, #3)</td><td>1293</td></tr>",
                            "<tr><td>The Lord of the Rings: Weapons and Warfare</td><td>1211</td></tr>",
                            "<tr><td>Notes from a Small Island</td><td>1148</td></tr>",
                            "<tr><td>Harry Potter Collection (Harry Potter, #1-6)</td><td>1110</td></tr>",
                            "</table>"
                        ]
                    }
                },
                {
                    "output_type": "execute_result",
                    "metadata": {},
                    "execution_count": 21,
                    "data": {
                        "application/vnd.dataresource+json": {
                            "schema": {
                                "fields": [
                                    {
                                        "name": "Book_Title"
                                    },
                                    {
                                        "name": "Popularity_Count"
                                    }
                                ]
                            },
                            "data": [
                                {
                                    "Book_Title": "The Ultimate Hitchhiker's Guide to the Galaxy",
                                    "Popularity_Count": "1812"
                                },
                                {
                                    "Book_Title": "The Hitchhiker's Guide to the Galaxy (Hitchhiker's Guide to the Galaxy, #1)",
                                    "Popularity_Count": "1767"
                                },
                                {
                                    "Book_Title": "The Lord of the Rings: The Art of The Fellowship of the Ring",
                                    "Popularity_Count": "1499"
                                },
                                {
                                    "Book_Title": "Harry Potter Boxed Set, Books 1-5 (Harry Potter, #1-5)",
                                    "Popularity_Count": "1498"
                                },
                                {
                                    "Book_Title": "Harry Potter and the Goblet of Fire (Harry Potter, #4)",
                                    "Popularity_Count": "1484"
                                },
                                {
                                    "Book_Title": "The Known World",
                                    "Popularity_Count": "1352"
                                },
                                {
                                    "Book_Title": "Harry Potter and the Prisoner of Azkaban (Harry Potter, #3)",
                                    "Popularity_Count": "1293"
                                },
                                {
                                    "Book_Title": "The Lord of the Rings: Weapons and Warfare",
                                    "Popularity_Count": "1211"
                                },
                                {
                                    "Book_Title": "Notes from a Small Island",
                                    "Popularity_Count": "1148"
                                },
                                {
                                    "Book_Title": "Harry Potter Collection (Harry Potter, #1-6)",
                                    "Popularity_Count": "1110"
                                },
                                {
                                    "Book_Title": "The Lord of the Rings (The Lord of the Rings, #1-3)",
                                    "Popularity_Count": "1094"
                                },
                                {
                                    "Book_Title": "The Salmon of Doubt (Dirk Gently, #3)",
                                    "Popularity_Count": "1069"
                                },
                                {
                                    "Book_Title": "Dune Messiah (Dune Chronicles #2)",
                                    "Popularity_Count": "1051"
                                },
                                {
                                    "Book_Title": "Treasure Island",
                                    "Popularity_Count": "1040"
                                },
                                {
                                    "Book_Title": "Tropic of Cancer",
                                    "Popularity_Count": "1007"
                                },
                                {
                                    "Book_Title": "Harry Potter and the Half-Blood Prince (Harry Potter, #6)",
                                    "Popularity_Count": "973"
                                },
                                {
                                    "Book_Title": "Children of Dune (Dune Chronicles #3)",
                                    "Popularity_Count": "913"
                                },
                                {
                                    "Book_Title": "The Power of One (The Power of One, #1)",
                                    "Popularity_Count": "866"
                                },
                                {
                                    "Book_Title": "Heretics of Dune (Dune Chronicles #5)",
                                    "Popularity_Count": "815"
                                },
                                {
                                    "Book_Title": "J.R.R. Tolkien 4-Book Boxed Set: The Hobbit and The Lord of the Rings",
                                    "Popularity_Count": "801"
                                },
                                {
                                    "Book_Title": "Job: A Comedy of Justice",
                                    "Popularity_Count": "737"
                                },
                                {
                                    "Book_Title": "The Door Into Summer",
                                    "Popularity_Count": "724"
                                },
                                {
                                    "Book_Title": "Mostly Harmless (Hitchhiker's Guide to the Galaxy, #5)",
                                    "Popularity_Count": "696"
                                },
                                {
                                    "Book_Title": "I am Charlotte Simmons",
                                    "Popularity_Count": "661"
                                },
                                {
                                    "Book_Title": "The Broken Wings",
                                    "Popularity_Count": "659"
                                },
                                {
                                    "Book_Title": "Killing Yourself to Live: 85% of a True Story",
                                    "Popularity_Count": "608"
                                },
                                {
                                    "Book_Title": "The Portrait of a Lady",
                                    "Popularity_Count": "580"
                                },
                                {
                                    "Book_Title": "The Lover",
                                    "Popularity_Count": "567"
                                },
                                {
                                    "Book_Title": "Slouching Towards Bethlehem",
                                    "Popularity_Count": "564"
                                },
                                {
                                    "Book_Title": "We the Living",
                                    "Popularity_Count": "563"
                                },
                                {
                                    "Book_Title": "Cryptonomicon",
                                    "Popularity_Count": "551"
                                },
                                {
                                    "Book_Title": "Fullmetal Alchemist, Vol. 1 (Fullmetal Alchemist, #1)",
                                    "Popularity_Count": "533"
                                },
                                {
                                    "Book_Title": "Libra",
                                    "Popularity_Count": "525"
                                },
                                {
                                    "Book_Title": "Maurice",
                                    "Popularity_Count": "525"
                                },
                                {
                                    "Book_Title": "The Elegant Universe: Superstrings, Hidden Dimensions, and the Quest for the Ultimate Theory",
                                    "Popularity_Count": "524"
                                },
                                {
                                    "Book_Title": "Chapterhouse: Dune (Dune Chronicles #6)",
                                    "Popularity_Count": "513"
                                },
                                {
                                    "Book_Title": "One Hundred Years of Solitude",
                                    "Popularity_Count": "504"
                                },
                                {
                                    "Book_Title": "What to Expect the First Year (What to Expect)",
                                    "Popularity_Count": "495"
                                },
                                {
                                    "Book_Title": "I'm a Stranger Here Myself: Notes on Returning to America after Twenty Years Away",
                                    "Popularity_Count": "484"
                                },
                                {
                                    "Book_Title": "The Fellowship of the Ring (The Lord of the Rings, #1)",
                                    "Popularity_Count": "450"
                                },
                                {
                                    "Book_Title": "The Lost Continent: Travels in Small Town America",
                                    "Popularity_Count": "447"
                                },
                                {
                                    "Book_Title": "Everyday Italian: 125 Simple and Delicious Recipes",
                                    "Popularity_Count": "445"
                                },
                                {
                                    "Book_Title": "Heidi",
                                    "Popularity_Count": "439"
                                },
                                {
                                    "Book_Title": "Dirk Gently's Holistic Detective Agency (Dirk Gently #1)",
                                    "Popularity_Count": "438"
                                },
                                {
                                    "Book_Title": "Tropic of Capricorn",
                                    "Popularity_Count": "438"
                                },
                                {
                                    "Book_Title": "Neither Here nor There: Travels in Europe",
                                    "Popularity_Count": "438"
                                },
                                {
                                    "Book_Title": "City of Glass (The New York Trilogy, #1)",
                                    "Popularity_Count": "435"
                                },
                                {
                                    "Book_Title": "In a Sunburned Country",
                                    "Popularity_Count": "431"
                                },
                                {
                                    "Book_Title": "The Virtue of Selfishness: A New Concept of Egoism",
                                    "Popularity_Count": "430"
                                },
                                {
                                    "Book_Title": "A Short History of Nearly Everything",
                                    "Popularity_Count": "427"
                                },
                                {
                                    "Book_Title": "Harry Potter and the Order of the Phoenix (Harry Potter, #5)",
                                    "Popularity_Count": "400"
                                },
                                {
                                    "Book_Title": "Sherlock Holmes: The Complete Novels and Stories, Volume I",
                                    "Popularity_Count": "387"
                                },
                                {
                                    "Book_Title": "Daniel Deronda",
                                    "Popularity_Count": "385"
                                },
                                {
                                    "Book_Title": "Madame Bovary",
                                    "Popularity_Count": "384"
                                },
                                {
                                    "Book_Title": "Stranger in a Strange Land",
                                    "Popularity_Count": "374"
                                },
                                {
                                    "Book_Title": "Digging to America",
                                    "Popularity_Count": "373"
                                },
                                {
                                    "Book_Title": "The Da Vinci Code (Robert Langdon, #2)",
                                    "Popularity_Count": "372"
                                },
                                {
                                    "Book_Title": "The Mother Tongue: English and How It Got That Way",
                                    "Popularity_Count": "348"
                                },
                                {
                                    "Book_Title": "The Phantom Tollbooth",
                                    "Popularity_Count": "346"
                                },
                                {
                                    "Book_Title": "The Long Dark Tea-Time of the Soul (Dirk Gently, #2)",
                                    "Popularity_Count": "343"
                                },
                                {
                                    "Book_Title": "The Game: Penetrating the Secret Society of Pickup Artists",
                                    "Popularity_Count": "319"
                                },
                                {
                                    "Book_Title": "Breaking the Spell: Religion as a Natural Phenomenon",
                                    "Popularity_Count": "316"
                                },
                                {
                                    "Book_Title": "The Tipping Point: How Little Things Can Make a Big Difference",
                                    "Popularity_Count": "315"
                                },
                                {
                                    "Book_Title": "Robinson Crusoe",
                                    "Popularity_Count": "309"
                                },
                                {
                                    "Book_Title": "Agamemnon (Oresteia, #1)",
                                    "Popularity_Count": "306"
                                },
                                {
                                    "Book_Title": "Collapse: How Societies Choose to Fail or Succeed",
                                    "Popularity_Count": "306"
                                },
                                {
                                    "Book_Title": "Trump: The Art of the Deal",
                                    "Popularity_Count": "305"
                                },
                                {
                                    "Book_Title": "Harry Potter and the Sorcerer's Stone (Harry Potter, #1)",
                                    "Popularity_Count": "287"
                                },
                                {
                                    "Book_Title": "Fire Sea (The Death Gate Cycle, #3)",
                                    "Popularity_Count": "286"
                                },
                                {
                                    "Book_Title": "Wild Swans: Three Daughters of China",
                                    "Popularity_Count": "279"
                                },
                                {
                                    "Book_Title": "Metamorphoses",
                                    "Popularity_Count": "277"
                                },
                                {
                                    "Book_Title": "Think and Grow Rich: The Landmark Bestseller - Now Revised and Updated for the 21st Century",
                                    "Popularity_Count": "273"
                                },
                                {
                                    "Book_Title": "Hatchet (Brian's Saga, #1)",
                                    "Popularity_Count": "269"
                                },
                                {
                                    "Book_Title": "Middlesex",
                                    "Popularity_Count": "268"
                                },
                                {
                                    "Book_Title": "The Confusion (The Baroque Cycle, #2)",
                                    "Popularity_Count": "267"
                                },
                                {
                                    "Book_Title": "Hamlet",
                                    "Popularity_Count": "265"
                                },
                                {
                                    "Book_Title": "Atlas Shrugged",
                                    "Popularity_Count": "262"
                                },
                                {
                                    "Book_Title": "Snow Crash",
                                    "Popularity_Count": "261"
                                },
                                {
                                    "Book_Title": "Pompeii",
                                    "Popularity_Count": "260"
                                },
                                {
                                    "Book_Title": "The Odyssey",
                                    "Popularity_Count": "250"
                                },
                                {
                                    "Book_Title": "Leviathan",
                                    "Popularity_Count": "249"
                                },
                                {
                                    "Book_Title": "The Iliad/The Odyssey",
                                    "Popularity_Count": "240"
                                },
                                {
                                    "Book_Title": "Zodiac",
                                    "Popularity_Count": "240"
                                },
                                {
                                    "Book_Title": "The Diamond Age: or, A Young Lady's Illustrated Primer",
                                    "Popularity_Count": "239"
                                },
                                {
                                    "Book_Title": "Fahrenheit 451",
                                    "Popularity_Count": "236"
                                },
                                {
                                    "Book_Title": "Play It as It Lays",
                                    "Popularity_Count": "232"
                                },
                                {
                                    "Book_Title": "The Iliad",
                                    "Popularity_Count": "220"
                                },
                                {
                                    "Book_Title": "Corelli's Mandolin",
                                    "Popularity_Count": "219"
                                },
                                {
                                    "Book_Title": "The Brooklyn Follies",
                                    "Popularity_Count": "217"
                                },
                                {
                                    "Book_Title": "Gravity's Rainbow",
                                    "Popularity_Count": "217"
                                },
                                {
                                    "Book_Title": "Memoirs of a Geisha",
                                    "Popularity_Count": "213"
                                },
                                {
                                    "Book_Title": "Time Enough for Love",
                                    "Popularity_Count": "208"
                                },
                                {
                                    "Book_Title": "Moon Palace",
                                    "Popularity_Count": "207"
                                },
                                {
                                    "Book_Title": "The Design of Everyday Things",
                                    "Popularity_Count": "206"
                                },
                                {
                                    "Book_Title": "The Restaurant at the End of the Universe (Hitchhiker's Guide, #2)",
                                    "Popularity_Count": "202"
                                },
                                {
                                    "Book_Title": "Wild Fire (John Corey, #4)",
                                    "Popularity_Count": "198"
                                },
                                {
                                    "Book_Title": "Nickel and Dimed: On (Not) Getting By in America",
                                    "Popularity_Count": "195"
                                },
                                {
                                    "Book_Title": "Falling Angels",
                                    "Popularity_Count": "194"
                                },
                                {
                                    "Book_Title": "Martin Chuzzlewit",
                                    "Popularity_Count": "189"
                                },
                                {
                                    "Book_Title": "Giada's Family Dinners",
                                    "Popularity_Count": "189"
                                },
                                {
                                    "Book_Title": "Wild at Heart: Discovering the Secret of a Man's Soul",
                                    "Popularity_Count": "184"
                                },
                                {
                                    "Book_Title": "The New York Trilogy",
                                    "Popularity_Count": "182"
                                },
                                {
                                    "Book_Title": "Surely You're Joking, Mr. Feynman!: Adventures of a Curious Character",
                                    "Popularity_Count": "182"
                                },
                                {
                                    "Book_Title": "Sailing Alone Around the Room: New and Selected Poems",
                                    "Popularity_Count": "180"
                                },
                                {
                                    "Book_Title": "The Broker",
                                    "Popularity_Count": "180"
                                },
                                {
                                    "Book_Title": "A Separate Peace",
                                    "Popularity_Count": "178"
                                },
                                {
                                    "Book_Title": "Blue Ocean Strategy: How To Create Uncontested Market Space And Make The Competition Irrelevant",
                                    "Popularity_Count": "176"
                                },
                                {
                                    "Book_Title": "Liar's Poker",
                                    "Popularity_Count": "174"
                                },
                                {
                                    "Book_Title": "The War of Art: Break Through the Blocks & Win Your Inner Creative Battles",
                                    "Popularity_Count": "174"
                                },
                                {
                                    "Book_Title": "War and Peace",
                                    "Popularity_Count": "174"
                                },
                                {
                                    "Book_Title": "A Million Little Pieces",
                                    "Popularity_Count": "172"
                                },
                                {
                                    "Book_Title": "A Home at the End of the World",
                                    "Popularity_Count": "169"
                                },
                                {
                                    "Book_Title": "The Crying of Lot 49",
                                    "Popularity_Count": "168"
                                },
                                {
                                    "Book_Title": "Another Bullshit Night in Suck City",
                                    "Popularity_Count": "166"
                                },
                                {
                                    "Book_Title": "Angels & Demons  (Robert Langdon, #1)",
                                    "Popularity_Count": "166"
                                },
                                {
                                    "Book_Title": "West with the Night",
                                    "Popularity_Count": "164"
                                },
                                {
                                    "Book_Title": "The Natural Way to Draw",
                                    "Popularity_Count": "164"
                                },
                                {
                                    "Book_Title": "An Ideal Husband",
                                    "Popularity_Count": "162"
                                },
                                {
                                    "Book_Title": "A Painted House",
                                    "Popularity_Count": "162"
                                },
                                {
                                    "Book_Title": "Sentimental Education",
                                    "Popularity_Count": "161"
                                },
                                {
                                    "Book_Title": "Little Women (Little Women, #1)",
                                    "Popularity_Count": "157"
                                },
                                {
                                    "Book_Title": "The Oresteia  (Ορέστεια, #1-3)",
                                    "Popularity_Count": "157"
                                },
                                {
                                    "Book_Title": "Forever Amber ",
                                    "Popularity_Count": "157"
                                },
                                {
                                    "Book_Title": "The Partner",
                                    "Popularity_Count": "156"
                                },
                                {
                                    "Book_Title": "I Like You: Hospitality Under the Influence",
                                    "Popularity_Count": "156"
                                },
                                {
                                    "Book_Title": "Brief Interviews with Hideous Men",
                                    "Popularity_Count": "154"
                                },
                                {
                                    "Book_Title": "Into the Wild",
                                    "Popularity_Count": "152"
                                },
                                {
                                    "Book_Title": "America (The Book): A Citizen's Guide to Democracy Inaction",
                                    "Popularity_Count": "152"
                                },
                                {
                                    "Book_Title": "Hard Eight (Stephanie Plum, #8)",
                                    "Popularity_Count": "149"
                                },
                                {
                                    "Book_Title": "The Zahir",
                                    "Popularity_Count": "149"
                                },
                                {
                                    "Book_Title": "Live and Let Die (James Bond, #2)",
                                    "Popularity_Count": "149"
                                },
                                {
                                    "Book_Title": "A Tale of Two Cities",
                                    "Popularity_Count": "148"
                                },
                                {
                                    "Book_Title": "The Deep End of the Ocean (Cappadora Family, #1)",
                                    "Popularity_Count": "147"
                                },
                                {
                                    "Book_Title": "Persuasion",
                                    "Popularity_Count": "147"
                                },
                                {
                                    "Book_Title": "Way of the Peaceful Warrior: A Book That Changes Lives",
                                    "Popularity_Count": "145"
                                },
                                {
                                    "Book_Title": "Howards End",
                                    "Popularity_Count": "143"
                                },
                                {
                                    "Book_Title": "The Innocent Man: Murder and Injustice in a Small Town",
                                    "Popularity_Count": "142"
                                },
                                {
                                    "Book_Title": "Anthem",
                                    "Popularity_Count": "142"
                                },
                                {
                                    "Book_Title": "White Teeth",
                                    "Popularity_Count": "142"
                                },
                                {
                                    "Book_Title": "The Book of Ruth",
                                    "Popularity_Count": "139"
                                },
                                {
                                    "Book_Title": "Snow Flower and the Secret Fan",
                                    "Popularity_Count": "139"
                                },
                                {
                                    "Book_Title": "The Taste of Home Cookbook",
                                    "Popularity_Count": "139"
                                },
                                {
                                    "Book_Title": "Lipstick Jungle",
                                    "Popularity_Count": "137"
                                },
                                {
                                    "Book_Title": "Shalimar the Clown",
                                    "Popularity_Count": "134"
                                },
                                {
                                    "Book_Title": "The Amazing Adventures of Kavalier & Clay",
                                    "Popularity_Count": "129"
                                },
                                {
                                    "Book_Title": "Baltasar and Blimunda",
                                    "Popularity_Count": "129"
                                },
                                {
                                    "Book_Title": "The Innovator's Dilemma: The Revolutionary Book that Will Change the Way You Do Business (Collins Business Essentials)",
                                    "Popularity_Count": "127"
                                },
                                {
                                    "Book_Title": "Black Beauty",
                                    "Popularity_Count": "127"
                                },
                                {
                                    "Book_Title": "The Good Earth (House of Earth, #1)",
                                    "Popularity_Count": "126"
                                },
                                {
                                    "Book_Title": "The Hungry Tide",
                                    "Popularity_Count": "126"
                                },
                                {
                                    "Book_Title": "Zen and the Art of Motorcycle Maintenance: An Inquiry Into Values",
                                    "Popularity_Count": "125"
                                },
                                {
                                    "Book_Title": "The Richest Man in Babylon",
                                    "Popularity_Count": "123"
                                },
                                {
                                    "Book_Title": "Memories of My Melancholy Whores",
                                    "Popularity_Count": "123"
                                },
                                {
                                    "Book_Title": "Slaughterhouse-Five",
                                    "Popularity_Count": "123"
                                },
                                {
                                    "Book_Title": "The Plot Against America",
                                    "Popularity_Count": "118"
                                },
                                {
                                    "Book_Title": "Interpreter of Maladies",
                                    "Popularity_Count": "116"
                                },
                                {
                                    "Book_Title": "Quicksilver (The Baroque Cycle, #1)",
                                    "Popularity_Count": "116"
                                },
                                {
                                    "Book_Title": "The Heart of the Matter",
                                    "Popularity_Count": "116"
                                },
                                {
                                    "Book_Title": "Villa Incognito",
                                    "Popularity_Count": "115"
                                },
                                {
                                    "Book_Title": "The Automatic Millionaire: A Powerful One-Step Plan to Live and Finish Rich",
                                    "Popularity_Count": "114"
                                },
                                {
                                    "Book_Title": "From Beirut to Jerusalem",
                                    "Popularity_Count": "114"
                                },
                                {
                                    "Book_Title": "Freakonomics: A Rogue Economist Explores the Hidden Side of Everything (Freakonomics, #1)",
                                    "Popularity_Count": "113"
                                },
                                {
                                    "Book_Title": "From the Mixed-Up Files of Mrs. Basil E. Frankweiler",
                                    "Popularity_Count": "112"
                                },
                                {
                                    "Book_Title": "High Five (Stephanie Plum, #5)",
                                    "Popularity_Count": "111"
                                },
                                {
                                    "Book_Title": "Truman",
                                    "Popularity_Count": "110"
                                },
                                {
                                    "Book_Title": "The History of Love",
                                    "Popularity_Count": "110"
                                },
                                {
                                    "Book_Title": "The List",
                                    "Popularity_Count": "110"
                                },
                                {
                                    "Book_Title": "The Westing Game",
                                    "Popularity_Count": "109"
                                },
                                {
                                    "Book_Title": "Sex, Drugs, and Cocoa Puffs: A Low Culture Manifesto",
                                    "Popularity_Count": "108"
                                },
                                {
                                    "Book_Title": "The Way the Crow Flies",
                                    "Popularity_Count": "108"
                                },
                                {
                                    "Book_Title": "One Fish, Two Fish, Red Fish, Blue Fish",
                                    "Popularity_Count": "107"
                                },
                                {
                                    "Book_Title": "Lost Horizon",
                                    "Popularity_Count": "107"
                                },
                                {
                                    "Book_Title": "The Wedding (The Notebook, #2)",
                                    "Popularity_Count": "107"
                                },
                                {
                                    "Book_Title": "The Johnstown Flood",
                                    "Popularity_Count": "106"
                                },
                                {
                                    "Book_Title": "A Room with a View",
                                    "Popularity_Count": "106"
                                },
                                {
                                    "Book_Title": "Perfume: The Story of a Murderer",
                                    "Popularity_Count": "105"
                                },
                                {
                                    "Book_Title": "The Complete Sherlock Holmes, Vol 2",
                                    "Popularity_Count": "105"
                                },
                                {
                                    "Book_Title": "The World Is Flat: A Brief History of the Twenty-first Century",
                                    "Popularity_Count": "105"
                                },
                                {
                                    "Book_Title": "Sex and the City",
                                    "Popularity_Count": "104"
                                },
                                {
                                    "Book_Title": "A Case of Need",
                                    "Popularity_Count": "104"
                                },
                                {
                                    "Book_Title": "The Bone Collector (Lincoln Rhyme, #1)",
                                    "Popularity_Count": "103"
                                },
                                {
                                    "Book_Title": "No Logo",
                                    "Popularity_Count": "102"
                                },
                                {
                                    "Book_Title": "A Little Princess",
                                    "Popularity_Count": "102"
                                },
                                {
                                    "Book_Title": "The Grapes of Wrath",
                                    "Popularity_Count": "100"
                                },
                                {
                                    "Book_Title": "So Long, and Thanks for All the Fish (Hitchhiker's Guide to the Galaxy, #4)",
                                    "Popularity_Count": "99"
                                },
                                {
                                    "Book_Title": "American Gods (American Gods, #1)",
                                    "Popularity_Count": "99"
                                },
                                {
                                    "Book_Title": "The Egypt Game (Game, #1)",
                                    "Popularity_Count": "99"
                                },
                                {
                                    "Book_Title": "The Rapture of Canaan",
                                    "Popularity_Count": "99"
                                },
                                {
                                    "Book_Title": "Hey Nostradamus!",
                                    "Popularity_Count": "98"
                                },
                                {
                                    "Book_Title": "Kurt Vonnegut's Cat's Cradle (Modern Critical Interpretations)",
                                    "Popularity_Count": "97"
                                },
                                {
                                    "Book_Title": "Economics in One Lesson: The Shortest & Surest Way to Understand Basic Economics",
                                    "Popularity_Count": "96"
                                },
                                {
                                    "Book_Title": "Until I Find You",
                                    "Popularity_Count": "96"
                                },
                                {
                                    "Book_Title": "Lysistrata",
                                    "Popularity_Count": "95"
                                },
                                {
                                    "Book_Title": "The Physician (Cole Family Trilogy, #1)",
                                    "Popularity_Count": "95"
                                },
                                {
                                    "Book_Title": "Guns, Germs, and Steel: The Fates of Human Societies",
                                    "Popularity_Count": "94"
                                },
                                {
                                    "Book_Title": "Of Mice and Men",
                                    "Popularity_Count": "93"
                                },
                                {
                                    "Book_Title": "Harry Potter Schoolbooks Box Set: Two Classic Books from the Library of Hogwarts School of Witchcraft and Wizardry",
                                    "Popularity_Count": "92"
                                },
                                {
                                    "Book_Title": "The River (Brian's Saga, #2)",
                                    "Popularity_Count": "92"
                                },
                                {
                                    "Book_Title": "Twenty Love Poems and a Song of Despair",
                                    "Popularity_Count": "92"
                                },
                                {
                                    "Book_Title": "A Great and Terrible Beauty (Gemma Doyle, #1)",
                                    "Popularity_Count": "92"
                                },
                                {
                                    "Book_Title": "Songs in Ordinary Time",
                                    "Popularity_Count": "91"
                                },
                                {
                                    "Book_Title": "Tunnels of Blood (Cirque Du Freak, #3)",
                                    "Popularity_Count": "90"
                                },
                                {
                                    "Book_Title": "Fast Food Nation: The Dark Side of the All-American Meal",
                                    "Popularity_Count": "90"
                                },
                                {
                                    "Book_Title": "Congo",
                                    "Popularity_Count": "90"
                                },
                                {
                                    "Book_Title": "The Complete Anne of Green Gables Boxed Set (Anne of Green Gables, #1-8)",
                                    "Popularity_Count": "89"
                                },
                                {
                                    "Book_Title": "The Hobbit",
                                    "Popularity_Count": "89"
                                },
                                {
                                    "Book_Title": "Into Thin Air: A Personal Account of the Mount Everest Disaster",
                                    "Popularity_Count": "88"
                                },
                                {
                                    "Book_Title": "Wolves of the Calla (The Dark Tower, #5)",
                                    "Popularity_Count": "88"
                                },
                                {
                                    "Book_Title": "Warrior of the Light",
                                    "Popularity_Count": "88"
                                },
                                {
                                    "Book_Title": "Ilium (Ilium, #1)",
                                    "Popularity_Count": "88"
                                },
                                {
                                    "Book_Title": "Sunshine",
                                    "Popularity_Count": "87"
                                },
                                {
                                    "Book_Title": "Prep",
                                    "Popularity_Count": "87"
                                },
                                {
                                    "Book_Title": "The Complete Short Novels",
                                    "Popularity_Count": "86"
                                },
                                {
                                    "Book_Title": "Kafka on the Shore",
                                    "Popularity_Count": "86"
                                },
                                {
                                    "Book_Title": "The Adventures of Sherlock Holmes",
                                    "Popularity_Count": "86"
                                },
                                {
                                    "Book_Title": "Heart of Darkness",
                                    "Popularity_Count": "84"
                                },
                                {
                                    "Book_Title": "Veronika Decides to Die",
                                    "Popularity_Count": "84"
                                },
                                {
                                    "Book_Title": "Moneyball: The Art of Winning an Unfair Game",
                                    "Popularity_Count": "83"
                                },
                                {
                                    "Book_Title": "The America's Test Kitchen Family Cookbook",
                                    "Popularity_Count": "83"
                                },
                                {
                                    "Book_Title": "The Fountainhead",
                                    "Popularity_Count": "83"
                                },
                                {
                                    "Book_Title": "Team of Rivals: The Political Genius of Abraham Lincoln",
                                    "Popularity_Count": "83"
                                },
                                {
                                    "Book_Title": "True Believer (Jeremy Marsh & Lexie Darnell, #1)",
                                    "Popularity_Count": "83"
                                },
                                {
                                    "Book_Title": "Complications: A Surgeon's Notes on an Imperfect Science",
                                    "Popularity_Count": "82"
                                },
                                {
                                    "Book_Title": "Stranger than Fiction",
                                    "Popularity_Count": "82"
                                },
                                {
                                    "Book_Title": "Brave New World / Brave New World Revisited",
                                    "Popularity_Count": "82"
                                },
                                {
                                    "Book_Title": "Like Water for Chocolate",
                                    "Popularity_Count": "81"
                                },
                                {
                                    "Book_Title": "All the Names",
                                    "Popularity_Count": "81"
                                },
                                {
                                    "Book_Title": "The 48 Laws of Power",
                                    "Popularity_Count": "81"
                                },
                                {
                                    "Book_Title": "A Midsummer Night's Dream",
                                    "Popularity_Count": "81"
                                },
                                {
                                    "Book_Title": "The Pilot's Wife",
                                    "Popularity_Count": "81"
                                },
                                {
                                    "Book_Title": "The Long Walk: The True Story of a Trek to Freedom",
                                    "Popularity_Count": "80"
                                },
                                {
                                    "Book_Title": "The View from Saturday",
                                    "Popularity_Count": "79"
                                },
                                {
                                    "Book_Title": "The Power and the Glory",
                                    "Popularity_Count": "79"
                                },
                                {
                                    "Book_Title": "The Histories",
                                    "Popularity_Count": "79"
                                },
                                {
                                    "Book_Title": "The Wonderful Story of Henry Sugar and Six More",
                                    "Popularity_Count": "79"
                                },
                                {
                                    "Book_Title": "The Amber Room",
                                    "Popularity_Count": "78"
                                },
                                {
                                    "Book_Title": "The Curious Incident of the Dog in the Night-Time",
                                    "Popularity_Count": "78"
                                },
                                {
                                    "Book_Title": "The Bellmaker (Redwall, #7)",
                                    "Popularity_Count": "77"
                                },
                                {
                                    "Book_Title": "Truth and Beauty",
                                    "Popularity_Count": "77"
                                },
                                {
                                    "Book_Title": "The Long Winter (Little House, #6)",
                                    "Popularity_Count": "77"
                                },
                                {
                                    "Book_Title": "All the King's Men",
                                    "Popularity_Count": "76"
                                },
                                {
                                    "Book_Title": "The Lost Boy (Dave Pelzer #2)",
                                    "Popularity_Count": "76"
                                },
                                {
                                    "Book_Title": "My Name is Red",
                                    "Popularity_Count": "75"
                                },
                                {
                                    "Book_Title": "Revolting Rhymes",
                                    "Popularity_Count": "74"
                                },
                                {
                                    "Book_Title": "The Rainmaker",
                                    "Popularity_Count": "74"
                                },
                                {
                                    "Book_Title": "Six Easy Pieces: Essentials of Physics By Its Most Brilliant Teacher",
                                    "Popularity_Count": "73"
                                },
                                {
                                    "Book_Title": "The Alchemist",
                                    "Popularity_Count": "73"
                                },
                                {
                                    "Book_Title": "A Widow for One Year",
                                    "Popularity_Count": "73"
                                },
                                {
                                    "Book_Title": "Pride and Prejudice",
                                    "Popularity_Count": "71"
                                },
                                {
                                    "Book_Title": "The Dark Tower (The Dark Tower, #7)",
                                    "Popularity_Count": "71"
                                },
                                {
                                    "Book_Title": "A Lesson Before Dying",
                                    "Popularity_Count": "71"
                                },
                                {
                                    "Book_Title": "The Summons",
                                    "Popularity_Count": "70"
                                },
                                {
                                    "Book_Title": "Girl with a Pearl Earring",
                                    "Popularity_Count": "70"
                                },
                                {
                                    "Book_Title": "Getting Things Done: The Art of Stress-Free Productivity",
                                    "Popularity_Count": "70"
                                },
                                {
                                    "Book_Title": "How to Win Friends and Influence People",
                                    "Popularity_Count": "69"
                                },
                                {
                                    "Book_Title": "Timbuktu",
                                    "Popularity_Count": "69"
                                },
                                {
                                    "Book_Title": "Narcissus and Goldmund",
                                    "Popularity_Count": "69"
                                },
                                {
                                    "Book_Title": "The War of the Worlds",
                                    "Popularity_Count": "69"
                                },
                                {
                                    "Book_Title": "A History of the World in 6 Glasses",
                                    "Popularity_Count": "69"
                                },
                                {
                                    "Book_Title": "Blind Willow, Sleeping Woman",
                                    "Popularity_Count": "68"
                                },
                                {
                                    "Book_Title": "It's Not About the Bike: My Journey Back to Life",
                                    "Popularity_Count": "68"
                                },
                                {
                                    "Book_Title": "The Rescue",
                                    "Popularity_Count": "68"
                                },
                                {
                                    "Book_Title": "The Picture of Dorian Gray",
                                    "Popularity_Count": "68"
                                },
                                {
                                    "Book_Title": "The Omnivore's Dilemma: A Natural History of Four Meals",
                                    "Popularity_Count": "68"
                                },
                                {
                                    "Book_Title": "The Testament",
                                    "Popularity_Count": "67"
                                },
                                {
                                    "Book_Title": "The Snows of Kilimanjaro and Other Stories",
                                    "Popularity_Count": "67"
                                },
                                {
                                    "Book_Title": "The Pilgrimage",
                                    "Popularity_Count": "67"
                                },
                                {
                                    "Book_Title": "Rachael Ray 365: No Repeats: A Year of Deliciously Different Dinners",
                                    "Popularity_Count": "67"
                                },
                                {
                                    "Book_Title": "A History of God: The 4,000-Year Quest of Judaism, Christianity, and Islam",
                                    "Popularity_Count": "67"
                                },
                                {
                                    "Book_Title": "The Barefoot Contessa Cookbook",
                                    "Popularity_Count": "66"
                                },
                                {
                                    "Book_Title": "The Autograph Man",
                                    "Popularity_Count": "65"
                                },
                                {
                                    "Book_Title": "Half Asleep in Frog Pajamas",
                                    "Popularity_Count": "65"
                                },
                                {
                                    "Book_Title": "Ways of Seeing",
                                    "Popularity_Count": "65"
                                },
                                {
                                    "Book_Title": "The Second Summer of the Sisterhood (Sisterhood, #2)",
                                    "Popularity_Count": "65"
                                },
                                {
                                    "Book_Title": "A House for Mr Biswas",
                                    "Popularity_Count": "65"
                                },
                                {
                                    "Book_Title": "Lolita",
                                    "Popularity_Count": "64"
                                },
                                {
                                    "Book_Title": "A Briefer History of Time",
                                    "Popularity_Count": "64"
                                },
                                {
                                    "Book_Title": "Horton Hears a Who!",
                                    "Popularity_Count": "64"
                                },
                                {
                                    "Book_Title": "The Brethren",
                                    "Popularity_Count": "64"
                                },
                                {
                                    "Book_Title": "Inés of My Soul",
                                    "Popularity_Count": "64"
                                },
                                {
                                    "Book_Title": "The Three Musketeers",
                                    "Popularity_Count": "64"
                                },
                                {
                                    "Book_Title": "Jailbird",
                                    "Popularity_Count": "63"
                                },
                                {
                                    "Book_Title": "Lunar Park",
                                    "Popularity_Count": "63"
                                },
                                {
                                    "Book_Title": "Beloved",
                                    "Popularity_Count": "63"
                                },
                                {
                                    "Book_Title": "The Shadow of the Wind (The Cemetery of Forgotten Books,  #1)",
                                    "Popularity_Count": "62"
                                },
                                {
                                    "Book_Title": "Great Expectations",
                                    "Popularity_Count": "62"
                                },
                                {
                                    "Book_Title": "His Excellency: George Washington",
                                    "Popularity_Count": "62"
                                },
                                {
                                    "Book_Title": "Founding Brothers: The Revolutionary Generation",
                                    "Popularity_Count": "62"
                                },
                                {
                                    "Book_Title": "Selected Stories",
                                    "Popularity_Count": "61"
                                },
                                {
                                    "Book_Title": "Built to Last: Successful Habits of Visionary Companies",
                                    "Popularity_Count": "61"
                                },
                                {
                                    "Book_Title": "The Virgin Blue",
                                    "Popularity_Count": "61"
                                },
                                {
                                    "Book_Title": "The Short Stories",
                                    "Popularity_Count": "61"
                                },
                                {
                                    "Book_Title": "Doctor No (James Bond, #6)",
                                    "Popularity_Count": "60"
                                },
                                {
                                    "Book_Title": "Do Androids Dream of Electric Sheep?",
                                    "Popularity_Count": "60"
                                },
                                {
                                    "Book_Title": "Fear and Loathing in Las Vegas",
                                    "Popularity_Count": "60"
                                },
                                {
                                    "Book_Title": "Charlie and the Great Glass Elevator (Charlie Bucket, #2)",
                                    "Popularity_Count": "60"
                                },
                                {
                                    "Book_Title": "Timequake",
                                    "Popularity_Count": "60"
                                },
                                {
                                    "Book_Title": "The Fortress of Solitude",
                                    "Popularity_Count": "60"
                                },
                                {
                                    "Book_Title": "Mariel of Redwall (Redwall, #4)",
                                    "Popularity_Count": "60"
                                },
                                {
                                    "Book_Title": "Don't Make Me Think: A Common Sense Approach to Web Usability",
                                    "Popularity_Count": "60"
                                },
                                {
                                    "Book_Title": "1776",
                                    "Popularity_Count": "59"
                                },
                                {
                                    "Book_Title": "Burmese Days",
                                    "Popularity_Count": "59"
                                },
                                {
                                    "Book_Title": "Man's Search for Meaning",
                                    "Popularity_Count": "59"
                                },
                                {
                                    "Book_Title": "What Looks Like Crazy on an Ordinary Day (Idlewild, #1)",
                                    "Popularity_Count": "59"
                                },
                                {
                                    "Book_Title": "The Devil and Miss Prym (On the Seventh Day, #3)",
                                    "Popularity_Count": "59"
                                },
                                {
                                    "Book_Title": "The Man From St. Petersburg",
                                    "Popularity_Count": "59"
                                },
                                {
                                    "Book_Title": "A Moveable Feast",
                                    "Popularity_Count": "58"
                                },
                                {
                                    "Book_Title": "Going After Cacciato",
                                    "Popularity_Count": "58"
                                },
                                {
                                    "Book_Title": "The Smoke Jumper",
                                    "Popularity_Count": "58"
                                },
                                {
                                    "Book_Title": "The Valkyries",
                                    "Popularity_Count": "58"
                                },
                                {
                                    "Book_Title": "The Five Love Languages of Children",
                                    "Popularity_Count": "58"
                                },
                                {
                                    "Book_Title": "Vampire Mountain (Cirque Du Freak, #4)",
                                    "Popularity_Count": "58"
                                },
                                {
                                    "Book_Title": "Carter Beats the Devil",
                                    "Popularity_Count": "58"
                                },
                                {
                                    "Book_Title": "Oedipus Rex  (The Theban Plays, #1)",
                                    "Popularity_Count": "57"
                                },
                                {
                                    "Book_Title": "The Firm (Penguin Readers, Level 5)",
                                    "Popularity_Count": "57"
                                },
                                {
                                    "Book_Title": "The Road",
                                    "Popularity_Count": "57"
                                },
                                {
                                    "Book_Title": "My Life in France",
                                    "Popularity_Count": "57"
                                },
                                {
                                    "Book_Title": "The Path Between the Seas: The Creation of the Panama Canal, 1870-1914",
                                    "Popularity_Count": "57"
                                },
                                {
                                    "Book_Title": "Night (The Night Trilogy #1)",
                                    "Popularity_Count": "57"
                                },
                                {
                                    "Book_Title": "Anil's Ghost",
                                    "Popularity_Count": "57"
                                },
                                {
                                    "Book_Title": "Salt: A World History",
                                    "Popularity_Count": "57"
                                },
                                {
                                    "Book_Title": "The Beach House",
                                    "Popularity_Count": "56"
                                },
                                {
                                    "Book_Title": "Portrait of a Killer: Jack the Ripper - Case Closed",
                                    "Popularity_Count": "56"
                                },
                                {
                                    "Book_Title": "In Our Time",
                                    "Popularity_Count": "56"
                                },
                                {
                                    "Book_Title": "Anansi Boys",
                                    "Popularity_Count": "56"
                                },
                                {
                                    "Book_Title": "Deerskin",
                                    "Popularity_Count": "56"
                                },
                                {
                                    "Book_Title": "Morality for Beautiful Girls (No. 1 Ladies' Detective Agency, #3)",
                                    "Popularity_Count": "56"
                                },
                                {
                                    "Book_Title": "Eleven Minutes",
                                    "Popularity_Count": "55"
                                },
                                {
                                    "Book_Title": "Longitude: The True Story of a Lone Genius Who Solved the Greatest Scientific Problem of His Time",
                                    "Popularity_Count": "55"
                                },
                                {
                                    "Book_Title": "A Christmas Carol",
                                    "Popularity_Count": "55"
                                },
                                {
                                    "Book_Title": "The First Four Years  (Little House, #9)",
                                    "Popularity_Count": "55"
                                },
                                {
                                    "Book_Title": "Love in the Time of Cholera",
                                    "Popularity_Count": "54"
                                },
                                {
                                    "Book_Title": "My Friend Leonard",
                                    "Popularity_Count": "54"
                                },
                                {
                                    "Book_Title": "The Brothers Karamazov",
                                    "Popularity_Count": "54"
                                },
                                {
                                    "Book_Title": "The Clan of the Cave Bear (Earth's Children, #1)",
                                    "Popularity_Count": "53"
                                },
                                {
                                    "Book_Title": "A Man Without a Country",
                                    "Popularity_Count": "53"
                                },
                                {
                                    "Book_Title": "The Corrections",
                                    "Popularity_Count": "53"
                                },
                                {
                                    "Book_Title": "The Aleph and Other Stories ",
                                    "Popularity_Count": "53"
                                },
                                {
                                    "Book_Title": "The Shadow Rising (Wheel of Time, #4)",
                                    "Popularity_Count": "53"
                                },
                                {
                                    "Book_Title": "Charlie and the Chocolate Factory (Charlie Bucket, #1)",
                                    "Popularity_Count": "53"
                                },
                                {
                                    "Book_Title": "In the Lake of the Woods",
                                    "Popularity_Count": "53"
                                },
                                {
                                    "Book_Title": "Blink",
                                    "Popularity_Count": "52"
                                },
                                {
                                    "Book_Title": "Me Talk Pretty One Day",
                                    "Popularity_Count": "52"
                                },
                                {
                                    "Book_Title": "The Fifth Mountain",
                                    "Popularity_Count": "51"
                                },
                                {
                                    "Book_Title": "Suffer the Children",
                                    "Popularity_Count": "51"
                                },
                                {
                                    "Book_Title": "Pearls of Lutra (Redwall, #9)",
                                    "Popularity_Count": "50"
                                },
                                {
                                    "Book_Title": "Persepolis: The Story of a Childhood (Persepolis, #1)",
                                    "Popularity_Count": "50"
                                },
                                {
                                    "Book_Title": "To Kill a Mockingbird",
                                    "Popularity_Count": "50"
                                },
                                {
                                    "Book_Title": "Paradise",
                                    "Popularity_Count": "50"
                                },
                                {
                                    "Book_Title": "Eaters of the Dead",
                                    "Popularity_Count": "50"
                                },
                                {
                                    "Book_Title": "The Club Dumas",
                                    "Popularity_Count": "50"
                                },
                                {
                                    "Book_Title": "Special Topics in Calamity Physics",
                                    "Popularity_Count": "50"
                                },
                                {
                                    "Book_Title": "The Winter of Our Discontent",
                                    "Popularity_Count": "49"
                                },
                                {
                                    "Book_Title": "How to Be Good",
                                    "Popularity_Count": "49"
                                },
                                {
                                    "Book_Title": "The Call of the Wild",
                                    "Popularity_Count": "49"
                                },
                                {
                                    "Book_Title": "Timeline",
                                    "Popularity_Count": "48"
                                },
                                {
                                    "Book_Title": "The Cement Garden",
                                    "Popularity_Count": "48"
                                },
                                {
                                    "Book_Title": "Icy Sparks",
                                    "Popularity_Count": "48"
                                },
                                {
                                    "Book_Title": "Mornings on Horseback",
                                    "Popularity_Count": "48"
                                },
                                {
                                    "Book_Title": "A Walk in the Woods",
                                    "Popularity_Count": "48"
                                },
                                {
                                    "Book_Title": "The Great Gatsby",
                                    "Popularity_Count": "48"
                                },
                                {
                                    "Book_Title": "Outcast of Redwall (Redwall, #8)",
                                    "Popularity_Count": "48"
                                },
                                {
                                    "Book_Title": "The Ground Beneath Her Feet",
                                    "Popularity_Count": "48"
                                },
                                {
                                    "Book_Title": "Twelfth Night",
                                    "Popularity_Count": "48"
                                },
                                {
                                    "Book_Title": "Travels with Charley: In Search of America",
                                    "Popularity_Count": "48"
                                },
                                {
                                    "Book_Title": "Life of Pi",
                                    "Popularity_Count": "48"
                                },
                                {
                                    "Book_Title": "Black and Blue",
                                    "Popularity_Count": "47"
                                },
                                {
                                    "Book_Title": "The Doors of Perception & Heaven and Hell",
                                    "Popularity_Count": "47"
                                },
                                {
                                    "Book_Title": "The Poisonwood Bible",
                                    "Popularity_Count": "47"
                                },
                                {
                                    "Book_Title": "Unfinished Tales of Númenor and Middle-Earth",
                                    "Popularity_Count": "47"
                                },
                                {
                                    "Book_Title": "The Good Soldier",
                                    "Popularity_Count": "47"
                                },
                                {
                                    "Book_Title": "Gates of Fire: An Epic Novel of the Battle of Thermopylae",
                                    "Popularity_Count": "47"
                                },
                                {
                                    "Book_Title": "The Andromeda Strain",
                                    "Popularity_Count": "47"
                                },
                                {
                                    "Book_Title": "The Witches",
                                    "Popularity_Count": "47"
                                },
                                {
                                    "Book_Title": "A Heartbreaking Work of Staggering Genius",
                                    "Popularity_Count": "46"
                                },
                                {
                                    "Book_Title": "Brokeback Mountain",
                                    "Popularity_Count": "46"
                                },
                                {
                                    "Book_Title": "Motor Mouth (Alex Barnaby #2)",
                                    "Popularity_Count": "46"
                                },
                                {
                                    "Book_Title": "A Brief History of Time",
                                    "Popularity_Count": "46"
                                },
                                {
                                    "Book_Title": "Confessions of an Economic Hit Man",
                                    "Popularity_Count": "45"
                                },
                                {
                                    "Book_Title": "The Pragmatic Programmer: From Journeyman to Master",
                                    "Popularity_Count": "45"
                                },
                                {
                                    "Book_Title": "In Search of Excellence: Lessons from America's Best-Run Companies",
                                    "Popularity_Count": "45"
                                },
                                {
                                    "Book_Title": "Women in Love (Brangwen Family, #2)",
                                    "Popularity_Count": "45"
                                },
                                {
                                    "Book_Title": "A Walk to Remember",
                                    "Popularity_Count": "45"
                                },
                                {
                                    "Book_Title": "The Devil Wears Prada (The Devil Wears Prada, #1)",
                                    "Popularity_Count": "45"
                                },
                                {
                                    "Book_Title": "Wizard and Glass (The Dark Tower, #4)",
                                    "Popularity_Count": "44"
                                },
                                {
                                    "Book_Title": "The Thorn Birds",
                                    "Popularity_Count": "44"
                                },
                                {
                                    "Book_Title": "The Time Machine",
                                    "Popularity_Count": "44"
                                },
                                {
                                    "Book_Title": "Skinny Legs and All",
                                    "Popularity_Count": "44"
                                },
                                {
                                    "Book_Title": "Who Moved My Cheese?",
                                    "Popularity_Count": "44"
                                },
                                {
                                    "Book_Title": "The Terminal Man",
                                    "Popularity_Count": "44"
                                },
                                {
                                    "Book_Title": "A Supposedly Fun Thing I'll Never Do Again:  Essays and Arguments",
                                    "Popularity_Count": "44"
                                },
                                {
                                    "Book_Title": "The First World War",
                                    "Popularity_Count": "44"
                                },
                                {
                                    "Book_Title": "About a Boy",
                                    "Popularity_Count": "44"
                                },
                                {
                                    "Book_Title": "Paris to the Moon",
                                    "Popularity_Count": "44"
                                },
                                {
                                    "Book_Title": "The Prophet",
                                    "Popularity_Count": "43"
                                },
                                {
                                    "Book_Title": "The Catcher in the Rye",
                                    "Popularity_Count": "43"
                                },
                                {
                                    "Book_Title": "The Oedipus Cycle: Oedipus Rex/Oedipus at Colonus/Antigone (The Theban Plays, #1–3)",
                                    "Popularity_Count": "43"
                                },
                                {
                                    "Book_Title": "Invisible Cities",
                                    "Popularity_Count": "43"
                                },
                                {
                                    "Book_Title": "The Great Train Robbery",
                                    "Popularity_Count": "43"
                                },
                                {
                                    "Book_Title": "The Big Sleep (Philip Marlowe, #1)",
                                    "Popularity_Count": "43"
                                },
                                {
                                    "Book_Title": "La Dame aux Camélias",
                                    "Popularity_Count": "43"
                                },
                                {
                                    "Book_Title": "Holidays on Ice",
                                    "Popularity_Count": "43"
                                },
                                {
                                    "Book_Title": "The Magic Finger (Young Puffin Developing Reader)",
                                    "Popularity_Count": "43"
                                },
                                {
                                    "Book_Title": "The 158-Pound Marriage",
                                    "Popularity_Count": "43"
                                },
                                {
                                    "Book_Title": "Tara Road",
                                    "Popularity_Count": "43"
                                },
                                {
                                    "Book_Title": "Persepolis, Volume 1",
                                    "Popularity_Count": "42"
                                },
                                {
                                    "Book_Title": "Papillon",
                                    "Popularity_Count": "42"
                                },
                                {
                                    "Book_Title": "All-of-a-Kind Family (All-of-a-Kind Family, #1)",
                                    "Popularity_Count": "42"
                                },
                                {
                                    "Book_Title": "One for the Money (Stephanie Plum, #1)",
                                    "Popularity_Count": "42"
                                },
                                {
                                    "Book_Title": "Anne Frank Remembered: The Story of the Woman Who Helped to Hide the Frank Family",
                                    "Popularity_Count": "42"
                                },
                                {
                                    "Book_Title": "Barrel Fever: Stories and Essays",
                                    "Popularity_Count": "42"
                                },
                                {
                                    "Book_Title": "The Woman in White",
                                    "Popularity_Count": "41"
                                },
                                {
                                    "Book_Title": "Shopaholic Takes Manhattan (Shopaholic, #2)",
                                    "Popularity_Count": "41"
                                },
                                {
                                    "Book_Title": "Waiting for the Barbarians",
                                    "Popularity_Count": "41"
                                },
                                {
                                    "Book_Title": "A Christmas Carol and Other Christmas Writings",
                                    "Popularity_Count": "41"
                                },
                                {
                                    "Book_Title": "Maximum City: Bombay Lost and Found",
                                    "Popularity_Count": "41"
                                },
                                {
                                    "Book_Title": "Girlfriend in a Coma",
                                    "Popularity_Count": "41"
                                },
                                {
                                    "Book_Title": "Twelve Sharp (Stephanie Plum, #12)",
                                    "Popularity_Count": "41"
                                },
                                {
                                    "Book_Title": "A Prayer for Owen Meany",
                                    "Popularity_Count": "40"
                                },
                                {
                                    "Book_Title": "Disgrace",
                                    "Popularity_Count": "40"
                                },
                                {
                                    "Book_Title": "Marina",
                                    "Popularity_Count": "40"
                                },
                                {
                                    "Book_Title": "Anne Frank: Beyond the Diary - A Photographic Remembrance",
                                    "Popularity_Count": "40"
                                },
                                {
                                    "Book_Title": "Fever Pitch",
                                    "Popularity_Count": "40"
                                },
                                {
                                    "Book_Title": "Seven Up (Stephanie Plum, #7)",
                                    "Popularity_Count": "40"
                                },
                                {
                                    "Book_Title": "The Last Juror",
                                    "Popularity_Count": "40"
                                },
                                {
                                    "Book_Title": "Little House in the Big Woods (Little House, #1)",
                                    "Popularity_Count": "39"
                                },
                                {
                                    "Book_Title": "Fantastic Mr. Fox",
                                    "Popularity_Count": "39"
                                },
                                {
                                    "Book_Title": "Breath, Eyes, Memory",
                                    "Popularity_Count": "39"
                                },
                                {
                                    "Book_Title": "The Pearl",
                                    "Popularity_Count": "39"
                                },
                                {
                                    "Book_Title": "Complete Works of Oscar Wilde",
                                    "Popularity_Count": "39"
                                },
                                {
                                    "Book_Title": "Anne of Green Gables (Anne of Green Gables, #1)",
                                    "Popularity_Count": "38"
                                },
                                {
                                    "Book_Title": "Shopaholic Ties the Knot (Shopaholic, #3)",
                                    "Popularity_Count": "38"
                                },
                                {
                                    "Book_Title": "Tuesdays with Morrie",
                                    "Popularity_Count": "38"
                                },
                                {
                                    "Book_Title": "A People's History of the United States",
                                    "Popularity_Count": "38"
                                },
                                {
                                    "Book_Title": "Animal Farm / 1984",
                                    "Popularity_Count": "38"
                                },
                                {
                                    "Book_Title": "Howl's Moving Castle (Howl's Moving Castle, #1)",
                                    "Popularity_Count": "38"
                                },
                                {
                                    "Book_Title": "Generation X: Tales for an Accelerated Culture",
                                    "Popularity_Count": "37"
                                },
                                {
                                    "Book_Title": "Cradle to Cradle: Remaking the Way We Make Things",
                                    "Popularity_Count": "37"
                                },
                                {
                                    "Book_Title": "The Long Goodbye (Philip Marlowe, #6)",
                                    "Popularity_Count": "37"
                                },
                                {
                                    "Book_Title": "The Pillars of Creation (Sword of Truth, #7)",
                                    "Popularity_Count": "37"
                                },
                                {
                                    "Book_Title": "V.",
                                    "Popularity_Count": "37"
                                },
                                {
                                    "Book_Title": "Open House",
                                    "Popularity_Count": "37"
                                },
                                {
                                    "Book_Title": "Olivia Joules and the Overactive Imagination",
                                    "Popularity_Count": "37"
                                },
                                {
                                    "Book_Title": "Dragonfly in Amber (Outlander, #2)",
                                    "Popularity_Count": "37"
                                },
                                {
                                    "Book_Title": "The People of Sparks (Book of Ember, #2)",
                                    "Popularity_Count": "36"
                                },
                                {
                                    "Book_Title": "QED: The Strange Theory of Light and Matter",
                                    "Popularity_Count": "36"
                                },
                                {
                                    "Book_Title": "Code to Zero",
                                    "Popularity_Count": "36"
                                },
                                {
                                    "Book_Title": "Moo, Baa, La La La!",
                                    "Popularity_Count": "36"
                                },
                                {
                                    "Book_Title": "Islands in the Stream",
                                    "Popularity_Count": "36"
                                },
                                {
                                    "Book_Title": "The Legend of Luke (Redwall, #12)",
                                    "Popularity_Count": "36"
                                },
                                {
                                    "Book_Title": "Antigone (The Theban Plays, #3)",
                                    "Popularity_Count": "36"
                                },
                                {
                                    "Book_Title": "A Woman of Substance (Emma Harte Saga #1)",
                                    "Popularity_Count": "36"
                                },
                                {
                                    "Book_Title": "First They Killed My Father: A Daughter of Cambodia Remembers",
                                    "Popularity_Count": "36"
                                },
                                {
                                    "Book_Title": "Moloka'i",
                                    "Popularity_Count": "35"
                                },
                                {
                                    "Book_Title": "From Russia With Love (James Bond, #5)",
                                    "Popularity_Count": "35"
                                },
                                {
                                    "Book_Title": "Bleachers",
                                    "Popularity_Count": "35"
                                },
                                {
                                    "Book_Title": "All Families are Psychotic",
                                    "Popularity_Count": "35"
                                },
                                {
                                    "Book_Title": "The Stories of Eva Luna",
                                    "Popularity_Count": "35"
                                },
                                {
                                    "Book_Title": "Fight Club",
                                    "Popularity_Count": "35"
                                },
                                {
                                    "Book_Title": "Darwin's Dangerous Idea: Evolution and the Meanings of Life",
                                    "Popularity_Count": "35"
                                },
                                {
                                    "Book_Title": "Last Orders",
                                    "Popularity_Count": "35"
                                },
                                {
                                    "Book_Title": "Message in a Bottle",
                                    "Popularity_Count": "34"
                                },
                                {
                                    "Book_Title": "A Bend in the Road",
                                    "Popularity_Count": "34"
                                },
                                {
                                    "Book_Title": "Macbeth",
                                    "Popularity_Count": "34"
                                },
                                {
                                    "Book_Title": "Postmortem (Kay Scarpetta, #1)",
                                    "Popularity_Count": "34"
                                },
                                {
                                    "Book_Title": "Shadows of the Empire (Star Wars)",
                                    "Popularity_Count": "34"
                                },
                                {
                                    "Book_Title": "Boy: Tales of Childhood",
                                    "Popularity_Count": "34"
                                },
                                {
                                    "Book_Title": "Midwives",
                                    "Popularity_Count": "33"
                                },
                                {
                                    "Book_Title": "Speaker for the Dead (Ender's Saga, #2)",
                                    "Popularity_Count": "33"
                                },
                                {
                                    "Book_Title": "Ethan Frome",
                                    "Popularity_Count": "33"
                                },
                                {
                                    "Book_Title": "Sir Gawain and the Green Knight ",
                                    "Popularity_Count": "33"
                                },
                                {
                                    "Book_Title": "Breakfast of Champions",
                                    "Popularity_Count": "33"
                                },
                                {
                                    "Book_Title": "You Shall Know Our Velocity!",
                                    "Popularity_Count": "33"
                                },
                                {
                                    "Book_Title": "God Bless You, Mr. Rosewater",
                                    "Popularity_Count": "33"
                                },
                                {
                                    "Book_Title": "Prophet",
                                    "Popularity_Count": "33"
                                },
                                {
                                    "Book_Title": "'Tis (Frank McCourt, #2)",
                                    "Popularity_Count": "33"
                                },
                                {
                                    "Book_Title": "'Salem's Lot",
                                    "Popularity_Count": "33"
                                },
                                {
                                    "Book_Title": "The Old Man and the Sea",
                                    "Popularity_Count": "33"
                                },
                                {
                                    "Book_Title": "Trials of Death (Cirque Du Freak, #5)",
                                    "Popularity_Count": "32"
                                },
                                {
                                    "Book_Title": "Night Over Water",
                                    "Popularity_Count": "32"
                                },
                                {
                                    "Book_Title": "Four Blondes",
                                    "Popularity_Count": "32"
                                },
                                {
                                    "Book_Title": "Amsterdam",
                                    "Popularity_Count": "32"
                                },
                                {
                                    "Book_Title": "Four to Score (Stephanie Plum, #4)",
                                    "Popularity_Count": "32"
                                },
                                {
                                    "Book_Title": "Mayflower: A Story of Courage, Community, and War",
                                    "Popularity_Count": "32"
                                },
                                {
                                    "Book_Title": "The Giver (The Giver, #1)",
                                    "Popularity_Count": "32"
                                },
                                {
                                    "Book_Title": "The Drama of the Gifted Child: The Search for the True Self",
                                    "Popularity_Count": "32"
                                },
                                {
                                    "Book_Title": "The Burden of Proof",
                                    "Popularity_Count": "32"
                                },
                                {
                                    "Book_Title": "Cane River",
                                    "Popularity_Count": "32"
                                },
                                {
                                    "Book_Title": "Holy Cow: An Indian Adventure",
                                    "Popularity_Count": "31"
                                },
                                {
                                    "Book_Title": "How to Make Love Like a Porn Star: A Cautionary Tale",
                                    "Popularity_Count": "31"
                                },
                                {
                                    "Book_Title": "The Broom of the System",
                                    "Popularity_Count": "31"
                                },
                                {
                                    "Book_Title": "Howl and Other Poems",
                                    "Popularity_Count": "31"
                                },
                                {
                                    "Book_Title": "The Great Book of Amber (The Chronicles of Amber, #1-10)",
                                    "Popularity_Count": "31"
                                },
                                {
                                    "Book_Title": "Franny and Zooey",
                                    "Popularity_Count": "30"
                                },
                                {
                                    "Book_Title": "The Secret Garden",
                                    "Popularity_Count": "30"
                                },
                                {
                                    "Book_Title": "Naked",
                                    "Popularity_Count": "30"
                                },
                                {
                                    "Book_Title": "A Bend in the River",
                                    "Popularity_Count": "30"
                                },
                                {
                                    "Book_Title": "Jack: Straight from the Gut",
                                    "Popularity_Count": "30"
                                },
                                {
                                    "Book_Title": "The Millionaire Next Door: The Surprising Secrets of Americas Wealthy",
                                    "Popularity_Count": "30"
                                },
                                {
                                    "Book_Title": "Path of the Assassin (Scot Harvath, #2)",
                                    "Popularity_Count": "30"
                                },
                                {
                                    "Book_Title": "The Year of Magical Thinking",
                                    "Popularity_Count": "30"
                                },
                                {
                                    "Book_Title": "Rising Sun",
                                    "Popularity_Count": "29"
                                },
                                {
                                    "Book_Title": "Casino Royale (James Bond, #1)",
                                    "Popularity_Count": "29"
                                },
                                {
                                    "Book_Title": "By the River Piedra I Sat Down and Wept",
                                    "Popularity_Count": "29"
                                },
                                {
                                    "Book_Title": "The Unbearable Lightness of Being",
                                    "Popularity_Count": "29"
                                },
                                {
                                    "Book_Title": "Jackdaws",
                                    "Popularity_Count": "29"
                                },
                                {
                                    "Book_Title": "John Adams",
                                    "Popularity_Count": "29"
                                },
                                {
                                    "Book_Title": "Jurassic Park (Jurassic Park, #1)",
                                    "Popularity_Count": "29"
                                },
                                {
                                    "Book_Title": "To Have and Have Not",
                                    "Popularity_Count": "29"
                                },
                                {
                                    "Book_Title": "Unlimited Power : The New Science Of Personal Achievement",
                                    "Popularity_Count": "29"
                                },
                                {
                                    "Book_Title": "Another Roadside Attraction",
                                    "Popularity_Count": "29"
                                },
                                {
                                    "Book_Title": "A Modest Proposal and Other Satirical Works",
                                    "Popularity_Count": "29"
                                },
                                {
                                    "Book_Title": "Forever in Blue: The Fourth Summer of the Sisterhood (Sisterhood, #4)",
                                    "Popularity_Count": "29"
                                },
                                {
                                    "Book_Title": "Naked Lunch",
                                    "Popularity_Count": "29"
                                },
                                {
                                    "Book_Title": "The Secret Art of Dr. Seuss",
                                    "Popularity_Count": "29"
                                },
                                {
                                    "Book_Title": "Fried Green Tomatoes at the Whistle Stop Cafe",
                                    "Popularity_Count": "29"
                                },
                                {
                                    "Book_Title": "The King of Torts",
                                    "Popularity_Count": "28"
                                },
                                {
                                    "Book_Title": "The Big Bad Wolf  (Alex Cross, #9)",
                                    "Popularity_Count": "28"
                                },
                                {
                                    "Book_Title": "The Giraffe and the Pelly and Me",
                                    "Popularity_Count": "28"
                                },
                                {
                                    "Book_Title": "Killers of the Dawn (Cirque Du Freak, #9)",
                                    "Popularity_Count": "28"
                                },
                                {
                                    "Book_Title": "Life and Times of Michael K",
                                    "Popularity_Count": "28"
                                },
                                {
                                    "Book_Title": "Practicing the Power of Now: Essential Teachings, Meditations, and Exercises from the Power of Now",
                                    "Popularity_Count": "28"
                                },
                                {
                                    "Book_Title": "Marlfox (Redwall, #11)",
                                    "Popularity_Count": "28"
                                },
                                {
                                    "Book_Title": "Saturday",
                                    "Popularity_Count": "28"
                                },
                                {
                                    "Book_Title": "Reading Lolita in Tehran",
                                    "Popularity_Count": "28"
                                },
                                {
                                    "Book_Title": "The Pillars of the Earth (The Kingsbridge Series, #1)",
                                    "Popularity_Count": "28"
                                },
                                {
                                    "Book_Title": "East of Eden",
                                    "Popularity_Count": "27"
                                },
                                {
                                    "Book_Title": "The Jane Austen Book Club",
                                    "Popularity_Count": "27"
                                },
                                {
                                    "Book_Title": "Cry, the Beloved Country",
                                    "Popularity_Count": "27"
                                },
                                {
                                    "Book_Title": "Them: Adventures with Extremists",
                                    "Popularity_Count": "27"
                                },
                                {
                                    "Book_Title": "Lucy Sullivan Is Getting Married",
                                    "Popularity_Count": "27"
                                },
                                {
                                    "Book_Title": "Pygmalion",
                                    "Popularity_Count": "27"
                                },
                                {
                                    "Book_Title": "Three to Get Deadly (Stephanie Plum, #3)",
                                    "Popularity_Count": "27"
                                },
                                {
                                    "Book_Title": "Crow Lake",
                                    "Popularity_Count": "27"
                                },
                                {
                                    "Book_Title": "Twenty Years After (The D'Artagnan Romances, #2)",
                                    "Popularity_Count": "27"
                                },
                                {
                                    "Book_Title": "A Son of the Circus",
                                    "Popularity_Count": "26"
                                },
                                {
                                    "Book_Title": "The Man Who Listens to Horses",
                                    "Popularity_Count": "26"
                                },
                                {
                                    "Book_Title": "Dr. Seuss's ABC: An Amazing Alphabet Book! (Bright and Early Board Books)",
                                    "Popularity_Count": "26"
                                },
                                {
                                    "Book_Title": "The Language Instinct: How the Mind Creates Language",
                                    "Popularity_Count": "26"
                                },
                                {
                                    "Book_Title": "1984",
                                    "Popularity_Count": "26"
                                },
                                {
                                    "Book_Title": "Dispatches",
                                    "Popularity_Count": "26"
                                },
                                {
                                    "Book_Title": "number9dream",
                                    "Popularity_Count": "26"
                                },
                                {
                                    "Book_Title": "Blindness",
                                    "Popularity_Count": "26"
                                },
                                {
                                    "Book_Title": "Genome: the Autobiography of a Species in 23 Chapters",
                                    "Popularity_Count": "26"
                                },
                                {
                                    "Book_Title": "Brave New World",
                                    "Popularity_Count": "26"
                                },
                                {
                                    "Book_Title": "Danny the Champion of the World",
                                    "Popularity_Count": "26"
                                },
                                {
                                    "Book_Title": "Endymion (Hyperion Cantos, #3)",
                                    "Popularity_Count": "25"
                                },
                                {
                                    "Book_Title": "Lord of the Shadows (Cirque Du Freak, #11)",
                                    "Popularity_Count": "25"
                                },
                                {
                                    "Book_Title": "The House of the Spirits",
                                    "Popularity_Count": "25"
                                },
                                {
                                    "Book_Title": "The Good Husband of Zebra Drive (No. 1 Ladies' Detective Agency, #8)",
                                    "Popularity_Count": "25"
                                },
                                {
                                    "Book_Title": "From Potter's Field (Kay Scarpetta, #6)",
                                    "Popularity_Count": "25"
                                },
                                {
                                    "Book_Title": "Peter and the Shadow Thieves (Peter and the Starcatchers, #2)",
                                    "Popularity_Count": "25"
                                },
                                {
                                    "Book_Title": "Tears of the Giraffe (No. 1 Ladies' Detective Agency, #2)",
                                    "Popularity_Count": "25"
                                },
                                {
                                    "Book_Title": "The Vampire Prince (Cirque Du Freak, #6)",
                                    "Popularity_Count": "25"
                                },
                                {
                                    "Book_Title": "Microserfs",
                                    "Popularity_Count": "25"
                                },
                                {
                                    "Book_Title": "The Four Agreements: A Practical Guide to Personal Freedom",
                                    "Popularity_Count": "24"
                                },
                                {
                                    "Book_Title": "Cause of Death (Kay Scarpetta, #7)",
                                    "Popularity_Count": "24"
                                },
                                {
                                    "Book_Title": "Enchantment",
                                    "Popularity_Count": "24"
                                },
                                {
                                    "Book_Title": "Rainbow Six (Jack Ryan Universe, #10)",
                                    "Popularity_Count": "24"
                                },
                                {
                                    "Book_Title": "Goldfinger (James Bond, #7)",
                                    "Popularity_Count": "24"
                                },
                                {
                                    "Book_Title": "The Universe in a Nutshell",
                                    "Popularity_Count": "24"
                                },
                                {
                                    "Book_Title": "The Android's Dream",
                                    "Popularity_Count": "24"
                                },
                                {
                                    "Book_Title": "Dear John",
                                    "Popularity_Count": "24"
                                },
                                {
                                    "Book_Title": "Three Men in a Boat (Three Men, #1)",
                                    "Popularity_Count": "24"
                                },
                                {
                                    "Book_Title": "I Feel Bad about My Neck: And Other Thoughts on Being a Woman",
                                    "Popularity_Count": "24"
                                },
                                {
                                    "Book_Title": "The Men Who Stare at Goats",
                                    "Popularity_Count": "23"
                                },
                                {
                                    "Book_Title": "The Very Hungry Caterpillar Board Book",
                                    "Popularity_Count": "23"
                                },
                                {
                                    "Book_Title": "Airframe",
                                    "Popularity_Count": "23"
                                },
                                {
                                    "Book_Title": "The Drawing of the Three (The Dark Tower, #2)",
                                    "Popularity_Count": "23"
                                },
                                {
                                    "Book_Title": "Extremely Loud and Incredibly Close",
                                    "Popularity_Count": "23"
                                },
                                {
                                    "Book_Title": "Eiger Dreams: Ventures Among Men and Mountains",
                                    "Popularity_Count": "23"
                                },
                                {
                                    "Book_Title": "Mother Night",
                                    "Popularity_Count": "23"
                                },
                                {
                                    "Book_Title": "Reservation Blues",
                                    "Popularity_Count": "23"
                                },
                                {
                                    "Book_Title": "The Red Tent",
                                    "Popularity_Count": "23"
                                },
                                {
                                    "Book_Title": "Messenger of Truth (Maisie Dobbs, #4)",
                                    "Popularity_Count": "23"
                                },
                                {
                                    "Book_Title": "Farewell, My Lovely (Philip Marlowe, #2)",
                                    "Popularity_Count": "23"
                                },
                                {
                                    "Book_Title": "The Bourne Identity (Jason Bourne, #1)",
                                    "Popularity_Count": "23"
                                },
                                {
                                    "Book_Title": "Saving Fish from Drowning",
                                    "Popularity_Count": "22"
                                },
                                {
                                    "Book_Title": "The Idiot Girls' Action-Adventure Club: True Tales from a Magnificent and Clumsy Life",
                                    "Popularity_Count": "22"
                                },
                                {
                                    "Book_Title": "Enduring Love",
                                    "Popularity_Count": "22"
                                },
                                {
                                    "Book_Title": "The Fourth Hand",
                                    "Popularity_Count": "22"
                                },
                                {
                                    "Book_Title": "Hard Times",
                                    "Popularity_Count": "22"
                                },
                                {
                                    "Book_Title": "God Bless You, Dr. Kevorkian",
                                    "Popularity_Count": "22"
                                },
                                {
                                    "Book_Title": "A Fine Balance",
                                    "Popularity_Count": "22"
                                },
                                {
                                    "Book_Title": "Blue Like Jazz: Nonreligious Thoughts on Christian Spirituality",
                                    "Popularity_Count": "22"
                                },
                                {
                                    "Book_Title": "The Emperor's Children",
                                    "Popularity_Count": "22"
                                },
                                {
                                    "Book_Title": "Crime and Punishment",
                                    "Popularity_Count": "22"
                                },
                                {
                                    "Book_Title": "The Adventures of Huckleberry Finn",
                                    "Popularity_Count": "22"
                                },
                                {
                                    "Book_Title": "A Portrait of the Artist as a Young Man",
                                    "Popularity_Count": "22"
                                },
                                {
                                    "Book_Title": "Farmer Boy (Little House, #3)",
                                    "Popularity_Count": "22"
                                },
                                {
                                    "Book_Title": "The Chamber",
                                    "Popularity_Count": "22"
                                },
                                {
                                    "Book_Title": "The Silmarillion (Middle-Earth Universe)",
                                    "Popularity_Count": "21"
                                },
                                {
                                    "Book_Title": "Trace (Kay Scarpetta, #13)",
                                    "Popularity_Count": "21"
                                },
                                {
                                    "Book_Title": "Regeneration (Regeneration, #1)",
                                    "Popularity_Count": "21"
                                },
                                {
                                    "Book_Title": "The Elephant Vanishes",
                                    "Popularity_Count": "21"
                                },
                                {
                                    "Book_Title": "Cover Her Face (Adam Dalgliesh #1)",
                                    "Popularity_Count": "21"
                                },
                                {
                                    "Book_Title": "The Sea",
                                    "Popularity_Count": "21"
                                },
                                {
                                    "Book_Title": "Ten Apples Up On Top!",
                                    "Popularity_Count": "21"
                                },
                                {
                                    "Book_Title": "City of the Beasts (Eagle and Jaguar, #1)",
                                    "Popularity_Count": "21"
                                },
                                {
                                    "Book_Title": "Moonraker (James Bond, #3)",
                                    "Popularity_Count": "21"
                                },
                                {
                                    "Book_Title": "The Other Side of the Story",
                                    "Popularity_Count": "21"
                                },
                                {
                                    "Book_Title": "The BFG",
                                    "Popularity_Count": "21"
                                },
                                {
                                    "Book_Title": "The History of Sexuality, Volume 1: An Introduction",
                                    "Popularity_Count": "21"
                                },
                                {
                                    "Book_Title": "Ivanhoe",
                                    "Popularity_Count": "21"
                                },
                                {
                                    "Book_Title": "Eats, Shoots & Leaves: The Zero Tolerance Approach to Punctuation",
                                    "Popularity_Count": "21"
                                },
                                {
                                    "Book_Title": "Comfort Me with Apples: More Adventures at the Table",
                                    "Popularity_Count": "21"
                                },
                                {
                                    "Book_Title": "The No. 1 Ladies' Detective Agency  (No. 1 Ladies' Detective Agency, #1)",
                                    "Popularity_Count": "21"
                                },
                                {
                                    "Book_Title": "Confessions of a Shopaholic (Shopaholic, #1)",
                                    "Popularity_Count": "21"
                                },
                                {
                                    "Book_Title": "Three Weeks With My Brother",
                                    "Popularity_Count": "21"
                                },
                                {
                                    "Book_Title": "On Beauty",
                                    "Popularity_Count": "21"
                                },
                                {
                                    "Book_Title": "Olympos (Ilium, #2)",
                                    "Popularity_Count": "21"
                                },
                                {
                                    "Book_Title": "The Joy Luck Club",
                                    "Popularity_Count": "21"
                                },
                                {
                                    "Book_Title": "Little Town on the Prairie  (Little House, #7)",
                                    "Popularity_Count": "20"
                                },
                                {
                                    "Book_Title": "The Water-Method Man",
                                    "Popularity_Count": "20"
                                },
                                {
                                    "Book_Title": "Atonement",
                                    "Popularity_Count": "20"
                                },
                                {
                                    "Book_Title": "Drowning Ruth",
                                    "Popularity_Count": "20"
                                },
                                {
                                    "Book_Title": "Witches Abroad (Discworld, #12; Witches #3)",
                                    "Popularity_Count": "20"
                                },
                                {
                                    "Book_Title": "Gulliver's Travels",
                                    "Popularity_Count": "20"
                                },
                                {
                                    "Book_Title": "Shadow of the Giant (Ender's Shadow, #4)",
                                    "Popularity_Count": "20"
                                },
                                {
                                    "Book_Title": "The Five People You Meet in Heaven",
                                    "Popularity_Count": "20"
                                },
                                {
                                    "Book_Title": "Sickened: The Memoir of a Munchausen by Proxy Childhood",
                                    "Popularity_Count": "20"
                                },
                                {
                                    "Book_Title": "Allies of the Night (Cirque du Freak, #8)",
                                    "Popularity_Count": "20"
                                },
                                {
                                    "Book_Title": "The End of Poverty",
                                    "Popularity_Count": "20"
                                },
                                {
                                    "Book_Title": "Visions of Sugar Plums (Stephanie Plum, #8.5)",
                                    "Popularity_Count": "20"
                                },
                                {
                                    "Book_Title": "The Kalahari Typing School for Men (No. 1 Ladies' Detective Agency, #4)",
                                    "Popularity_Count": "19"
                                },
                                {
                                    "Book_Title": "Nine Stories",
                                    "Popularity_Count": "19"
                                },
                                {
                                    "Book_Title": "The Cat in the Hat and Other Dr. Seuss Favorites",
                                    "Popularity_Count": "19"
                                },
                                {
                                    "Book_Title": "Pardonable Lies (Maisie Dobbs, #3)",
                                    "Popularity_Count": "19"
                                },
                                {
                                    "Book_Title": "The Bonfire of the Vanities",
                                    "Popularity_Count": "19"
                                },
                                {
                                    "Book_Title": "The High Window (Philip Marlowe, #3)",
                                    "Popularity_Count": "19"
                                },
                                {
                                    "Book_Title": "Infinite Jest",
                                    "Popularity_Count": "19"
                                },
                                {
                                    "Book_Title": "Plum Lovin' (Stephanie Plum, #12.5)",
                                    "Popularity_Count": "19"
                                },
                                {
                                    "Book_Title": "Point of Origin (Kay Scarpetta, #9)",
                                    "Popularity_Count": "19"
                                },
                                {
                                    "Book_Title": "The Big Over Easy (Nursery Crime, #1)",
                                    "Popularity_Count": "19"
                                },
                                {
                                    "Book_Title": "Men Are from Mars, Women Are from Venus",
                                    "Popularity_Count": "19"
                                },
                                {
                                    "Book_Title": "Bridge to Terabithia",
                                    "Popularity_Count": "19"
                                },
                                {
                                    "Book_Title": "A Raisin in the Sun",
                                    "Popularity_Count": "19"
                                },
                                {
                                    "Book_Title": "Carrie / 'Salem's Lot / The Shining",
                                    "Popularity_Count": "18"
                                },
                                {
                                    "Book_Title": "The Body Farm (Kay Scarpetta, #5)",
                                    "Popularity_Count": "18"
                                },
                                {
                                    "Book_Title": "The Beautiful and Damned",
                                    "Popularity_Count": "18"
                                },
                                {
                                    "Book_Title": "Keep the Aspidistra Flying",
                                    "Popularity_Count": "18"
                                },
                                {
                                    "Book_Title": "Brave New World Revisited ",
                                    "Popularity_Count": "18"
                                },
                                {
                                    "Book_Title": "The Mermaid Chair",
                                    "Popularity_Count": "18"
                                },
                                {
                                    "Book_Title": "Execution: The Discipline of Getting Things Done",
                                    "Popularity_Count": "18"
                                },
                                {
                                    "Book_Title": "Girls in Pants: The Third Summer of the Sisterhood (Sisterhood, #3)",
                                    "Popularity_Count": "18"
                                },
                                {
                                    "Book_Title": "The Wind in the Willows",
                                    "Popularity_Count": "18"
                                },
                                {
                                    "Book_Title": "Shopaholic & Baby (Shopaholic, #5)",
                                    "Popularity_Count": "18"
                                },
                                {
                                    "Book_Title": "Glamorama",
                                    "Popularity_Count": "18"
                                },
                                {
                                    "Book_Title": "While I Was Gone",
                                    "Popularity_Count": "18"
                                },
                                {
                                    "Book_Title": "Cloudy With a Chance of Meatballs",
                                    "Popularity_Count": "18"
                                },
                                {
                                    "Book_Title": "Mother of Pearl",
                                    "Popularity_Count": "18"
                                },
                                {
                                    "Book_Title": "A Living Nightmare (Cirque Du Freak, #1)",
                                    "Popularity_Count": "18"
                                },
                                {
                                    "Book_Title": "Bagombo Snuff Box",
                                    "Popularity_Count": "18"
                                },
                                {
                                    "Book_Title": "V for Vendetta",
                                    "Popularity_Count": "17"
                                },
                                {
                                    "Book_Title": "Welcome to the Monkey House",
                                    "Popularity_Count": "17"
                                },
                                {
                                    "Book_Title": "Fall on Your Knees",
                                    "Popularity_Count": "17"
                                },
                                {
                                    "Book_Title": "Persepolis 2: The Story of a Return (Persepolis, #2)",
                                    "Popularity_Count": "17"
                                },
                                {
                                    "Book_Title": "The Glass Castle",
                                    "Popularity_Count": "17"
                                },
                                {
                                    "Book_Title": "Disclosure",
                                    "Popularity_Count": "17"
                                },
                                {
                                    "Book_Title": "Survival in Auschwitz",
                                    "Popularity_Count": "17"
                                },
                                {
                                    "Book_Title": "Last Chance to See",
                                    "Popularity_Count": "17"
                                },
                                {
                                    "Book_Title": "Suzanne's Diary for Nicholas",
                                    "Popularity_Count": "17"
                                },
                                {
                                    "Book_Title": "Animal Farm",
                                    "Popularity_Count": "17"
                                },
                                {
                                    "Book_Title": "The Metamorphosis and Other Stories",
                                    "Popularity_Count": "16"
                                },
                                {
                                    "Book_Title": "1421: The Year China Discovered America",
                                    "Popularity_Count": "16"
                                },
                                {
                                    "Book_Title": "Even Cowgirls Get the Blues",
                                    "Popularity_Count": "16"
                                },
                                {
                                    "Book_Title": "The Sun Also Rises",
                                    "Popularity_Count": "16"
                                },
                                {
                                    "Book_Title": "The Lake of Souls (Cirque Du Freak, #10)",
                                    "Popularity_Count": "16"
                                },
                                {
                                    "Book_Title": "The Informers",
                                    "Popularity_Count": "16"
                                },
                                {
                                    "Book_Title": "The Electric Kool-Aid Acid Test",
                                    "Popularity_Count": "16"
                                },
                                {
                                    "Book_Title": "Song of Susannah (The Dark Tower, #6)",
                                    "Popularity_Count": "16"
                                },
                                {
                                    "Book_Title": "World Without End (The Kingsbridge Series, #2)",
                                    "Popularity_Count": "16"
                                },
                                {
                                    "Book_Title": "Less Than Zero",
                                    "Popularity_Count": "16"
                                },
                                {
                                    "Book_Title": "The Red Pony",
                                    "Popularity_Count": "16"
                                },
                                {
                                    "Book_Title": "Player Piano",
                                    "Popularity_Count": "15"
                                },
                                {
                                    "Book_Title": "The Terror",
                                    "Popularity_Count": "15"
                                },
                                {
                                    "Book_Title": "By the Shores of Silver Lake  (Little House, #5)",
                                    "Popularity_Count": "15"
                                },
                                {
                                    "Book_Title": "Fear and Loathing on the Campaign Trail '72",
                                    "Popularity_Count": "15"
                                },
                                {
                                    "Book_Title": "Lord of the Flies",
                                    "Popularity_Count": "15"
                                },
                                {
                                    "Book_Title": "Don Quixote",
                                    "Popularity_Count": "15"
                                },
                                {
                                    "Book_Title": "Hocus Pocus",
                                    "Popularity_Count": "15"
                                },
                                {
                                    "Book_Title": "Dreamland",
                                    "Popularity_Count": "15"
                                },
                                {
                                    "Book_Title": "The Cider House Rules",
                                    "Popularity_Count": "15"
                                },
                                {
                                    "Book_Title": "The Poetry of Pablo Neruda",
                                    "Popularity_Count": "15"
                                },
                                {
                                    "Book_Title": "A Spot of Bother",
                                    "Popularity_Count": "15"
                                },
                                {
                                    "Book_Title": "Emma",
                                    "Popularity_Count": "15"
                                },
                                {
                                    "Book_Title": "Jewel",
                                    "Popularity_Count": "15"
                                },
                                {
                                    "Book_Title": "Jesus Freaks: Stories of Those Who Stood for Jesus, the Ultimate Jesus Freaks (Jesus Freaks, #1)",
                                    "Popularity_Count": "15"
                                },
                                {
                                    "Book_Title": "Five Little Peppers and How They Grew",
                                    "Popularity_Count": "15"
                                },
                                {
                                    "Book_Title": "Fear of Flying",
                                    "Popularity_Count": "14"
                                },
                                {
                                    "Book_Title": "Homage to Catalonia",
                                    "Popularity_Count": "14"
                                },
                                {
                                    "Book_Title": "Teacher Man (Frank McCourt, #3)",
                                    "Popularity_Count": "14"
                                },
                                {
                                    "Book_Title": "The Rules of Attraction",
                                    "Popularity_Count": "14"
                                },
                                {
                                    "Book_Title": "World War Z: An Oral History of the Zombie War",
                                    "Popularity_Count": "14"
                                },
                                {
                                    "Book_Title": "Diamonds Are Forever (James Bond, #4)",
                                    "Popularity_Count": "14"
                                },
                                {
                                    "Book_Title": "Where the Heart Is",
                                    "Popularity_Count": "14"
                                },
                                {
                                    "Book_Title": "In the Skin of a Lion",
                                    "Popularity_Count": "14"
                                },
                                {
                                    "Book_Title": "Oblivion",
                                    "Popularity_Count": "14"
                                },
                                {
                                    "Book_Title": "The Shipping News",
                                    "Popularity_Count": "14"
                                },
                                {
                                    "Book_Title": "In the Company of Cheerful Ladies (No. 1 Ladies' Detective Agency, #6)",
                                    "Popularity_Count": "14"
                                },
                                {
                                    "Book_Title": "The Long Patrol (Redwall, #10)",
                                    "Popularity_Count": "14"
                                },
                                {
                                    "Book_Title": "We Were the Mulvaneys",
                                    "Popularity_Count": "14"
                                },
                                {
                                    "Book_Title": "The Lost World (Jurassic Park, #2)",
                                    "Popularity_Count": "14"
                                },
                                {
                                    "Book_Title": "The Moonstone",
                                    "Popularity_Count": "14"
                                },
                                {
                                    "Book_Title": "Watermelon (Walsh Family, #1)",
                                    "Popularity_Count": "14"
                                },
                                {
                                    "Book_Title": "Bluebeard",
                                    "Popularity_Count": "13"
                                },
                                {
                                    "Book_Title": "What Do You Care What Other People Think?",
                                    "Popularity_Count": "13"
                                },
                                {
                                    "Book_Title": "Rose Daughter",
                                    "Popularity_Count": "13"
                                },
                                {
                                    "Book_Title": "Life, the Universe and Everything (Hitchhiker's Guide, #3)",
                                    "Popularity_Count": "12"
                                },
                                {
                                    "Book_Title": "Emily of New Moon (Emily, #1)",
                                    "Popularity_Count": "12"
                                },
                                {
                                    "Book_Title": "Two for the Dough (Stephanie Plum, #2)",
                                    "Popularity_Count": "12"
                                },
                                {
                                    "Book_Title": "Ender's Shadow (Ender's Shadow, #1)",
                                    "Popularity_Count": "12"
                                },
                                {
                                    "Book_Title": "Crossing to Safety",
                                    "Popularity_Count": "12"
                                },
                                {
                                    "Book_Title": "Rachel's Holiday (Walsh Family, #2)",
                                    "Popularity_Count": "12"
                                },
                                {
                                    "Book_Title": "Raise High the Roof Beam, Carpenters & Seymour: An Introduction",
                                    "Popularity_Count": "12"
                                },
                                {
                                    "Book_Title": "Redwall (Redwall, #1)",
                                    "Popularity_Count": "12"
                                },
                                {
                                    "Book_Title": "Salamandastron (Redwall, #5)",
                                    "Popularity_Count": "12"
                                },
                                {
                                    "Book_Title": "Book of the Dead (Kay Scarpetta, #15)",
                                    "Popularity_Count": "12"
                                },
                                {
                                    "Book_Title": "The Sirens of Titan",
                                    "Popularity_Count": "12"
                                },
                                {
                                    "Book_Title": "How to Stop Worrying and Start Living",
                                    "Popularity_Count": "12"
                                },
                                {
                                    "Book_Title": "Hot Six (Stephanie Plum, #6)",
                                    "Popularity_Count": "12"
                                },
                                {
                                    "Book_Title": "The Audacity of Hope: Thoughts on Reclaiming the American Dream",
                                    "Popularity_Count": "12"
                                },
                                {
                                    "Book_Title": "Year of Wonders",
                                    "Popularity_Count": "12"
                                },
                                {
                                    "Book_Title": "The Long Walk",
                                    "Popularity_Count": "12"
                                },
                                {
                                    "Book_Title": "Consider the Lobster and Other Essays",
                                    "Popularity_Count": "11"
                                },
                                {
                                    "Book_Title": "Phenomenology of Spirit",
                                    "Popularity_Count": "11"
                                },
                                {
                                    "Book_Title": "Demons",
                                    "Popularity_Count": "11"
                                },
                                {
                                    "Book_Title": "Birdsong",
                                    "Popularity_Count": "11"
                                },
                                {
                                    "Book_Title": "The Baron in the Trees",
                                    "Popularity_Count": "11"
                                },
                                {
                                    "Book_Title": "A Map of the World",
                                    "Popularity_Count": "11"
                                },
                                {
                                    "Book_Title": "Jitterbug Perfume",
                                    "Popularity_Count": "11"
                                },
                                {
                                    "Book_Title": "The Hound of the Baskervilles",
                                    "Popularity_Count": "11"
                                },
                                {
                                    "Book_Title": "What Is the What",
                                    "Popularity_Count": "10"
                                },
                                {
                                    "Book_Title": "On the Banks of Plum Creek  (Little House, #4)",
                                    "Popularity_Count": "10"
                                },
                                {
                                    "Book_Title": "Bleach, Volume 15",
                                    "Popularity_Count": "10"
                                },
                                {
                                    "Book_Title": "The Blank Slate: The Modern Denial of Human Nature",
                                    "Popularity_Count": "10"
                                },
                                {
                                    "Book_Title": "As the Crow Flies",
                                    "Popularity_Count": "10"
                                },
                                {
                                    "Book_Title": "The Client",
                                    "Popularity_Count": "10"
                                },
                                {
                                    "Book_Title": "Going Solo",
                                    "Popularity_Count": "10"
                                },
                                {
                                    "Book_Title": "James and the Giant Peach",
                                    "Popularity_Count": "9"
                                },
                                {
                                    "Book_Title": "Here on Earth",
                                    "Popularity_Count": "9"
                                },
                                {
                                    "Book_Title": "Desert Flower",
                                    "Popularity_Count": "9"
                                },
                                {
                                    "Book_Title": "The Vampire's Assistant (Cirque Du Freak, #2)",
                                    "Popularity_Count": "9"
                                },
                                {
                                    "Book_Title": "Red Prophet (Tales of Alvin Maker, #2)",
                                    "Popularity_Count": "9"
                                },
                                {
                                    "Book_Title": "Slapstick, or Lonesome No More!",
                                    "Popularity_Count": "9"
                                },
                                {
                                    "Book_Title": "Songbook",
                                    "Popularity_Count": "9"
                                },
                                {
                                    "Book_Title": "Bleach, Volume 01",
                                    "Popularity_Count": "9"
                                },
                                {
                                    "Book_Title": "Betsy-Tacy (Betsy-Tacy, #1)",
                                    "Popularity_Count": "9"
                                },
                                {
                                    "Book_Title": "Assassination Vacation",
                                    "Popularity_Count": "9"
                                },
                                {
                                    "Book_Title": "Wuthering Heights",
                                    "Popularity_Count": "9"
                                },
                                {
                                    "Book_Title": "The Moor's Last Sigh",
                                    "Popularity_Count": "9"
                                },
                                {
                                    "Book_Title": "Vanity Fair",
                                    "Popularity_Count": "8"
                                },
                                {
                                    "Book_Title": "Deception Point",
                                    "Popularity_Count": "8"
                                },
                                {
                                    "Book_Title": "Darkness",
                                    "Popularity_Count": "8"
                                },
                                {
                                    "Book_Title": "Awakening the Buddha Within: Tibetan Wisdom for the Western World",
                                    "Popularity_Count": "8"
                                },
                                {
                                    "Book_Title": "Fierce Invalids Home from Hot Climates",
                                    "Popularity_Count": "8"
                                },
                                {
                                    "Book_Title": "Xenocide (Ender's Saga, #3)",
                                    "Popularity_Count": "8"
                                },
                                {
                                    "Book_Title": "How We Are Hungry",
                                    "Popularity_Count": "8"
                                },
                                {
                                    "Book_Title": "Last Chance Saloon",
                                    "Popularity_Count": "8"
                                },
                                {
                                    "Book_Title": "The Comfort of Strangers",
                                    "Popularity_Count": "8"
                                },
                                {
                                    "Book_Title": "Midnight for Charlie Bone (The Children of the Red King, #1)",
                                    "Popularity_Count": "8"
                                },
                                {
                                    "Book_Title": "On Her Majesty's Secret Service (James Bond, #11)",
                                    "Popularity_Count": "8"
                                },
                                {
                                    "Book_Title": "Runaways, Vol. 1: Pride and Joy (Runaways, #1)",
                                    "Popularity_Count": "8"
                                },
                                {
                                    "Book_Title": "Shadow Divers",
                                    "Popularity_Count": "8"
                                },
                                {
                                    "Book_Title": "Shadow of the Hegemon (Ender's Shadow, #2)",
                                    "Popularity_Count": "8"
                                },
                                {
                                    "Book_Title": "She's Come Undone",
                                    "Popularity_Count": "8"
                                },
                                {
                                    "Book_Title": "Galápagos",
                                    "Popularity_Count": "7"
                                },
                                {
                                    "Book_Title": "The Count of Monte Cristo",
                                    "Popularity_Count": "7"
                                },
                                {
                                    "Book_Title": "Mrs. Frisby and the Rats of NIMH (Rats of NIMH, #1)",
                                    "Popularity_Count": "7"
                                },
                                {
                                    "Book_Title": "Bel Canto",
                                    "Popularity_Count": "7"
                                },
                                {
                                    "Book_Title": "Pale Fire",
                                    "Popularity_Count": "7"
                                },
                                {
                                    "Book_Title": "Predator (Kay Scarpetta, #14)",
                                    "Popularity_Count": "7"
                                },
                                {
                                    "Book_Title": "Skipping Christmas",
                                    "Popularity_Count": "7"
                                },
                                {
                                    "Book_Title": "Sons of Destiny (Cirque Du Freak, #12)",
                                    "Popularity_Count": "7"
                                },
                                {
                                    "Book_Title": "The Woman in the Dunes",
                                    "Popularity_Count": "6"
                                },
                                {
                                    "Book_Title": "Little Altars Everywhere",
                                    "Popularity_Count": "6"
                                },
                                {
                                    "Book_Title": "Shopaholic and Sister (Shopaholic, #4)",
                                    "Popularity_Count": "6"
                                },
                                {
                                    "Book_Title": "The Lorax",
                                    "Popularity_Count": "5"
                                },
                                {
                                    "Book_Title": "The Heart of a Woman",
                                    "Popularity_Count": "5"
                                },
                                {
                                    "Book_Title": "Hunters of the Dusk (Cirque Du Freak, #7)",
                                    "Popularity_Count": "5"
                                },
                                {
                                    "Book_Title": "I Can Read With My Eyes Shut!",
                                    "Popularity_Count": "5"
                                },
                                {
                                    "Book_Title": "King Rat (Asian Saga, #4)",
                                    "Popularity_Count": "5"
                                },
                                {
                                    "Book_Title": "A Virtuous Woman",
                                    "Popularity_Count": "5"
                                },
                                {
                                    "Book_Title": "The Quiet American",
                                    "Popularity_Count": "5"
                                },
                                {
                                    "Book_Title": "Pygmalion & My Fair Lady",
                                    "Popularity_Count": "5"
                                },
                                {
                                    "Book_Title": "Cradle and All",
                                    "Popularity_Count": "5"
                                },
                                {
                                    "Book_Title": "Superman: Birthright",
                                    "Popularity_Count": "5"
                                },
                                {
                                    "Book_Title": "The God of Small Things",
                                    "Popularity_Count": "4"
                                },
                                {
                                    "Book_Title": "The Complete Short Stories",
                                    "Popularity_Count": "4"
                                },
                                {
                                    "Book_Title": "The Power of Now: A Guide to Spiritual Enlightenment",
                                    "Popularity_Count": "4"
                                },
                                {
                                    "Book_Title": "Ahab's Wife, or The Star-Gazer",
                                    "Popularity_Count": "4"
                                },
                                {
                                    "Book_Title": "The Atonement Child",
                                    "Popularity_Count": "4"
                                },
                                {
                                    "Book_Title": "Still Life with Woodpecker",
                                    "Popularity_Count": "4"
                                },
                                {
                                    "Book_Title": "Cannery Row",
                                    "Popularity_Count": "4"
                                },
                                {
                                    "Book_Title": "Next",
                                    "Popularity_Count": "4"
                                },
                                {
                                    "Book_Title": "Never Let Me Go",
                                    "Popularity_Count": "4"
                                },
                                {
                                    "Book_Title": "Loving What Is: Four Questions That Can Change Your Life",
                                    "Popularity_Count": "4"
                                },
                                {
                                    "Book_Title": "Embroideries",
                                    "Popularity_Count": "4"
                                },
                                {
                                    "Book_Title": "I Hope They Serve Beer in Hell (Tucker Max, #1)",
                                    "Popularity_Count": "4"
                                },
                                {
                                    "Book_Title": "Freak the Mighty (Freak The Mighty, #1)",
                                    "Popularity_Count": "4"
                                },
                                {
                                    "Book_Title": "The Street Lawyer",
                                    "Popularity_Count": "3"
                                },
                                {
                                    "Book_Title": "The Bell Jar",
                                    "Popularity_Count": "3"
                                },
                                {
                                    "Book_Title": "The Canterbury Tales",
                                    "Popularity_Count": "3"
                                },
                                {
                                    "Book_Title": "Herzog",
                                    "Popularity_Count": "3"
                                },
                                {
                                    "Book_Title": "Haroun and the Sea of Stories (Khalifa Brothers, #1)",
                                    "Popularity_Count": "3"
                                },
                                {
                                    "Book_Title": "Sputnik Sweetheart",
                                    "Popularity_Count": "2"
                                },
                                {
                                    "Book_Title": "Deadeye Dick",
                                    "Popularity_Count": "2"
                                },
                                {
                                    "Book_Title": "The World According to Garp",
                                    "Popularity_Count": "2"
                                },
                                {
                                    "Book_Title": "Ghostwritten",
                                    "Popularity_Count": "2"
                                },
                                {
                                    "Book_Title": "The Bookseller of Kabul",
                                    "Popularity_Count": "1"
                                },
                                {
                                    "Book_Title": "The Divine Comedy",
                                    "Popularity_Count": "1"
                                }
                            ]
                        },
                        "text/html": [
                            "<table>",
                            "<tr><th>Book_Title</th><th>Popularity_Count</th></tr>",
                            "<tr><td>The Ultimate Hitchhiker's Guide to the Galaxy</td><td>1812</td></tr>",
                            "<tr><td>The Hitchhiker's Guide to the Galaxy (Hitchhiker's Guide to the Galaxy, #1)</td><td>1767</td></tr>",
                            "<tr><td>The Lord of the Rings: The Art of The Fellowship of the Ring</td><td>1499</td></tr>",
                            "<tr><td>Harry Potter Boxed Set, Books 1-5 (Harry Potter, #1-5)</td><td>1498</td></tr>",
                            "<tr><td>Harry Potter and the Goblet of Fire (Harry Potter, #4)</td><td>1484</td></tr>",
                            "<tr><td>The Known World</td><td>1352</td></tr>",
                            "<tr><td>Harry Potter and the Prisoner of Azkaban (Harry Potter, #3)</td><td>1293</td></tr>",
                            "<tr><td>The Lord of the Rings: Weapons and Warfare</td><td>1211</td></tr>",
                            "<tr><td>Notes from a Small Island</td><td>1148</td></tr>",
                            "<tr><td>Harry Potter Collection (Harry Potter, #1-6)</td><td>1110</td></tr>",
                            "<tr><td>The Lord of the Rings (The Lord of the Rings, #1-3)</td><td>1094</td></tr>",
                            "<tr><td>The Salmon of Doubt (Dirk Gently, #3)</td><td>1069</td></tr>",
                            "<tr><td>Dune Messiah (Dune Chronicles #2)</td><td>1051</td></tr>",
                            "<tr><td>Treasure Island</td><td>1040</td></tr>",
                            "<tr><td>Tropic of Cancer</td><td>1007</td></tr>",
                            "<tr><td>Harry Potter and the Half-Blood Prince (Harry Potter, #6)</td><td>973</td></tr>",
                            "<tr><td>Children of Dune (Dune Chronicles #3)</td><td>913</td></tr>",
                            "<tr><td>The Power of One (The Power of One, #1)</td><td>866</td></tr>",
                            "<tr><td>Heretics of Dune (Dune Chronicles #5)</td><td>815</td></tr>",
                            "<tr><td>J.R.R. Tolkien 4-Book Boxed Set: The Hobbit and The Lord of the Rings</td><td>801</td></tr>",
                            "<tr><td>Job: A Comedy of Justice</td><td>737</td></tr>",
                            "<tr><td>The Door Into Summer</td><td>724</td></tr>",
                            "<tr><td>Mostly Harmless (Hitchhiker's Guide to the Galaxy, #5)</td><td>696</td></tr>",
                            "<tr><td>I am Charlotte Simmons</td><td>661</td></tr>",
                            "<tr><td>The Broken Wings</td><td>659</td></tr>",
                            "<tr><td>Killing Yourself to Live: 85% of a True Story</td><td>608</td></tr>",
                            "<tr><td>The Portrait of a Lady</td><td>580</td></tr>",
                            "<tr><td>The Lover</td><td>567</td></tr>",
                            "<tr><td>Slouching Towards Bethlehem</td><td>564</td></tr>",
                            "<tr><td>We the Living</td><td>563</td></tr>",
                            "<tr><td>Cryptonomicon</td><td>551</td></tr>",
                            "<tr><td>Fullmetal Alchemist, Vol. 1 (Fullmetal Alchemist, #1)</td><td>533</td></tr>",
                            "<tr><td>Libra</td><td>525</td></tr>",
                            "<tr><td>Maurice</td><td>525</td></tr>",
                            "<tr><td>The Elegant Universe: Superstrings, Hidden Dimensions, and the Quest for the Ultimate Theory</td><td>524</td></tr>",
                            "<tr><td>Chapterhouse: Dune (Dune Chronicles #6)</td><td>513</td></tr>",
                            "<tr><td>One Hundred Years of Solitude</td><td>504</td></tr>",
                            "<tr><td>What to Expect the First Year (What to Expect)</td><td>495</td></tr>",
                            "<tr><td>I'm a Stranger Here Myself: Notes on Returning to America after Twenty Years Away</td><td>484</td></tr>",
                            "<tr><td>The Fellowship of the Ring (The Lord of the Rings, #1)</td><td>450</td></tr>",
                            "<tr><td>The Lost Continent: Travels in Small Town America</td><td>447</td></tr>",
                            "<tr><td>Everyday Italian: 125 Simple and Delicious Recipes</td><td>445</td></tr>",
                            "<tr><td>Heidi</td><td>439</td></tr>",
                            "<tr><td>Dirk Gently's Holistic Detective Agency (Dirk Gently #1)</td><td>438</td></tr>",
                            "<tr><td>Tropic of Capricorn</td><td>438</td></tr>",
                            "<tr><td>Neither Here nor There: Travels in Europe</td><td>438</td></tr>",
                            "<tr><td>City of Glass (The New York Trilogy, #1)</td><td>435</td></tr>",
                            "<tr><td>In a Sunburned Country</td><td>431</td></tr>",
                            "<tr><td>The Virtue of Selfishness: A New Concept of Egoism</td><td>430</td></tr>",
                            "<tr><td>A Short History of Nearly Everything</td><td>427</td></tr>",
                            "<tr><td>Harry Potter and the Order of the Phoenix (Harry Potter, #5)</td><td>400</td></tr>",
                            "<tr><td>Sherlock Holmes: The Complete Novels and Stories, Volume I</td><td>387</td></tr>",
                            "<tr><td>Daniel Deronda</td><td>385</td></tr>",
                            "<tr><td>Madame Bovary</td><td>384</td></tr>",
                            "<tr><td>Stranger in a Strange Land</td><td>374</td></tr>",
                            "<tr><td>Digging to America</td><td>373</td></tr>",
                            "<tr><td>The Da Vinci Code (Robert Langdon, #2)</td><td>372</td></tr>",
                            "<tr><td>The Mother Tongue: English and How It Got That Way</td><td>348</td></tr>",
                            "<tr><td>The Phantom Tollbooth</td><td>346</td></tr>",
                            "<tr><td>The Long Dark Tea-Time of the Soul (Dirk Gently, #2)</td><td>343</td></tr>",
                            "<tr><td>The Game: Penetrating the Secret Society of Pickup Artists</td><td>319</td></tr>",
                            "<tr><td>Breaking the Spell: Religion as a Natural Phenomenon</td><td>316</td></tr>",
                            "<tr><td>The Tipping Point: How Little Things Can Make a Big Difference</td><td>315</td></tr>",
                            "<tr><td>Robinson Crusoe</td><td>309</td></tr>",
                            "<tr><td>Agamemnon (Oresteia, #1)</td><td>306</td></tr>",
                            "<tr><td>Collapse: How Societies Choose to Fail or Succeed</td><td>306</td></tr>",
                            "<tr><td>Trump: The Art of the Deal</td><td>305</td></tr>",
                            "<tr><td>Harry Potter and the Sorcerer's Stone (Harry Potter, #1)</td><td>287</td></tr>",
                            "<tr><td>Fire Sea (The Death Gate Cycle, #3)</td><td>286</td></tr>",
                            "<tr><td>Wild Swans: Three Daughters of China</td><td>279</td></tr>",
                            "<tr><td>Metamorphoses</td><td>277</td></tr>",
                            "<tr><td>Think and Grow Rich: The Landmark Bestseller - Now Revised and Updated for the 21st Century</td><td>273</td></tr>",
                            "<tr><td>Hatchet (Brian's Saga, #1)</td><td>269</td></tr>",
                            "<tr><td>Middlesex</td><td>268</td></tr>",
                            "<tr><td>The Confusion (The Baroque Cycle, #2)</td><td>267</td></tr>",
                            "<tr><td>Hamlet</td><td>265</td></tr>",
                            "<tr><td>Atlas Shrugged</td><td>262</td></tr>",
                            "<tr><td>Snow Crash</td><td>261</td></tr>",
                            "<tr><td>Pompeii</td><td>260</td></tr>",
                            "<tr><td>The Odyssey</td><td>250</td></tr>",
                            "<tr><td>Leviathan</td><td>249</td></tr>",
                            "<tr><td>The Iliad/The Odyssey</td><td>240</td></tr>",
                            "<tr><td>Zodiac</td><td>240</td></tr>",
                            "<tr><td>The Diamond Age: or, A Young Lady's Illustrated Primer</td><td>239</td></tr>",
                            "<tr><td>Fahrenheit 451</td><td>236</td></tr>",
                            "<tr><td>Play It as It Lays</td><td>232</td></tr>",
                            "<tr><td>The Iliad</td><td>220</td></tr>",
                            "<tr><td>Corelli's Mandolin</td><td>219</td></tr>",
                            "<tr><td>The Brooklyn Follies</td><td>217</td></tr>",
                            "<tr><td>Gravity's Rainbow</td><td>217</td></tr>",
                            "<tr><td>Memoirs of a Geisha</td><td>213</td></tr>",
                            "<tr><td>Time Enough for Love</td><td>208</td></tr>",
                            "<tr><td>Moon Palace</td><td>207</td></tr>",
                            "<tr><td>The Design of Everyday Things</td><td>206</td></tr>",
                            "<tr><td>The Restaurant at the End of the Universe (Hitchhiker's Guide, #2)</td><td>202</td></tr>",
                            "<tr><td>Wild Fire (John Corey, #4)</td><td>198</td></tr>",
                            "<tr><td>Nickel and Dimed: On (Not) Getting By in America</td><td>195</td></tr>",
                            "<tr><td>Falling Angels</td><td>194</td></tr>",
                            "<tr><td>Martin Chuzzlewit</td><td>189</td></tr>",
                            "<tr><td>Giada's Family Dinners</td><td>189</td></tr>",
                            "<tr><td>Wild at Heart: Discovering the Secret of a Man's Soul</td><td>184</td></tr>",
                            "<tr><td>The New York Trilogy</td><td>182</td></tr>",
                            "<tr><td>Surely You're Joking, Mr. Feynman!: Adventures of a Curious Character</td><td>182</td></tr>",
                            "<tr><td>Sailing Alone Around the Room: New and Selected Poems</td><td>180</td></tr>",
                            "<tr><td>The Broker</td><td>180</td></tr>",
                            "<tr><td>A Separate Peace</td><td>178</td></tr>",
                            "<tr><td>Blue Ocean Strategy: How To Create Uncontested Market Space And Make The Competition Irrelevant</td><td>176</td></tr>",
                            "<tr><td>Liar's Poker</td><td>174</td></tr>",
                            "<tr><td>The War of Art: Break Through the Blocks &amp; Win Your Inner Creative Battles</td><td>174</td></tr>",
                            "<tr><td>War and Peace</td><td>174</td></tr>",
                            "<tr><td>A Million Little Pieces</td><td>172</td></tr>",
                            "<tr><td>A Home at the End of the World</td><td>169</td></tr>",
                            "<tr><td>The Crying of Lot 49</td><td>168</td></tr>",
                            "<tr><td>Another Bullshit Night in Suck City</td><td>166</td></tr>",
                            "<tr><td>Angels &amp; Demons  (Robert Langdon, #1)</td><td>166</td></tr>",
                            "<tr><td>West with the Night</td><td>164</td></tr>",
                            "<tr><td>The Natural Way to Draw</td><td>164</td></tr>",
                            "<tr><td>An Ideal Husband</td><td>162</td></tr>",
                            "<tr><td>A Painted House</td><td>162</td></tr>",
                            "<tr><td>Sentimental Education</td><td>161</td></tr>",
                            "<tr><td>Little Women (Little Women, #1)</td><td>157</td></tr>",
                            "<tr><td>The Oresteia  (Ορέστεια, #1-3)</td><td>157</td></tr>",
                            "<tr><td>Forever Amber </td><td>157</td></tr>",
                            "<tr><td>The Partner</td><td>156</td></tr>",
                            "<tr><td>I Like You: Hospitality Under the Influence</td><td>156</td></tr>",
                            "<tr><td>Brief Interviews with Hideous Men</td><td>154</td></tr>",
                            "<tr><td>Into the Wild</td><td>152</td></tr>",
                            "<tr><td>America (The Book): A Citizen's Guide to Democracy Inaction</td><td>152</td></tr>",
                            "<tr><td>Hard Eight (Stephanie Plum, #8)</td><td>149</td></tr>",
                            "<tr><td>The Zahir</td><td>149</td></tr>",
                            "<tr><td>Live and Let Die (James Bond, #2)</td><td>149</td></tr>",
                            "<tr><td>A Tale of Two Cities</td><td>148</td></tr>",
                            "<tr><td>The Deep End of the Ocean (Cappadora Family, #1)</td><td>147</td></tr>",
                            "<tr><td>Persuasion</td><td>147</td></tr>",
                            "<tr><td>Way of the Peaceful Warrior: A Book That Changes Lives</td><td>145</td></tr>",
                            "<tr><td>Howards End</td><td>143</td></tr>",
                            "<tr><td>The Innocent Man: Murder and Injustice in a Small Town</td><td>142</td></tr>",
                            "<tr><td>Anthem</td><td>142</td></tr>",
                            "<tr><td>White Teeth</td><td>142</td></tr>",
                            "<tr><td>The Book of Ruth</td><td>139</td></tr>",
                            "<tr><td>Snow Flower and the Secret Fan</td><td>139</td></tr>",
                            "<tr><td>The Taste of Home Cookbook</td><td>139</td></tr>",
                            "<tr><td>Lipstick Jungle</td><td>137</td></tr>",
                            "<tr><td>Shalimar the Clown</td><td>134</td></tr>",
                            "<tr><td>The Amazing Adventures of Kavalier &amp; Clay</td><td>129</td></tr>",
                            "<tr><td>Baltasar and Blimunda</td><td>129</td></tr>",
                            "<tr><td>The Innovator's Dilemma: The Revolutionary Book that Will Change the Way You Do Business (Collins Business Essentials)</td><td>127</td></tr>",
                            "<tr><td>Black Beauty</td><td>127</td></tr>",
                            "<tr><td>The Good Earth (House of Earth, #1)</td><td>126</td></tr>",
                            "<tr><td>The Hungry Tide</td><td>126</td></tr>",
                            "<tr><td>Zen and the Art of Motorcycle Maintenance: An Inquiry Into Values</td><td>125</td></tr>",
                            "<tr><td>The Richest Man in Babylon</td><td>123</td></tr>",
                            "<tr><td>Memories of My Melancholy Whores</td><td>123</td></tr>",
                            "<tr><td>Slaughterhouse-Five</td><td>123</td></tr>",
                            "<tr><td>The Plot Against America</td><td>118</td></tr>",
                            "<tr><td>Interpreter of Maladies</td><td>116</td></tr>",
                            "<tr><td>Quicksilver (The Baroque Cycle, #1)</td><td>116</td></tr>",
                            "<tr><td>The Heart of the Matter</td><td>116</td></tr>",
                            "<tr><td>Villa Incognito</td><td>115</td></tr>",
                            "<tr><td>The Automatic Millionaire: A Powerful One-Step Plan to Live and Finish Rich</td><td>114</td></tr>",
                            "<tr><td>From Beirut to Jerusalem</td><td>114</td></tr>",
                            "<tr><td>Freakonomics: A Rogue Economist Explores the Hidden Side of Everything (Freakonomics, #1)</td><td>113</td></tr>",
                            "<tr><td>From the Mixed-Up Files of Mrs. Basil E. Frankweiler</td><td>112</td></tr>",
                            "<tr><td>High Five (Stephanie Plum, #5)</td><td>111</td></tr>",
                            "<tr><td>Truman</td><td>110</td></tr>",
                            "<tr><td>The History of Love</td><td>110</td></tr>",
                            "<tr><td>The List</td><td>110</td></tr>",
                            "<tr><td>The Westing Game</td><td>109</td></tr>",
                            "<tr><td>Sex, Drugs, and Cocoa Puffs: A Low Culture Manifesto</td><td>108</td></tr>",
                            "<tr><td>The Way the Crow Flies</td><td>108</td></tr>",
                            "<tr><td>One Fish, Two Fish, Red Fish, Blue Fish</td><td>107</td></tr>",
                            "<tr><td>Lost Horizon</td><td>107</td></tr>",
                            "<tr><td>The Wedding (The Notebook, #2)</td><td>107</td></tr>",
                            "<tr><td>The Johnstown Flood</td><td>106</td></tr>",
                            "<tr><td>A Room with a View</td><td>106</td></tr>",
                            "<tr><td>Perfume: The Story of a Murderer</td><td>105</td></tr>",
                            "<tr><td>The Complete Sherlock Holmes, Vol 2</td><td>105</td></tr>",
                            "<tr><td>The World Is Flat: A Brief History of the Twenty-first Century</td><td>105</td></tr>",
                            "<tr><td>Sex and the City</td><td>104</td></tr>",
                            "<tr><td>A Case of Need</td><td>104</td></tr>",
                            "<tr><td>The Bone Collector (Lincoln Rhyme, #1)</td><td>103</td></tr>",
                            "<tr><td>No Logo</td><td>102</td></tr>",
                            "<tr><td>A Little Princess</td><td>102</td></tr>",
                            "<tr><td>The Grapes of Wrath</td><td>100</td></tr>",
                            "<tr><td>So Long, and Thanks for All the Fish (Hitchhiker's Guide to the Galaxy, #4)</td><td>99</td></tr>",
                            "<tr><td>American Gods (American Gods, #1)</td><td>99</td></tr>",
                            "<tr><td>The Egypt Game (Game, #1)</td><td>99</td></tr>",
                            "<tr><td>The Rapture of Canaan</td><td>99</td></tr>",
                            "<tr><td>Hey Nostradamus!</td><td>98</td></tr>",
                            "<tr><td>Kurt Vonnegut's Cat's Cradle (Modern Critical Interpretations)</td><td>97</td></tr>",
                            "<tr><td>Economics in One Lesson: The Shortest &amp; Surest Way to Understand Basic Economics</td><td>96</td></tr>",
                            "<tr><td>Until I Find You</td><td>96</td></tr>",
                            "<tr><td>Lysistrata</td><td>95</td></tr>",
                            "<tr><td>The Physician (Cole Family Trilogy, #1)</td><td>95</td></tr>",
                            "<tr><td>Guns, Germs, and Steel: The Fates of Human Societies</td><td>94</td></tr>",
                            "<tr><td>Of Mice and Men</td><td>93</td></tr>",
                            "<tr><td>Harry Potter Schoolbooks Box Set: Two Classic Books from the Library of Hogwarts School of Witchcraft and Wizardry</td><td>92</td></tr>",
                            "<tr><td>The River (Brian's Saga, #2)</td><td>92</td></tr>",
                            "<tr><td>Twenty Love Poems and a Song of Despair</td><td>92</td></tr>",
                            "<tr><td>A Great and Terrible Beauty (Gemma Doyle, #1)</td><td>92</td></tr>",
                            "<tr><td>Songs in Ordinary Time</td><td>91</td></tr>",
                            "<tr><td>Tunnels of Blood (Cirque Du Freak, #3)</td><td>90</td></tr>",
                            "<tr><td>Fast Food Nation: The Dark Side of the All-American Meal</td><td>90</td></tr>",
                            "<tr><td>Congo</td><td>90</td></tr>",
                            "<tr><td>The Complete Anne of Green Gables Boxed Set (Anne of Green Gables, #1-8)</td><td>89</td></tr>",
                            "<tr><td>The Hobbit</td><td>89</td></tr>",
                            "<tr><td>Into Thin Air: A Personal Account of the Mount Everest Disaster</td><td>88</td></tr>",
                            "<tr><td>Wolves of the Calla (The Dark Tower, #5)</td><td>88</td></tr>",
                            "<tr><td>Warrior of the Light</td><td>88</td></tr>",
                            "<tr><td>Ilium (Ilium, #1)</td><td>88</td></tr>",
                            "<tr><td>Sunshine</td><td>87</td></tr>",
                            "<tr><td>Prep</td><td>87</td></tr>",
                            "<tr><td>The Complete Short Novels</td><td>86</td></tr>",
                            "<tr><td>Kafka on the Shore</td><td>86</td></tr>",
                            "<tr><td>The Adventures of Sherlock Holmes</td><td>86</td></tr>",
                            "<tr><td>Heart of Darkness</td><td>84</td></tr>",
                            "<tr><td>Veronika Decides to Die</td><td>84</td></tr>",
                            "<tr><td>Moneyball: The Art of Winning an Unfair Game</td><td>83</td></tr>",
                            "<tr><td>The America's Test Kitchen Family Cookbook</td><td>83</td></tr>",
                            "<tr><td>The Fountainhead</td><td>83</td></tr>",
                            "<tr><td>Team of Rivals: The Political Genius of Abraham Lincoln</td><td>83</td></tr>",
                            "<tr><td>True Believer (Jeremy Marsh &amp; Lexie Darnell, #1)</td><td>83</td></tr>",
                            "<tr><td>Complications: A Surgeon's Notes on an Imperfect Science</td><td>82</td></tr>",
                            "<tr><td>Stranger than Fiction</td><td>82</td></tr>",
                            "<tr><td>Brave New World / Brave New World Revisited</td><td>82</td></tr>",
                            "<tr><td>Like Water for Chocolate</td><td>81</td></tr>",
                            "<tr><td>All the Names</td><td>81</td></tr>",
                            "<tr><td>The 48 Laws of Power</td><td>81</td></tr>",
                            "<tr><td>A Midsummer Night's Dream</td><td>81</td></tr>",
                            "<tr><td>The Pilot's Wife</td><td>81</td></tr>",
                            "<tr><td>The Long Walk: The True Story of a Trek to Freedom</td><td>80</td></tr>",
                            "<tr><td>The View from Saturday</td><td>79</td></tr>",
                            "<tr><td>The Power and the Glory</td><td>79</td></tr>",
                            "<tr><td>The Histories</td><td>79</td></tr>",
                            "<tr><td>The Wonderful Story of Henry Sugar and Six More</td><td>79</td></tr>",
                            "<tr><td>The Amber Room</td><td>78</td></tr>",
                            "<tr><td>The Curious Incident of the Dog in the Night-Time</td><td>78</td></tr>",
                            "<tr><td>The Bellmaker (Redwall, #7)</td><td>77</td></tr>",
                            "<tr><td>Truth and Beauty</td><td>77</td></tr>",
                            "<tr><td>The Long Winter (Little House, #6)</td><td>77</td></tr>",
                            "<tr><td>All the King's Men</td><td>76</td></tr>",
                            "<tr><td>The Lost Boy (Dave Pelzer #2)</td><td>76</td></tr>",
                            "<tr><td>My Name is Red</td><td>75</td></tr>",
                            "<tr><td>Revolting Rhymes</td><td>74</td></tr>",
                            "<tr><td>The Rainmaker</td><td>74</td></tr>",
                            "<tr><td>Six Easy Pieces: Essentials of Physics By Its Most Brilliant Teacher</td><td>73</td></tr>",
                            "<tr><td>The Alchemist</td><td>73</td></tr>",
                            "<tr><td>A Widow for One Year</td><td>73</td></tr>",
                            "<tr><td>Pride and Prejudice</td><td>71</td></tr>",
                            "<tr><td>The Dark Tower (The Dark Tower, #7)</td><td>71</td></tr>",
                            "<tr><td>A Lesson Before Dying</td><td>71</td></tr>",
                            "<tr><td>The Summons</td><td>70</td></tr>",
                            "<tr><td>Girl with a Pearl Earring</td><td>70</td></tr>",
                            "<tr><td>Getting Things Done: The Art of Stress-Free Productivity</td><td>70</td></tr>",
                            "<tr><td>How to Win Friends and Influence People</td><td>69</td></tr>",
                            "<tr><td>Timbuktu</td><td>69</td></tr>",
                            "<tr><td>Narcissus and Goldmund</td><td>69</td></tr>",
                            "<tr><td>The War of the Worlds</td><td>69</td></tr>",
                            "<tr><td>A History of the World in 6 Glasses</td><td>69</td></tr>",
                            "<tr><td>Blind Willow, Sleeping Woman</td><td>68</td></tr>",
                            "<tr><td>It's Not About the Bike: My Journey Back to Life</td><td>68</td></tr>",
                            "<tr><td>The Rescue</td><td>68</td></tr>",
                            "<tr><td>The Picture of Dorian Gray</td><td>68</td></tr>",
                            "<tr><td>The Omnivore's Dilemma: A Natural History of Four Meals</td><td>68</td></tr>",
                            "<tr><td>The Testament</td><td>67</td></tr>",
                            "<tr><td>The Snows of Kilimanjaro and Other Stories</td><td>67</td></tr>",
                            "<tr><td>The Pilgrimage</td><td>67</td></tr>",
                            "<tr><td>Rachael Ray 365: No Repeats: A Year of Deliciously Different Dinners</td><td>67</td></tr>",
                            "<tr><td>A History of God: The 4,000-Year Quest of Judaism, Christianity, and Islam</td><td>67</td></tr>",
                            "<tr><td>The Barefoot Contessa Cookbook</td><td>66</td></tr>",
                            "<tr><td>The Autograph Man</td><td>65</td></tr>",
                            "<tr><td>Half Asleep in Frog Pajamas</td><td>65</td></tr>",
                            "<tr><td>Ways of Seeing</td><td>65</td></tr>",
                            "<tr><td>The Second Summer of the Sisterhood (Sisterhood, #2)</td><td>65</td></tr>",
                            "<tr><td>A House for Mr Biswas</td><td>65</td></tr>",
                            "<tr><td>Lolita</td><td>64</td></tr>",
                            "<tr><td>A Briefer History of Time</td><td>64</td></tr>",
                            "<tr><td>Horton Hears a Who!</td><td>64</td></tr>",
                            "<tr><td>The Brethren</td><td>64</td></tr>",
                            "<tr><td>Inés of My Soul</td><td>64</td></tr>",
                            "<tr><td>The Three Musketeers</td><td>64</td></tr>",
                            "<tr><td>Jailbird</td><td>63</td></tr>",
                            "<tr><td>Lunar Park</td><td>63</td></tr>",
                            "<tr><td>Beloved</td><td>63</td></tr>",
                            "<tr><td>The Shadow of the Wind (The Cemetery of Forgotten Books,  #1)</td><td>62</td></tr>",
                            "<tr><td>Great Expectations</td><td>62</td></tr>",
                            "<tr><td>His Excellency: George Washington</td><td>62</td></tr>",
                            "<tr><td>Founding Brothers: The Revolutionary Generation</td><td>62</td></tr>",
                            "<tr><td>Selected Stories</td><td>61</td></tr>",
                            "<tr><td>Built to Last: Successful Habits of Visionary Companies</td><td>61</td></tr>",
                            "<tr><td>The Virgin Blue</td><td>61</td></tr>",
                            "<tr><td>The Short Stories</td><td>61</td></tr>",
                            "<tr><td>Doctor No (James Bond, #6)</td><td>60</td></tr>",
                            "<tr><td>Do Androids Dream of Electric Sheep?</td><td>60</td></tr>",
                            "<tr><td>Fear and Loathing in Las Vegas</td><td>60</td></tr>",
                            "<tr><td>Charlie and the Great Glass Elevator (Charlie Bucket, #2)</td><td>60</td></tr>",
                            "<tr><td>Timequake</td><td>60</td></tr>",
                            "<tr><td>The Fortress of Solitude</td><td>60</td></tr>",
                            "<tr><td>Mariel of Redwall (Redwall, #4)</td><td>60</td></tr>",
                            "<tr><td>Don't Make Me Think: A Common Sense Approach to Web Usability</td><td>60</td></tr>",
                            "<tr><td>1776</td><td>59</td></tr>",
                            "<tr><td>Burmese Days</td><td>59</td></tr>",
                            "<tr><td>Man's Search for Meaning</td><td>59</td></tr>",
                            "<tr><td>What Looks Like Crazy on an Ordinary Day (Idlewild, #1)</td><td>59</td></tr>",
                            "<tr><td>The Devil and Miss Prym (On the Seventh Day, #3)</td><td>59</td></tr>",
                            "<tr><td>The Man From St. Petersburg</td><td>59</td></tr>",
                            "<tr><td>A Moveable Feast</td><td>58</td></tr>",
                            "<tr><td>Going After Cacciato</td><td>58</td></tr>",
                            "<tr><td>The Smoke Jumper</td><td>58</td></tr>",
                            "<tr><td>The Valkyries</td><td>58</td></tr>",
                            "<tr><td>The Five Love Languages of Children</td><td>58</td></tr>",
                            "<tr><td>Vampire Mountain (Cirque Du Freak, #4)</td><td>58</td></tr>",
                            "<tr><td>Carter Beats the Devil</td><td>58</td></tr>",
                            "<tr><td>Oedipus Rex  (The Theban Plays, #1)</td><td>57</td></tr>",
                            "<tr><td>The Firm (Penguin Readers, Level 5)</td><td>57</td></tr>",
                            "<tr><td>The Road</td><td>57</td></tr>",
                            "<tr><td>My Life in France</td><td>57</td></tr>",
                            "<tr><td>The Path Between the Seas: The Creation of the Panama Canal, 1870-1914</td><td>57</td></tr>",
                            "<tr><td>Night (The Night Trilogy #1)</td><td>57</td></tr>",
                            "<tr><td>Anil's Ghost</td><td>57</td></tr>",
                            "<tr><td>Salt: A World History</td><td>57</td></tr>",
                            "<tr><td>The Beach House</td><td>56</td></tr>",
                            "<tr><td>Portrait of a Killer: Jack the Ripper - Case Closed</td><td>56</td></tr>",
                            "<tr><td>In Our Time</td><td>56</td></tr>",
                            "<tr><td>Anansi Boys</td><td>56</td></tr>",
                            "<tr><td>Deerskin</td><td>56</td></tr>",
                            "<tr><td>Morality for Beautiful Girls (No. 1 Ladies' Detective Agency, #3)</td><td>56</td></tr>",
                            "<tr><td>Eleven Minutes</td><td>55</td></tr>",
                            "<tr><td>Longitude: The True Story of a Lone Genius Who Solved the Greatest Scientific Problem of His Time</td><td>55</td></tr>",
                            "<tr><td>A Christmas Carol</td><td>55</td></tr>",
                            "<tr><td>The First Four Years  (Little House, #9)</td><td>55</td></tr>",
                            "<tr><td>Love in the Time of Cholera</td><td>54</td></tr>",
                            "<tr><td>My Friend Leonard</td><td>54</td></tr>",
                            "<tr><td>The Brothers Karamazov</td><td>54</td></tr>",
                            "<tr><td>The Clan of the Cave Bear (Earth's Children, #1)</td><td>53</td></tr>",
                            "<tr><td>A Man Without a Country</td><td>53</td></tr>",
                            "<tr><td>The Corrections</td><td>53</td></tr>",
                            "<tr><td>The Aleph and Other Stories </td><td>53</td></tr>",
                            "<tr><td>The Shadow Rising (Wheel of Time, #4)</td><td>53</td></tr>",
                            "<tr><td>Charlie and the Chocolate Factory (Charlie Bucket, #1)</td><td>53</td></tr>",
                            "<tr><td>In the Lake of the Woods</td><td>53</td></tr>",
                            "<tr><td>Blink</td><td>52</td></tr>",
                            "<tr><td>Me Talk Pretty One Day</td><td>52</td></tr>",
                            "<tr><td>The Fifth Mountain</td><td>51</td></tr>",
                            "<tr><td>Suffer the Children</td><td>51</td></tr>",
                            "<tr><td>Pearls of Lutra (Redwall, #9)</td><td>50</td></tr>",
                            "<tr><td>Persepolis: The Story of a Childhood (Persepolis, #1)</td><td>50</td></tr>",
                            "<tr><td>To Kill a Mockingbird</td><td>50</td></tr>",
                            "<tr><td>Paradise</td><td>50</td></tr>",
                            "<tr><td>Eaters of the Dead</td><td>50</td></tr>",
                            "<tr><td>The Club Dumas</td><td>50</td></tr>",
                            "<tr><td>Special Topics in Calamity Physics</td><td>50</td></tr>",
                            "<tr><td>The Winter of Our Discontent</td><td>49</td></tr>",
                            "<tr><td>How to Be Good</td><td>49</td></tr>",
                            "<tr><td>The Call of the Wild</td><td>49</td></tr>",
                            "<tr><td>Timeline</td><td>48</td></tr>",
                            "<tr><td>The Cement Garden</td><td>48</td></tr>",
                            "<tr><td>Icy Sparks</td><td>48</td></tr>",
                            "<tr><td>Mornings on Horseback</td><td>48</td></tr>",
                            "<tr><td>A Walk in the Woods</td><td>48</td></tr>",
                            "<tr><td>The Great Gatsby</td><td>48</td></tr>",
                            "<tr><td>Outcast of Redwall (Redwall, #8)</td><td>48</td></tr>",
                            "<tr><td>The Ground Beneath Her Feet</td><td>48</td></tr>",
                            "<tr><td>Twelfth Night</td><td>48</td></tr>",
                            "<tr><td>Travels with Charley: In Search of America</td><td>48</td></tr>",
                            "<tr><td>Life of Pi</td><td>48</td></tr>",
                            "<tr><td>Black and Blue</td><td>47</td></tr>",
                            "<tr><td>The Doors of Perception &amp; Heaven and Hell</td><td>47</td></tr>",
                            "<tr><td>The Poisonwood Bible</td><td>47</td></tr>",
                            "<tr><td>Unfinished Tales of Númenor and Middle-Earth</td><td>47</td></tr>",
                            "<tr><td>The Good Soldier</td><td>47</td></tr>",
                            "<tr><td>Gates of Fire: An Epic Novel of the Battle of Thermopylae</td><td>47</td></tr>",
                            "<tr><td>The Andromeda Strain</td><td>47</td></tr>",
                            "<tr><td>The Witches</td><td>47</td></tr>",
                            "<tr><td>A Heartbreaking Work of Staggering Genius</td><td>46</td></tr>",
                            "<tr><td>Brokeback Mountain</td><td>46</td></tr>",
                            "<tr><td>Motor Mouth (Alex Barnaby #2)</td><td>46</td></tr>",
                            "<tr><td>A Brief History of Time</td><td>46</td></tr>",
                            "<tr><td>Confessions of an Economic Hit Man</td><td>45</td></tr>",
                            "<tr><td>The Pragmatic Programmer: From Journeyman to Master</td><td>45</td></tr>",
                            "<tr><td>In Search of Excellence: Lessons from America's Best-Run Companies</td><td>45</td></tr>",
                            "<tr><td>Women in Love (Brangwen Family, #2)</td><td>45</td></tr>",
                            "<tr><td>A Walk to Remember</td><td>45</td></tr>",
                            "<tr><td>The Devil Wears Prada (The Devil Wears Prada, #1)</td><td>45</td></tr>",
                            "<tr><td>Wizard and Glass (The Dark Tower, #4)</td><td>44</td></tr>",
                            "<tr><td>The Thorn Birds</td><td>44</td></tr>",
                            "<tr><td>The Time Machine</td><td>44</td></tr>",
                            "<tr><td>Skinny Legs and All</td><td>44</td></tr>",
                            "<tr><td>Who Moved My Cheese?</td><td>44</td></tr>",
                            "<tr><td>The Terminal Man</td><td>44</td></tr>",
                            "<tr><td>A Supposedly Fun Thing I'll Never Do Again:  Essays and Arguments</td><td>44</td></tr>",
                            "<tr><td>The First World War</td><td>44</td></tr>",
                            "<tr><td>About a Boy</td><td>44</td></tr>",
                            "<tr><td>Paris to the Moon</td><td>44</td></tr>",
                            "<tr><td>The Prophet</td><td>43</td></tr>",
                            "<tr><td>The Catcher in the Rye</td><td>43</td></tr>",
                            "<tr><td>The Oedipus Cycle: Oedipus Rex/Oedipus at Colonus/Antigone (The Theban Plays, #1–3)</td><td>43</td></tr>",
                            "<tr><td>Invisible Cities</td><td>43</td></tr>",
                            "<tr><td>The Great Train Robbery</td><td>43</td></tr>",
                            "<tr><td>The Big Sleep (Philip Marlowe, #1)</td><td>43</td></tr>",
                            "<tr><td>La Dame aux Camélias</td><td>43</td></tr>",
                            "<tr><td>Holidays on Ice</td><td>43</td></tr>",
                            "<tr><td>The Magic Finger (Young Puffin Developing Reader)</td><td>43</td></tr>",
                            "<tr><td>The 158-Pound Marriage</td><td>43</td></tr>",
                            "<tr><td>Tara Road</td><td>43</td></tr>",
                            "<tr><td>Persepolis, Volume 1</td><td>42</td></tr>",
                            "<tr><td>Papillon</td><td>42</td></tr>",
                            "<tr><td>All-of-a-Kind Family (All-of-a-Kind Family, #1)</td><td>42</td></tr>",
                            "<tr><td>One for the Money (Stephanie Plum, #1)</td><td>42</td></tr>",
                            "<tr><td>Anne Frank Remembered: The Story of the Woman Who Helped to Hide the Frank Family</td><td>42</td></tr>",
                            "<tr><td>Barrel Fever: Stories and Essays</td><td>42</td></tr>",
                            "<tr><td>The Woman in White</td><td>41</td></tr>",
                            "<tr><td>Shopaholic Takes Manhattan (Shopaholic, #2)</td><td>41</td></tr>",
                            "<tr><td>Waiting for the Barbarians</td><td>41</td></tr>",
                            "<tr><td>A Christmas Carol and Other Christmas Writings</td><td>41</td></tr>",
                            "<tr><td>Maximum City: Bombay Lost and Found</td><td>41</td></tr>",
                            "<tr><td>Girlfriend in a Coma</td><td>41</td></tr>",
                            "<tr><td>Twelve Sharp (Stephanie Plum, #12)</td><td>41</td></tr>",
                            "<tr><td>A Prayer for Owen Meany</td><td>40</td></tr>",
                            "<tr><td>Disgrace</td><td>40</td></tr>",
                            "<tr><td>Marina</td><td>40</td></tr>",
                            "<tr><td>Anne Frank: Beyond the Diary - A Photographic Remembrance</td><td>40</td></tr>",
                            "<tr><td>Fever Pitch</td><td>40</td></tr>",
                            "<tr><td>Seven Up (Stephanie Plum, #7)</td><td>40</td></tr>",
                            "<tr><td>The Last Juror</td><td>40</td></tr>",
                            "<tr><td>Little House in the Big Woods (Little House, #1)</td><td>39</td></tr>",
                            "<tr><td>Fantastic Mr. Fox</td><td>39</td></tr>",
                            "<tr><td>Breath, Eyes, Memory</td><td>39</td></tr>",
                            "<tr><td>The Pearl</td><td>39</td></tr>",
                            "<tr><td>Complete Works of Oscar Wilde</td><td>39</td></tr>",
                            "<tr><td>Anne of Green Gables (Anne of Green Gables, #1)</td><td>38</td></tr>",
                            "<tr><td>Shopaholic Ties the Knot (Shopaholic, #3)</td><td>38</td></tr>",
                            "<tr><td>Tuesdays with Morrie</td><td>38</td></tr>",
                            "<tr><td>A People's History of the United States</td><td>38</td></tr>",
                            "<tr><td>Animal Farm / 1984</td><td>38</td></tr>",
                            "<tr><td>Howl's Moving Castle (Howl's Moving Castle, #1)</td><td>38</td></tr>",
                            "<tr><td>Generation X: Tales for an Accelerated Culture</td><td>37</td></tr>",
                            "<tr><td>Cradle to Cradle: Remaking the Way We Make Things</td><td>37</td></tr>",
                            "<tr><td>The Long Goodbye (Philip Marlowe, #6)</td><td>37</td></tr>",
                            "<tr><td>The Pillars of Creation (Sword of Truth, #7)</td><td>37</td></tr>",
                            "<tr><td>V.</td><td>37</td></tr>",
                            "<tr><td>Open House</td><td>37</td></tr>",
                            "<tr><td>Olivia Joules and the Overactive Imagination</td><td>37</td></tr>",
                            "<tr><td>Dragonfly in Amber (Outlander, #2)</td><td>37</td></tr>",
                            "<tr><td>The People of Sparks (Book of Ember, #2)</td><td>36</td></tr>",
                            "<tr><td>QED: The Strange Theory of Light and Matter</td><td>36</td></tr>",
                            "<tr><td>Code to Zero</td><td>36</td></tr>",
                            "<tr><td>Moo, Baa, La La La!</td><td>36</td></tr>",
                            "<tr><td>Islands in the Stream</td><td>36</td></tr>",
                            "<tr><td>The Legend of Luke (Redwall, #12)</td><td>36</td></tr>",
                            "<tr><td>Antigone (The Theban Plays, #3)</td><td>36</td></tr>",
                            "<tr><td>A Woman of Substance (Emma Harte Saga #1)</td><td>36</td></tr>",
                            "<tr><td>First They Killed My Father: A Daughter of Cambodia Remembers</td><td>36</td></tr>",
                            "<tr><td>Moloka'i</td><td>35</td></tr>",
                            "<tr><td>From Russia With Love (James Bond, #5)</td><td>35</td></tr>",
                            "<tr><td>Bleachers</td><td>35</td></tr>",
                            "<tr><td>All Families are Psychotic</td><td>35</td></tr>",
                            "<tr><td>The Stories of Eva Luna</td><td>35</td></tr>",
                            "<tr><td>Fight Club</td><td>35</td></tr>",
                            "<tr><td>Darwin's Dangerous Idea: Evolution and the Meanings of Life</td><td>35</td></tr>",
                            "<tr><td>Last Orders</td><td>35</td></tr>",
                            "<tr><td>Message in a Bottle</td><td>34</td></tr>",
                            "<tr><td>A Bend in the Road</td><td>34</td></tr>",
                            "<tr><td>Macbeth</td><td>34</td></tr>",
                            "<tr><td>Postmortem (Kay Scarpetta, #1)</td><td>34</td></tr>",
                            "<tr><td>Shadows of the Empire (Star Wars)</td><td>34</td></tr>",
                            "<tr><td>Boy: Tales of Childhood</td><td>34</td></tr>",
                            "<tr><td>Midwives</td><td>33</td></tr>",
                            "<tr><td>Speaker for the Dead (Ender's Saga, #2)</td><td>33</td></tr>",
                            "<tr><td>Ethan Frome</td><td>33</td></tr>",
                            "<tr><td>Sir Gawain and the Green Knight </td><td>33</td></tr>",
                            "<tr><td>Breakfast of Champions</td><td>33</td></tr>",
                            "<tr><td>You Shall Know Our Velocity!</td><td>33</td></tr>",
                            "<tr><td>God Bless You, Mr. Rosewater</td><td>33</td></tr>",
                            "<tr><td>Prophet</td><td>33</td></tr>",
                            "<tr><td>'Tis (Frank McCourt, #2)</td><td>33</td></tr>",
                            "<tr><td>'Salem's Lot</td><td>33</td></tr>",
                            "<tr><td>The Old Man and the Sea</td><td>33</td></tr>",
                            "<tr><td>Trials of Death (Cirque Du Freak, #5)</td><td>32</td></tr>",
                            "<tr><td>Night Over Water</td><td>32</td></tr>",
                            "<tr><td>Four Blondes</td><td>32</td></tr>",
                            "<tr><td>Amsterdam</td><td>32</td></tr>",
                            "<tr><td>Four to Score (Stephanie Plum, #4)</td><td>32</td></tr>",
                            "<tr><td>Mayflower: A Story of Courage, Community, and War</td><td>32</td></tr>",
                            "<tr><td>The Giver (The Giver, #1)</td><td>32</td></tr>",
                            "<tr><td>The Drama of the Gifted Child: The Search for the True Self</td><td>32</td></tr>",
                            "<tr><td>The Burden of Proof</td><td>32</td></tr>",
                            "<tr><td>Cane River</td><td>32</td></tr>",
                            "<tr><td>Holy Cow: An Indian Adventure</td><td>31</td></tr>",
                            "<tr><td>How to Make Love Like a Porn Star: A Cautionary Tale</td><td>31</td></tr>",
                            "<tr><td>The Broom of the System</td><td>31</td></tr>",
                            "<tr><td>Howl and Other Poems</td><td>31</td></tr>",
                            "<tr><td>The Great Book of Amber (The Chronicles of Amber, #1-10)</td><td>31</td></tr>",
                            "<tr><td>Franny and Zooey</td><td>30</td></tr>",
                            "<tr><td>The Secret Garden</td><td>30</td></tr>",
                            "<tr><td>Naked</td><td>30</td></tr>",
                            "<tr><td>A Bend in the River</td><td>30</td></tr>",
                            "<tr><td>Jack: Straight from the Gut</td><td>30</td></tr>",
                            "<tr><td>The Millionaire Next Door: The Surprising Secrets of Americas Wealthy</td><td>30</td></tr>",
                            "<tr><td>Path of the Assassin (Scot Harvath, #2)</td><td>30</td></tr>",
                            "<tr><td>The Year of Magical Thinking</td><td>30</td></tr>",
                            "<tr><td>Rising Sun</td><td>29</td></tr>",
                            "<tr><td>Casino Royale (James Bond, #1)</td><td>29</td></tr>",
                            "<tr><td>By the River Piedra I Sat Down and Wept</td><td>29</td></tr>",
                            "<tr><td>The Unbearable Lightness of Being</td><td>29</td></tr>",
                            "<tr><td>Jackdaws</td><td>29</td></tr>",
                            "<tr><td>John Adams</td><td>29</td></tr>",
                            "<tr><td>Jurassic Park (Jurassic Park, #1)</td><td>29</td></tr>",
                            "<tr><td>To Have and Have Not</td><td>29</td></tr>",
                            "<tr><td>Unlimited Power : The New Science Of Personal Achievement</td><td>29</td></tr>",
                            "<tr><td>Another Roadside Attraction</td><td>29</td></tr>",
                            "<tr><td>A Modest Proposal and Other Satirical Works</td><td>29</td></tr>",
                            "<tr><td>Forever in Blue: The Fourth Summer of the Sisterhood (Sisterhood, #4)</td><td>29</td></tr>",
                            "<tr><td>Naked Lunch</td><td>29</td></tr>",
                            "<tr><td>The Secret Art of Dr. Seuss</td><td>29</td></tr>",
                            "<tr><td>Fried Green Tomatoes at the Whistle Stop Cafe</td><td>29</td></tr>",
                            "<tr><td>The King of Torts</td><td>28</td></tr>",
                            "<tr><td>The Big Bad Wolf  (Alex Cross, #9)</td><td>28</td></tr>",
                            "<tr><td>The Giraffe and the Pelly and Me</td><td>28</td></tr>",
                            "<tr><td>Killers of the Dawn (Cirque Du Freak, #9)</td><td>28</td></tr>",
                            "<tr><td>Life and Times of Michael K</td><td>28</td></tr>",
                            "<tr><td>Practicing the Power of Now: Essential Teachings, Meditations, and Exercises from the Power of Now</td><td>28</td></tr>",
                            "<tr><td>Marlfox (Redwall, #11)</td><td>28</td></tr>",
                            "<tr><td>Saturday</td><td>28</td></tr>",
                            "<tr><td>Reading Lolita in Tehran</td><td>28</td></tr>",
                            "<tr><td>The Pillars of the Earth (The Kingsbridge Series, #1)</td><td>28</td></tr>",
                            "<tr><td>East of Eden</td><td>27</td></tr>",
                            "<tr><td>The Jane Austen Book Club</td><td>27</td></tr>",
                            "<tr><td>Cry, the Beloved Country</td><td>27</td></tr>",
                            "<tr><td>Them: Adventures with Extremists</td><td>27</td></tr>",
                            "<tr><td>Lucy Sullivan Is Getting Married</td><td>27</td></tr>",
                            "<tr><td>Pygmalion</td><td>27</td></tr>",
                            "<tr><td>Three to Get Deadly (Stephanie Plum, #3)</td><td>27</td></tr>",
                            "<tr><td>Crow Lake</td><td>27</td></tr>",
                            "<tr><td>Twenty Years After (The D'Artagnan Romances, #2)</td><td>27</td></tr>",
                            "<tr><td>A Son of the Circus</td><td>26</td></tr>",
                            "<tr><td>The Man Who Listens to Horses</td><td>26</td></tr>",
                            "<tr><td>Dr. Seuss's ABC: An Amazing Alphabet Book! (Bright and Early Board Books)</td><td>26</td></tr>",
                            "<tr><td>The Language Instinct: How the Mind Creates Language</td><td>26</td></tr>",
                            "<tr><td>1984</td><td>26</td></tr>",
                            "<tr><td>Dispatches</td><td>26</td></tr>",
                            "<tr><td>number9dream</td><td>26</td></tr>",
                            "<tr><td>Blindness</td><td>26</td></tr>",
                            "<tr><td>Genome: the Autobiography of a Species in 23 Chapters</td><td>26</td></tr>",
                            "<tr><td>Brave New World</td><td>26</td></tr>",
                            "<tr><td>Danny the Champion of the World</td><td>26</td></tr>",
                            "<tr><td>Endymion (Hyperion Cantos, #3)</td><td>25</td></tr>",
                            "<tr><td>Lord of the Shadows (Cirque Du Freak, #11)</td><td>25</td></tr>",
                            "<tr><td>The House of the Spirits</td><td>25</td></tr>",
                            "<tr><td>The Good Husband of Zebra Drive (No. 1 Ladies' Detective Agency, #8)</td><td>25</td></tr>",
                            "<tr><td>From Potter's Field (Kay Scarpetta, #6)</td><td>25</td></tr>",
                            "<tr><td>Peter and the Shadow Thieves (Peter and the Starcatchers, #2)</td><td>25</td></tr>",
                            "<tr><td>Tears of the Giraffe (No. 1 Ladies' Detective Agency, #2)</td><td>25</td></tr>",
                            "<tr><td>The Vampire Prince (Cirque Du Freak, #6)</td><td>25</td></tr>",
                            "<tr><td>Microserfs</td><td>25</td></tr>",
                            "<tr><td>The Four Agreements: A Practical Guide to Personal Freedom</td><td>24</td></tr>",
                            "<tr><td>Cause of Death (Kay Scarpetta, #7)</td><td>24</td></tr>",
                            "<tr><td>Enchantment</td><td>24</td></tr>",
                            "<tr><td>Rainbow Six (Jack Ryan Universe, #10)</td><td>24</td></tr>",
                            "<tr><td>Goldfinger (James Bond, #7)</td><td>24</td></tr>",
                            "<tr><td>The Universe in a Nutshell</td><td>24</td></tr>",
                            "<tr><td>The Android's Dream</td><td>24</td></tr>",
                            "<tr><td>Dear John</td><td>24</td></tr>",
                            "<tr><td>Three Men in a Boat (Three Men, #1)</td><td>24</td></tr>",
                            "<tr><td>I Feel Bad about My Neck: And Other Thoughts on Being a Woman</td><td>24</td></tr>",
                            "<tr><td>The Men Who Stare at Goats</td><td>23</td></tr>",
                            "<tr><td>The Very Hungry Caterpillar Board Book</td><td>23</td></tr>",
                            "<tr><td>Airframe</td><td>23</td></tr>",
                            "<tr><td>The Drawing of the Three (The Dark Tower, #2)</td><td>23</td></tr>",
                            "<tr><td>Extremely Loud and Incredibly Close</td><td>23</td></tr>",
                            "<tr><td>Eiger Dreams: Ventures Among Men and Mountains</td><td>23</td></tr>",
                            "<tr><td>Mother Night</td><td>23</td></tr>",
                            "<tr><td>Reservation Blues</td><td>23</td></tr>",
                            "<tr><td>The Red Tent</td><td>23</td></tr>",
                            "<tr><td>Messenger of Truth (Maisie Dobbs, #4)</td><td>23</td></tr>",
                            "<tr><td>Farewell, My Lovely (Philip Marlowe, #2)</td><td>23</td></tr>",
                            "<tr><td>The Bourne Identity (Jason Bourne, #1)</td><td>23</td></tr>",
                            "<tr><td>Saving Fish from Drowning</td><td>22</td></tr>",
                            "<tr><td>The Idiot Girls' Action-Adventure Club: True Tales from a Magnificent and Clumsy Life</td><td>22</td></tr>",
                            "<tr><td>Enduring Love</td><td>22</td></tr>",
                            "<tr><td>The Fourth Hand</td><td>22</td></tr>",
                            "<tr><td>Hard Times</td><td>22</td></tr>",
                            "<tr><td>God Bless You, Dr. Kevorkian</td><td>22</td></tr>",
                            "<tr><td>A Fine Balance</td><td>22</td></tr>",
                            "<tr><td>Blue Like Jazz: Nonreligious Thoughts on Christian Spirituality</td><td>22</td></tr>",
                            "<tr><td>The Emperor's Children</td><td>22</td></tr>",
                            "<tr><td>Crime and Punishment</td><td>22</td></tr>",
                            "<tr><td>The Adventures of Huckleberry Finn</td><td>22</td></tr>",
                            "<tr><td>A Portrait of the Artist as a Young Man</td><td>22</td></tr>",
                            "<tr><td>Farmer Boy (Little House, #3)</td><td>22</td></tr>",
                            "<tr><td>The Chamber</td><td>22</td></tr>",
                            "<tr><td>The Silmarillion (Middle-Earth Universe)</td><td>21</td></tr>",
                            "<tr><td>Trace (Kay Scarpetta, #13)</td><td>21</td></tr>",
                            "<tr><td>Regeneration (Regeneration, #1)</td><td>21</td></tr>",
                            "<tr><td>The Elephant Vanishes</td><td>21</td></tr>",
                            "<tr><td>Cover Her Face (Adam Dalgliesh #1)</td><td>21</td></tr>",
                            "<tr><td>The Sea</td><td>21</td></tr>",
                            "<tr><td>Ten Apples Up On Top!</td><td>21</td></tr>",
                            "<tr><td>City of the Beasts (Eagle and Jaguar, #1)</td><td>21</td></tr>",
                            "<tr><td>Moonraker (James Bond, #3)</td><td>21</td></tr>",
                            "<tr><td>The Other Side of the Story</td><td>21</td></tr>",
                            "<tr><td>The BFG</td><td>21</td></tr>",
                            "<tr><td>The History of Sexuality, Volume 1: An Introduction</td><td>21</td></tr>",
                            "<tr><td>Ivanhoe</td><td>21</td></tr>",
                            "<tr><td>Eats, Shoots &amp; Leaves: The Zero Tolerance Approach to Punctuation</td><td>21</td></tr>",
                            "<tr><td>Comfort Me with Apples: More Adventures at the Table</td><td>21</td></tr>",
                            "<tr><td>The No. 1 Ladies' Detective Agency  (No. 1 Ladies' Detective Agency, #1)</td><td>21</td></tr>",
                            "<tr><td>Confessions of a Shopaholic (Shopaholic, #1)</td><td>21</td></tr>",
                            "<tr><td>Three Weeks With My Brother</td><td>21</td></tr>",
                            "<tr><td>On Beauty</td><td>21</td></tr>",
                            "<tr><td>Olympos (Ilium, #2)</td><td>21</td></tr>",
                            "<tr><td>The Joy Luck Club</td><td>21</td></tr>",
                            "<tr><td>Little Town on the Prairie  (Little House, #7)</td><td>20</td></tr>",
                            "<tr><td>The Water-Method Man</td><td>20</td></tr>",
                            "<tr><td>Atonement</td><td>20</td></tr>",
                            "<tr><td>Drowning Ruth</td><td>20</td></tr>",
                            "<tr><td>Witches Abroad (Discworld, #12; Witches #3)</td><td>20</td></tr>",
                            "<tr><td>Gulliver's Travels</td><td>20</td></tr>",
                            "<tr><td>Shadow of the Giant (Ender's Shadow, #4)</td><td>20</td></tr>",
                            "<tr><td>The Five People You Meet in Heaven</td><td>20</td></tr>",
                            "<tr><td>Sickened: The Memoir of a Munchausen by Proxy Childhood</td><td>20</td></tr>",
                            "<tr><td>Allies of the Night (Cirque du Freak, #8)</td><td>20</td></tr>",
                            "<tr><td>The End of Poverty</td><td>20</td></tr>",
                            "<tr><td>Visions of Sugar Plums (Stephanie Plum, #8.5)</td><td>20</td></tr>",
                            "<tr><td>The Kalahari Typing School for Men (No. 1 Ladies' Detective Agency, #4)</td><td>19</td></tr>",
                            "<tr><td>Nine Stories</td><td>19</td></tr>",
                            "<tr><td>The Cat in the Hat and Other Dr. Seuss Favorites</td><td>19</td></tr>",
                            "<tr><td>Pardonable Lies (Maisie Dobbs, #3)</td><td>19</td></tr>",
                            "<tr><td>The Bonfire of the Vanities</td><td>19</td></tr>",
                            "<tr><td>The High Window (Philip Marlowe, #3)</td><td>19</td></tr>",
                            "<tr><td>Infinite Jest</td><td>19</td></tr>",
                            "<tr><td>Plum Lovin' (Stephanie Plum, #12.5)</td><td>19</td></tr>",
                            "<tr><td>Point of Origin (Kay Scarpetta, #9)</td><td>19</td></tr>",
                            "<tr><td>The Big Over Easy (Nursery Crime, #1)</td><td>19</td></tr>",
                            "<tr><td>Men Are from Mars, Women Are from Venus</td><td>19</td></tr>",
                            "<tr><td>Bridge to Terabithia</td><td>19</td></tr>",
                            "<tr><td>A Raisin in the Sun</td><td>19</td></tr>",
                            "<tr><td>Carrie / 'Salem's Lot / The Shining</td><td>18</td></tr>",
                            "<tr><td>The Body Farm (Kay Scarpetta, #5)</td><td>18</td></tr>",
                            "<tr><td>The Beautiful and Damned</td><td>18</td></tr>",
                            "<tr><td>Keep the Aspidistra Flying</td><td>18</td></tr>",
                            "<tr><td>Brave New World Revisited </td><td>18</td></tr>",
                            "<tr><td>The Mermaid Chair</td><td>18</td></tr>",
                            "<tr><td>Execution: The Discipline of Getting Things Done</td><td>18</td></tr>",
                            "<tr><td>Girls in Pants: The Third Summer of the Sisterhood (Sisterhood, #3)</td><td>18</td></tr>",
                            "<tr><td>The Wind in the Willows</td><td>18</td></tr>",
                            "<tr><td>Shopaholic &amp; Baby (Shopaholic, #5)</td><td>18</td></tr>",
                            "<tr><td>Glamorama</td><td>18</td></tr>",
                            "<tr><td>While I Was Gone</td><td>18</td></tr>",
                            "<tr><td>Cloudy With a Chance of Meatballs</td><td>18</td></tr>",
                            "<tr><td>Mother of Pearl</td><td>18</td></tr>",
                            "<tr><td>A Living Nightmare (Cirque Du Freak, #1)</td><td>18</td></tr>",
                            "<tr><td>Bagombo Snuff Box</td><td>18</td></tr>",
                            "<tr><td>V for Vendetta</td><td>17</td></tr>",
                            "<tr><td>Welcome to the Monkey House</td><td>17</td></tr>",
                            "<tr><td>Fall on Your Knees</td><td>17</td></tr>",
                            "<tr><td>Persepolis 2: The Story of a Return (Persepolis, #2)</td><td>17</td></tr>",
                            "<tr><td>The Glass Castle</td><td>17</td></tr>",
                            "<tr><td>Disclosure</td><td>17</td></tr>",
                            "<tr><td>Survival in Auschwitz</td><td>17</td></tr>",
                            "<tr><td>Last Chance to See</td><td>17</td></tr>",
                            "<tr><td>Suzanne's Diary for Nicholas</td><td>17</td></tr>",
                            "<tr><td>Animal Farm</td><td>17</td></tr>",
                            "<tr><td>The Metamorphosis and Other Stories</td><td>16</td></tr>",
                            "<tr><td>1421: The Year China Discovered America</td><td>16</td></tr>",
                            "<tr><td>Even Cowgirls Get the Blues</td><td>16</td></tr>",
                            "<tr><td>The Sun Also Rises</td><td>16</td></tr>",
                            "<tr><td>The Lake of Souls (Cirque Du Freak, #10)</td><td>16</td></tr>",
                            "<tr><td>The Informers</td><td>16</td></tr>",
                            "<tr><td>The Electric Kool-Aid Acid Test</td><td>16</td></tr>",
                            "<tr><td>Song of Susannah (The Dark Tower, #6)</td><td>16</td></tr>",
                            "<tr><td>World Without End (The Kingsbridge Series, #2)</td><td>16</td></tr>",
                            "<tr><td>Less Than Zero</td><td>16</td></tr>",
                            "<tr><td>The Red Pony</td><td>16</td></tr>",
                            "<tr><td>Player Piano</td><td>15</td></tr>",
                            "<tr><td>The Terror</td><td>15</td></tr>",
                            "<tr><td>By the Shores of Silver Lake  (Little House, #5)</td><td>15</td></tr>",
                            "<tr><td>Fear and Loathing on the Campaign Trail '72</td><td>15</td></tr>",
                            "<tr><td>Lord of the Flies</td><td>15</td></tr>",
                            "<tr><td>Don Quixote</td><td>15</td></tr>",
                            "<tr><td>Hocus Pocus</td><td>15</td></tr>",
                            "<tr><td>Dreamland</td><td>15</td></tr>",
                            "<tr><td>The Cider House Rules</td><td>15</td></tr>",
                            "<tr><td>The Poetry of Pablo Neruda</td><td>15</td></tr>",
                            "<tr><td>A Spot of Bother</td><td>15</td></tr>",
                            "<tr><td>Emma</td><td>15</td></tr>",
                            "<tr><td>Jewel</td><td>15</td></tr>",
                            "<tr><td>Jesus Freaks: Stories of Those Who Stood for Jesus, the Ultimate Jesus Freaks (Jesus Freaks, #1)</td><td>15</td></tr>",
                            "<tr><td>Five Little Peppers and How They Grew</td><td>15</td></tr>",
                            "<tr><td>Fear of Flying</td><td>14</td></tr>",
                            "<tr><td>Homage to Catalonia</td><td>14</td></tr>",
                            "<tr><td>Teacher Man (Frank McCourt, #3)</td><td>14</td></tr>",
                            "<tr><td>The Rules of Attraction</td><td>14</td></tr>",
                            "<tr><td>World War Z: An Oral History of the Zombie War</td><td>14</td></tr>",
                            "<tr><td>Diamonds Are Forever (James Bond, #4)</td><td>14</td></tr>",
                            "<tr><td>Where the Heart Is</td><td>14</td></tr>",
                            "<tr><td>In the Skin of a Lion</td><td>14</td></tr>",
                            "<tr><td>Oblivion</td><td>14</td></tr>",
                            "<tr><td>The Shipping News</td><td>14</td></tr>",
                            "<tr><td>In the Company of Cheerful Ladies (No. 1 Ladies' Detective Agency, #6)</td><td>14</td></tr>",
                            "<tr><td>The Long Patrol (Redwall, #10)</td><td>14</td></tr>",
                            "<tr><td>We Were the Mulvaneys</td><td>14</td></tr>",
                            "<tr><td>The Lost World (Jurassic Park, #2)</td><td>14</td></tr>",
                            "<tr><td>The Moonstone</td><td>14</td></tr>",
                            "<tr><td>Watermelon (Walsh Family, #1)</td><td>14</td></tr>",
                            "<tr><td>Bluebeard</td><td>13</td></tr>",
                            "<tr><td>What Do You Care What Other People Think?</td><td>13</td></tr>",
                            "<tr><td>Rose Daughter</td><td>13</td></tr>",
                            "<tr><td>Life, the Universe and Everything (Hitchhiker's Guide, #3)</td><td>12</td></tr>",
                            "<tr><td>Emily of New Moon (Emily, #1)</td><td>12</td></tr>",
                            "<tr><td>Two for the Dough (Stephanie Plum, #2)</td><td>12</td></tr>",
                            "<tr><td>Ender's Shadow (Ender's Shadow, #1)</td><td>12</td></tr>",
                            "<tr><td>Crossing to Safety</td><td>12</td></tr>",
                            "<tr><td>Rachel's Holiday (Walsh Family, #2)</td><td>12</td></tr>",
                            "<tr><td>Raise High the Roof Beam, Carpenters &amp; Seymour: An Introduction</td><td>12</td></tr>",
                            "<tr><td>Redwall (Redwall, #1)</td><td>12</td></tr>",
                            "<tr><td>Salamandastron (Redwall, #5)</td><td>12</td></tr>",
                            "<tr><td>Book of the Dead (Kay Scarpetta, #15)</td><td>12</td></tr>",
                            "<tr><td>The Sirens of Titan</td><td>12</td></tr>",
                            "<tr><td>How to Stop Worrying and Start Living</td><td>12</td></tr>",
                            "<tr><td>Hot Six (Stephanie Plum, #6)</td><td>12</td></tr>",
                            "<tr><td>The Audacity of Hope: Thoughts on Reclaiming the American Dream</td><td>12</td></tr>",
                            "<tr><td>Year of Wonders</td><td>12</td></tr>",
                            "<tr><td>The Long Walk</td><td>12</td></tr>",
                            "<tr><td>Consider the Lobster and Other Essays</td><td>11</td></tr>",
                            "<tr><td>Phenomenology of Spirit</td><td>11</td></tr>",
                            "<tr><td>Demons</td><td>11</td></tr>",
                            "<tr><td>Birdsong</td><td>11</td></tr>",
                            "<tr><td>The Baron in the Trees</td><td>11</td></tr>",
                            "<tr><td>A Map of the World</td><td>11</td></tr>",
                            "<tr><td>Jitterbug Perfume</td><td>11</td></tr>",
                            "<tr><td>The Hound of the Baskervilles</td><td>11</td></tr>",
                            "<tr><td>What Is the What</td><td>10</td></tr>",
                            "<tr><td>On the Banks of Plum Creek  (Little House, #4)</td><td>10</td></tr>",
                            "<tr><td>Bleach, Volume 15</td><td>10</td></tr>",
                            "<tr><td>The Blank Slate: The Modern Denial of Human Nature</td><td>10</td></tr>",
                            "<tr><td>As the Crow Flies</td><td>10</td></tr>",
                            "<tr><td>The Client</td><td>10</td></tr>",
                            "<tr><td>Going Solo</td><td>10</td></tr>",
                            "<tr><td>James and the Giant Peach</td><td>9</td></tr>",
                            "<tr><td>Here on Earth</td><td>9</td></tr>",
                            "<tr><td>Desert Flower</td><td>9</td></tr>",
                            "<tr><td>The Vampire's Assistant (Cirque Du Freak, #2)</td><td>9</td></tr>",
                            "<tr><td>Red Prophet (Tales of Alvin Maker, #2)</td><td>9</td></tr>",
                            "<tr><td>Slapstick, or Lonesome No More!</td><td>9</td></tr>",
                            "<tr><td>Songbook</td><td>9</td></tr>",
                            "<tr><td>Bleach, Volume 01</td><td>9</td></tr>",
                            "<tr><td>Betsy-Tacy (Betsy-Tacy, #1)</td><td>9</td></tr>",
                            "<tr><td>Assassination Vacation</td><td>9</td></tr>",
                            "<tr><td>Wuthering Heights</td><td>9</td></tr>",
                            "<tr><td>The Moor's Last Sigh</td><td>9</td></tr>",
                            "<tr><td>Vanity Fair</td><td>8</td></tr>",
                            "<tr><td>Deception Point</td><td>8</td></tr>",
                            "<tr><td>Darkness</td><td>8</td></tr>",
                            "<tr><td>Awakening the Buddha Within: Tibetan Wisdom for the Western World</td><td>8</td></tr>",
                            "<tr><td>Fierce Invalids Home from Hot Climates</td><td>8</td></tr>",
                            "<tr><td>Xenocide (Ender's Saga, #3)</td><td>8</td></tr>",
                            "<tr><td>How We Are Hungry</td><td>8</td></tr>",
                            "<tr><td>Last Chance Saloon</td><td>8</td></tr>",
                            "<tr><td>The Comfort of Strangers</td><td>8</td></tr>",
                            "<tr><td>Midnight for Charlie Bone (The Children of the Red King, #1)</td><td>8</td></tr>",
                            "<tr><td>On Her Majesty's Secret Service (James Bond, #11)</td><td>8</td></tr>",
                            "<tr><td>Runaways, Vol. 1: Pride and Joy (Runaways, #1)</td><td>8</td></tr>",
                            "<tr><td>Shadow Divers</td><td>8</td></tr>",
                            "<tr><td>Shadow of the Hegemon (Ender's Shadow, #2)</td><td>8</td></tr>",
                            "<tr><td>She's Come Undone</td><td>8</td></tr>",
                            "<tr><td>Galápagos</td><td>7</td></tr>",
                            "<tr><td>The Count of Monte Cristo</td><td>7</td></tr>",
                            "<tr><td>Mrs. Frisby and the Rats of NIMH (Rats of NIMH, #1)</td><td>7</td></tr>",
                            "<tr><td>Bel Canto</td><td>7</td></tr>",
                            "<tr><td>Pale Fire</td><td>7</td></tr>",
                            "<tr><td>Predator (Kay Scarpetta, #14)</td><td>7</td></tr>",
                            "<tr><td>Skipping Christmas</td><td>7</td></tr>",
                            "<tr><td>Sons of Destiny (Cirque Du Freak, #12)</td><td>7</td></tr>",
                            "<tr><td>The Woman in the Dunes</td><td>6</td></tr>",
                            "<tr><td>Little Altars Everywhere</td><td>6</td></tr>",
                            "<tr><td>Shopaholic and Sister (Shopaholic, #4)</td><td>6</td></tr>",
                            "<tr><td>The Lorax</td><td>5</td></tr>",
                            "<tr><td>The Heart of a Woman</td><td>5</td></tr>",
                            "<tr><td>Hunters of the Dusk (Cirque Du Freak, #7)</td><td>5</td></tr>",
                            "<tr><td>I Can Read With My Eyes Shut!</td><td>5</td></tr>",
                            "<tr><td>King Rat (Asian Saga, #4)</td><td>5</td></tr>",
                            "<tr><td>A Virtuous Woman</td><td>5</td></tr>",
                            "<tr><td>The Quiet American</td><td>5</td></tr>",
                            "<tr><td>Pygmalion &amp; My Fair Lady</td><td>5</td></tr>",
                            "<tr><td>Cradle and All</td><td>5</td></tr>",
                            "<tr><td>Superman: Birthright</td><td>5</td></tr>",
                            "<tr><td>The God of Small Things</td><td>4</td></tr>",
                            "<tr><td>The Complete Short Stories</td><td>4</td></tr>",
                            "<tr><td>The Power of Now: A Guide to Spiritual Enlightenment</td><td>4</td></tr>",
                            "<tr><td>Ahab's Wife, or The Star-Gazer</td><td>4</td></tr>",
                            "<tr><td>The Atonement Child</td><td>4</td></tr>",
                            "<tr><td>Still Life with Woodpecker</td><td>4</td></tr>",
                            "<tr><td>Cannery Row</td><td>4</td></tr>",
                            "<tr><td>Next</td><td>4</td></tr>",
                            "<tr><td>Never Let Me Go</td><td>4</td></tr>",
                            "<tr><td>Loving What Is: Four Questions That Can Change Your Life</td><td>4</td></tr>",
                            "<tr><td>Embroideries</td><td>4</td></tr>",
                            "<tr><td>I Hope They Serve Beer in Hell (Tucker Max, #1)</td><td>4</td></tr>",
                            "<tr><td>Freak the Mighty (Freak The Mighty, #1)</td><td>4</td></tr>",
                            "<tr><td>The Street Lawyer</td><td>3</td></tr>",
                            "<tr><td>The Bell Jar</td><td>3</td></tr>",
                            "<tr><td>The Canterbury Tales</td><td>3</td></tr>",
                            "<tr><td>Herzog</td><td>3</td></tr>",
                            "<tr><td>Haroun and the Sea of Stories (Khalifa Brothers, #1)</td><td>3</td></tr>",
                            "<tr><td>Sputnik Sweetheart</td><td>2</td></tr>",
                            "<tr><td>Deadeye Dick</td><td>2</td></tr>",
                            "<tr><td>The World According to Garp</td><td>2</td></tr>",
                            "<tr><td>Ghostwritten</td><td>2</td></tr>",
                            "<tr><td>The Bookseller of Kabul</td><td>1</td></tr>",
                            "<tr><td>The Divine Comedy</td><td>1</td></tr>",
                            "</table>"
                        ]
                    }
                }
            ],
            "execution_count": 21
        },
        {
            "cell_type": "markdown",
            "source": [
                "## **QUESTION 8:** Largest 'To Read' Lists\n",
                "\n",
                "**Part A:**  Create a query that returns a table that contains the top 10 users with the most number of titles on their 'to read' list.    Group all the entries by user\\_id.  \n",
                "\n",
                "> _Hint:_ You might want an alias for the titles.\n",
                "> \n",
                "> _Minimum Desired Output:_  user\\_id and your aliased column of titles.\n",
                "\n",
                "**Part B:**  The longest list length is 15 titles total, and is shared by 4 different users.  Select one of the uses and print out their entire '**to read**' list."
            ],
            "metadata": {
                "azdata_cell_guid": "0b0090b0-2b28-44c6-8bb6-06b4c03c3ff1"
            },
            "attachments": {}
        },
        {
            "cell_type": "code",
            "source": [
                "-- Code Here:\r\n",
                "--top ten users with biggest to-read lists\r\n",
                "SELECT TOP 10\r\n",
                "    tr.user_id,\r\n",
                "    COUNT(tr.book_id) AS Num_Titles_To_Read\r\n",
                "FROM BooksDB.dbo.to_read AS tr\r\n",
                "GROUP BY tr.user_id\r\n",
                "ORDER BY Num_Titles_To_Read DESC;\r\n",
                "\r\n",
                "--select a user and print their entire 'to read' list\r\n",
                "SELECT tr.user_id, tr.book_id, b.title\r\n",
                "FROM BooksDB.dbo.to_read AS tr\r\n",
                "INNER JOIN BooksDB.dbo.books AS b ON tr.book_id = b.book_id\r\n",
                "WHERE tr.user_id = (SELECT TOP 1 user_id\r\n",
                "                    FROM BooksDB.dbo.to_read\r\n",
                "                    GROUP BY user_id\r\n",
                "                    ORDER BY COUNT(book_id) DESC);\r\n",
                "\r\n",
                ""
            ],
            "metadata": {
                "azdata_cell_guid": "c6c815f8-890d-4163-be63-3d300e320597",
                "tags": [],
                "language": "sql"
            },
            "outputs": [
                {
                    "output_type": "display_data",
                    "data": {
                        "text/html": "(10 rows affected)"
                    },
                    "metadata": {}
                },
                {
                    "output_type": "display_data",
                    "data": {
                        "text/html": "(10 rows affected)"
                    },
                    "metadata": {}
                },
                {
                    "output_type": "display_data",
                    "data": {
                        "text/html": "Total execution time: 00:00:00.387"
                    },
                    "metadata": {}
                },
                {
                    "output_type": "execute_result",
                    "metadata": {},
                    "execution_count": 27,
                    "data": {
                        "application/vnd.dataresource+json": {
                            "schema": {
                                "fields": [
                                    {
                                        "name": "user_id"
                                    },
                                    {
                                        "name": "Num_Titles_To_Read"
                                    }
                                ]
                            },
                            "data": [
                                {
                                    "user_id": "38457",
                                    "Num_Titles_To_Read": "117"
                                },
                                {
                                    "user_id": "28259",
                                    "Num_Titles_To_Read": "114"
                                },
                                {
                                    "user_id": "38076",
                                    "Num_Titles_To_Read": "110"
                                },
                                {
                                    "user_id": "44530",
                                    "Num_Titles_To_Read": "108"
                                },
                                {
                                    "user_id": "46000",
                                    "Num_Titles_To_Read": "107"
                                },
                                {
                                    "user_id": "46555",
                                    "Num_Titles_To_Read": "107"
                                },
                                {
                                    "user_id": "34162",
                                    "Num_Titles_To_Read": "105"
                                },
                                {
                                    "user_id": "34487",
                                    "Num_Titles_To_Read": "104"
                                },
                                {
                                    "user_id": "39174",
                                    "Num_Titles_To_Read": "103"
                                },
                                {
                                    "user_id": "40362",
                                    "Num_Titles_To_Read": "102"
                                }
                            ]
                        },
                        "text/html": [
                            "<table>",
                            "<tr><th>user_id</th><th>Num_Titles_To_Read</th></tr>",
                            "<tr><td>38457</td><td>117</td></tr>",
                            "<tr><td>28259</td><td>114</td></tr>",
                            "<tr><td>38076</td><td>110</td></tr>",
                            "<tr><td>44530</td><td>108</td></tr>",
                            "<tr><td>46000</td><td>107</td></tr>",
                            "<tr><td>46555</td><td>107</td></tr>",
                            "<tr><td>34162</td><td>105</td></tr>",
                            "<tr><td>34487</td><td>104</td></tr>",
                            "<tr><td>39174</td><td>103</td></tr>",
                            "<tr><td>40362</td><td>102</td></tr>",
                            "</table>"
                        ]
                    }
                },
                {
                    "output_type": "execute_result",
                    "metadata": {},
                    "execution_count": 27,
                    "data": {
                        "application/vnd.dataresource+json": {
                            "schema": {
                                "fields": [
                                    {
                                        "name": "user_id"
                                    },
                                    {
                                        "name": "book_id"
                                    },
                                    {
                                        "name": "title"
                                    }
                                ]
                            },
                            "data": [
                                {
                                    "user_id": "38457",
                                    "book_id": "34",
                                    "title": "The Fellowship of the Ring (The Lord of the Rings, #1)"
                                },
                                {
                                    "user_id": "38457",
                                    "book_id": "6",
                                    "title": "Harry Potter and the Goblet of Fire (Harry Potter, #4)"
                                },
                                {
                                    "user_id": "38457",
                                    "book_id": "1",
                                    "title": "Harry Potter and the Half-Blood Prince (Harry Potter, #6)"
                                },
                                {
                                    "user_id": "38457",
                                    "book_id": "11",
                                    "title": "The Hitchhiker's Guide to the Galaxy (Hitchhiker's Guide to the Galaxy, #1)"
                                },
                                {
                                    "user_id": "38457",
                                    "book_id": "33",
                                    "title": "The Lord of the Rings (The Lord of the Rings, #1-3)"
                                },
                                {
                                    "user_id": "38457",
                                    "book_id": "106",
                                    "title": "Dune Messiah (Dune Chronicles #2)"
                                },
                                {
                                    "user_id": "38457",
                                    "book_id": "357",
                                    "title": "The Long Dark Tea-Time of the Soul (Dirk Gently, #2)"
                                },
                                {
                                    "user_id": "38457",
                                    "book_id": "431",
                                    "title": "The New York Trilogy"
                                },
                                {
                                    "user_id": "38457",
                                    "book_id": "353",
                                    "title": "Time Enough for Love"
                                },
                                {
                                    "user_id": "38457",
                                    "book_id": "275",
                                    "title": "The Lover"
                                }
                            ]
                        },
                        "text/html": [
                            "<table>",
                            "<tr><th>user_id</th><th>book_id</th><th>title</th></tr>",
                            "<tr><td>38457</td><td>34</td><td>The Fellowship of the Ring (The Lord of the Rings, #1)</td></tr>",
                            "<tr><td>38457</td><td>6</td><td>Harry Potter and the Goblet of Fire (Harry Potter, #4)</td></tr>",
                            "<tr><td>38457</td><td>1</td><td>Harry Potter and the Half-Blood Prince (Harry Potter, #6)</td></tr>",
                            "<tr><td>38457</td><td>11</td><td>The Hitchhiker's Guide to the Galaxy (Hitchhiker's Guide to the Galaxy, #1)</td></tr>",
                            "<tr><td>38457</td><td>33</td><td>The Lord of the Rings (The Lord of the Rings, #1-3)</td></tr>",
                            "<tr><td>38457</td><td>106</td><td>Dune Messiah (Dune Chronicles #2)</td></tr>",
                            "<tr><td>38457</td><td>357</td><td>The Long Dark Tea-Time of the Soul (Dirk Gently, #2)</td></tr>",
                            "<tr><td>38457</td><td>431</td><td>The New York Trilogy</td></tr>",
                            "<tr><td>38457</td><td>353</td><td>Time Enough for Love</td></tr>",
                            "<tr><td>38457</td><td>275</td><td>The Lover</td></tr>",
                            "</table>"
                        ]
                    }
                }
            ],
            "execution_count": 27
        }
    ]
}